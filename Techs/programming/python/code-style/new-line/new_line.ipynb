{
 "cells": [
  {
   "cell_type": "markdown",
   "metadata": {},
   "source": [
    "使用`()`将多个单独的语句包装起来，可以直接将其识别为一行，不需要显示的连接。"
   ]
  },
  {
   "cell_type": "code",
   "execution_count": 4,
   "metadata": {},
   "outputs": [
    {
     "name": "stdout",
     "output_type": "stream",
     "text": [
      "ok, I'm here\n",
      "I didn't go anywhere\n"
     ]
    }
   ],
   "source": [
    "a = 0; b = 0; c = 'red'; d = 'strong'\n",
    "\n",
    "if (a == 0 and b == 0 and\n",
    "    c == 'red' and d == 'strong'):\n",
    "    print(\"ok, I'm here\")\n",
    "\n",
    "print(\"I didn't go anywhere\")\n",
    " "
   ]
  },
  {
   "cell_type": "markdown",
   "metadata": {},
   "source": [
    "没有使用`()`将多个单独的语句包装起来，无法直接将其识别为一行，因此需要显示的连接，即使用`\\`。"
   ]
  },
  {
   "cell_type": "code",
   "execution_count": 1,
   "metadata": {},
   "outputs": [
    {
     "ename": "SyntaxError",
     "evalue": "invalid syntax (2359128566.py, line 3)",
     "output_type": "error",
     "traceback": [
      "\u001b[1;36m  Cell \u001b[1;32mIn [1], line 3\u001b[1;36m\u001b[0m\n\u001b[1;33m    if (a == 0) and (b == 0) and\u001b[0m\n\u001b[1;37m                                ^\u001b[0m\n\u001b[1;31mSyntaxError\u001b[0m\u001b[1;31m:\u001b[0m invalid syntax\n"
     ]
    }
   ],
   "source": [
    "a = 0; b = 0; c = 'red'; d = 'strong'\n",
    "\n",
    "if (a == 0) and (b == 0) and\n",
    "    (c == 'red') and (d == 'strong'):\n",
    "    print(\"ok, I'm here\")\n",
    "\n",
    "print(\"I didn't go anywhere\")"
   ]
  }
 ],
 "metadata": {
  "kernelspec": {
   "display_name": "Python 3.9.5 64-bit",
   "language": "python",
   "name": "python3"
  },
  "language_info": {
   "codemirror_mode": {
    "name": "ipython",
    "version": 3
   },
   "file_extension": ".py",
   "mimetype": "text/x-python",
   "name": "python",
   "nbconvert_exporter": "python",
   "pygments_lexer": "ipython3",
   "version": "3.9.5"
  },
  "orig_nbformat": 4,
  "vscode": {
   "interpreter": {
    "hash": "2e4121690db76bc87d491a2e0341ca46892a2842bde8fb317c85d19e2ad11338"
   }
  }
 },
 "nbformat": 4,
 "nbformat_minor": 2
}
