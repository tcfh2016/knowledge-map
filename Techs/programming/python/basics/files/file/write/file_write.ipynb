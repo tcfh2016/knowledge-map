{
 "cells": [
  {
   "attachments": {},
   "cell_type": "markdown",
   "metadata": {},
   "source": [
    "## 文件不存在"
   ]
  },
  {
   "cell_type": "code",
   "execution_count": 1,
   "metadata": {},
   "outputs": [
    {
     "name": "stdout",
     "output_type": "stream",
     "text": [
      "h\n"
     ]
    }
   ],
   "source": [
    "print(\"h\")"
   ]
  },
  {
   "cell_type": "code",
   "execution_count": 9,
   "metadata": {},
   "outputs": [],
   "source": [
    "import os \n",
    "\n",
    "path = r'C:\\N-20L6PF1F2MV8-Data\\lianbche\\Documents\\2024\\01\\27-PR748593\\syslogs-200'\n",
    "infile = os.path.join(path, 'SYSLOG_297.LOG')\n",
    "outfile = os.path.join(path, 'SYSLOG_297_1732.LOG')\n",
    "\n",
    "with open(outfile, 'w') as f:\n",
    "    for line in open(infile):\n",
    "        if line.find('ASP-1732-Disp_1') != -1:\n",
    "            f.write(line)\n"
   ]
  }
 ],
 "metadata": {
  "kernelspec": {
   "display_name": "Python 3",
   "language": "python",
   "name": "python3"
  },
  "language_info": {
   "codemirror_mode": {
    "name": "ipython",
    "version": 3
   },
   "file_extension": ".py",
   "mimetype": "text/x-python",
   "name": "python",
   "nbconvert_exporter": "python",
   "pygments_lexer": "ipython3",
   "version": "3.9.9"
  },
  "orig_nbformat": 4
 },
 "nbformat": 4,
 "nbformat_minor": 2
}
