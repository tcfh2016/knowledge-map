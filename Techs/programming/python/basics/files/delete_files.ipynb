{
 "cells": [
  {
   "cell_type": "markdown",
   "metadata": {},
   "source": [
    "## 删除某个文件夹下所有子文件夹和文件\n",
    "\n",
    "\n",
    "1）`os.remove()`删除单个文件\n",
    "\n",
    "需要注意的是：\n",
    "\n",
    "- 不能删除目录（文件夹），Windows下会提示`PermissionError`。\n",
    "- 如果文件不存在会抛出`FileNotFoundError`异常，最好使用`os.path.isfile()`先检查。\n",
    "\n",
    "2）`os.rmdir()`删除文件夹\n",
    "\n",
    "只能删除单个空目录，非空目录会提示“OSError: [WinError 145] The directory is not empty”。\n",
    "\n",
    "3）`shutil.rmtree()`删除文件夹和其中所有文件"
   ]
  },
  {
   "cell_type": "code",
   "execution_count": 30,
   "metadata": {},
   "outputs": [
    {
     "name": "stdout",
     "output_type": "stream",
     "text": [
      "start to delete path:\n",
      "\tc:\\Users\\lianbche\\Git\\knowledge-map\\Techs\\prgramming-language\\python\\notes\\files\\test\n",
      "path deletion done\n"
     ]
    }
   ],
   "source": [
    "import os\n",
    "import shutil\n",
    "\n",
    "def delete_file(file):\n",
    "    print(\"start to delete file:\\n\\t{}\".format(file))\n",
    "    if os.path.isfile(file):\n",
    "        os.remove(file)\n",
    "    print(\"file deletion done\")\n",
    "\n",
    "def delete_path(path):\n",
    "    print(\"start to delete path:\\n\\t{}\".format(path))\n",
    "    # remove empty folder\n",
    "    #os.rmdir(path)\n",
    "    if os.path.isdir(path):\n",
    "        shutil.rmtree(path)\n",
    "    print(\"path deletion done\")\n",
    "\n",
    "# 组装需要删除的文件路径\n",
    "cur_dir = os.getcwd()\n",
    "test_file = os.path.join(cur_dir, \"test\", \"test.txt\")\n",
    "#delete_file(test_file)\n",
    "\n",
    "test_dir = os.path.join(cur_dir, \"test\")\n",
    "delete_path(test_dir)\n"
   ]
  },
  {
   "cell_type": "markdown",
   "metadata": {},
   "source": [
    "## 删除某个路径下所有文件和文件夹"
   ]
  },
  {
   "cell_type": "code",
   "execution_count": 35,
   "metadata": {},
   "outputs": [],
   "source": [
    "import os\n",
    "import shutil\n",
    "\n",
    "def remove(path):\n",
    "    for f in os.listdir(path):\n",
    "        sub_path = os.path.join(path, f)\n",
    "        if os.path.isfile(sub_path) or os.path.islink(sub_path):\n",
    "            os.remove(sub_path)\n",
    "        else:\n",
    "            shutil.rmtree(sub_path)\n",
    "\n",
    "cur_dir = os.getcwd()\n",
    "path = os.path.join(cur_dir, \"test\")\n",
    "remove(path)"
   ]
  },
  {
   "cell_type": "markdown",
   "metadata": {},
   "source": [
    "参考代码，来自：https://stackoverflow.com/questions/6996603/how-do-i-delete-a-file-or-folder-in-python\n",
    "\n",
    "``` python\n",
    "def remove(path):\n",
    "    \"\"\" param <path> could either be relative or absolute. \"\"\"\n",
    "    if os.path.isfile(path) or os.path.islink(path):\n",
    "        os.remove(path)  # remove the file\n",
    "    elif os.path.isdir(path):\n",
    "        shutil.rmtree(path)  # remove dir and all contains\n",
    "    else:\n",
    "        raise ValueError(\"file {} is not a file or dir.\".format(path))\n",
    "```"
   ]
  }
 ],
 "metadata": {
  "kernelspec": {
   "display_name": "Python 3.9.5 64-bit",
   "language": "python",
   "name": "python3"
  },
  "language_info": {
   "codemirror_mode": {
    "name": "ipython",
    "version": 3
   },
   "file_extension": ".py",
   "mimetype": "text/x-python",
   "name": "python",
   "nbconvert_exporter": "python",
   "pygments_lexer": "ipython3",
   "version": "3.9.5"
  },
  "orig_nbformat": 4,
  "vscode": {
   "interpreter": {
    "hash": "2e4121690db76bc87d491a2e0341ca46892a2842bde8fb317c85d19e2ad11338"
   }
  }
 },
 "nbformat": 4,
 "nbformat_minor": 2
}
