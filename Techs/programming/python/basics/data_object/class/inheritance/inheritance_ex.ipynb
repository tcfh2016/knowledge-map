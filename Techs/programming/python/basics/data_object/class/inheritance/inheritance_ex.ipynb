{
 "cells": [
  {
   "cell_type": "code",
   "execution_count": 1,
   "metadata": {},
   "outputs": [
    {
     "name": "stdout",
     "output_type": "stream",
     "text": [
      "Hi, I am bob\n"
     ]
    }
   ],
   "source": [
    "\n",
    "class Player(object):\n",
    "    def __init__(self, name):\n",
    "        self._name = name\n",
    "    def print_info(self):\n",
    "        print('Hi, I am {}'.format(self._name))\n",
    "\n",
    "class BasketballPlayer(Player):\n",
    "    def __init__(self, name):\n",
    "        super().__init__(name)\n",
    "\n",
    "obj = BasketballPlayer('bob')\n",
    "obj.print_info()"
   ]
  }
 ],
 "metadata": {
  "kernelspec": {
   "display_name": "Python 3",
   "language": "python",
   "name": "python3"
  },
  "language_info": {
   "codemirror_mode": {
    "name": "ipython",
    "version": 3
   },
   "file_extension": ".py",
   "mimetype": "text/x-python",
   "name": "python",
   "nbconvert_exporter": "python",
   "pygments_lexer": "ipython3",
   "version": "3.9.9"
  }
 },
 "nbformat": 4,
 "nbformat_minor": 2
}
