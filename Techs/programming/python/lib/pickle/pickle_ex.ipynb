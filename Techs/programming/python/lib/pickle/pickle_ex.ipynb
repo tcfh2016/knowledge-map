{
 "cells": [
  {
   "cell_type": "markdown",
   "metadata": {},
   "source": [
    "## 写文件"
   ]
  },
  {
   "cell_type": "code",
   "execution_count": 1,
   "metadata": {},
   "outputs": [
    {
     "name": "stdout",
     "output_type": "stream",
     "text": [
      "{'key': 'lianbche', 'value': 'peteratNOKIA2025123'}\n",
      "lianbche\n"
     ]
    }
   ],
   "source": [
    "import pickle\n",
    "\n",
    "account = {'key':'lianbche', 'value':'peteratNOKIA2025123'}\n",
    "\n",
    "with open('config.db', 'wb') as f:\n",
    "    pickle.dump(account, f)\n",
    "\n",
    "with open('config.db', 'rb') as f:\n",
    "    info = pickle.load(f)\n",
    "    print(info)\n",
    "    print(info['key'])\n",
    "\n",
    "\n"
   ]
  },
  {
   "cell_type": "code",
   "execution_count": null,
   "metadata": {},
   "outputs": [],
   "source": []
  }
 ],
 "metadata": {
  "kernelspec": {
   "display_name": "Python 3",
   "language": "python",
   "name": "python3"
  },
  "language_info": {
   "codemirror_mode": {
    "name": "ipython",
    "version": 3
   },
   "file_extension": ".py",
   "mimetype": "text/x-python",
   "name": "python",
   "nbconvert_exporter": "python",
   "pygments_lexer": "ipython3",
   "version": "3.13.0"
  }
 },
 "nbformat": 4,
 "nbformat_minor": 2
}
