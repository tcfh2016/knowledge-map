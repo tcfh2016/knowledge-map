{
 "cells": [
  {
   "cell_type": "markdown",
   "metadata": {},
   "source": [
    "## 返回当前目录所有文件"
   ]
  },
  {
   "cell_type": "code",
   "execution_count": 3,
   "metadata": {},
   "outputs": [
    {
     "data": {
      "text/plain": [
       "['ex_glob.ipynb', 'README.md']"
      ]
     },
     "execution_count": 3,
     "metadata": {},
     "output_type": "execute_result"
    }
   ],
   "source": [
    "import glob\n",
    "\n",
    "path = \"./\"\n",
    "glob.glob('*.*')"
   ]
  },
  {
   "cell_type": "markdown",
   "metadata": {},
   "source": [
    "## 返回特定目录的文件"
   ]
  },
  {
   "cell_type": "code",
   "execution_count": 7,
   "metadata": {},
   "outputs": [
    {
     "data": {
      "text/plain": [
       "['C:\\\\Users\\\\lianbche\\\\Git\\\\knowledge-map\\\\Techs\\\\data-science\\\\pandas\\\\csv\\\\read_csv\\\\ex_empty_cell.csv',\n",
       " 'C:\\\\Users\\\\lianbche\\\\Git\\\\knowledge-map\\\\Techs\\\\data-science\\\\pandas\\\\csv\\\\read_csv\\\\ex_empty_csv.csv',\n",
       " 'C:\\\\Users\\\\lianbche\\\\Git\\\\knowledge-map\\\\Techs\\\\data-science\\\\pandas\\\\csv\\\\read_csv\\\\ex_empty_csv_noheader.csv',\n",
       " 'C:\\\\Users\\\\lianbche\\\\Git\\\\knowledge-map\\\\Techs\\\\data-science\\\\pandas\\\\csv\\\\read_csv\\\\ex_header.csv',\n",
       " 'C:\\\\Users\\\\lianbche\\\\Git\\\\knowledge-map\\\\Techs\\\\data-science\\\\pandas\\\\csv\\\\read_csv\\\\ex_noheader.csv']"
      ]
     },
     "execution_count": 7,
     "metadata": {},
     "output_type": "execute_result"
    }
   ],
   "source": [
    "import glob\n",
    "import os\n",
    "\n",
    "path = r\"C:\\Users\\lianbche\\Git\\knowledge-map\\Techs\\data-science\\pandas\\csv\\read_csv\"\n",
    "glob.glob(os.path.join(path, '*.csv'))"
   ]
  }
 ],
 "metadata": {
  "kernelspec": {
   "display_name": "Python 3",
   "language": "python",
   "name": "python3"
  },
  "language_info": {
   "codemirror_mode": {
    "name": "ipython",
    "version": 3
   },
   "file_extension": ".py",
   "mimetype": "text/x-python",
   "name": "python",
   "nbconvert_exporter": "python",
   "pygments_lexer": "ipython3",
   "version": "3.9.9"
  },
  "orig_nbformat": 4
 },
 "nbformat": 4,
 "nbformat_minor": 2
}
