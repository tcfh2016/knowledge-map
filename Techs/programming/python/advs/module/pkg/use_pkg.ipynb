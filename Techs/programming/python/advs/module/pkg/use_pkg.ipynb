{
 "cells": [
  {
   "cell_type": "code",
   "execution_count": 2,
   "metadata": {},
   "outputs": [
    {
     "name": "stdout",
     "output_type": "stream",
     "text": [
      "<module 'string' from 'c:\\\\Users\\\\lianbche\\\\AppData\\\\Local\\\\Programs\\\\Python\\\\Python39\\\\lib\\\\string.py'>\n",
      "9999\n",
      "<class 'module'>\n"
     ]
    }
   ],
   "source": [
    "\n",
    "import eggs\n",
    "print(eggs.x)\n",
    "#print(eggs.__module__)\n",
    "print(eggs.__class__)\n"
   ]
  }
 ],
 "metadata": {
  "kernelspec": {
   "display_name": "Python 3",
   "language": "python",
   "name": "python3"
  },
  "language_info": {
   "codemirror_mode": {
    "name": "ipython",
    "version": 3
   },
   "file_extension": ".py",
   "mimetype": "text/x-python",
   "name": "python",
   "nbconvert_exporter": "python",
   "pygments_lexer": "ipython3",
   "version": "3.9.9"
  }
 },
 "nbformat": 4,
 "nbformat_minor": 2
}
