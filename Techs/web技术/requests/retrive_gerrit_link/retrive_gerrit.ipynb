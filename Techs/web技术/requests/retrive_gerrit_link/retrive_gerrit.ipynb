{
 "cells": [
  {
   "cell_type": "markdown",
   "metadata": {},
   "source": [
    "## 未认证时\n",
    "\n",
    "不管是否使用代理，均能够正常访问页面，但是因为没有认证所以获取到的页面元素不全。"
   ]
  },
  {
   "cell_type": "code",
   "execution_count": 14,
   "metadata": {},
   "outputs": [
    {
     "name": "stdout",
     "output_type": "stream",
     "text": [
      "<Response [200]>\n"
     ]
    },
    {
     "data": {
      "text/plain": [
       "'\\nwith open(\"gerrit_verify_false.txt\", \"w\", encoding=\"utf-8\") as f:\\n    f.write(r.text)\\n'"
      ]
     },
     "execution_count": 14,
     "metadata": {},
     "output_type": "execute_result"
    }
   ],
   "source": [
    "import requests\n",
    "\n",
    "\n",
    "r = requests.get('https://gerrit.ext.net.nokia.com/gerrit/c/MN/5G/NB/gnb/+/4767531')\n",
    "print(r)\n",
    "\n",
    "'''\n",
    "with open(\"gerrit_verify_false.txt\", \"w\", encoding=\"utf-8\") as f:\n",
    "    f.write(r.text)\n",
    "'''"
   ]
  },
  {
   "cell_type": "markdown",
   "metadata": {},
   "source": [
    "使用代理，获取到的结果也一样，排除代理问题。"
   ]
  },
  {
   "cell_type": "code",
   "execution_count": 10,
   "metadata": {},
   "outputs": [
    {
     "name": "stdout",
     "output_type": "stream",
     "text": [
      "<!DOCTYPE html>\n",
      "<html lang=\"en\">\n",
      "<meta charset=\"utf-8\">\n",
      "<meta name=\"description\" content=\"Gerrit Code Review\">\n",
      "<meta name=\"referrer\" content=\"never\">\n",
      "<meta name=\"viewport\" content=\"width=device-width, initial-scale=1, maximum-scale=1, user-scalable=0\">\n",
      "<noscript>To use PolyGerrit, please enable JavaScript in your browser settings, and then refresh this page.</noscript><script>window.CLOSURE_NO_DEPS = true;window.CANONICAL_PATH = '\\/gerrit';window.STATIC_RESOURCE_PATH = '\\/gerrit';</script>\n",
      "<link rel=\"icon\" type=\"image/x-icon\" href=\"/gerrit/favicon.ico\">\n",
      "<link rel=\"preload\" href=\"/gerrit/fonts/RobotoMono-Regular.woff2\" as=\"font\" type=\"font/woff2\" crossorigin=\"anonymous\">\n",
      "<link rel=\"preload\" href=\"/gerrit/fonts/RobotoMono-Regular.woff\" as=\"font\" type=\"font/woff\" crossorigin=\"anonymous\">\n",
      "<link rel=\"preload\" href=\"/gerrit/fonts/Roboto-Regular.woff2\" as=\"font\" type=\"font/woff2\" crossorigin=\"anonymous\">\n",
      "<link rel=\"preload\" href=\"/gerrit/fonts/Roboto-Regular.woff\" as=\"font\" type=\"font/woff\" crossorigin=\"anonymous\">\n",
      "<link rel=\"preload\" href=\"/gerrit/fonts/Roboto-Medium.woff2\" as=\"font\" type=\"font/woff2\" crossorigin=\"anonymous\">\n",
      "<link rel=\"preload\" href=\"/gerrit/fonts/Roboto-Medium.woff\" as=\"font\" type=\"font/woff\" crossorigin=\"anonymous\">\n",
      "<link rel=\"stylesheet\" href=\"/gerrit/styles/fonts.css\">\n",
      "<link rel=\"stylesheet\" href=\"/gerrit/styles/main.css\">\n",
      "<script src=\"/gerrit/bower_components/webcomponentsjs/webcomponents-lite.js\"></script>\n",
      "<link rel=\"preload\" href=\"/gerrit/elements/gr-app.js\" as=\"script\" crossorigin=\"anonymous\">\n",
      "<link rel=\"import\" href=\"/gerrit/elements/gr-app.html\">\n",
      "<body unresolved>\n",
      "<gr-app id=\"app\"></gr-app>\n",
      "\n"
     ]
    }
   ],
   "source": [
    "proxies = {\n",
    "  \"http\": \"http://10.144.1.10:8080\",\n",
    "  \"https\": \"http://10.144.1.10:8080\",\n",
    "}\n",
    "\n",
    "r = requests.get('https://gerrit.ext.net.nokia.com/gerrit/c/MN/5G/NB/gnb/+/4767531', proxies=proxies)\n",
    "print(r.text)"
   ]
  },
  {
   "cell_type": "markdown",
   "metadata": {},
   "source": [
    "## 如何认证？\n",
    "\n",
    "尝试手动访问，未登录时页面显示如下。如上获取到的内容其实就是未认证时的内容：\n",
    "\n",
    "![](./gerrt_request_login.png)\n",
    "\n",
    "从[How to \"log in\" to a website using Python's Requests module?](https://stackoverflow.com/questions/11892729/how-to-log-in-to-a-website-using-pythons-requests-module)学习到，要进行登录的认证，那么需要从登录页面上获取几项信息：\n",
    "\n",
    "- 表单提交对应的url\n",
    "- 用户名和密码框对应的name属性\n",
    "\n"
   ]
  },
  {
   "cell_type": "code",
   "execution_count": 24,
   "metadata": {},
   "outputs": [
    {
     "name": "stdout",
     "output_type": "stream",
     "text": [
      "<Response [200]>\n",
      "[<Response [302]>]\n",
      "<Response [200]>\n",
      "[]\n"
     ]
    }
   ],
   "source": [
    "import requests\n",
    "\n",
    "payload = {\n",
    "    'username': 'lianbche',\n",
    "    'password': 'peteratNOKIA202202'\n",
    "}\n",
    "\n",
    "login_url = 'https://gerrit.ext.net.nokia.com/gerrit/login/%2F%2Fc%2FMN%2F5G%2FNB%2Fgnb%2F%2B%2F4767531'\n",
    "data_url = 'https://gerrit.ext.net.nokia.com/gerrit/c/MN/5G/NB/gnb/+/4767531'\n",
    "with requests.Session() as s:\n",
    "    #'''\n",
    "    p = s.post(login_url, data=payload, allow_redirects=False)\n",
    "    # print the html returned or something more intelligent to see if it's a successful login page.\n",
    "    with open(\"gerrit_post_response.txt\", \"w\", encoding=\"utf-8\") as f:\n",
    "        f.write(p.text)\n",
    "    print(p)\n",
    "    print(p.history)\n",
    "    #'''\n",
    "\n",
    "    # An authorised request.\n",
    "    r = s.get(data_url, cookies=p.cookies, allow_redirects=False)\n",
    "    with open(\"gerrit_authorised_response.txt\", \"w\", encoding=\"utf-8\") as f:\n",
    "        f.write(r.text)\n",
    "    print(r)\n",
    "    print(r.history)\n"
   ]
  }
 ],
 "metadata": {
  "kernelspec": {
   "display_name": "Python 3.9.5 64-bit",
   "language": "python",
   "name": "python3"
  },
  "language_info": {
   "codemirror_mode": {
    "name": "ipython",
    "version": 3
   },
   "file_extension": ".py",
   "mimetype": "text/x-python",
   "name": "python",
   "nbconvert_exporter": "python",
   "pygments_lexer": "ipython3",
   "version": "3.9.5"
  },
  "orig_nbformat": 4,
  "vscode": {
   "interpreter": {
    "hash": "2e4121690db76bc87d491a2e0341ca46892a2842bde8fb317c85d19e2ad11338"
   }
  }
 },
 "nbformat": 4,
 "nbformat_minor": 2
}
