{
 "cells": [
  {
   "cell_type": "markdown",
   "metadata": {},
   "source": [
    "## 未认证时\n",
    "\n",
    "不管是否使用代理，均能够正常访问页面，但是因为没有认证所以获取到的页面元素不全。"
   ]
  },
  {
   "cell_type": "code",
   "execution_count": 14,
   "metadata": {},
   "outputs": [
    {
     "name": "stdout",
     "output_type": "stream",
     "text": [
      "<Response [200]>\n"
     ]
    },
    {
     "data": {
      "text/plain": [
       "'\\nwith open(\"gerrit_verify_false.txt\", \"w\", encoding=\"utf-8\") as f:\\n    f.write(r.text)\\n'"
      ]
     },
     "execution_count": 14,
     "metadata": {},
     "output_type": "execute_result"
    }
   ],
   "source": [
    "import requests\n",
    "\n",
    "\n",
    "r = requests.get('https://gerrit.ext.net.me.com/gerrit/c/MN/5G/NB/gnb/+/4767531')\n",
    "print(r)\n",
    "\n",
    "'''\n",
    "with open(\"gerrit_verify_false.txt\", \"w\", encoding=\"utf-8\") as f:\n",
    "    f.write(r.text)\n",
    "'''"
   ]
  },
  {
   "cell_type": "markdown",
   "metadata": {},
   "source": [
    "使用代理，获取到的结果也一样，排除代理问题。"
   ]
  },
  {
   "cell_type": "code",
   "execution_count": 10,
   "metadata": {},
   "outputs": [
    {
     "name": "stdout",
     "output_type": "stream",
     "text": [
      "<!DOCTYPE html>\n",
      "<html lang=\"en\">\n",
      "<meta charset=\"utf-8\">\n",
      "<meta name=\"description\" content=\"Gerrit Code Review\">\n",
      "<meta name=\"referrer\" content=\"never\">\n",
      "<meta name=\"viewport\" content=\"width=device-width, initial-scale=1, maximum-scale=1, user-scalable=0\">\n",
      "<noscript>To use PolyGerrit, please enable JavaScript in your browser settings, and then refresh this page.</noscript><script>window.CLOSURE_NO_DEPS = true;window.CANONICAL_PATH = '\\/gerrit';window.STATIC_RESOURCE_PATH = '\\/gerrit';</script>\n",
      "<link rel=\"icon\" type=\"image/x-icon\" href=\"/gerrit/favicon.ico\">\n",
      "<link rel=\"preload\" href=\"/gerrit/fonts/RobotoMono-Regular.woff2\" as=\"font\" type=\"font/woff2\" crossorigin=\"anonymous\">\n",
      "<link rel=\"preload\" href=\"/gerrit/fonts/RobotoMono-Regular.woff\" as=\"font\" type=\"font/woff\" crossorigin=\"anonymous\">\n",
      "<link rel=\"preload\" href=\"/gerrit/fonts/Roboto-Regular.woff2\" as=\"font\" type=\"font/woff2\" crossorigin=\"anonymous\">\n",
      "<link rel=\"preload\" href=\"/gerrit/fonts/Roboto-Regular.woff\" as=\"font\" type=\"font/woff\" crossorigin=\"anonymous\">\n",
      "<link rel=\"preload\" href=\"/gerrit/fonts/Roboto-Medium.woff2\" as=\"font\" type=\"font/woff2\" crossorigin=\"anonymous\">\n",
      "<link rel=\"preload\" href=\"/gerrit/fonts/Roboto-Medium.woff\" as=\"font\" type=\"font/woff\" crossorigin=\"anonymous\">\n",
      "<link rel=\"stylesheet\" href=\"/gerrit/styles/fonts.css\">\n",
      "<link rel=\"stylesheet\" href=\"/gerrit/styles/main.css\">\n",
      "<script src=\"/gerrit/bower_components/webcomponentsjs/webcomponents-lite.js\"></script>\n",
      "<link rel=\"preload\" href=\"/gerrit/elements/gr-app.js\" as=\"script\" crossorigin=\"anonymous\">\n",
      "<link rel=\"import\" href=\"/gerrit/elements/gr-app.html\">\n",
      "<body unresolved>\n",
      "<gr-app id=\"app\"></gr-app>\n",
      "\n"
     ]
    }
   ],
   "source": [
    "proxies = {\n",
    "  \"http\": \"http://10.144.1.10:8080\",\n",
    "  \"https\": \"http://10.144.1.10:8080\",\n",
    "}\n",
    "\n",
    "r = requests.get('https://gerrit.ext.net.me.com/gerrit/c/MN/5G/NB/gnb/+/4767531', proxies=proxies)\n",
    "print(r.text)"
   ]
  },
  {
   "cell_type": "markdown",
   "metadata": {},
   "source": [
    "## 如何认证？\n",
    "\n",
    "尝试手动访问，未登录时页面显示如下。如上获取到的内容其实就是未认证时的内容：\n",
    "\n",
    "![](./gerrt_request_login.png)\n",
    "\n",
    "从[How to \"log in\" to a website using Python's Requests module?](https://stackoverflow.com/questions/11892729/how-to-log-in-to-a-website-using-pythons-requests-module)学习到，要进行登录的认证，那么需要从登录页面上获取几项信息：\n",
    "\n",
    "- 表单提交对应的url\n",
    "- 用户名和密码框对应的name属性\n",
    "\n"
   ]
  },
  {
   "cell_type": "code",
   "execution_count": 26,
   "metadata": {},
   "outputs": [
    {
     "name": "stdout",
     "output_type": "stream",
     "text": [
      "<Response [302]>\n",
      "[]\n",
      "<Response [200]>\n",
      "[]\n"
     ]
    }
   ],
   "source": [
    "import requests\n",
    "\n",
    "payload = {\n",
    "    'username': '--',\n",
    "    'password': '--'\n",
    "}\n",
    "\n",
    "login_url = 'https://gerrit.ext.net.me.com/gerrit/login/%2F%2Fc%2FMN%2F5G%2FNB%2Fgnb%2F%2B%2F4767531'\n",
    "data_url = 'https://gerrit.ext.net.me.com/gerrit/c/MN/5G/NB/gnb/+/4767531'\n",
    "with requests.Session() as s:\n",
    "    #'''\n",
    "    p = s.post(login_url, data=payload, allow_redirects=False)\n",
    "    # print the html returned or something more intelligent to see if it's a successful login page.\n",
    "    with open(\"gerrit_post_response.txt\", \"w\", encoding=\"utf-8\") as f:\n",
    "        f.write(p.text)\n",
    "    print(p)\n",
    "    print(p.history)\n",
    "    #'''\n",
    "\n",
    "    # An authorised request.\n",
    "    r = s.get(data_url, cookies=p.cookies, allow_redirects=False)\n",
    "    with open(\"gerrit_authorised_response.txt\", \"w\", encoding=\"utf-8\") as f:\n",
    "        f.write(r.text)\n",
    "    print(r)\n",
    "    print(r.history)\n"
   ]
  },
  {
   "cell_type": "markdown",
   "metadata": {},
   "source": [
    "## 试试selenium\n",
    "\n",
    "上面即便认证成功了，获取到的内容还是很少，那么可能是网页中有一些javascript，通过requests无法一次性加载完全。所以试试看selenium。\n",
    "\n",
    "使用selenium在认证之后需要一定的延时来让网页全部加载出来，这里引入了sleep()函数，否则获取到的数据很少。"
   ]
  },
  {
   "cell_type": "code",
   "execution_count": 66,
   "metadata": {},
   "outputs": [
    {
     "name": "stdout",
     "output_type": "stream",
     "text": [
      "SCT.fuse.asib_abio/38137\n",
      "['SCT.fuse.asib_abio', '38137']\n",
      "38137\n"
     ]
    }
   ],
   "source": [
    "from selenium import webdriver\n",
    "from bs4 import BeautifulSoup\n",
    "import time\n",
    "import re\n",
    "\n",
    "#login_url = 'https://gerrit.ext.net.me.com/gerrit/login/%2F%2Fc%2FMN%2F5G%2FNB%2Fgnb%2F%2B%2F4767531'\n",
    "login_url = 'https://gerrit.ext.net.me.com/gerrit/login/%2F%2Fq%2Fstatus%3Aopen'\n",
    "data_url = 'https://gerrit.ext.net.me.com/gerrit/c/MN/5G/NB/gnb/+/4777769'\n",
    "driver = webdriver.Firefox()\n",
    "driver.get(login_url)\n",
    "driver.find_element_by_name(\"username\").send_keys(\"--\")\n",
    "driver.find_element_by_name(\"password\").send_keys(\"--\")\n",
    "driver.find_element_by_id(\"b_signin\").click()\n",
    "time.sleep(5)\n",
    "\n",
    "driver.get(data_url)\n",
    "time.sleep(5)\n",
    "with open(\"gerrit_selenium.txt\", \"w\", encoding=\"utf-8\") as f:\n",
    "    f.write(driver.page_source)\n",
    "\n",
    "bs = BeautifulSoup(driver.page_source)\n",
    "builds = bs.find_all(\"a\", string=re.compile(\".*https://ece-ci.dynamic.me-net.net/job/MASTER/job/GNB/job/UPLANE/job/L2-LO/job/SCT.fuse.asib_abio/.*\"))\n",
    "'''\n",
    "[\n",
    "<a class=\"style-scope gr-linked-text\" href=\"https://ece-ci.dynamic.me-net.net/job/MASTER/job/GNB/job/UPLANE/job/L2-LO/job/SCT.fuse.asib_abio/37383/\" rel=\"noopener\" target=\"_blank\">https://ece-ci.dynamic.me-net.net/job/MASTER/job/GNB/job/UPLANE/job/L2-LO/job/SCT.fuse.asib_abio/37383/</a>, \n",
    "<a class=\"style-scope gr-linked-text\" href=\"https://ece-ci.dynamic.me-net.net/job/MASTER/job/GNB/job/UPLANE/job/L2-LO/job/SCT.fuse.asib_abio/37424/\" rel=\"noopener\" target=\"_blank\">https://ece-ci.dynamic.me-net.net/job/MASTER/job/GNB/job/UPLANE/job/L2-LO/job/SCT.fuse.asib_abio/37424/</a>, \n",
    "<a class=\"style-scope gr-linked-text\" href=\"https://ece-ci.dynamic.me-net.net/job/MASTER/job/GNB/job/UPLANE/job/L2-LO/job/SCT.fuse.asib_abio/37619/\" rel=\"noopener\" target=\"_blank\">https://ece-ci.dynamic.me-net.net/job/MASTER/job/GNB/job/UPLANE/job/L2-LO/job/SCT.fuse.asib_abio/37619/</a>]\n",
    "'''\n",
    "\n",
    "s = builds[-1].string\n",
    "s = s[s.find('SCT.fuse.asib_abio'):]\n",
    "print(s)\n",
    "print(s.split('/'))\n",
    "build_id = s.split('/')[1]\n",
    "print(build_id)\n",
    "driver.quit()"
   ]
  },
  {
   "cell_type": "markdown",
   "metadata": {},
   "source": [
    "一个测试：检查CI JOB链接是否可用"
   ]
  },
  {
   "cell_type": "code",
   "execution_count": 74,
   "metadata": {},
   "outputs": [
    {
     "name": "stderr",
     "output_type": "stream",
     "text": [
      "c:\\Users\\lianbche\\AppData\\Local\\Programs\\Python\\Python39\\lib\\site-packages\\urllib3\\connectionpool.py:1013: InsecureRequestWarning: Unverified HTTPS request is being made to host 'es5gci43.emea.nsn-net.net'. Adding certificate verification is strongly advised. See: https://urllib3.readthedocs.io/en/1.26.x/advanced-usage.html#ssl-warnings\n",
      "  warnings.warn(\n"
     ]
    },
    {
     "name": "stdout",
     "output_type": "stream",
     "text": [
      "OK\n",
      "NOK\n"
     ]
    },
    {
     "name": "stderr",
     "output_type": "stream",
     "text": [
      "c:\\Users\\lianbche\\AppData\\Local\\Programs\\Python\\Python39\\lib\\site-packages\\urllib3\\connectionpool.py:1013: InsecureRequestWarning: Unverified HTTPS request is being made to host 'es5gci43.emea.nsn-net.net'. Adding certificate verification is strongly advised. See: https://urllib3.readthedocs.io/en/1.26.x/advanced-usage.html#ssl-warnings\n",
      "  warnings.warn(\n"
     ]
    }
   ],
   "source": [
    "import requests\n",
    "\n",
    "def respond_ok(code):\n",
    "    if code == 200:\n",
    "        print(\"OK\")\n",
    "    else:\n",
    "        print(\"NOK\")\n",
    "\n",
    "url1 = 'https://es5gci43.emea.me-net.net:54001/MASTER/GNB/UPLANE/L2-LO/SCT.fuse.asib_abio/38346/artifacts/'\n",
    "r1 = requests.get(url1, verify=False)\n",
    "respond_ok(r1.status_code)\n",
    "\n",
    "url2 = 'https://es5gci43.emea.me-net.net:54001/MASTER/GNB/UPLANE/L2-LO/SCT.fuse.asib_abio/38021/artifacts/'\n",
    "r2 = requests.get(url2, verify=False)\n",
    "respond_ok(r2.status_code)"
   ]
  }
 ],
 "metadata": {
  "kernelspec": {
   "display_name": "Python 3.9.5 64-bit",
   "language": "python",
   "name": "python3"
  },
  "language_info": {
   "codemirror_mode": {
    "name": "ipython",
    "version": 3
   },
   "file_extension": ".py",
   "mimetype": "text/x-python",
   "name": "python",
   "nbconvert_exporter": "python",
   "pygments_lexer": "ipython3",
   "version": "3.9.5"
  },
  "orig_nbformat": 4,
  "vscode": {
   "interpreter": {
    "hash": "2e4121690db76bc87d491a2e0341ca46892a2842bde8fb317c85d19e2ad11338"
   }
  }
 },
 "nbformat": 4,
 "nbformat_minor": 2
}
