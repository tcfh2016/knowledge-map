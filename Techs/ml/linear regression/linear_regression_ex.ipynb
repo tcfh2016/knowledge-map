{
 "cells": [
  {
   "cell_type": "markdown",
   "metadata": {},
   "source": [
    "## 表达式绘图"
   ]
  },
  {
   "cell_type": "code",
   "execution_count": 1,
   "metadata": {},
   "outputs": [],
   "source": [
    "import numpy as np\n",
    "import matplotlib.pyplot as plt\n",
    "\n",
    "def plot_lines(a, b, c):\n",
    "    x = np.linspace(0, 5, 50)\n",
    "    # 进行绘图\n",
    "    plt.figure(dpi=100)\n",
    "    plt.plot(x, b*x+c, label='bx + c')\n",
    "    plt.plot(x, b*x, label='bx')\n",
    "    plt.plot(x, a*x*x+b*x+c, label='ax^2 + bx + c')\n",
    "    plt.legend()\n",
    "    plt.show()"
   ]
  },
  {
   "cell_type": "code",
   "execution_count": 2,
   "metadata": {},
   "outputs": [
    {
     "ename": "ModuleNotFoundError",
     "evalue": "No module named 'ipywidgets'",
     "output_type": "error",
     "traceback": [
      "\u001b[1;31m---------------------------------------------------------------------------\u001b[0m",
      "\u001b[1;31mModuleNotFoundError\u001b[0m                       Traceback (most recent call last)",
      "Cell \u001b[1;32mIn [2], line 1\u001b[0m\n\u001b[1;32m----> 1\u001b[0m \u001b[38;5;28;01mfrom\u001b[39;00m \u001b[38;5;21;01mipywidgets\u001b[39;00m \u001b[38;5;28;01mimport\u001b[39;00m interact, interactive, fixed, interact_manual\n\u001b[0;32m      2\u001b[0m \u001b[38;5;28;01mimport\u001b[39;00m \u001b[38;5;21;01mipywidgets\u001b[39;00m \u001b[38;5;28;01mas\u001b[39;00m \u001b[38;5;21;01mwidgets\u001b[39;00m\n\u001b[0;32m      4\u001b[0m \u001b[38;5;66;03m# 拖拽修改参数 a, b, c 的值来观察绘图的变化情况\u001b[39;00m\n",
      "\u001b[1;31mModuleNotFoundError\u001b[0m: No module named 'ipywidgets'"
     ]
    }
   ],
   "source": [
    "from ipywidgets import interact, interactive, fixed, interact_manual\n",
    "import ipywidgets as widgets\n",
    "\n",
    "# 拖拽修改参数 a, b, c 的值来观察绘图的变化情况\n",
    "interact(plot_lines,\n",
    "         a=widgets.FloatSlider(min=-10, max=10, step=0.5, value=1),\n",
    "         b=widgets.FloatSlider(min=-10, max=10, step=0.5, value=1),\n",
    "         c=widgets.FloatSlider(min=-10, max=10, step=0.5, value=1),\n",
    "        )"
   ]
  },
  {
   "cell_type": "markdown",
   "metadata": {},
   "source": [
    "## 代价函数"
   ]
  },
  {
   "cell_type": "code",
   "execution_count": 1,
   "metadata": {},
   "outputs": [],
   "source": [
    "import numpy as np\n",
    "data = np.array([[2104, 460], [1416, 232], [1534, 315], [852,178]])\n",
    "\n",
    "def get_predict(x, theta0, theta1):\n",
    "    return theta0 + theta1*x\n",
    "\n",
    "def cal_cost(theta0, theta1):\n",
    "    cost = 0    \n",
    "    for x, y in data:\n",
    "        y_pred = get_predict(x, theta0, theta1)\n",
    "        cost += (y_pred - y)**2\n",
    "    return round(cost/len(data)/2, 2)\n",
    "\n",
    "def plot_cost(theta0, theta1):\n",
    "    x = np.linspace(0, 2500, 50)\n",
    "    plt.figure(dpi=100)\n",
    "    plt.plot(x, get_predict(x, theta0, theta1),\n",
    "             label='theta0=' + str(theta0) + ',theta1='+ str(theta1)\n",
    "             + ',cost='+ str(cal_cost(theta0=theta0, theta1=theta1)))\n",
    "    plt.plot(data[:,0],data[:,1], 'bo')\n",
    "    plt.legend()\n",
    "    plt.xlabel(\"面积\")\n",
    "    plt.ylabel(\"价格\")\n",
    "    plt.show()\n",
    "\n",
    "from ipywidgets import interact, interactive, fixed, interact_manual\n",
    "import ipywidgets as widgets\n",
    "\n",
    "interact(plot_cost,\n",
    "         theta0=widgets.IntSlider(min=-200, max=200, step=10, value=10),\n",
    "        theta1=widgets.FloatSlider(min=-1.0, max=1.0, step=0.05, value=0.3));"
   ]
  }
 ],
 "metadata": {
  "kernelspec": {
   "display_name": "Python 3",
   "language": "python",
   "name": "python3"
  },
  "language_info": {
   "codemirror_mode": {
    "name": "ipython",
    "version": 3
   },
   "file_extension": ".py",
   "mimetype": "text/x-python",
   "name": "python",
   "nbconvert_exporter": "python",
   "pygments_lexer": "ipython3",
   "version": "3.9.9"
  }
 },
 "nbformat": 4,
 "nbformat_minor": 2
}
