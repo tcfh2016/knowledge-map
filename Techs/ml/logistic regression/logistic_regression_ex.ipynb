{
 "cells": [
  {
   "cell_type": "code",
   "execution_count": 1,
   "metadata": {},
   "outputs": [
    {
     "ename": "SyntaxError",
     "evalue": "invalid syntax (1534342190.py, line 21)",
     "output_type": "error",
     "traceback": [
      "\u001b[1;36m  Cell \u001b[1;32mIn [1], line 21\u001b[1;36m\u001b[0m\n\u001b[1;33m    theta2=widgets.FloatSlider(min=-1.0, max=1.0, step=0.05, value=0.3));-\u001b[0m\n\u001b[1;37m                                                                           ^\u001b[0m\n\u001b[1;31mSyntaxError\u001b[0m\u001b[1;31m:\u001b[0m invalid syntax\n"
     ]
    }
   ],
   "source": [
    "import numpy as np\n",
    "import matplotlib.pyplot as plt\n",
    "from ipywidgets import interact, interactive, fixed, interact_manual\n",
    "import ipywidgets as widgets\n",
    "\n",
    "def plot_line(theta0, theta1, theta2):\n",
    "    x = np.linspace(-10,10,10)\n",
    "    y = - theta0 / theta2 - theta1 / theta2 * x\n",
    "    title = str(theta0) + ' + ' + str(theta1) + 'x1 + ' + str(theta2) + 'x2'\n",
    "    plt.plot(x, y, '-r', label=title)\n",
    "    plt.title('Graph of ' + title)\n",
    "    plt.xlabel('x1', color='#1C2833')\n",
    "    plt.ylabel('x2', color='#1C2833')\n",
    "    plt.legend(loc='upper left')\n",
    "    plt.grid()\n",
    "    plt.show()\n",
    "\n",
    "interact(plot_line,\n",
    "         theta0=widgets.IntSlider(min=-10, max=10, step=1, value=0),\n",
    "         theta1=widgets.FloatSlider(min=-1.0, max=1.0, step=0.05, value=0.3),\n",
    "         theta2=widgets.FloatSlider(min=-1.0, max=1.0, step=0.05, value=0.3));- "
   ]
  }
 ],
 "metadata": {
  "kernelspec": {
   "display_name": "Python 3",
   "language": "python",
   "name": "python3"
  },
  "language_info": {
   "codemirror_mode": {
    "name": "ipython",
    "version": 3
   },
   "file_extension": ".py",
   "mimetype": "text/x-python",
   "name": "python",
   "nbconvert_exporter": "python",
   "pygments_lexer": "ipython3",
   "version": "3.9.9"
  }
 },
 "nbformat": 4,
 "nbformat_minor": 2
}
