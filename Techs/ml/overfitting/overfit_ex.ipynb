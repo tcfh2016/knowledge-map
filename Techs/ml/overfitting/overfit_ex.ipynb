{
 "cells": [
  {
   "cell_type": "markdown",
   "metadata": {},
   "source": [
    "## 过度拟合例子"
   ]
  },
  {
   "cell_type": "code",
   "execution_count": 1,
   "metadata": {},
   "outputs": [
    {
     "ename": "ModuleNotFoundError",
     "evalue": "No module named 'sklearn'",
     "output_type": "error",
     "traceback": [
      "\u001b[1;31m---------------------------------------------------------------------------\u001b[0m",
      "\u001b[1;31mModuleNotFoundError\u001b[0m                       Traceback (most recent call last)",
      "Cell \u001b[1;32mIn [1], line 3\u001b[0m\n\u001b[0;32m      1\u001b[0m \u001b[38;5;28;01mimport\u001b[39;00m \u001b[38;5;21;01mmatplotlib\u001b[39;00m\u001b[38;5;21;01m.\u001b[39;00m\u001b[38;5;21;01mpyplot\u001b[39;00m \u001b[38;5;28;01mas\u001b[39;00m \u001b[38;5;21;01mplt\u001b[39;00m\n\u001b[0;32m      2\u001b[0m \u001b[38;5;28;01mimport\u001b[39;00m \u001b[38;5;21;01mnumpy\u001b[39;00m \u001b[38;5;28;01mas\u001b[39;00m \u001b[38;5;21;01mnp\u001b[39;00m\n\u001b[1;32m----> 3\u001b[0m \u001b[38;5;28;01mimport\u001b[39;00m \u001b[38;5;21;01msklearn\u001b[39;00m\u001b[38;5;21;01m.\u001b[39;00m\u001b[38;5;21;01mpipeline\u001b[39;00m \u001b[38;5;28;01mas\u001b[39;00m \u001b[38;5;21;01mpl\u001b[39;00m\n\u001b[0;32m      4\u001b[0m \u001b[38;5;28;01mimport\u001b[39;00m \u001b[38;5;21;01msklearn\u001b[39;00m\u001b[38;5;21;01m.\u001b[39;00m\u001b[38;5;21;01mpreprocessing\u001b[39;00m \u001b[38;5;28;01mas\u001b[39;00m \u001b[38;5;21;01msp\u001b[39;00m\n\u001b[0;32m      5\u001b[0m \u001b[38;5;28;01mimport\u001b[39;00m \u001b[38;5;21;01msklearn\u001b[39;00m\u001b[38;5;21;01m.\u001b[39;00m\u001b[38;5;21;01mlinear_model\u001b[39;00m \u001b[38;5;28;01mas\u001b[39;00m \u001b[38;5;21;01mlm\u001b[39;00m\n",
      "\u001b[1;31mModuleNotFoundError\u001b[0m: No module named 'sklearn'"
     ]
    }
   ],
   "source": [
    "import matplotlib.pyplot as plt\n",
    "import numpy as np\n",
    "import sklearn.pipeline as pl\n",
    "import sklearn.preprocessing as sp\n",
    "import sklearn.linear_model as lm\n",
    "\n",
    "# 生成模拟数据\n",
    "x = np.arange(0,6,0.2).reshape(-1,1) \n",
    "y = -5*x**2 + x*10 + 1 + (np.random.randn(len(x))*10).reshape(-1,1) # 这里我们使用一个二次函数加上一个噪声模拟训练目标\n",
    "x = np.delete(x, [2,3,5,8], axis = 0) # 删除其中三个点\n",
    "y = np.delete(y, [2,3,5,8], axis = 0)\n",
    "\n",
    "plt.scatter(x, y)\n",
    "plt.show()\n",
    "\n",
    "# 可以互动的版本，最高次数可调\n",
    "def get_fited_model(n):\n",
    "    # 岭回归器\n",
    "    lmr = lm.Ridge(alpha=1)\n",
    "\n",
    "    #线性回归器\n",
    "    lml = lm.LinearRegression()\n",
    "\n",
    "    model_lmr = pl.make_pipeline(\n",
    "                    sp.PolynomialFeatures(n),  # 多项式特征扩展器\n",
    "                    lmr)      # 岭回归器\n",
    "    model_lmr.fit(x, y)\n",
    "\n",
    "    model_lml = pl.make_pipeline(\n",
    "                    sp.PolynomialFeatures(n),  # 多项式特征扩展器\n",
    "                    lml)      # 线性回归器\n",
    "    model_lml.fit(x, y)\n",
    "    return model_lmr, model_lml\n",
    "\n",
    "def plot_result(n):\n",
    "    n = int(n)\n",
    "    model_lmr, model_lml = get_fited_model(n)\n",
    "    px = np.arange(0,5.9,0.1).reshape(-1,1)\n",
    "    pred_py_lmr = model_lmr.predict(px)\n",
    "    pred_py_lml = model_lml.predict(px)\n",
    "    # 图1，未正则化结果\n",
    "    plt.subplot(1,2,1)\n",
    "    plt.plot(px, pred_py_lml, c='orangered', label='PolyFit Line')\n",
    "    plt.scatter(x, y)\n",
    "    plt.title(\"未使用正则化\")\n",
    "\n",
    "    # 图2，正则化结果\n",
    "    plt.subplot(1,2,2)\n",
    "    plt.plot(px, pred_py_lmr, c='orangered', label='PolyFit Line')\n",
    "    plt.scatter(x, y)\n",
    "    plt.title(\"使用正则化\")\n",
    "    \n",
    "    \n",
    "from ipywidgets import interact, interactive, fixed, interact_manual\n",
    "import ipywidgets as widgets\n",
    "\n",
    "# 拖拽修改参数 a, b, c 的值来观察绘图的变化情况\n",
    "interact(plot_result,\n",
    "         n=widgets.FloatSlider(min=1, max=20, step=1.0, value=1),\n",
    "        );"
   ]
  },
  {
   "cell_type": "markdown",
   "metadata": {},
   "source": [
    "## 二分类任务例子"
   ]
  },
  {
   "cell_type": "code",
   "execution_count": 2,
   "metadata": {},
   "outputs": [
    {
     "ename": "ModuleNotFoundError",
     "evalue": "No module named 'sklearn'",
     "output_type": "error",
     "traceback": [
      "\u001b[1;31m---------------------------------------------------------------------------\u001b[0m",
      "\u001b[1;31mModuleNotFoundError\u001b[0m                       Traceback (most recent call last)",
      "Cell \u001b[1;32mIn [2], line 1\u001b[0m\n\u001b[1;32m----> 1\u001b[0m \u001b[38;5;28;01mfrom\u001b[39;00m \u001b[38;5;21;01msklearn\u001b[39;00m\u001b[38;5;21;01m.\u001b[39;00m\u001b[38;5;21;01mlinear_model\u001b[39;00m \u001b[38;5;28;01mimport\u001b[39;00m LogisticRegression\n\u001b[0;32m      2\u001b[0m \u001b[38;5;28;01mfrom\u001b[39;00m \u001b[38;5;21;01msklearn\u001b[39;00m\u001b[38;5;21;01m.\u001b[39;00m\u001b[38;5;21;01mpreprocessing\u001b[39;00m \u001b[38;5;28;01mimport\u001b[39;00m PolynomialFeatures\n\u001b[0;32m      3\u001b[0m \u001b[38;5;28;01mimport\u001b[39;00m \u001b[38;5;21;01mnumpy\u001b[39;00m \u001b[38;5;28;01mas\u001b[39;00m \u001b[38;5;21;01mnp\u001b[39;00m\n",
      "\u001b[1;31mModuleNotFoundError\u001b[0m: No module named 'sklearn'"
     ]
    }
   ],
   "source": [
    "from sklearn.linear_model import LogisticRegression\n",
    "from sklearn.preprocessing import PolynomialFeatures\n",
    "import numpy as np\n",
    "\n",
    "# 每个类别样本个数\n",
    "point_counts = 50\n",
    "X_1 = np.random.normal(2,2,size=(point_counts,2)) # 使用均值为2，方差为1.5的正态分布生成1类点\n",
    "y_1 = np.zeros((point_counts,1))\n",
    "\n",
    "X_2 = np.random.normal(-2,2,size=(point_counts,2)) # 使用均值为-2，方差为1.5的正态分布生成2类点\n",
    "y_2 = np.ones((point_counts,1))\n",
    "\n",
    "# 使用颜色区分两种点\n",
    "plt.scatter(X_1[:,0],X_1[:,1],c='green')\n",
    "plt.scatter(X_2[:,0],X_2[:,1],c='red')\n",
    "\n",
    "# 可交互版本，调节多项式的特征\n",
    "def fit_logits_model(n):\n",
    "    X_train = np.vstack((X_1,X_2))\n",
    "    y_train = np.vstack((y_1,y_2))\n",
    "\n",
    "    #定义多项式回归,degree的值可以调节多项式的特征\n",
    "    poly_reg = PolynomialFeatures(degree=n)\n",
    "    #特征处理\n",
    "    X_train = poly_reg.fit_transform(X_train)\n",
    "\n",
    "    # 无正则化的多项式逻辑回归\n",
    "    log_reg = LogisticRegression(penalty='none',tol=1e-6,solver='lbfgs')\n",
    "    # 带l2正则化的逻辑回归\n",
    "    log_reg_withl2 = LogisticRegression(penalty='l2',tol=1e-6,C=1e-5,solver='lbfgs')\n",
    "\n",
    "    # 进行训练\n",
    "    log_reg.fit(X_train, y_train)\n",
    "    log_reg_withl2.fit(X_train,y_train)\n",
    "\n",
    "    return log_reg, log_reg_withl2, poly_reg\n",
    "\n",
    "def plot_logits_result(n):\n",
    "    n = int(n)\n",
    "    log_reg, log_reg_withl2, poly_reg = fit_logits_model(n)\n",
    "    # 生成网格矩阵\n",
    "    xx, yy = np.meshgrid(np.arange(-8, 8, 0.02),\n",
    "                        np.arange(-8, 8, 0.02))\n",
    "    z = log_reg.predict(poly_reg.fit_transform(np.c_[xx.ravel(), yy.ravel()]))\n",
    "    z = z.reshape(xx.shape)\n",
    "    z_wihtl2 = log_reg_withl2.predict(poly_reg.fit_transform(np.c_[xx.ravel(), yy.ravel()]))\n",
    "    z_wihtl2 = z_wihtl2.reshape(xx.shape)\n",
    "\n",
    "    plt.subplot(1,2,1)\n",
    "    cs = plt.contourf(xx, yy, z)\n",
    "    plt.scatter(X_1[:,0],X_1[:,1])\n",
    "    plt.scatter(X_2[:,0],X_2[:,1],c='red')\n",
    "    plt.title(\"未使用正则化\")\n",
    "\n",
    "    plt.subplot(1,2,2)\n",
    "    cs = plt.contourf(xx, yy, z_wihtl2)\n",
    "    plt.scatter(X_1[:,0],X_1[:,1])\n",
    "    plt.scatter(X_2[:,0],X_2[:,1],c='red')\n",
    "    plt.title(\"使用正则化\")\n",
    "\n",
    "from ipywidgets import interact, interactive, fixed, interact_manual\n",
    "import ipywidgets as widgets\n",
    "\n",
    "# 拖拽修改参数 a, b, c 的值来观察绘图的变化情况\n",
    "interact(plot_logits_result,\n",
    "         n=widgets.FloatSlider(min=3, max=10, step=1.0, value=1),\n",
    "        );    "
   ]
  }
 ],
 "metadata": {
  "kernelspec": {
   "display_name": "Python 3",
   "language": "python",
   "name": "python3"
  },
  "language_info": {
   "codemirror_mode": {
    "name": "ipython",
    "version": 3
   },
   "file_extension": ".py",
   "mimetype": "text/x-python",
   "name": "python",
   "nbconvert_exporter": "python",
   "pygments_lexer": "ipython3",
   "version": "3.9.9"
  }
 },
 "nbformat": 4,
 "nbformat_minor": 2
}
