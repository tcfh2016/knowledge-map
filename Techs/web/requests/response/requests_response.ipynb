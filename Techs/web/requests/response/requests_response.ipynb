{
 "cells": [
  {
   "cell_type": "code",
   "execution_count": null,
   "metadata": {},
   "outputs": [
    {
     "name": "stdout",
     "output_type": "stream",
     "text": [
      "he\n"
     ]
    }
   ],
   "source": [
    "import requests\n",
    "import json\n",
    "from bs4 import BeautifulSoup\n",
    "\n",
    "headers = {\n",
    "'Accept': '*/*',\n",
    "'Accept-Encoding': 'gzip, deflate, br',\n",
    "'Accept-Language': 'zh-CN,zh;q=0.8,zh-TW;q=0.7,zh-HK;q=0.5,en-US;q=0.3,en;q=0.2',\n",
    "'Connection': 'keep-alive',\n",
    "'host': 'danjuanfunds.com',\n",
    "'User-agent': 'Mozilla/5.0 (Windows NT 10.0; WOW 64) AppleWebKit/537.36 (KHTML, like Gecko) Chrome/55.0.2883.87 Safari/537.36 QIHU 360SE'\n",
    "}\n",
    "\n",
    "proxies = {\"http\":\"http://10.1.1.10:8080\"}\n",
    "\n",
    "r = requests.get(\"https://danjuanfunds.com/djapi/index_eva/dj\", proxies=proxies, headers=headers)\n",
    "#print(r.text)\n",
    "t = r.text\n",
    "\n",
    "with open('test.txt', mode='w', encoding='utf-8') as f:\n",
    "    f.write(t)\n",
    "#soup = BeautifulSoup(r.text, 'html.parser')\n",
    "#print(soup)\n"
   ]
  }
 ],
 "metadata": {
  "kernelspec": {
   "display_name": "Python 3",
   "language": "python",
   "name": "python3"
  },
  "language_info": {
   "codemirror_mode": {
    "name": "ipython",
    "version": 3
   },
   "file_extension": ".py",
   "mimetype": "text/x-python",
   "name": "python",
   "nbconvert_exporter": "python",
   "pygments_lexer": "ipython3",
   "version": "3.13.0"
  }
 },
 "nbformat": 4,
 "nbformat_minor": 2
}
