{
 "cells": [
  {
   "cell_type": "code",
   "execution_count": 2,
   "metadata": {},
   "outputs": [],
   "source": [
    "# webdriver提供了所有浏览器驱动的相关功能\n",
    "from selenium import webdriver\n",
    "# 类Keys提供了键盘上诸如RETURN, F1, ALT等按键功能。\n",
    "from selenium.webdriver.common.keys import Keys\n",
    "\n",
    "profile = webdriver.FirefoxProfile()\n",
    "settings = {\n",
    "    'network.proxy.type': 1,  # 0: 不使用代理；1: 手动配置代理\n",
    "    'network.proxy.http': '10.144.1.10',\n",
    "    'network.proxy.http_port': 8080,\n",
    "    'network.proxy.ssl': '10.144.1.10',  # https的网站,\n",
    "    'network.proxy.ssl_port': 8080,\n",
    "}\n",
    "\n",
    "for key, value in settings.items():\n",
    "    profile.set_preference(key, value)\n",
    "profile.update_preferences()\n",
    "\n",
    "# 创建Firefox的驱动实例\n",
    "driver = webdriver.Firefox(firefox_profile=profile)\n",
    "# get函数会打开URL指定的页面，并且等到它加载完成\n",
    "driver.get(\"http://www.python.org\")\n",
    "assert \"Python\" in driver.title\n",
    "# 通过find_element_by*系列函数来找到对应的页面元素（这里是搜索框）\n",
    "elem = driver.find_element_by_name(\"q\")\n",
    "# 键入“pycon”进行搜索\n",
    "elem.clear()\n",
    "elem.send_keys(\"pycon\")\n",
    "elem.send_keys(Keys.RETURN)\n",
    "assert \"No results found.\" not in driver.page_source\n",
    "driver.close()"
   ]
  }
 ],
 "metadata": {
  "kernelspec": {
   "display_name": "Python 3.9.5 64-bit",
   "language": "python",
   "name": "python3"
  },
  "language_info": {
   "codemirror_mode": {
    "name": "ipython",
    "version": 3
   },
   "file_extension": ".py",
   "mimetype": "text/x-python",
   "name": "python",
   "nbconvert_exporter": "python",
   "pygments_lexer": "ipython3",
   "version": "3.9.5"
  },
  "orig_nbformat": 4,
  "vscode": {
   "interpreter": {
    "hash": "2e4121690db76bc87d491a2e0341ca46892a2842bde8fb317c85d19e2ad11338"
   }
  }
 },
 "nbformat": 4,
 "nbformat_minor": 2
}
