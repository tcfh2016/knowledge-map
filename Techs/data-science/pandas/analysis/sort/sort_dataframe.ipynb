{
 "cells": [
  {
   "cell_type": "markdown",
   "metadata": {},
   "source": [
    "## 前面N行排序"
   ]
  },
  {
   "cell_type": "code",
   "execution_count": 13,
   "metadata": {},
   "outputs": [
    {
     "name": "stdout",
     "output_type": "stream",
     "text": [
      "   A  B  C\n",
      "0  1  2  1\n",
      "1  3  4  9\n",
      "2  5  7  8\n",
      "3  6  8  2\n",
      "----------------------\n",
      "   A  B  C\n",
      "1  3  4  9\n",
      "0  1  2  1\n",
      "2  5  7  8\n",
      "3  6  8  2\n"
     ]
    }
   ],
   "source": [
    "import pandas as pd\n",
    "\n",
    "df = pd.DataFrame(\n",
    "    {\n",
    "        'A' : [1, 3, 5, 6],\n",
    "        'B' : [2, 4, 7, 8],\n",
    "        'C' : [1, 9, 8, 2]\n",
    "    }\n",
    ")\n",
    "print(df)\n",
    "print('----------------------')\n",
    "sort_part = df[0:2].sort_values('A', ascending=False)\n",
    "print(pd.concat([sort_part, df[2:]]))"
   ]
  },
  {
   "cell_type": "markdown",
   "metadata": {},
   "source": [
    "## 单列排序"
   ]
  },
  {
   "cell_type": "code",
   "execution_count": null,
   "metadata": {},
   "outputs": [
    {
     "name": "stdout",
     "output_type": "stream",
     "text": [
      "  class  liter  math\n",
      "0     B     46    73\n",
      "1     C     33    37\n",
      "2     A     69    66\n",
      "3     B     33    27\n",
      "4     C     86    15\n",
      "5     C     58    84\n"
     ]
    }
   ],
   "source": [
    "import numpy as np\n",
    "import pandas as pd\n",
    "\n",
    "classes = [\"A\", \"B\", \"C\"]\n",
    "score = pd.DataFrame({\n",
    "    \"class\":[classes[x] for x in np.random.randint(0, len(classes), 6)],\n",
    "    \"liter\":np.random.randint(0, 100, 6),\n",
    "    \"math\":np.random.randint(0, 100, 6)\n",
    "})\n",
    "print(score)\n"
   ]
  },
  {
   "cell_type": "code",
   "execution_count": null,
   "metadata": {},
   "outputs": [
    {
     "name": "stdout",
     "output_type": "stream",
     "text": [
      "  class  liter  math\n",
      "0     B     46    73\n",
      "1     C     33    37\n",
      "2     A     69    66\n",
      "3     B     33    27\n",
      "4     C     86    15\n",
      "5     C     58    84\n"
     ]
    }
   ],
   "source": [
    "# 排序本身不直接改变原有df的内容\n",
    "score.sort_values(by=['class'], ascending=False)\n",
    "print(score)"
   ]
  },
  {
   "cell_type": "markdown",
   "metadata": {},
   "source": []
  }
 ],
 "metadata": {
  "kernelspec": {
   "display_name": "Python 3",
   "language": "python",
   "name": "python3"
  },
  "language_info": {
   "codemirror_mode": {
    "name": "ipython",
    "version": 3
   },
   "file_extension": ".py",
   "mimetype": "text/x-python",
   "name": "python",
   "nbconvert_exporter": "python",
   "pygments_lexer": "ipython3",
   "version": "3.9.9"
  }
 },
 "nbformat": 4,
 "nbformat_minor": 2
}
