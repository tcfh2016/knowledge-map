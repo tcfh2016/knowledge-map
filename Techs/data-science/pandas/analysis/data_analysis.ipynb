{
 "cells": [
  {
   "cell_type": "markdown",
   "metadata": {},
   "source": [
    "## 数据透视"
   ]
  },
  {
   "cell_type": "code",
   "execution_count": 4,
   "metadata": {},
   "outputs": [
    {
     "name": "stdout",
     "output_type": "stream",
     "text": [
      "C        large  small\n",
      "A   B                \n",
      "foo one    4.0    1.0\n",
      "    two    NaN    6.0\n",
      "<class 'pandas.core.frame.DataFrame'>\n",
      "MultiIndex([('foo', 'one'),\n",
      "            ('foo', 'two')],\n",
      "           names=['A', 'B'])\n",
      "Index(['large', 'small'], dtype='object', name='C')\n",
      "C      large     small\n",
      "count    1.0  2.000000\n",
      "mean     4.0  3.500000\n",
      "std      NaN  3.535534\n",
      "min      4.0  1.000000\n",
      "25%      4.0  2.250000\n",
      "50%      4.0  3.500000\n",
      "75%      4.0  4.750000\n",
      "max      4.0  6.000000\n"
     ]
    }
   ],
   "source": [
    "import pandas as pd\n",
    "\n",
    "df = pd.DataFrame({\"A\": [\"foo\", \"foo\", \"foo\", \"foo\", \"foo\"],\n",
    "                   \"B\": [\"one\", \"one\", \"one\", \"two\", \"two\"],\n",
    "                   \"C\": [\"small\", \"large\", \"large\", \"small\",\n",
    "                         \"small\"],\n",
    "                   \"D\": [1, 2, 2, 3, 3],\n",
    "                   \"E\": [2, 4, 5, 5, 6]})\n",
    "table = pd.pivot_table(df, values='D', index=['A', 'B'],\n",
    "                       columns=['C'], aggfunc=\"sum\")\n",
    "\n",
    "print(table)\n",
    "print(type(table))\n",
    "print(table.index)\n",
    "print(table.columns)\n",
    "print(table.describe())"
   ]
  },
  {
   "cell_type": "markdown",
   "metadata": {},
   "source": [
    "## PduMux Duration"
   ]
  },
  {
   "cell_type": "code",
   "execution_count": 2,
   "metadata": {},
   "outputs": [
    {
     "name": "stdout",
     "output_type": "stream",
     "text": [
      "max=1128, max_xsfn=819/58, avg=36.51070886502895\n"
     ]
    },
    {
     "data": {
      "image/png": "[encoded data removed]",
      "text/plain": [
       "<Figure size 800x400 with 1 Axes>"
      ]
     },
     "metadata": {},
     "output_type": "display_data"
    }
   ],
   "source": [
    "import pandas as pd\n",
    "\n",
    "selected_columns = ['sfn', 'slot', 'handleMsgOffsetInSlot', 'sendPayloadOffsetInSlot']\n",
    "\n",
    "input_file_path = r'C:\\N-20L6PF1F2MV8-Data\\lianbche\\Documents\\2024\\08\\01-check maxpdumux\\vdu-12690\\12960-MacPduMuxReq.csv'\n",
    "selected_df = pd.read_csv(input_file_path, usecols=selected_columns)\n",
    "\n",
    "groups = selected_df.groupby(['sfn', 'slot'])        \n",
    "new_df = groups.count()\n",
    "\n",
    "new_df['cost'] = groups['sendPayloadOffsetInSlot'].last() - groups['handleMsgOffsetInSlot'].first()\n",
    "new_df = new_df.reset_index()\n",
    "new_df['sendPayloadOffsetInSlot'].plot(kind='bar', figsize=(8, 4), title='count')\n",
    "\n",
    "idxmax = new_df['cost'].idxmax()\n",
    "print('max={}, max_xsfn={}/{}, avg={}'.format(\n",
    "    new_df['cost'].max(), new_df['sfn'][idxmax], new_df['slot'][idxmax], new_df['cost'].mean()))\n"
   ]
  }
 ],
 "metadata": {
  "kernelspec": {
   "display_name": "Python 3",
   "language": "python",
   "name": "python3"
  },
  "language_info": {
   "codemirror_mode": {
    "name": "ipython",
    "version": 3
   },
   "file_extension": ".py",
   "mimetype": "text/x-python",
   "name": "python",
   "nbconvert_exporter": "python",
   "pygments_lexer": "ipython3",
   "version": "3.12.1"
  }
 },
 "nbformat": 4,
 "nbformat_minor": 2
}
