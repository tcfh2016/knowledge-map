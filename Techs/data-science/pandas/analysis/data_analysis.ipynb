{
 "cells": [
  {
   "cell_type": "markdown",
   "metadata": {},
   "source": [
    "## 数据透视"
   ]
  },
  {
   "cell_type": "code",
   "execution_count": 4,
   "metadata": {},
   "outputs": [
    {
     "name": "stdout",
     "output_type": "stream",
     "text": [
      "C        large  small\n",
      "A   B                \n",
      "foo one    4.0    1.0\n",
      "    two    NaN    6.0\n",
      "<class 'pandas.core.frame.DataFrame'>\n",
      "MultiIndex([('foo', 'one'),\n",
      "            ('foo', 'two')],\n",
      "           names=['A', 'B'])\n",
      "Index(['large', 'small'], dtype='object', name='C')\n",
      "C      large     small\n",
      "count    1.0  2.000000\n",
      "mean     4.0  3.500000\n",
      "std      NaN  3.535534\n",
      "min      4.0  1.000000\n",
      "25%      4.0  2.250000\n",
      "50%      4.0  3.500000\n",
      "75%      4.0  4.750000\n",
      "max      4.0  6.000000\n"
     ]
    }
   ],
   "source": [
    "import pandas as pd\n",
    "\n",
    "df = pd.DataFrame({\"A\": [\"foo\", \"foo\", \"foo\", \"foo\", \"foo\"],\n",
    "                   \"B\": [\"one\", \"one\", \"one\", \"two\", \"two\"],\n",
    "                   \"C\": [\"small\", \"large\", \"large\", \"small\",\n",
    "                         \"small\"],\n",
    "                   \"D\": [1, 2, 2, 3, 3],\n",
    "                   \"E\": [2, 4, 5, 5, 6]})\n",
    "table = pd.pivot_table(df, values='D', index=['A', 'B'],\n",
    "                       columns=['C'], aggfunc=\"sum\")\n",
    "\n",
    "print(table)\n",
    "print(type(table))\n",
    "print(table.index)\n",
    "print(table.columns)\n",
    "print(table.describe())"
   ]
  }
 ],
 "metadata": {
  "kernelspec": {
   "display_name": "Python 3",
   "language": "python",
   "name": "python3"
  },
  "language_info": {
   "codemirror_mode": {
    "name": "ipython",
    "version": 3
   },
   "file_extension": ".py",
   "mimetype": "text/x-python",
   "name": "python",
   "nbconvert_exporter": "python",
   "pygments_lexer": "ipython3",
   "version": "3.12.1"
  }
 },
 "nbformat": 4,
 "nbformat_minor": 2
}
