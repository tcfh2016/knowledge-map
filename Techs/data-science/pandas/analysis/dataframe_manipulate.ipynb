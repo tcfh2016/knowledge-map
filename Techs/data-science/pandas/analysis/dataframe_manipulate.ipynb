{
 "cells": [
  {
   "cell_type": "markdown",
   "metadata": {},
   "source": [
    "## 类型转换"
   ]
  },
  {
   "cell_type": "code",
   "execution_count": 9,
   "metadata": {},
   "outputs": [
    {
     "name": "stdout",
     "output_type": "stream",
     "text": [
      "   Unnamed: 0   core  sfn  slot  time  time delta  task duration (on exit)  \\\n",
      "0           1  Core1  NaN   NaN   0.0         0.0                      NaN   \n",
      "1           2  Core1  NaN   NaN   0.0         0.0                      NaN   \n",
      "2           3  Core1  NaN   NaN   0.0         0.0                      NaN   \n",
      "\n",
      "   Unnamed: 7  \n",
      "0         NaN  \n",
      "1         NaN  \n",
      "2         NaN  \n"
     ]
    }
   ],
   "source": [
    "df = pd.read_csv(\"test.csv\", sep=';')\n",
    "df['time'] = pd.to_numeric(df['time'], errors='coerce').fillna(0).astype(float)\n",
    "df['time delta'] = pd.to_numeric(df['time delta'], errors='coerce').fillna(0).astype(float)\n",
    "print(df)"
   ]
  }
 ],
 "metadata": {
  "kernelspec": {
   "display_name": "Python 3",
   "language": "python",
   "name": "python3"
  },
  "language_info": {
   "codemirror_mode": {
    "name": "ipython",
    "version": 3
   },
   "file_extension": ".py",
   "mimetype": "text/x-python",
   "name": "python",
   "nbconvert_exporter": "python",
   "pygments_lexer": "ipython3",
   "version": "3.9.5"
  },
  "orig_nbformat": 4,
  "vscode": {
   "interpreter": {
    "hash": "2e4121690db76bc87d491a2e0341ca46892a2842bde8fb317c85d19e2ad11338"
   }
  }
 },
 "nbformat": 4,
 "nbformat_minor": 2
}
