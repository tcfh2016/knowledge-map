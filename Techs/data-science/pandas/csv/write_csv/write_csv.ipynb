{
 "cells": [
  {
   "attachments": {},
   "cell_type": "markdown",
   "metadata": {},
   "source": [
    "## 转换列的类型"
   ]
  },
  {
   "cell_type": "code",
   "execution_count": 1,
   "metadata": {},
   "outputs": [
    {
     "name": "stdout",
     "output_type": "stream",
     "text": [
      "      a   b   c\n",
      "4  30.0  30   0\n",
      "1  10.0  10  10\n",
      "2  20.0  20  20\n",
      "a    float64\n",
      "b      int64\n",
      "c      int64\n",
      "dtype: object\n",
      "    a   b   c\n",
      "4  30  30   0\n",
      "1  10  10  10\n",
      "2  20  20  20\n",
      "a    int32\n",
      "b    int64\n",
      "c    int64\n",
      "dtype: object\n"
     ]
    }
   ],
   "source": [
    "import pandas as pd\n",
    "df = pd.read_csv(\"ex_float2int.csv\", index_col=0)\n",
    "print(df)\n",
    "print(df.dtypes)\n",
    "df.to_csv(\"ex_float.csv\")\n",
    "\n",
    "import os\n",
    "cur = os.getcwd()\n",
    "df.to_csv(os.path.join(cur, \"ex_float1.csv\"))\n",
    "\n",
    "df = df.astype({\"a\": int})\n",
    "print(df)\n",
    "print(df.dtypes)\n",
    "df.to_csv(\"ex_int.csv\")"
   ]
  },
  {
   "attachments": {},
   "cell_type": "markdown",
   "metadata": {},
   "source": [
    "## 重排index\n",
    "\n",
    "使用`df.loc[len(df)] = [40, 40, 40]`添加一行的时候需要注意`len(df)`和index的冲突。"
   ]
  },
  {
   "cell_type": "code",
   "execution_count": 15,
   "metadata": {},
   "outputs": [
    {
     "name": "stdout",
     "output_type": "stream",
     "text": [
      "    a   b   c\n",
      "4  30  30   0\n",
      "1  10  10  10\n",
      "2  20  20  20\n",
      "3  40  40  40\n",
      "index re-order\n",
      "   index   a   b   c\n",
      "0      4  30  30   0\n",
      "1      1  10  10  10\n",
      "2      2  20  20  20\n",
      "3      3  40  40  40\n",
      "    a   b   c\n",
      "0  30  30   0\n",
      "1  10  10  10\n",
      "2  20  20  20\n",
      "3  40  40  40\n"
     ]
    }
   ],
   "source": [
    "import pandas as pd \n",
    "\n",
    "df = pd.read_csv(\"ex_unorder_index.csv\", index_col=0)\n",
    "df.loc[len(df)] = [40, 40, 40]\n",
    "print(df)\n",
    "\n",
    "print(\"index re-order\")\n",
    "df1 = df.reset_index()\n",
    "print(df1)\n",
    "df2 = df.reset_index(drop=True)\n",
    "print(df2)"
   ]
  },
  {
   "attachments": {},
   "cell_type": "markdown",
   "metadata": {},
   "source": [
    "## 在已有csv写入新的一行\n",
    "\n"
   ]
  },
  {
   "cell_type": "code",
   "execution_count": 3,
   "metadata": {},
   "outputs": [
    {
     "data": {
      "text/html": [
       "<div>\n",
       "<style scoped>\n",
       "    .dataframe tbody tr th:only-of-type {\n",
       "        vertical-align: middle;\n",
       "    }\n",
       "\n",
       "    .dataframe tbody tr th {\n",
       "        vertical-align: top;\n",
       "    }\n",
       "\n",
       "    .dataframe thead th {\n",
       "        text-align: right;\n",
       "    }\n",
       "</style>\n",
       "<table border=\"1\" class=\"dataframe\">\n",
       "  <thead>\n",
       "    <tr style=\"text-align: right;\">\n",
       "      <th></th>\n",
       "      <th>a</th>\n",
       "      <th>b</th>\n",
       "      <th>c</th>\n",
       "    </tr>\n",
       "  </thead>\n",
       "  <tbody>\n",
       "    <tr>\n",
       "      <th>0</th>\n",
       "      <td>61</td>\n",
       "      <td>69</td>\n",
       "      <td>38</td>\n",
       "    </tr>\n",
       "    <tr>\n",
       "      <th>1</th>\n",
       "      <td>64</td>\n",
       "      <td>2</td>\n",
       "      <td>6</td>\n",
       "    </tr>\n",
       "    <tr>\n",
       "      <th>2</th>\n",
       "      <td>74</td>\n",
       "      <td>70</td>\n",
       "      <td>81</td>\n",
       "    </tr>\n",
       "    <tr>\n",
       "      <th>3</th>\n",
       "      <td>43</td>\n",
       "      <td>66</td>\n",
       "      <td>47</td>\n",
       "    </tr>\n",
       "    <tr>\n",
       "      <th>4</th>\n",
       "      <td>54</td>\n",
       "      <td>86</td>\n",
       "      <td>70</td>\n",
       "    </tr>\n",
       "  </tbody>\n",
       "</table>\n",
       "</div>"
      ],
      "text/plain": [
       "    a   b   c\n",
       "0  61  69  38\n",
       "1  64   2   6\n",
       "2  74  70  81\n",
       "3  43  66  47\n",
       "4  54  86  70"
      ]
     },
     "execution_count": 3,
     "metadata": {},
     "output_type": "execute_result"
    }
   ],
   "source": [
    "import pandas as pd\n",
    "\n",
    "pd.read_csv(\"csv_write_ex.csv\", index_col=0)"
   ]
  },
  {
   "cell_type": "markdown",
   "metadata": {},
   "source": [
    "## 将 DataFrame / DataFrameGroupBy 对象写入csv\n",
    "\n",
    "DataFrame 对象可以直接调用`to_csv()`函数:\n",
    "\n",
    "```\n",
    "df.to_csv(file_name, sep='\\t', encoding='utf-8')\n",
    "```\n",
    "\n",
    "DataFrameGroupBy 对象没有`to_csv()`函数，常见的使用是调用min()/sum()等接口返回 group里面的某个值，如此组成新的 DataFrame 对象。\n",
    "\n",
    "\n",
    "参考：\n",
    "\n",
    "- [Pandas groupby to to_csv](https://stackoverflow.com/questions/47602097/pandas-groupby-to-to-csv?rq=1)\n"
   ]
  },
  {
   "cell_type": "markdown",
   "metadata": {},
   "source": [
    "Step 1：创建DataFrame"
   ]
  },
  {
   "cell_type": "code",
   "execution_count": 3,
   "metadata": {},
   "outputs": [
    {
     "data": {
      "text/html": [
       "<div>\n",
       "<style scoped>\n",
       "    .dataframe tbody tr th:only-of-type {\n",
       "        vertical-align: middle;\n",
       "    }\n",
       "\n",
       "    .dataframe tbody tr th {\n",
       "        vertical-align: top;\n",
       "    }\n",
       "\n",
       "    .dataframe thead th {\n",
       "        text-align: right;\n",
       "    }\n",
       "</style>\n",
       "<table border=\"1\" class=\"dataframe\">\n",
       "  <thead>\n",
       "    <tr style=\"text-align: right;\">\n",
       "      <th></th>\n",
       "      <th>a</th>\n",
       "      <th>b</th>\n",
       "      <th>c</th>\n",
       "    </tr>\n",
       "  </thead>\n",
       "  <tbody>\n",
       "    <tr>\n",
       "      <th>0</th>\n",
       "      <td>61</td>\n",
       "      <td>69</td>\n",
       "      <td>38</td>\n",
       "    </tr>\n",
       "    <tr>\n",
       "      <th>1</th>\n",
       "      <td>64</td>\n",
       "      <td>2</td>\n",
       "      <td>6</td>\n",
       "    </tr>\n",
       "    <tr>\n",
       "      <th>2</th>\n",
       "      <td>74</td>\n",
       "      <td>70</td>\n",
       "      <td>81</td>\n",
       "    </tr>\n",
       "    <tr>\n",
       "      <th>3</th>\n",
       "      <td>43</td>\n",
       "      <td>66</td>\n",
       "      <td>47</td>\n",
       "    </tr>\n",
       "    <tr>\n",
       "      <th>4</th>\n",
       "      <td>54</td>\n",
       "      <td>86</td>\n",
       "      <td>70</td>\n",
       "    </tr>\n",
       "  </tbody>\n",
       "</table>\n",
       "</div>"
      ],
      "text/plain": [
       "    a   b   c\n",
       "0  61  69  38\n",
       "1  64   2   6\n",
       "2  74  70  81\n",
       "3  43  66  47\n",
       "4  54  86  70"
      ]
     },
     "execution_count": 3,
     "metadata": {},
     "output_type": "execute_result"
    }
   ],
   "source": [
    "import pandas as pd\n",
    "import numpy as np\n",
    "\n",
    "my_dict = {'a':np.random.randint(1,100, 5),\n",
    "           'b':np.random.randint(1,100, 5),\n",
    "           'c':np.random.randint(1,100, 5),\n",
    "          }\n",
    "\n",
    "# 以dict创建DataFrame时，默认键作为列标签\n",
    "pd.DataFrame(my_dict)"
   ]
  },
  {
   "cell_type": "markdown",
   "metadata": {},
   "source": [
    "Step 2：调用to_csv保存DataFrame"
   ]
  },
  {
   "cell_type": "code",
   "execution_count": 4,
   "metadata": {},
   "outputs": [],
   "source": [
    "my_df = pd.DataFrame(my_dict)\n",
    "my_df.to_csv(\"csv_write_ex.csv\")"
   ]
  },
  {
   "cell_type": "markdown",
   "metadata": {},
   "source": [
    "打开csv_write_ex.csv文件，看到的是这样：\n",
    "\n",
    "![](csv_write_ex.png)"
   ]
  },
  {
   "cell_type": "markdown",
   "metadata": {},
   "source": [
    "## 不写入index和columns\n",
    "\n"
   ]
  },
  {
   "cell_type": "code",
   "execution_count": 4,
   "metadata": {},
   "outputs": [
    {
     "name": "stdout",
     "output_type": "stream",
     "text": [
      "    a   b   c\n",
      "0  18  85  44\n",
      "1  99  66  41\n",
      "2  39  20  75\n",
      "3  10  66  70\n",
      "4  66  49  13\n"
     ]
    }
   ],
   "source": [
    "import pandas as pd\n",
    "import numpy as np\n",
    "\n",
    "my_dict = {'a':np.random.randint(1,100, 5),\n",
    "           'b':np.random.randint(1,100, 5),\n",
    "           'c':np.random.randint(1,100, 5),\n",
    "          }\n",
    "\n",
    "my_df = pd.DataFrame(my_dict)\n",
    "print(my_df)\n",
    "my_df.to_csv(\"csv_write_ex_no_index.csv\", columns=['b', 'c'], header=False, index=False)"
   ]
  },
  {
   "cell_type": "code",
   "execution_count": 1,
   "metadata": {},
   "outputs": [
    {
     "name": "stdout",
     "output_type": "stream",
     "text": [
      "h\n"
     ]
    }
   ],
   "source": [
    "print('h')"
   ]
  }
 ],
 "metadata": {
  "kernelspec": {
   "display_name": "Python 3.9.5 64-bit",
   "language": "python",
   "name": "python3"
  },
  "language_info": {
   "codemirror_mode": {
    "name": "ipython",
    "version": 3
   },
   "file_extension": ".py",
   "mimetype": "text/x-python",
   "name": "python",
   "nbconvert_exporter": "python",
   "pygments_lexer": "ipython3",
   "version": "3.9.5"
  },
  "orig_nbformat": 4,
  "vscode": {
   "interpreter": {
    "hash": "2e4121690db76bc87d491a2e0341ca46892a2842bde8fb317c85d19e2ad11338"
   }
  }
 },
 "nbformat": 4,
 "nbformat_minor": 2
}
