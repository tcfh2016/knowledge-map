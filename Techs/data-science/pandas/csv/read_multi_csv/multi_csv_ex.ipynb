{
 "cells": [
  {
   "cell_type": "code",
   "execution_count": 9,
   "metadata": {},
   "outputs": [
    {
     "name": "stdout",
     "output_type": "stream",
     "text": [
      "                                     ASP             EQ  free_tw\n",
      "TimeStamp                                                       \n",
      "2024-01-26T08:40:00.489  ASP-1732-Disp_1     L2_LO_UL_0     4579\n",
      "2024-01-26T08:40:00.489  ASP-1732-Disp_1  L2_LO_DL_RCV0     4579\n",
      "2024-01-26T08:40:00.490  ASP-1732-Disp_1  L2_LO_DL_RCV0     4578\n",
      "2024-01-26T08:40:00.490  ASP-1732-Disp_1     L2_LO_UL_0     4578\n",
      "2024-01-26T08:40:02.492  ASP-1732-Disp_1     L2_LO_UL_0     4568\n",
      "...                                  ...            ...      ...\n",
      "2024-01-26T10:02:41.390  ASP-1732-Disp_1     L2_LO_UL_0        0\n",
      "2024-01-26T10:02:41.610  ASP-1732-Disp_1  L2_LO_DL_RCV0     4394\n",
      "2024-01-26T10:02:41.630  ASP-1732-Disp_1  L2_LO_DL_RCV0     4395\n",
      "2024-01-26T10:02:41.630  ASP-1732-Disp_1     L2_LO_UL_0        0\n",
      "2024-01-26T10:02:42.054  ASP-1732-Disp_1  L2_LO_DL_RCV0     4392\n",
      "\n",
      "[55264 rows x 3 columns]\n"
     ]
    }
   ],
   "source": [
    "\n",
    "import pandas as pd\n",
    "import glob\n",
    "import os\n",
    "\n",
    "\n",
    "path = r'C:\\N-20L6PF1F2MV8-Data\\lianbche\\Documents\\2024\\01\\27-PR748593\\timewheel'\n",
    "all_files = glob.glob(os.path.join(path, \"*.csv\"))\n",
    "\n",
    "df_from_each_file = (pd.read_csv(f, usecols=lambda x: x not in ['SYSLOG', 'crnti', 'timerWheelHandle']) for f in all_files)\n",
    "concatenated_df   = pd.concat(df_from_each_file, ignore_index=True)\n",
    "\n",
    "concatenated_df = concatenated_df[concatenated_df['ASP'] == 'ASP-1732-Disp_1']\n",
    "concatenated_df = concatenated_df.set_index('TimeStamp')\n",
    "print(concatenated_df)\n",
    "\n",
    "concatenated_df.to_csv(\"timer_wheel.csv\")\n",
    "#concatenated_df[concatenated_df['EQ'] == 'L2_LO_UL_0']['free_tw'].plot(figsize=(20, 10))\n"
   ]
  },
  {
   "cell_type": "code",
   "execution_count": null,
   "metadata": {},
   "outputs": [],
   "source": []
  }
 ],
 "metadata": {
  "kernelspec": {
   "display_name": "Python 3",
   "language": "python",
   "name": "python3"
  },
  "language_info": {
   "codemirror_mode": {
    "name": "ipython",
    "version": 3
   },
   "file_extension": ".py",
   "mimetype": "text/x-python",
   "name": "python",
   "nbconvert_exporter": "python",
   "pygments_lexer": "ipython3",
   "version": "3.9.9"
  }
 },
 "nbformat": 4,
 "nbformat_minor": 2
}
