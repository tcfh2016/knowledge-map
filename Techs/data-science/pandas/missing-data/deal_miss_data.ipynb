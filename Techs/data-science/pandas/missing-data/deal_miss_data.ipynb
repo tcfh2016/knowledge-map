{
 "cells": [
  {
   "cell_type": "code",
   "execution_count": 5,
   "metadata": {},
   "outputs": [
    {
     "name": "stdout",
     "output_type": "stream",
     "text": [
      "     0    1    2\n",
      "0  1.2  6.5  3.0\n",
      "1  1.0  NaN  NaN\n",
      "2  NaN  NaN  NaN\n",
      "3  NaN  6.2  3.1\n"
     ]
    }
   ],
   "source": [
    "import pandas as pd\n",
    "import numpy as np\n",
    "\n",
    "df = pd.DataFrame([[1.2, 6.5, 3.0],\n",
    "               [1., np.NaN, np.NaN],\n",
    "               [np.NaN, np.NaN, np.NaN],\n",
    "               [np.NaN, 6.2, 3.1]])\n",
    "print(df)"
   ]
  },
  {
   "cell_type": "code",
   "execution_count": 8,
   "metadata": {},
   "outputs": [
    {
     "name": "stdout",
     "output_type": "stream",
     "text": [
      "     0    1    2\n",
      "0  1.2  6.5  3.0\n",
      "1  1.0  NaN  NaN\n",
      "2  NaN  NaN  NaN\n",
      "3  NaN  6.2  3.1\n",
      "     0    1    2\n",
      "0  1.2  6.5  3.0\n",
      "1  1.0  0.0  0.0\n",
      "2  0.0  0.0  0.0\n",
      "3  0.0  6.2  3.1\n"
     ]
    }
   ],
   "source": [
    "df.fillna(0)\n",
    "print(df)\n",
    "\n",
    "new_df = df.fillna(0)\n",
    "print(new_df)"
   ]
  },
  {
   "cell_type": "code",
   "execution_count": 10,
   "metadata": {},
   "outputs": [
    {
     "data": {
      "text/plain": [
       "float"
      ]
     },
     "execution_count": 10,
     "metadata": {},
     "output_type": "execute_result"
    }
   ],
   "source": [
    "np.nan > 0.0\n",
    "type(np.nan)"
   ]
  },
  {
   "cell_type": "code",
   "execution_count": null,
   "metadata": {},
   "outputs": [],
   "source": []
  }
 ],
 "metadata": {
  "kernelspec": {
   "display_name": "Python 3.9.5 64-bit",
   "language": "python",
   "name": "python3"
  },
  "language_info": {
   "codemirror_mode": {
    "name": "ipython",
    "version": 3
   },
   "file_extension": ".py",
   "mimetype": "text/x-python",
   "name": "python",
   "nbconvert_exporter": "python",
   "pygments_lexer": "ipython3",
   "version": "3.9.5"
  },
  "orig_nbformat": 4,
  "vscode": {
   "interpreter": {
    "hash": "2e4121690db76bc87d491a2e0341ca46892a2842bde8fb317c85d19e2ad11338"
   }
  }
 },
 "nbformat": 4,
 "nbformat_minor": 2
}
