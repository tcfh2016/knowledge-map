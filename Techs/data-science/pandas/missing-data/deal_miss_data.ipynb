{
 "cells": [
  {
   "attachments": {},
   "cell_type": "markdown",
   "metadata": {},
   "source": [
    "## 使用`isnull()`"
   ]
  },
  {
   "cell_type": "code",
   "execution_count": 22,
   "metadata": {},
   "outputs": [
    {
     "name": "stdout",
     "output_type": "stream",
     "text": [
      "       0      1      2\n",
      "0  False  False  False\n",
      "1  False   True   True\n",
      "2   True   True   True\n",
      "3   True  False  False\n",
      "False\n"
     ]
    }
   ],
   "source": [
    "import pandas as pd\n",
    "import numpy as np\n",
    "\n",
    "df = pd.DataFrame([[1.2, 6.5, 3.0],\n",
    "               [1., np.NaN, np.NaN],\n",
    "               [np.NaN, np.NaN, np.NaN],\n",
    "               [np.NaN, 6.2, 3.1]])\n",
    "print(df.isnull())\n",
    "print(pd.isnull(df.loc[0,0]))"
   ]
  },
  {
   "attachments": {},
   "cell_type": "markdown",
   "metadata": {},
   "source": [
    "## 使用`notnull()`"
   ]
  },
  {
   "cell_type": "code",
   "execution_count": 23,
   "metadata": {},
   "outputs": [
    {
     "name": "stdout",
     "output_type": "stream",
     "text": [
      "       0      1      2\n",
      "0   True   True   True\n",
      "1   True  False  False\n",
      "2  False  False  False\n",
      "3  False   True   True\n",
      "False\n"
     ]
    }
   ],
   "source": [
    "print(df.notnull())\n",
    "print(pd.notnull(df.loc[2,0]))"
   ]
  },
  {
   "attachments": {},
   "cell_type": "markdown",
   "metadata": {},
   "source": [
    "## 填充NaN\n",
    "\n",
    "不管是填充还是替换，都默认不在原有dataframe上生效，如果需要生效需要使用`inplace=True`参数。"
   ]
  },
  {
   "cell_type": "code",
   "execution_count": 16,
   "metadata": {},
   "outputs": [
    {
     "name": "stdout",
     "output_type": "stream",
     "text": [
      "     0    1    2\n",
      "0  1.2  6.5  3.0\n",
      "1  1.0  NaN  NaN\n",
      "2  NaN  NaN  NaN\n",
      "3  NaN  6.2  3.1\n",
      "     0    1    2\n",
      "0  1.2  6.5  3.0\n",
      "1  1.0  NaN  NaN\n",
      "2  NaN  NaN  NaN\n",
      "3  NaN  6.2  3.1\n",
      "     0    1    2\n",
      "0  1.2  6.5  3.0\n",
      "1  1.0  0.0  0.0\n",
      "2  0.0  0.0  0.0\n",
      "3  0.0  6.2  3.1\n"
     ]
    }
   ],
   "source": [
    "import pandas as pd\n",
    "import numpy as np\n",
    "\n",
    "df = pd.DataFrame([[1.2, 6.5, 3.0],\n",
    "               [1., np.NaN, np.NaN],\n",
    "               [np.NaN, np.NaN, np.NaN],\n",
    "               [np.NaN, 6.2, 3.1]])\n",
    "print(df)\n",
    "\n",
    "df.fillna(0)\n",
    "print(df)\n",
    "\n",
    "new_df = df.fillna(0)\n",
    "print(new_df)"
   ]
  },
  {
   "cell_type": "code",
   "execution_count": 17,
   "metadata": {},
   "outputs": [
    {
     "name": "stdout",
     "output_type": "stream",
     "text": [
      "     0    1    2\n",
      "0  1.2  6.5  3.0\n",
      "1  1.0  NaN  NaN\n",
      "2  NaN  NaN  NaN\n",
      "3  NaN  6.2  3.1\n"
     ]
    }
   ],
   "source": [
    "df[1].replace(np.NaN, '0')\n",
    "print(df)"
   ]
  },
  {
   "cell_type": "code",
   "execution_count": 10,
   "metadata": {},
   "outputs": [
    {
     "data": {
      "text/plain": [
       "float"
      ]
     },
     "execution_count": 10,
     "metadata": {},
     "output_type": "execute_result"
    }
   ],
   "source": [
    "np.nan > 0.0\n",
    "type(np.nan)"
   ]
  },
  {
   "attachments": {},
   "cell_type": "markdown",
   "metadata": {},
   "source": [
    "## 使用`dropna()`"
   ]
  },
  {
   "cell_type": "code",
   "execution_count": 21,
   "metadata": {},
   "outputs": [
    {
     "name": "stdout",
     "output_type": "stream",
     "text": [
      "0    1.0\n",
      "1    NaN\n",
      "2    3.2\n",
      "3    NaN\n",
      "4    7.0\n",
      "dtype: float64\n",
      "0    1.0\n",
      "2    3.2\n",
      "4    7.0\n",
      "dtype: float64\n",
      "     0    1    2\n",
      "0  1.2  6.5  3.0\n",
      "1  1.0  NaN  NaN\n",
      "2  NaN  NaN  NaN\n",
      "3  NaN  6.2  3.1\n",
      "     0    1    2\n",
      "0  1.2  6.5  3.0\n",
      "     0    1    2\n",
      "0  1.2  6.5  3.0\n",
      "1  1.0  NaN  NaN\n",
      "3  NaN  6.2  3.1\n",
      "     0    1    2\n",
      "0  1.2  6.5  3.0\n",
      "1  1.0  NaN  NaN\n",
      "2  NaN  NaN  NaN\n",
      "3  NaN  6.2  3.1\n",
      "     0    1    2\n",
      "0  1.2  6.5  3.0\n",
      "1  1.0  0.0  0.0\n",
      "2  0.0  0.0  0.0\n",
      "3  0.0  6.2  3.1\n",
      "     0    1    2\n",
      "0  1.2  6.5  3.0\n",
      "1  1.0  0.5  1.0\n",
      "2  NaN  0.5  1.0\n",
      "3  NaN  6.2  3.1\n"
     ]
    }
   ],
   "source": [
    "s = pd.Series([1, np.NaN, 3.2, np.NaN, 7])\n",
    "print(s)\n",
    "print(s.dropna())\n",
    "\n",
    "df = pd.DataFrame([[1.2, 6.5, 3.0],\n",
    "               [1., np.NaN, np.NaN],\n",
    "               [np.NaN, np.NaN, np.NaN],\n",
    "               [np.NaN, 6.2, 3.1]])\n",
    "print(df)\n",
    "print(df.dropna())\n",
    "print(df.dropna(how='all'))\n",
    "print(df.dropna(axis=1, how='all'))\n",
    "\n",
    "\n",
    "print(df.fillna(0))\n",
    "print(df.fillna({1:0.5, 2:1.0}))"
   ]
  }
 ],
 "metadata": {
  "kernelspec": {
   "display_name": "Python 3.9.5 64-bit",
   "language": "python",
   "name": "python3"
  },
  "language_info": {
   "codemirror_mode": {
    "name": "ipython",
    "version": 3
   },
   "file_extension": ".py",
   "mimetype": "text/x-python",
   "name": "python",
   "nbconvert_exporter": "python",
   "pygments_lexer": "ipython3",
   "version": "3.9.5"
  },
  "orig_nbformat": 4,
  "vscode": {
   "interpreter": {
    "hash": "2e4121690db76bc87d491a2e0341ca46892a2842bde8fb317c85d19e2ad11338"
   }
  }
 },
 "nbformat": 4,
 "nbformat_minor": 2
}
