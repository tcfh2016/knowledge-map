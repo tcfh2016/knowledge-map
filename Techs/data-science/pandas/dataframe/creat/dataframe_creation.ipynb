{
 "cells": [
  {
   "cell_type": "markdown",
   "metadata": {},
   "source": [
    "## 用列表创建"
   ]
  },
  {
   "cell_type": "code",
   "execution_count": 5,
   "metadata": {},
   "outputs": [
    {
     "name": "stdout",
     "output_type": "stream",
     "text": [
      "        0\n",
      "0   Lisha\n",
      "1  Shelly\n",
      "2   Greay\n",
      "3     Leo\n",
      "4   Marry\n",
      "       0       1      2    3      4\n",
      "0  Lisha  Shelly  Greay  Leo  Marry\n"
     ]
    }
   ],
   "source": [
    "import pandas as pd\n",
    "students = ['Lisha', 'Shelly', 'Greay', 'Leo', 'Marry']\n",
    "df1 = pd.DataFrame(students)\n",
    "print(df1)\n",
    "\n",
    "\n",
    "df2 = pd.DataFrame([students])\n",
    "print(df2)"
   ]
  },
  {
   "cell_type": "markdown",
   "metadata": {},
   "source": [
    "## 用字典创建"
   ]
  },
  {
   "cell_type": "code",
   "execution_count": 2,
   "metadata": {},
   "outputs": [
    {
     "name": "stdout",
     "output_type": "stream",
     "text": [
      "           Build\n",
      "Case            \n",
      "cbxxx_1UE  24491\n",
      "cbxxx_2UE  24492\n"
     ]
    }
   ],
   "source": [
    "import pandas as pd\n",
    "\n",
    "dict = {'cbxxx_1UE':24491,\n",
    "        'cbxxx_2UE':24492}\n",
    "\n",
    "df=pd.DataFrame(dict.items(), columns=['Case', 'Build'])\n",
    "df.set_index('Case', inplace=True)\n",
    "print(df)\n",
    "#df.set_index(0, inplace=True)"
   ]
  },
  {
   "cell_type": "markdown",
   "metadata": {},
   "source": [
    "## 用嵌套列表创建"
   ]
  },
  {
   "cell_type": "code",
   "execution_count": 3,
   "metadata": {},
   "outputs": [
    {
     "name": "stdout",
     "output_type": "stream",
     "text": [
      "nest list:\n",
      "[['cbxxx_1UE', 24491], ['cbxxx_2UE', 24492]]\n",
      "dataframe created by nest list:\n",
      "        Case  Build\n",
      "0  cbxxx_1UE  24491\n",
      "1  cbxxx_2UE  24492\n",
      "   0  1  2  3\n",
      "0  a  b  c  d\n",
      "1  1  2  3  4\n",
      "2  i  j  k  l\n",
      "   c1 c2 c3 c4\n",
      "i1  a  b  c  d\n",
      "i2  1  2  3  4\n",
      "i3  i  j  k  l\n"
     ]
    }
   ],
   "source": [
    "import pandas as pd\n",
    "\n",
    "nest_list = [['cbxxx_1UE', 24491],\n",
    "             ['cbxxx_2UE', 24492]]\n",
    "print(\"nest list:\")\n",
    "print(nest_list)\n",
    "\n",
    "df=pd.DataFrame(nest_list, columns=['Case', 'Build'])\n",
    "print(\"dataframe created by nest list:\")\n",
    "print(df)\n",
    "\n",
    "l = [['a', 'b', 'c', 'd'],\n",
    "     [1, 2, 3, 4],\n",
    "     ['i', 'j', 'k', 'l']]\n",
    "df = pd.DataFrame(l)\n",
    "print(df)\n",
    "\n",
    "df2 = pd.DataFrame(l, index=['i1', 'i2', 'i3'], columns=['c1', 'c2', 'c3', 'c4'])\n",
    "print(df2)"
   ]
  },
  {
   "cell_type": "markdown",
   "metadata": {},
   "source": [
    "## 用二维数组创建"
   ]
  },
  {
   "cell_type": "code",
   "execution_count": 1,
   "metadata": {},
   "outputs": [
    {
     "name": "stdout",
     "output_type": "stream",
     "text": [
      "[[-0.041169  0.573374  1.436819 -0.957816]\n",
      " [ 0.430615 -0.717538 -0.478469 -0.264608]\n",
      " [ 1.418563 -0.303319 -1.21887  -0.331919]\n",
      " [-2.675773  0.468677 -0.942425  0.085257]\n",
      " [ 0.323261 -0.00405   0.79225  -1.451625]\n",
      " [ 1.928019 -0.563063 -0.073557  1.862708]\n",
      " [ 0.506523  0.28642  -1.594262  2.576778]\n",
      " [ 0.861383  0.678131 -0.424188  0.705654]\n",
      " [-0.424476 -0.250145  0.306292  0.158723]]\n",
      "          0         1         2         3\n",
      "0 -0.041169  0.573374  1.436819 -0.957816\n",
      "1  0.430615 -0.717538 -0.478469 -0.264608\n",
      "2  1.418563 -0.303319 -1.218870 -0.331919\n",
      "3 -2.675773  0.468677 -0.942425  0.085257\n",
      "4  0.323261 -0.004050  0.792250 -1.451625\n",
      "5  1.928019 -0.563063 -0.073557  1.862708\n",
      "6  0.506523  0.286420 -1.594262  2.576778\n",
      "7  0.861383  0.678131 -0.424188  0.705654\n",
      "8 -0.424476 -0.250145  0.306292  0.158723\n",
      "0.468677\n",
      "                 No1       No2       No3       No4\n",
      "2015-01-31 -0.041169  0.573374  1.436819 -0.957816\n",
      "2015-02-28  0.430615 -0.717538 -0.478469 -0.264608\n",
      "2015-03-31  1.418563 -0.303319 -1.218870 -0.331919\n",
      "2015-04-30 -2.675773  0.468677 -0.942425  0.085257\n",
      "2015-05-31  0.323261 -0.004050  0.792250 -1.451625\n",
      "2015-06-30  1.928019 -0.563063 -0.073557  1.862708\n",
      "2015-07-31  0.506523  0.286420 -1.594262  2.576778\n",
      "2015-08-31  0.861383  0.678131 -0.424188  0.705654\n",
      "2015-09-30 -0.424476 -0.250145  0.306292  0.158723\n"
     ]
    }
   ],
   "source": [
    "import numpy as np\n",
    "import pandas as pd\n",
    "\n",
    "a = np.random.standard_normal((9, 4)).round(6)\n",
    "print(a)\n",
    "\n",
    "df = pd.DataFrame(a)\n",
    "print(df)\n",
    "\n",
    "# 更改列标签-columns\n",
    "df.columns = ['No1', 'No2', 'No3', 'No4']\n",
    "print(df['No2'][3]) # 打印第2列第3行的数据\n",
    "# 更改行标签-index\n",
    "dates = pd.date_range('2015-1-1', periods=9, freq='M')\n",
    "df.index = dates\n",
    "\n",
    "print(df)"
   ]
  },
  {
   "cell_type": "code",
   "execution_count": 15,
   "metadata": {},
   "outputs": [
    {
     "name": "stdout",
     "output_type": "stream",
     "text": [
      "Empty DataFrame\n",
      "Columns: []\n",
      "Index: []\n",
      "another df:\n",
      "   A  B  C  D\n",
      "0  1  2  3  4\n",
      "concat df:\n",
      "   A  B  C  D\n",
      "0  1  2  3  4\n"
     ]
    }
   ],
   "source": [
    "import pandas as pd\n",
    "\n",
    "header = ['A', 'B', 'C', 'D']\n",
    "#df = pd.DataFrame(columns=header)\n",
    "df = pd.DataFrame()\n",
    "print(df)\n",
    "\n",
    "list = [1, 2, 3, 4]\n",
    "another_df = pd.DataFrame([list], columns=header)\n",
    "print(\"another df:\")\n",
    "print(another_df)\n",
    "\n",
    "\n",
    "new_df = pd.concat([df, another_df])\n",
    "print(\"concat df:\")\n",
    "print(new_df)\n"
   ]
  },
  {
   "cell_type": "markdown",
   "metadata": {},
   "source": []
  }
 ],
 "metadata": {
  "kernelspec": {
   "display_name": "Python 3.9.5 64-bit",
   "language": "python",
   "name": "python3"
  },
  "language_info": {
   "codemirror_mode": {
    "name": "ipython",
    "version": 3
   },
   "file_extension": ".py",
   "mimetype": "text/x-python",
   "name": "python",
   "nbconvert_exporter": "python",
   "pygments_lexer": "ipython3",
   "version": "3.9.5"
  },
  "orig_nbformat": 4,
  "vscode": {
   "interpreter": {
    "hash": "2e4121690db76bc87d491a2e0341ca46892a2842bde8fb317c85d19e2ad11338"
   }
  }
 },
 "nbformat": 4,
 "nbformat_minor": 2
}
