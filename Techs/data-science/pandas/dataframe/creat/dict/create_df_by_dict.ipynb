{
 "cells": [
  {
   "cell_type": "markdown",
   "metadata": {},
   "source": [
    "## 基于字典创建DataFrame"
   ]
  },
  {
   "cell_type": "code",
   "execution_count": 2,
   "metadata": {},
   "outputs": [],
   "source": [
    "import pandas as pd\n",
    "import numpy as np"
   ]
  },
  {
   "cell_type": "markdown",
   "metadata": {},
   "source": [
    "默认字典的键作为列名"
   ]
  },
  {
   "cell_type": "code",
   "execution_count": 13,
   "metadata": {},
   "outputs": [
    {
     "name": "stdout",
     "output_type": "stream",
     "text": [
      "dict_items([('a', array([88, 37, 16, 14, 71])), ('b', array([ 1, 33, 83, 68, 11])), ('c', array([61, 51, 60, 57, 52]))])\n"
     ]
    }
   ],
   "source": [
    "my_dict = {'a' : np.random.randint(1, 100, 5),\n",
    "           'b' : np.random.randint(1, 100, 5),\n",
    "           'c' : np.random.randint(1, 100, 5),\n",
    "           }\n",
    "\n",
    "print(my_dict.items())\n"
   ]
  },
  {
   "cell_type": "code",
   "execution_count": 21,
   "metadata": {},
   "outputs": [
    {
     "name": "stdout",
     "output_type": "stream",
     "text": [
      "my_df = \n",
      "        a   b   c\n",
      "one    88   1  61\n",
      "two    37  33  51\n",
      "three  16  83  60\n",
      "four   14  68  57\n",
      "five   71  11  52\n",
      "\n",
      "my_df.T = \n",
      "   one  two  three  four  five\n",
      "a   88   37     16    14    71\n",
      "b    1   33     83    68    11\n",
      "c   61   51     60    57    52\n",
      "\n",
      "   one  two  three  four  five\n",
      "a   88   37     16    14    71\n",
      "b    1   33     83    68    11\n",
      "c   61   51     60    57    52\n"
     ]
    }
   ],
   "source": [
    "my_df = pd.DataFrame(my_dict, index = ['one', 'two', 'three', 'four', 'five'])\n",
    "print(\"my_df = \\n{}\\n\".format(my_df))\n",
    "print(\"my_df.T = \\n{}\\n\".format(my_df.T))\n",
    "\n",
    "my_df.T.to_csv(\"my_df.csv\")\n",
    "\n",
    "new_df = pd.read_csv(\"my_df.csv\", index_col=0)\n",
    "print(new_df)"
   ]
  }
 ],
 "metadata": {
  "kernelspec": {
   "display_name": "Python 3.9.5 64-bit",
   "language": "python",
   "name": "python3"
  },
  "language_info": {
   "codemirror_mode": {
    "name": "ipython",
    "version": 3
   },
   "file_extension": ".py",
   "mimetype": "text/x-python",
   "name": "python",
   "nbconvert_exporter": "python",
   "pygments_lexer": "ipython3",
   "version": "3.9.5"
  },
  "orig_nbformat": 4,
  "vscode": {
   "interpreter": {
    "hash": "2e4121690db76bc87d491a2e0341ca46892a2842bde8fb317c85d19e2ad11338"
   }
  }
 },
 "nbformat": 4,
 "nbformat_minor": 2
}
