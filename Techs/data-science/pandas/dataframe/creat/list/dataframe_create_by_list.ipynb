{
 "cells": [
  {
   "attachments": {},
   "cell_type": "markdown",
   "metadata": {},
   "source": [
    "## 用列表创建\n",
    "\n",
    "- 默认列标签\n",
    "- 指定列标签"
   ]
  },
  {
   "cell_type": "code",
   "execution_count": 3,
   "metadata": {},
   "outputs": [
    {
     "name": "stdout",
     "output_type": "stream",
     "text": [
      "        0\n",
      "0   Lisha\n",
      "1  Shelly\n",
      "2   Greay\n",
      "3     Leo\n",
      "4   Marry\n"
     ]
    }
   ],
   "source": [
    "import pandas as pd\n",
    "students = ['Lisha', 'Shelly', 'Greay', 'Leo', 'Marry']\n",
    "\n",
    "# 单个列表会作为新建dataframe的单列\n",
    "df1 = pd.DataFrame(students)\n",
    "print(df1)\n",
    "\n",
    "df2 = pd.DataFrame(students, columns=['name'])\n",
    "print(df2)\n"
   ]
  },
  {
   "cell_type": "markdown",
   "metadata": {},
   "source": [
    "## 用嵌套列表创建"
   ]
  },
  {
   "cell_type": "code",
   "execution_count": 2,
   "metadata": {},
   "outputs": [
    {
     "name": "stdout",
     "output_type": "stream",
     "text": [
      "       0       1      2    3      4\n",
      "0  Lisha  Shelly  Greay  Leo  Marry\n"
     ]
    }
   ],
   "source": [
    "# 列表的列表会作为\n",
    "df2 = pd.DataFrame([students])\n",
    "print(df2)"
   ]
  },
  {
   "cell_type": "code",
   "execution_count": null,
   "metadata": {},
   "outputs": [
    {
     "name": "stdout",
     "output_type": "stream",
     "text": [
      "nest list:\n",
      "[['cbxxx_1UE', 24491], ['cbxxx_2UE', 24492]]\n",
      "dataframe created by nest list:\n",
      "        Case  Build\n",
      "0  cbxxx_1UE  24491\n",
      "1  cbxxx_2UE  24492\n",
      "   0  1  2  3\n",
      "0  a  b  c  d\n",
      "1  1  2  3  4\n",
      "2  i  j  k  l\n",
      "   c1 c2 c3 c4\n",
      "i1  a  b  c  d\n",
      "i2  1  2  3  4\n",
      "i3  i  j  k  l\n"
     ]
    }
   ],
   "source": [
    "import pandas as pd\n",
    "\n",
    "nest_list = [['cbxxx_1UE', 24491],\n",
    "             ['cbxxx_2UE', 24492]]\n",
    "print(\"nest list:\")\n",
    "print(nest_list)\n",
    "\n",
    "df=pd.DataFrame(nest_list, columns=['Case', 'Build'])\n",
    "print(\"dataframe created by nest list:\")\n",
    "print(df)\n",
    "\n",
    "l = [['a', 'b', 'c', 'd'],\n",
    "     [1, 2, 3, 4],\n",
    "     ['i', 'j', 'k', 'l']]\n",
    "df = pd.DataFrame(l)\n",
    "print(df)\n",
    "\n",
    "df2 = pd.DataFrame(l, index=['i1', 'i2', 'i3'], columns=['c1', 'c2', 'c3', 'c4'])\n",
    "print(df2)"
   ]
  }
 ],
 "metadata": {
  "kernelspec": {
   "display_name": "Python 3",
   "language": "python",
   "name": "python3"
  },
  "language_info": {
   "codemirror_mode": {
    "name": "ipython",
    "version": 3
   },
   "file_extension": ".py",
   "mimetype": "text/x-python",
   "name": "python",
   "nbconvert_exporter": "python",
   "pygments_lexer": "ipython3",
   "version": "3.9.5"
  },
  "orig_nbformat": 4,
  "vscode": {
   "interpreter": {
    "hash": "2e4121690db76bc87d491a2e0341ca46892a2842bde8fb317c85d19e2ad11338"
   }
  }
 },
 "nbformat": 4,
 "nbformat_minor": 2
}
