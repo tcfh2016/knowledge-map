{
 "cells": [
  {
   "cell_type": "code",
   "execution_count": 2,
   "metadata": {},
   "outputs": [
    {
     "name": "stdout",
     "output_type": "stream",
     "text": [
      "  class  liter  math\n",
      "0     C     71    41\n",
      "1     B     12    74\n",
      "2     A     11    56\n",
      "3     A     80    16\n",
      "4     C     85    67\n",
      "5     A     74    34\n"
     ]
    }
   ],
   "source": [
    "import numpy as np\n",
    "import pandas as pd\n",
    "\n",
    "classes = [\"A\", \"B\", \"C\"]\n",
    "score = pd.DataFrame({\n",
    "    \"class\":[classes[x] for x in np.random.randint(0, len(classes), 6)],\n",
    "    \"liter\":np.random.randint(0, 100, 6),\n",
    "    \"math\":np.random.randint(0, 100, 6)\n",
    "})\n",
    "print(score)\n"
   ]
  },
  {
   "cell_type": "code",
   "execution_count": 5,
   "metadata": {},
   "outputs": [
    {
     "name": "stdout",
     "output_type": "stream",
     "text": [
      "  class  liter  math\n",
      "0     C     71    41\n",
      "1     B     12    74\n",
      "2     A     11    56\n",
      "3     A     80    16\n",
      "4     C     85    67\n",
      "5     A     74    34\n"
     ]
    }
   ],
   "source": [
    "score.sort_values(by=['class'], ascending=False)\n",
    "print(score)"
   ]
  },
  {
   "cell_type": "code",
   "execution_count": 9,
   "metadata": {},
   "outputs": [
    {
     "name": "stdout",
     "output_type": "stream",
     "text": [
      "  class  liter  math\n",
      "0     C     71    41\n",
      "4     C     85    67\n",
      "1     B     12    74\n",
      "2     A     11    56\n",
      "3     A     80    16\n",
      "5     A     74    34\n",
      "6\n",
      "  class  liter  math\n",
      "0     C     71    41\n",
      "1     B     12    74\n",
      "2     A     11    56\n"
     ]
    }
   ],
   "source": [
    "score = score.sort_values(by=['class'], ascending=False)\n",
    "print(score)\n",
    "print(len(score))\n",
    "\n",
    "score.drop_duplicates(subset=['class'], keep='first', inplace=True)\n",
    "#score.drop_duplicates(subset=['class'], keep='first')\n",
    "print(score)"
   ]
  }
 ],
 "metadata": {
  "kernelspec": {
   "display_name": "Python 3.9.5 64-bit",
   "language": "python",
   "name": "python3"
  },
  "language_info": {
   "codemirror_mode": {
    "name": "ipython",
    "version": 3
   },
   "file_extension": ".py",
   "mimetype": "text/x-python",
   "name": "python",
   "nbconvert_exporter": "python",
   "pygments_lexer": "ipython3",
   "version": "3.9.5"
  },
  "orig_nbformat": 4,
  "vscode": {
   "interpreter": {
    "hash": "2e4121690db76bc87d491a2e0341ca46892a2842bde8fb317c85d19e2ad11338"
   }
  }
 },
 "nbformat": 4,
 "nbformat_minor": 2
}
