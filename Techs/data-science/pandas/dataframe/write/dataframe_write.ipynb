{
 "cells": [
  {
   "attachments": {},
   "cell_type": "markdown",
   "metadata": {},
   "source": [
    "## 创建DataFrame"
   ]
  },
  {
   "cell_type": "code",
   "execution_count": 2,
   "metadata": {},
   "outputs": [
    {
     "name": "stdout",
     "output_type": "stream",
     "text": [
      "   numbers\n",
      "a       10\n",
      "b       20\n",
      "c       30\n",
      "d       40\n"
     ]
    }
   ],
   "source": [
    "import numpy as np\n",
    "import pandas as pd\n",
    "\n",
    "# 从列表创建，指定行、列索引\n",
    "df = pd.DataFrame([10, 20, 30, 40],\n",
    "                  columns=['numbers'],\n",
    "                  index=['a', 'b', 'c', 'd'])\n",
    "print(df)"
   ]
  },
  {
   "attachments": {},
   "cell_type": "markdown",
   "metadata": {},
   "source": [
    "## 添加新的列数据"
   ]
  },
  {
   "cell_type": "code",
   "execution_count": 4,
   "metadata": {},
   "outputs": [
    {
     "name": "stdout",
     "output_type": "stream",
     "text": [
      "   numbers  floats    names1    names2\n",
      "a       10     1.5      Yves      Yves\n",
      "b       20     2.5     Guido     Guido\n",
      "c       30     3.5     Felix     Felix\n",
      "d       40     4.5  Francesc  Francesc\n"
     ]
    }
   ],
   "source": [
    "df['floats'] = (1.5, 2.5, 3.5, 4.5)\n",
    "df['names1'] = ('Yves', 'Guido', 'Felix', 'Francesc')\n",
    "df['names2'] = ['Yves', 'Guido', 'Felix', 'Francesc']\n",
    "print(df)\n",
    "\n"
   ]
  },
  {
   "attachments": {},
   "cell_type": "markdown",
   "metadata": {},
   "source": [
    "## 以列为单位修改数据"
   ]
  },
  {
   "cell_type": "code",
   "execution_count": 5,
   "metadata": {},
   "outputs": [
    {
     "name": "stdout",
     "output_type": "stream",
     "text": [
      "   numbers  floats    names1    names2\n",
      "a       10     2.0      Yves      Yves\n",
      "b       20     2.0     Guido     Guido\n",
      "c       30     2.0     Felix     Felix\n",
      "d       40     2.0  Francesc  Francesc\n",
      "   numbers  floats    names1    names2\n",
      "a       10    22.0      Yves      Yves\n",
      "b       20    22.0     Guido     Guido\n",
      "c       30    22.0     Felix     Felix\n",
      "d       40    22.0  Francesc  Francesc\n"
     ]
    }
   ],
   "source": [
    "df['floats'] = 2.0\n",
    "print(df)\n",
    "df.floats = 22.0\n",
    "print(df)\n"
   ]
  },
  {
   "attachments": {},
   "cell_type": "markdown",
   "metadata": {},
   "source": [
    "## 从新的DataFrame对象直接添加。"
   ]
  },
  {
   "cell_type": "code",
   "execution_count": 6,
   "metadata": {},
   "outputs": [
    {
     "name": "stdout",
     "output_type": "stream",
     "text": [
      "   numbers  floats    names1 names2\n",
      "a       10    22.0      Yves     Gu\n",
      "b       20    22.0     Guido     Fe\n",
      "c       30    22.0     Felix     Fr\n",
      "d       40    22.0  Francesc     Yv\n"
     ]
    }
   ],
   "source": [
    "df['names2'] = pd.DataFrame(['Yv', 'Gu', 'Fe', 'Fr'],\n",
    "                            index=['d', 'a', 'b', 'c'])\n",
    "print(df)\n",
    "\n"
   ]
  },
  {
   "cell_type": "code",
   "execution_count": 8,
   "metadata": {},
   "outputs": [
    {
     "name": "stdout",
     "output_type": "stream",
     "text": [
      "   numbers  floats    names1 names2  squares\n",
      "a       10    22.0      Yves     Gu      1.0\n",
      "b       20    22.0     Guido     Fe      4.0\n",
      "c       30    22.0     Felix     Fr      9.0\n",
      "d       40    22.0  Francesc     Yv      NaN\n",
      "   numbers  floats    names1 names2  squares\n",
      "a     10.0    22.0      Yves     Gu      1.0\n",
      "b     20.0    22.0     Guido     Fe      4.0\n",
      "c     30.0    22.0     Felix     Fr      9.0\n",
      "d     40.0    22.0  Francesc     Yv      NaN\n",
      "y      NaN     NaN       NaN    NaN     16.0\n"
     ]
    }
   ],
   "source": [
    "# Missing Data\n",
    "ms = df.join(pd.DataFrame([1, 4, 9, 16],\n",
    "                          index=['a', 'b', 'c', 'y'],\n",
    "                          columns=['squares',]))\n",
    "print(ms)\n",
    "\n",
    "ms = df.join(pd.DataFrame([1, 4, 9, 16],\n",
    "                             index=['a', 'b', 'c', 'y'],\n",
    "                             columns=['squares',]),\n",
    "                             how='outer')\n",
    "print(ms)\n"
   ]
  },
  {
   "attachments": {},
   "cell_type": "markdown",
   "metadata": {},
   "source": [
    "## 删除某列\n",
    "\n",
    "\n"
   ]
  },
  {
   "cell_type": "code",
   "execution_count": 9,
   "metadata": {},
   "outputs": [
    {
     "name": "stdout",
     "output_type": "stream",
     "text": [
      "   numbers  floats    names1\n",
      "a       10    22.0      Yves\n",
      "b       20    22.0     Guido\n",
      "c       30    22.0     Felix\n",
      "d       40    22.0  Francesc\n"
     ]
    }
   ],
   "source": [
    "del df['names2']\n",
    "print(df)"
   ]
  }
 ],
 "metadata": {
  "kernelspec": {
   "display_name": "Python 3",
   "language": "python",
   "name": "python3"
  },
  "language_info": {
   "codemirror_mode": {
    "name": "ipython",
    "version": 3
   },
   "file_extension": ".py",
   "mimetype": "text/x-python",
   "name": "python",
   "nbconvert_exporter": "python",
   "pygments_lexer": "ipython3",
   "version": "3.9.4"
  },
  "orig_nbformat": 4,
  "vscode": {
   "interpreter": {
    "hash": "ce83015362f3431972c27d0bbc1093af16eb853cfefef809a2df983a5098431c"
   }
  }
 },
 "nbformat": 4,
 "nbformat_minor": 2
}
