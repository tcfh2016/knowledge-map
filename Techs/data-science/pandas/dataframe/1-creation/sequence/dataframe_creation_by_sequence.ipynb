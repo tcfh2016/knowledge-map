{
 "cells": [
  {
   "attachments": {},
   "cell_type": "markdown",
   "metadata": {},
   "source": [
    "## 空的DataFrame"
   ]
  },
  {
   "cell_type": "code",
   "execution_count": 3,
   "metadata": {},
   "outputs": [
    {
     "name": "stdout",
     "output_type": "stream",
     "text": [
      "Empty DataFrame\n",
      "Columns: []\n",
      "Index: [a, b, c, d]\n",
      "   floats    names1 names2\n",
      "a     1.5      Yves     Gu\n",
      "b     2.5     Guido     Fe\n",
      "c     3.5     Felix     Fr\n",
      "d     4.5  Francesc     Yv\n"
     ]
    }
   ],
   "source": [
    "import pandas as pd\n",
    "\n",
    "df = pd.DataFrame(index=['a', 'b', 'c', 'd'])\n",
    "print(df)\n",
    "\n",
    "df['floats'] = [1.5, 2.5, 3.5, 4.5]\n",
    "df['names1'] = ('Yves', 'Guido', 'Felix', 'Francesc')\n",
    "df['names2'] = pd.DataFrame(['Yv', 'Gu', 'Fe', 'Fr'],\n",
    "                            index=['d', 'a', 'b', 'c']) # 添加新的DataFrame对象。\n",
    "print(df)"
   ]
  },
  {
   "attachments": {},
   "cell_type": "markdown",
   "metadata": {},
   "source": [
    "## 用列表创建\n",
    "\n",
    "- 创建时可以用`index`指定行标签，`columns`来指定列标签，不指定默认为0。\n",
    "- 当传入一个单维列表的，默认将该列表作为DataFrame中的第一列\n",
    "- 当传入一个二维列表时(`np.random.standard_normal((9, 4)).round(6)`)，那么每行对应DataFrame中的一行。"
   ]
  },
  {
   "cell_type": "code",
   "execution_count": 3,
   "metadata": {
    "pycharm": {
     "is_executing": true
    }
   },
   "outputs": [
    {
     "name": "stdout",
     "output_type": "stream",
     "text": [
      "with no column lable:\n",
      "         0\n",
      "0   Lisha\n",
      "1  Shelly\n",
      "2   Greay\n",
      "3     Leo\n",
      "4   Marry\n",
      "with specified column lable:\n",
      "      name\n",
      "0   Lisha\n",
      "1  Shelly\n",
      "2   Greay\n",
      "3     Leo\n",
      "4   Marry\n"
     ]
    }
   ],
   "source": [
    "import pandas as pd\n",
    "students = ['Lisha', 'Shelly', 'Greay', 'Leo', 'Marry']\n",
    "\n",
    "# 单个列表会作为新建dataframe的单列\n",
    "df1 = pd.DataFrame(students)\n",
    "print(\"with no column lable:\\n\", df1)\n",
    "df2 = pd.DataFrame(students, columns=['name'])\n",
    "print(\"with specified column lable:\\n\", df2)"
   ]
  },
  {
   "cell_type": "code",
   "execution_count": 2,
   "metadata": {},
   "outputs": [
    {
     "data": {
      "text/html": [
       "<div>\n",
       "<style scoped>\n",
       "    .dataframe tbody tr th:only-of-type {\n",
       "        vertical-align: middle;\n",
       "    }\n",
       "\n",
       "    .dataframe tbody tr th {\n",
       "        vertical-align: top;\n",
       "    }\n",
       "\n",
       "    .dataframe thead th {\n",
       "        text-align: right;\n",
       "    }\n",
       "</style>\n",
       "<table border=\"1\" class=\"dataframe\">\n",
       "  <thead>\n",
       "    <tr style=\"text-align: right;\">\n",
       "      <th></th>\n",
       "      <th>0</th>\n",
       "      <th>1</th>\n",
       "      <th>2</th>\n",
       "      <th>3</th>\n",
       "      <th>4</th>\n",
       "    </tr>\n",
       "  </thead>\n",
       "  <tbody>\n",
       "    <tr>\n",
       "      <th>0</th>\n",
       "      <td>Lisha</td>\n",
       "      <td>Shelly</td>\n",
       "      <td>Greay</td>\n",
       "      <td>Leo</td>\n",
       "      <td>Marry</td>\n",
       "    </tr>\n",
       "  </tbody>\n",
       "</table>\n",
       "</div>"
      ],
      "text/plain": [
       "       0       1      2    3      4\n",
       "0  Lisha  Shelly  Greay  Leo  Marry"
      ]
     },
     "execution_count": 2,
     "metadata": {},
     "output_type": "execute_result"
    }
   ],
   "source": [
    "import pandas as pd\n",
    "\n",
    "students = ['Lisha', 'Shelly', 'Greay', 'Leo', 'Marry']\n",
    "\n",
    "pd.DataFrame(columns=[students])\n",
    "#pd.DataFrame([students])"
   ]
  },
  {
   "cell_type": "code",
   "execution_count": 6,
   "metadata": {},
   "outputs": [
    {
     "data": {
      "text/html": [
       "<div>\n",
       "<style scoped>\n",
       "    .dataframe tbody tr th:only-of-type {\n",
       "        vertical-align: middle;\n",
       "    }\n",
       "\n",
       "    .dataframe tbody tr th {\n",
       "        vertical-align: top;\n",
       "    }\n",
       "\n",
       "    .dataframe thead th {\n",
       "        text-align: right;\n",
       "    }\n",
       "</style>\n",
       "<table border=\"1\" class=\"dataframe\">\n",
       "  <thead>\n",
       "    <tr style=\"text-align: right;\">\n",
       "      <th></th>\n",
       "      <th>Case</th>\n",
       "      <th>Build</th>\n",
       "    </tr>\n",
       "  </thead>\n",
       "  <tbody>\n",
       "    <tr>\n",
       "      <th>0</th>\n",
       "      <td>cbxxx_1UE</td>\n",
       "      <td>24491</td>\n",
       "    </tr>\n",
       "    <tr>\n",
       "      <th>1</th>\n",
       "      <td>cbxxx_2UE</td>\n",
       "      <td>24492</td>\n",
       "    </tr>\n",
       "  </tbody>\n",
       "</table>\n",
       "</div>"
      ],
      "text/plain": [
       "        Case  Build\n",
       "0  cbxxx_1UE  24491\n",
       "1  cbxxx_2UE  24492"
      ]
     },
     "execution_count": 6,
     "metadata": {},
     "output_type": "execute_result"
    }
   ],
   "source": [
    "import pandas as pd\n",
    "\n",
    "nest_list = [['cbxxx_1UE', 24491],\n",
    "             ['cbxxx_2UE', 24492]]\n",
    "pd.DataFrame(nest_list, columns=['Case', 'Build'])\n"
   ]
  },
  {
   "cell_type": "code",
   "execution_count": 7,
   "metadata": {},
   "outputs": [
    {
     "data": {
      "text/html": [
       "<div>\n",
       "<style scoped>\n",
       "    .dataframe tbody tr th:only-of-type {\n",
       "        vertical-align: middle;\n",
       "    }\n",
       "\n",
       "    .dataframe tbody tr th {\n",
       "        vertical-align: top;\n",
       "    }\n",
       "\n",
       "    .dataframe thead th {\n",
       "        text-align: right;\n",
       "    }\n",
       "</style>\n",
       "<table border=\"1\" class=\"dataframe\">\n",
       "  <thead>\n",
       "    <tr style=\"text-align: right;\">\n",
       "      <th></th>\n",
       "      <th>c1</th>\n",
       "      <th>c2</th>\n",
       "    </tr>\n",
       "  </thead>\n",
       "  <tbody>\n",
       "    <tr>\n",
       "      <th>i1</th>\n",
       "      <td>cbxxx_1UE</td>\n",
       "      <td>24491</td>\n",
       "    </tr>\n",
       "    <tr>\n",
       "      <th>i2</th>\n",
       "      <td>cbxxx_2UE</td>\n",
       "      <td>24492</td>\n",
       "    </tr>\n",
       "  </tbody>\n",
       "</table>\n",
       "</div>"
      ],
      "text/plain": [
       "           c1     c2\n",
       "i1  cbxxx_1UE  24491\n",
       "i2  cbxxx_2UE  24492"
      ]
     },
     "execution_count": 7,
     "metadata": {},
     "output_type": "execute_result"
    }
   ],
   "source": [
    "nest_list = [['cbxxx_1UE', 24491],\n",
    "             ['cbxxx_2UE', 24492]]\n",
    "pd.DataFrame(nest_list, index=['i1', 'i2'], columns=['c1', 'c2'])"
   ]
  },
  {
   "attachments": {},
   "cell_type": "markdown",
   "metadata": {},
   "source": [
    "## 添加新列"
   ]
  },
  {
   "cell_type": "code",
   "execution_count": null,
   "metadata": {},
   "outputs": [],
   "source": [
    "df = pd.DataFrame([10, 20, 30, 40],\n",
    "                  columns=['numbers'],\n",
    "                  index=['a', 'b', 'c', 'd'])\n",
    "\n",
    "df['floats'] = (1.5, 2.5, 3.5, 4.5)\n",
    "df['names1'] = ('Yves', 'Guido', 'Felix', 'Francesc')\n",
    "df['names2'] = pd.DataFrame(['Yv', 'Gu', 'Fe', 'Fr'],\n",
    "                            index=['d', 'a', 'b', 'c']) # 添加新的DataFrame对象。\n",
    "print(df)"
   ]
  },
  {
   "attachments": {},
   "cell_type": "markdown",
   "metadata": {},
   "source": [
    "## 使用元组\n",
    "\n",
    "元组和列表的形式是类似的，只不过元组无法修改元素但是列表可以。"
   ]
  },
  {
   "cell_type": "code",
   "execution_count": 1,
   "metadata": {},
   "outputs": [
    {
     "data": {
      "text/html": [
       "<div>\n",
       "<style scoped>\n",
       "    .dataframe tbody tr th:only-of-type {\n",
       "        vertical-align: middle;\n",
       "    }\n",
       "\n",
       "    .dataframe tbody tr th {\n",
       "        vertical-align: top;\n",
       "    }\n",
       "\n",
       "    .dataframe thead th {\n",
       "        text-align: right;\n",
       "    }\n",
       "</style>\n",
       "<table border=\"1\" class=\"dataframe\">\n",
       "  <thead>\n",
       "    <tr style=\"text-align: right;\">\n",
       "      <th></th>\n",
       "      <th>Name</th>\n",
       "      <th>M-cap</th>\n",
       "      <th>Internet Companies</th>\n",
       "    </tr>\n",
       "  </thead>\n",
       "  <tbody>\n",
       "    <tr>\n",
       "      <th>0</th>\n",
       "      <td>Facebook</td>\n",
       "      <td>750</td>\n",
       "      <td>True</td>\n",
       "    </tr>\n",
       "    <tr>\n",
       "      <th>1</th>\n",
       "      <td>Alphabet</td>\n",
       "      <td>1100</td>\n",
       "      <td>True</td>\n",
       "    </tr>\n",
       "    <tr>\n",
       "      <th>2</th>\n",
       "      <td>Amazon</td>\n",
       "      <td>1700</td>\n",
       "      <td>True</td>\n",
       "    </tr>\n",
       "    <tr>\n",
       "      <th>3</th>\n",
       "      <td>Apple</td>\n",
       "      <td>2100</td>\n",
       "      <td>False</td>\n",
       "    </tr>\n",
       "    <tr>\n",
       "      <th>4</th>\n",
       "      <td>Microsoft</td>\n",
       "      <td>1750</td>\n",
       "      <td>False</td>\n",
       "    </tr>\n",
       "  </tbody>\n",
       "</table>\n",
       "</div>"
      ],
      "text/plain": [
       "        Name  M-cap  Internet Companies\n",
       "0   Facebook    750                True\n",
       "1   Alphabet   1100                True\n",
       "2     Amazon   1700                True\n",
       "3      Apple   2100               False\n",
       "4  Microsoft   1750               False"
      ]
     },
     "execution_count": 1,
     "metadata": {},
     "output_type": "execute_result"
    }
   ],
   "source": [
    "import pandas as pd\n",
    "\n",
    "data = [('Facebook', 750, True),\n",
    "        ('Alphabet', 1100, True),\n",
    "        ('Amazon', 1700, True),\n",
    "        ('Apple', 2100, False),\n",
    "        ('Microsoft', 1750, False)]\n",
    "\n",
    "pd.DataFrame(data, columns=['Name', 'M-cap', 'Internet Companies'])\n"
   ]
  }
 ],
 "metadata": {
  "kernelspec": {
   "display_name": "Python 3",
   "language": "python",
   "name": "python3"
  },
  "language_info": {
   "codemirror_mode": {
    "name": "ipython",
    "version": 3
   },
   "file_extension": ".py",
   "mimetype": "text/x-python",
   "name": "python",
   "nbconvert_exporter": "python",
   "pygments_lexer": "ipython3",
   "version": "3.9.5"
  },
  "orig_nbformat": 4,
  "vscode": {
   "interpreter": {
    "hash": "ce83015362f3431972c27d0bbc1093af16eb853cfefef809a2df983a5098431c"
   }
  }
 },
 "nbformat": 4,
 "nbformat_minor": 2
}
