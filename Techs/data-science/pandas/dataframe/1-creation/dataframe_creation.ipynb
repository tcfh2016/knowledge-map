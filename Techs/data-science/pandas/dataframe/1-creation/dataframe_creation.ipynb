{
 "cells": [
  {
   "attachments": {},
   "cell_type": "markdown",
   "metadata": {},
   "source": [
    "## 创建DataFrame"
   ]
  },
  {
   "cell_type": "code",
   "execution_count": 1,
   "metadata": {},
   "outputs": [
    {
     "name": "stdout",
     "output_type": "stream",
     "text": [
      "   numbers\n",
      "a       10\n",
      "b       20\n",
      "c       30\n",
      "d       40\n"
     ]
    }
   ],
   "source": [
    "import numpy as np\n",
    "import pandas as pd\n",
    "\n",
    "# 从列表创建，指定行、列索引\n",
    "df = pd.DataFrame([10, 20, 30, 40],\n",
    "                  columns=['numbers'],\n",
    "                  index=['a', 'b', 'c', 'd'])\n",
    "print(df)"
   ]
  },
  {
   "attachments": {},
   "cell_type": "markdown",
   "metadata": {},
   "source": [
    "## 添加新的列数据\n",
    "\n",
    "两种方法：`df.loc[i] = `和`append`\n",
    "\n",
    "参考：\n",
    "\n",
    "- [](https://stackoverflow.com/questions/10715965/create-a-pandas-dataframe-by-appending-one-row-at-a-time)"
   ]
  },
  {
   "cell_type": "code",
   "execution_count": null,
   "metadata": {},
   "outputs": [],
   "source": [
    "df['floats'] = (1.5, 2.5, 3.5, 4.5)\n",
    "df['names1'] = ('Yves', 'Guido', 'Felix', 'Francesc')\n",
    "df['names2'] = ['Yves', 'Guido', 'Felix', 'Francesc']\n",
    "print(df)\n",
    "\n",
    "df.loc[len(df)] = [50, 5.5, 'loc', 'loc']\n",
    "print(df)\n",
    "\n",
    "d = {'numbers':60, 'floats':6.6, 'names1':'loc', 'names2':'loc'}\n",
    "df = df.append(d, ignore_index = True)\n",
    "print(df)"
   ]
  },
  {
   "attachments": {},
   "cell_type": "markdown",
   "metadata": {},
   "source": [
    "## 添加新的行数据"
   ]
  },
  {
   "cell_type": "code",
   "execution_count": 2,
   "metadata": {},
   "outputs": [
    {
     "name": "stdout",
     "output_type": "stream",
     "text": [
      "   numbers\n",
      "a       10\n",
      "b       20\n",
      "c       30\n",
      "d       40\n",
      "4\n",
      "   numbers\n",
      "a       10\n",
      "b       20\n",
      "c       30\n",
      "d       40\n",
      "4       89\n"
     ]
    }
   ],
   "source": [
    "import pandas as pd \n",
    "\n",
    "df = pd.DataFrame([10, 20, 30, 40],\n",
    "                  columns=['numbers'],\n",
    "                  index=['a', 'b', 'c', 'd'])\n",
    "print(df)\n",
    "print(len(df))\n",
    "\n",
    "df.loc[len(df)] = [89] \n",
    "print(df)\n"
   ]
  },
  {
   "attachments": {},
   "cell_type": "markdown",
   "metadata": {},
   "source": [
    "## 从新的DataFrame对象直接添加。"
   ]
  },
  {
   "cell_type": "code",
   "execution_count": 3,
   "metadata": {},
   "outputs": [
    {
     "name": "stdout",
     "output_type": "stream",
     "text": [
      "   numbers names2\n",
      "a       10     Gu\n",
      "b       20     Fe\n",
      "c       30     Fr\n",
      "d       40     Yv\n",
      "4       89    NaN\n"
     ]
    }
   ],
   "source": [
    "df['names2'] = pd.DataFrame(['Yv', 'Gu', 'Fe', 'Fr'],\n",
    "                            index=['d', 'a', 'b', 'c'])\n",
    "print(df)\n",
    "\n"
   ]
  }
 ],
 "metadata": {
  "kernelspec": {
   "display_name": "Python 3",
   "language": "python",
   "name": "python3"
  },
  "language_info": {
   "codemirror_mode": {
    "name": "ipython",
    "version": 3
   },
   "file_extension": ".py",
   "mimetype": "text/x-python",
   "name": "python",
   "nbconvert_exporter": "python",
   "pygments_lexer": "ipython3",
   "version": "3.9.9"
  },
  "orig_nbformat": 4
 },
 "nbformat": 4,
 "nbformat_minor": 2
}
