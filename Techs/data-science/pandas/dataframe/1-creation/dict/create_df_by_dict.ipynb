{
 "cells": [
  {
   "cell_type": "markdown",
   "metadata": {},
   "source": [
    "## 基于字典创建DataFrame"
   ]
  },
  {
   "cell_type": "code",
   "execution_count": 2,
   "metadata": {},
   "outputs": [],
   "source": [
    "import pandas as pd\n",
    "import numpy as np"
   ]
  },
  {
   "cell_type": "markdown",
   "metadata": {},
   "source": [
    "默认字典的键作为列名"
   ]
  },
  {
   "cell_type": "code",
   "execution_count": null,
   "metadata": {
    "pycharm": {
     "is_executing": true
    }
   },
   "outputs": [],
   "source": [
    "my_dict = {'a' : np.random.randint(1, 100, 5),\n",
    "           'b' : np.random.randint(1, 100, 5),\n",
    "           'c' : np.random.randint(1, 100, 5),\n",
    "           }\n",
    "\n",
    "print(my_dict.items())\n"
   ]
  },
  {
   "cell_type": "code",
   "execution_count": null,
   "metadata": {
    "pycharm": {
     "is_executing": true
    }
   },
   "outputs": [],
   "source": [
    "my_df = pd.DataFrame(my_dict, index = ['one', 'two', 'three', 'four', 'five'])\n",
    "print(\"my_df = \\n{}\\n\".format(my_df))\n",
    "print(\"my_df.T = \\n{}\\n\".format(my_df.T))\n",
    "\n",
    "my_df.T.to_csv(\"my_df.csv\")\n",
    "\n",
    "new_df = pd.read_csv(\"my_df.csv\", index_col=0)\n",
    "print(new_df)"
   ]
  }
 ],
 "metadata": {
  "kernelspec": {
   "display_name": "Python 3.9.5 64-bit",
   "language": "python",
   "name": "python3"
  },
  "language_info": {
   "codemirror_mode": {
    "name": "ipython",
    "version": 3
   },
   "file_extension": ".py",
   "mimetype": "text/x-python",
   "name": "python",
   "nbconvert_exporter": "python",
   "pygments_lexer": "ipython3",
   "version": "3.9.5"
  },
  "orig_nbformat": 4,
  "vscode": {
   "interpreter": {
    "hash": "2e4121690db76bc87d491a2e0341ca46892a2842bde8fb317c85d19e2ad11338"
   }
  }
 },
 "nbformat": 4,
 "nbformat_minor": 2
}
