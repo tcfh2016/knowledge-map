{
 "cells": [
  {
   "attachments": {},
   "cell_type": "markdown",
   "metadata": {},
   "source": [
    "## 按行遍历\n",
    "\n",
    "1. 遍历空的DataFrame，不会有输出\n",
    "2. 遍历非空的DataFrame，输出每行对应的单元格"
   ]
  },
  {
   "cell_type": "code",
   "execution_count": 1,
   "metadata": {},
   "outputs": [],
   "source": [
    "import pandas as pd\n",
    "\n",
    "df = pd.read_csv(\"ex_empty_csv_with_header.csv\")\n",
    "for index, row in df.iterrows():\n",
    "    print(row['name'], row['score'])"
   ]
  },
  {
   "cell_type": "code",
   "execution_count": 2,
   "metadata": {},
   "outputs": [
    {
     "name": "stdout",
     "output_type": "stream",
     "text": [
      "app 1780\n"
     ]
    }
   ],
   "source": [
    "import pandas as pd\n",
    "\n",
    "df = pd.read_csv(\"ex_nonempty_csv_with_header.csv\")\n",
    "for index, row in df.iterrows():\n",
    "    print(row['name'], row['score'])"
   ]
  },
  {
   "attachments": {},
   "cell_type": "markdown",
   "metadata": {},
   "source": [
    "## 选取行\n",
    "\n",
    "1. 使用`df.loc(row_lable)`按照行标签名称来选择单行和多行，不能用“数字索引”。\n",
    "2. 使用切片的时候不需要使用`.loc()`，而是直接通过`df[start_row_lable : end_row_lable]`的形式。可以使用“名称索引”和“数字索引”。\n",
    "3. 使用`df[col_lable]`来选择单列和多列。\n",
    "\n",
    "*注：`df.index[0:3]`的输出为`['a', 'b', 'c']`。*\n",
    "\n",
    "要点：\n",
    "\n",
    "- 离散行的选择要使用`.loc`。\n",
    "- 非切片使用数字索引必须要使用`.loc`。"
   ]
  },
  {
   "cell_type": "code",
   "execution_count": 11,
   "metadata": {},
   "outputs": [
    {
     "name": "stdout",
     "output_type": "stream",
     "text": [
      "   numbers  floats    names1 names2\n",
      "a       10     1.5      Yves     Gu\n",
      "b       20     2.5     Guido     Fe\n",
      "c       30     3.5     Felix     Fr\n",
      "d       40     4.5  Francesc     Yv\n"
     ]
    }
   ],
   "source": [
    "import numpy as np\n",
    "import pandas as pd\n",
    "\n",
    "df = pd.DataFrame([10, 20, 30, 40],\n",
    "                  columns=['numbers'],\n",
    "                  index=['a', 'b', 'c', 'd'])\n",
    "\n",
    "df['floats'] = (1.5, 2.5, 3.5, 4.5)\n",
    "df['names1'] = ('Yves', 'Guido', 'Felix', 'Francesc')\n",
    "df['names2'] = pd.DataFrame(['Yv', 'Gu', 'Fe', 'Fr'],\n",
    "                            index=['d', 'a', 'b', 'c']) # 添加新的DataFrame对象。\n",
    "print(df)"
   ]
  },
  {
   "cell_type": "code",
   "execution_count": 6,
   "metadata": {},
   "outputs": [
    {
     "name": "stdout",
     "output_type": "stream",
     "text": [
      "按行名选择列：\n",
      "numbers       20\n",
      "floats       2.5\n",
      "names1     Guido\n",
      "names2        Fe\n",
      "Name: b, dtype: object\n",
      "按行名选择多行：\n",
      "   numbers  floats names1 names2\n",
      "a       10     1.5   Yves     Gu\n",
      "b       20     2.5  Guido     Fe\n",
      "按行数字索引选择多行：\n",
      "   numbers  floats names1 names2\n",
      "a       10     1.5   Yves     Gu\n",
      "b       20     2.5  Guido     Fe\n",
      "c       30     3.5  Felix     Fr\n",
      "按行名切片选择多行：\n",
      "   numbers  floats names1 names2\n",
      "a       10     1.5   Yves     Gu\n",
      "b       20     2.5  Guido     Fe\n",
      "c       30     3.5  Felix     Fr\n",
      "按行数字索引选择多行：\n",
      "   numbers  floats names1 names2\n",
      "a       10     1.5   Yves     Gu\n"
     ]
    }
   ],
   "source": [
    "print(\"按行名选择列：\")\n",
    "print(df.loc['b'])\n",
    "print(\"按行名选择多行：\")\n",
    "print(df.loc[['a', 'b']])\n",
    "print(\"按行数字索引选择多行：\")\n",
    "print(df.loc[df.index[0:3]])\n",
    "\n",
    "\n",
    "print(\"按行名切片选择多行：\")\n",
    "print(df['a':'c'])\n",
    "print(\"按行数字索引选择多行：\")\n",
    "print(df[0:1])\n"
   ]
  },
  {
   "attachments": {},
   "cell_type": "markdown",
   "metadata": {},
   "source": [
    "## 选择列\n",
    "\n",
    "- 选择列是直接使用`df[col_lable]`来选择单列，使用`df[[col1, col2...]]`来选择多列。\n",
    "- 如果要使用`loc()`来选择列，那么就需要使用到切片，如`df.loc[:, col1]`。"
   ]
  },
  {
   "cell_type": "code",
   "execution_count": 17,
   "metadata": {},
   "outputs": [
    {
     "name": "stdout",
     "output_type": "stream",
     "text": [
      "   numbers  floats    names1 names2\n",
      "a       10     1.5      Yves     Gu\n",
      "b       20     2.5     Guido     Fe\n",
      "c       30     3.5     Felix     Fr\n",
      "d       40     4.5  Francesc     Yv\n",
      "column - floats\n",
      "a    1.5\n",
      "b    2.5\n",
      "c    3.5\n",
      "d    4.5\n",
      "Name: floats, dtype: float64\n",
      "column - floats&names1\n",
      "   floats    names1\n",
      "a     1.5      Yves\n",
      "b     2.5     Guido\n",
      "c     3.5     Felix\n",
      "d     4.5  Francesc\n",
      "column - floats&names2\n",
      "   floats names2\n",
      "a     1.5     Gu\n",
      "b     2.5     Fe\n",
      "c     3.5     Fr\n",
      "d     4.5     Yv\n"
     ]
    }
   ],
   "source": [
    "import numpy as np\n",
    "import pandas as pd\n",
    "\n",
    "df = pd.DataFrame([10, 20, 30, 40],\n",
    "                  columns=['numbers'],\n",
    "                  index=['a', 'b', 'c', 'd'])\n",
    "\n",
    "df['floats'] = (1.5, 2.5, 3.5, 4.5)\n",
    "df['names1'] = ('Yves', 'Guido', 'Felix', 'Francesc')\n",
    "df['names2'] = pd.DataFrame(['Yv', 'Gu', 'Fe', 'Fr'],\n",
    "                            index=['d', 'a', 'b', 'c']) # 添加新的DataFrame对象。\n",
    "print(df)\n",
    "\n",
    "print(\"column - floats\")\n",
    "print(df['floats'])\n",
    "\n",
    "print(\"column - floats&names1\")\n",
    "print(df[['floats','names1']])\n",
    "\n",
    "print(\"column - floats&names2\")\n",
    "print(df.loc[:, ['floats','names2']])"
   ]
  },
  {
   "attachments": {},
   "cell_type": "markdown",
   "metadata": {},
   "source": [
    "## 通过行列来索引\n",
    "\n",
    "- 如果知道标签名称，那么可以使用`df.loc['row']['col']`或者`df.loc['row','col']`。\n",
    "- 如果都是数字索引，那么使用`iloc()`，如`df.iloc [[3, 4], [1, 2]]`。\n",
    "- 如果混用，使用`df.iloc[0]['col']`或者`df['col'].iloc[0]`。"
   ]
  },
  {
   "cell_type": "code",
   "execution_count": 26,
   "metadata": {},
   "outputs": [
    {
     "name": "stdout",
     "output_type": "stream",
     "text": [
      "   numbers  floats    names1 names2\n",
      "a       10     1.5      Yves     Gu\n",
      "b       20     2.5     Guido     Fe\n",
      "c       30     3.5     Felix     Fr\n",
      "d       40     4.5  Francesc     Yv\n",
      "----------------------------------\n",
      "select cell - by name&index lable:\n",
      "1.5\n",
      "1.5\n",
      "----------------------------------\n",
      "select cell - by name lable:\n",
      "1.5\n",
      "1.5\n",
      "1.5\n",
      "----------------------------------\n",
      "select cell - by index lable:\n",
      "1.5\n",
      "10\n"
     ]
    }
   ],
   "source": [
    "import numpy as np\n",
    "import pandas as pd\n",
    "\n",
    "df = pd.DataFrame([10, 20, 30, 40],\n",
    "                  columns=['numbers'],\n",
    "                  index=['a', 'b', 'c', 'd'])\n",
    "\n",
    "df['floats'] = (1.5, 2.5, 3.5, 4.5)\n",
    "df['names1'] = ('Yves', 'Guido', 'Felix', 'Francesc')\n",
    "df['names2'] = pd.DataFrame(['Yv', 'Gu', 'Fe', 'Fr'],\n",
    "                            index=['d', 'a', 'b', 'c']) # 添加新的DataFrame对象。\n",
    "print(df)\n",
    "\n",
    "print('----------------------------------')\n",
    "print(\"select cell - by name&index lable:\")\n",
    "print(df['floats'].iloc[0])\n",
    "print(df.iloc[0]['floats'])\n",
    "\n",
    "print('----------------------------------')\n",
    "print(\"select cell - by name lable:\")\n",
    "print(df['floats']['a'])\n",
    "print(df.loc['a']['floats'])\n",
    "print(df.loc['a', 'floats'])\n",
    "\n",
    "print('----------------------------------')\n",
    "print(\"select cell - by index lable:\")\n",
    "print(df.iloc[0]['floats'])\n",
    "print(df.iloc[0][0])\n"
   ]
  },
  {
   "cell_type": "code",
   "execution_count": null,
   "metadata": {},
   "outputs": [],
   "source": [
    "\n",
    "\n",
    "print(\"按条件选择行例1：\")\n",
    "print(df[df.floats > 3.0]) # 选择列'floats'值大于3.0的那些行\n",
    "\n",
    "print(\"按条件选择行例2：\")\n",
    "conditions = []\n",
    "for f in df.floats:\n",
    "    if f > 3.0:\n",
    "        conditions.append(True)\n",
    "    else:\n",
    "        conditions.append(False)\n",
    "print(df[conditions])\n",
    "match_condition = pd.Series(conditions, index=df.index)\n",
    "print(df[match_condition])\n",
    "\n",
    "print(\"按条件选择行例3：\")\n",
    "condition = df.floats > 3.0\n",
    "print(df[condition])"
   ]
  }
 ],
 "metadata": {
  "kernelspec": {
   "display_name": "Python 3",
   "language": "python",
   "name": "python3"
  },
  "language_info": {
   "codemirror_mode": {
    "name": "ipython",
    "version": 3
   },
   "file_extension": ".py",
   "mimetype": "text/x-python",
   "name": "python",
   "nbconvert_exporter": "python",
   "pygments_lexer": "ipython3",
   "version": "3.9.5"
  },
  "orig_nbformat": 4
 },
 "nbformat": 4,
 "nbformat_minor": 2
}
