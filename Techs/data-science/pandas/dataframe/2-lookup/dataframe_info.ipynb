{
 "cells": [
  {
   "attachments": {},
   "cell_type": "markdown",
   "metadata": {},
   "source": [
    "## 查看数据类型\n",
    "\n",
    "- `df.dtypes`\n",
    "- `df.info()`"
   ]
  },
  {
   "cell_type": "code",
   "execution_count": null,
   "metadata": {},
   "outputs": [],
   "source": [
    "import pandas as pd\n",
    "import numpy as np\n",
    "\n",
    "classes = [\"101\", \"202\", \"303\"]\n",
    "df = pd.DataFrame(\n",
    "    {\n",
    "        \"class\":[classes[x] for x in np.random.randint(0, len(classes), 2)],\n",
    "        \"math\":np.random.randint(0, 100, 2),\n",
    "        \"physics\":np.random.randint(0, 100, 2)  \n",
    "    })\n",
    "\n",
    "print(df)\n",
    "print(\"--------\")\n",
    "print(df.dtypes)\n",
    "print(\"--------\")\n",
    "print(df.info())"
   ]
  },
  {
   "attachments": {},
   "cell_type": "markdown",
   "metadata": {},
   "source": [
    "## 取消科学计数法"
   ]
  },
  {
   "cell_type": "code",
   "execution_count": 4,
   "metadata": {},
   "outputs": [
    {
     "name": "stdout",
     "output_type": "stream",
     "text": [
      "      A     B   C\n",
      "0 -1.52  0.57  31\n",
      "1  0.31 -0.77  93\n",
      "2 -1.67 -0.92  75\n",
      "3 -0.53 -0.17  37\n",
      "4 -1.03 -2.71  84\n"
     ]
    }
   ],
   "source": [
    "import pandas as pd\n",
    "import numpy as np\n",
    "\n",
    "df = pd.DataFrame(\n",
    "    {\n",
    "        'A' : np.random.standard_normal(5),\n",
    "        'B' : np.random.standard_normal(5),\n",
    "        'C' : np.random.randint(0, 100, 5),\n",
    "    }\n",
    ")\n",
    "#pd.set_option('display.float_format', lambda x: '%.2f' % x)\n",
    "#pd.set_option('display.float_format', \"{:.2f}\".format)\n",
    "pd.set_option('precision', 2)\n",
    "\n",
    "print(df)"
   ]
  }
 ],
 "metadata": {
  "kernelspec": {
   "display_name": "Python 3 (ipykernel)",
   "language": "python",
   "name": "python3"
  },
  "language_info": {
   "codemirror_mode": {
    "name": "ipython",
    "version": 3
   },
   "file_extension": ".py",
   "mimetype": "text/x-python",
   "name": "python",
   "nbconvert_exporter": "python",
   "pygments_lexer": "ipython3",
   "version": "3.9.4"
  },
  "orig_nbformat": 4
 },
 "nbformat": 4,
 "nbformat_minor": 2
}
