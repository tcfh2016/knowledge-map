{
 "cells": [
  {
   "attachments": {},
   "cell_type": "markdown",
   "metadata": {},
   "source": [
    "## unique()函数\n",
    "\n",
    "返回值为`numpy.ndarray`类型一维列表。可以使用`pd.unique(1d array-like)`或者`df['col'].unique()`两种方式。"
   ]
  },
  {
   "cell_type": "code",
   "execution_count": 3,
   "metadata": {},
   "outputs": [
    {
     "name": "stdout",
     "output_type": "stream",
     "text": [
      "  class  score\n",
      "0     B     82\n",
      "1     C     45\n",
      "2     C     63\n",
      "3     A     34\n",
      "4     B     82\n",
      "['B' 'C' 'A']\n",
      "<class 'numpy.ndarray'>\n",
      "<class 'str'>\n"
     ]
    }
   ],
   "source": [
    "import pandas as pd\n",
    "import numpy as np\n",
    "\n",
    "classes = ['A', 'B', 'C']\n",
    "df = pd.DataFrame({\n",
    "    'class': [classes[x] for x in np.random.randint(0, len(classes), 5)],\n",
    "    'score': np.random.randint(0, 100, 5)\n",
    "    }\n",
    ")\n",
    "print(df)\n",
    "\n",
    "arr = df['class'].unique()\n",
    "print(arr)\n",
    "print(type(arr))\n",
    "\n",
    "c1 = arr[0]\n",
    "print(type(arr[0]))\n"
   ]
  },
  {
   "attachments": {},
   "cell_type": "markdown",
   "metadata": {},
   "source": [
    "## 获取某列一段数据"
   ]
  },
  {
   "cell_type": "code",
   "execution_count": 7,
   "metadata": {},
   "outputs": [
    {
     "name": "stdout",
     "output_type": "stream",
     "text": [
      "  class  score\n",
      "0     A     15\n",
      "1     A     30\n",
      "2     B     81\n",
      "3     B      9\n",
      "4     B     97\n",
      "[]\n"
     ]
    }
   ],
   "source": [
    "import pandas as pd\n",
    "import numpy as np\n",
    "\n",
    "classes = ['A', 'B', 'C']\n",
    "df = pd.DataFrame({\n",
    "    'class': [classes[x] for x in np.random.randint(0, len(classes), 5)],\n",
    "    'score': np.random.randint(0, 100, 5)\n",
    "    }\n",
    ")\n",
    "print(df)\n",
    "\n",
    "print(df['score'].iloc[0:0].values)"
   ]
  },
  {
   "attachments": {},
   "cell_type": "markdown",
   "metadata": {},
   "source": [
    "## 判断值是否存在"
   ]
  },
  {
   "cell_type": "code",
   "execution_count": 12,
   "metadata": {},
   "outputs": [
    {
     "name": "stdout",
     "output_type": "stream",
     "text": [
      "  class  score\n",
      "0     C     90\n",
      "1     C      7\n",
      "2     C     94\n",
      "3     C     72\n",
      "4     C     12\n",
      "YES\n"
     ]
    }
   ],
   "source": [
    "import pandas as pd\n",
    "import numpy as np\n",
    "\n",
    "classes = ['A', 'B', 'C']\n",
    "df = pd.DataFrame({\n",
    "    'class': [classes[x] for x in np.random.randint(0, len(classes), 5)],\n",
    "    'score': np.random.randint(0, 100, 5)\n",
    "    }\n",
    ")\n",
    "print(df)\n",
    "\n",
    "if 'C' not in df['class'].values:\n",
    "    print(\"NO\")\n",
    "else:\n",
    "    print(\"YES\")"
   ]
  }
 ],
 "metadata": {
  "kernelspec": {
   "display_name": "Python 3",
   "language": "python",
   "name": "python3"
  },
  "language_info": {
   "codemirror_mode": {
    "name": "ipython",
    "version": 3
   },
   "file_extension": ".py",
   "mimetype": "text/x-python",
   "name": "python",
   "nbconvert_exporter": "python",
   "pygments_lexer": "ipython3",
   "version": "3.9.5"
  },
  "orig_nbformat": 4,
  "vscode": {
   "interpreter": {
    "hash": "2e4121690db76bc87d491a2e0341ca46892a2842bde8fb317c85d19e2ad11338"
   }
  }
 },
 "nbformat": 4,
 "nbformat_minor": 2
}
