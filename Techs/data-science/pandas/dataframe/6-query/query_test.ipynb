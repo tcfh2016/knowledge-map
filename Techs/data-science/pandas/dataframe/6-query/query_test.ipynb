{
 "cells": [
  {
   "attachments": {},
   "cell_type": "markdown",
   "metadata": {},
   "source": [
    "## unique()函数\n",
    "\n",
    "返回值为`numpy.ndarray`类型一维列表。可以使用`pd.unique(1d array-like)`或者`df['col'].unique()`两种方式。"
   ]
  },
  {
   "cell_type": "code",
   "execution_count": 3,
   "metadata": {},
   "outputs": [
    {
     "name": "stdout",
     "output_type": "stream",
     "text": [
      "  class  score\n",
      "0     B     82\n",
      "1     C     45\n",
      "2     C     63\n",
      "3     A     34\n",
      "4     B     82\n",
      "['B' 'C' 'A']\n",
      "<class 'numpy.ndarray'>\n",
      "<class 'str'>\n"
     ]
    }
   ],
   "source": [
    "import pandas as pd\n",
    "import numpy as np\n",
    "\n",
    "classes = ['A', 'B', 'C']\n",
    "df = pd.DataFrame({\n",
    "    'class': [classes[x] for x in np.random.randint(0, len(classes), 5)],\n",
    "    'score': np.random.randint(0, 100, 5)\n",
    "    }\n",
    ")\n",
    "print(df)\n",
    "\n",
    "arr = df['class'].unique()\n",
    "print(arr)\n",
    "print(type(arr))\n",
    "\n",
    "c1 = arr[0]\n",
    "print(type(arr[0]))\n"
   ]
  },
  {
   "attachments": {},
   "cell_type": "markdown",
   "metadata": {},
   "source": [
    "## 获取某列一段数据"
   ]
  },
  {
   "cell_type": "code",
   "execution_count": 7,
   "metadata": {},
   "outputs": [
    {
     "name": "stdout",
     "output_type": "stream",
     "text": [
      "  class  score\n",
      "0     A     15\n",
      "1     A     30\n",
      "2     B     81\n",
      "3     B      9\n",
      "4     B     97\n",
      "[]\n"
     ]
    }
   ],
   "source": [
    "import pandas as pd\n",
    "import numpy as np\n",
    "\n",
    "classes = ['A', 'B', 'C']\n",
    "df = pd.DataFrame({\n",
    "    'class': [classes[x] for x in np.random.randint(0, len(classes), 5)],\n",
    "    'score': np.random.randint(0, 100, 5)\n",
    "    }\n",
    ")\n",
    "print(df)\n",
    "\n",
    "print(df['score'].iloc[0:0].values)"
   ]
  },
  {
   "attachments": {},
   "cell_type": "markdown",
   "metadata": {},
   "source": [
    "## 判断值是否存在"
   ]
  },
  {
   "cell_type": "code",
   "execution_count": 13,
   "metadata": {},
   "outputs": [
    {
     "name": "stdout",
     "output_type": "stream",
     "text": [
      "  class  score\n",
      "0     A     67\n",
      "1     A     40\n",
      "2     A     80\n",
      "3     B      7\n",
      "4     C     70\n",
      "YES\n"
     ]
    }
   ],
   "source": [
    "import pandas as pd\n",
    "import numpy as np\n",
    "\n",
    "classes = ['A', 'B', 'C']\n",
    "df = pd.DataFrame({\n",
    "    'class': [classes[x] for x in np.random.randint(0, len(classes), 5)],\n",
    "    'score': np.random.randint(0, 100, 5)\n",
    "    }\n",
    ")\n",
    "print(df)\n",
    "\n",
    "if 'C' not in df['class'].values:\n",
    "    print(\"NO\")\n",
    "else:\n",
    "    print(\"YES\")"
   ]
  },
  {
   "attachments": {},
   "cell_type": "markdown",
   "metadata": {},
   "source": [
    "## 根据值查询对应的行标签"
   ]
  },
  {
   "cell_type": "code",
   "execution_count": 1,
   "metadata": {},
   "outputs": [
    {
     "name": "stdout",
     "output_type": "stream",
     "text": [
      "  class  score\n",
      "0     A     90\n",
      "1     B     67\n",
      "2     B     26\n",
      "3     B     73\n",
      "4     A     34\n"
     ]
    }
   ],
   "source": [
    "import pandas as pd\n",
    "import numpy as np\n",
    "\n",
    "classes = ['A', 'B', 'C']\n",
    "df = pd.DataFrame({\n",
    "    'class': [classes[x] for x in np.random.randint(0, len(classes), 5)],\n",
    "    'score': np.random.randint(0, 100, 5)\n",
    "    }\n",
    ")\n",
    "print(df)"
   ]
  },
  {
   "cell_type": "code",
   "execution_count": 22,
   "metadata": {},
   "outputs": [
    {
     "name": "stdout",
     "output_type": "stream",
     "text": [
      "  class  score\n",
      "0     A     90\n",
      "1     B      0\n",
      "2     B      0\n",
      "3     B      0\n",
      "4     A     34\n",
      "[0]\n"
     ]
    }
   ],
   "source": [
    "print(df)\n",
    "print(df[(df[\"class\"] == 'A') & (df[\"score\"] == 90)].index.values[0])"
   ]
  },
  {
   "cell_type": "code",
   "execution_count": 17,
   "metadata": {},
   "outputs": [
    {
     "ename": "ValueError",
     "evalue": "can only convert an array of size 1 to a Python scalar",
     "output_type": "error",
     "traceback": [
      "\u001b[1;31m---------------------------------------------------------------------------\u001b[0m",
      "\u001b[1;31mValueError\u001b[0m                                Traceback (most recent call last)",
      "\u001b[1;32mc:\\Users\\lianbche\\Git\\knowledge-map\\Techs\\data-science\\pandas\\dataframe\\6-query\\query_test.ipynb Cell 9\u001b[0m in \u001b[0;36m1\n\u001b[1;32m----> <a href='vscode-notebook-cell:/c%3A/Users/lianbche/Git/knowledge-map/Techs/data-science/pandas/dataframe/6-query/query_test.ipynb#X11sZmlsZQ%3D%3D?line=0'>1</a>\u001b[0m found_idx \u001b[39m=\u001b[39m df[(df[\u001b[39m\"\u001b[39;49m\u001b[39mclass\u001b[39;49m\u001b[39m\"\u001b[39;49m] \u001b[39m==\u001b[39;49m \u001b[39m'\u001b[39;49m\u001b[39mB\u001b[39;49m\u001b[39m'\u001b[39;49m) \u001b[39m&\u001b[39;49m (df[\u001b[39m\"\u001b[39;49m\u001b[39mscore\u001b[39;49m\u001b[39m\"\u001b[39;49m] \u001b[39m==\u001b[39;49m \u001b[39m0\u001b[39;49m)]\u001b[39m.\u001b[39;49mindex\u001b[39m.\u001b[39;49mitem()\n\u001b[0;32m      <a href='vscode-notebook-cell:/c%3A/Users/lianbche/Git/knowledge-map/Techs/data-science/pandas/dataframe/6-query/query_test.ipynb#X11sZmlsZQ%3D%3D?line=1'>2</a>\u001b[0m \u001b[39mprint\u001b[39m(found_idx)\n\u001b[0;32m      <a href='vscode-notebook-cell:/c%3A/Users/lianbche/Git/knowledge-map/Techs/data-science/pandas/dataframe/6-query/query_test.ipynb#X11sZmlsZQ%3D%3D?line=2'>3</a>\u001b[0m \u001b[39mprint\u001b[39m(\u001b[39mtype\u001b[39m(found_idx))\n",
      "File \u001b[1;32mc:\\Users\\lianbche\\AppData\\Local\\Programs\\Python\\Python39\\lib\\site-packages\\pandas\\core\\base.py:331\u001b[0m, in \u001b[0;36mIndexOpsMixin.item\u001b[1;34m(self)\u001b[0m\n\u001b[0;32m    329\u001b[0m \u001b[39mif\u001b[39;00m \u001b[39mlen\u001b[39m(\u001b[39mself\u001b[39m) \u001b[39m==\u001b[39m \u001b[39m1\u001b[39m:\n\u001b[0;32m    330\u001b[0m     \u001b[39mreturn\u001b[39;00m \u001b[39mnext\u001b[39m(\u001b[39miter\u001b[39m(\u001b[39mself\u001b[39m))\n\u001b[1;32m--> 331\u001b[0m \u001b[39mraise\u001b[39;00m \u001b[39mValueError\u001b[39;00m(\u001b[39m\"\u001b[39m\u001b[39mcan only convert an array of size 1 to a Python scalar\u001b[39m\u001b[39m\"\u001b[39m)\n",
      "\u001b[1;31mValueError\u001b[0m: can only convert an array of size 1 to a Python scalar"
     ]
    }
   ],
   "source": [
    "found_idx = df[(df[\"class\"] == 'B') & (df[\"score\"] == 0)].index.item()\n",
    "print(found_idx)\n",
    "print(type(found_idx))\n",
    "\n",
    "print(df.loc[found_idx][\"score\"])\n",
    "print(type(df.loc[found_idx,\"score\"]))\n",
    "print(type(df.loc[found_idx][\"score\"]))\n",
    "df.loc[found_idx,\"score\"] = 0\n",
    "print(df.loc[found_idx][\"score\"])\n",
    "print(df)"
   ]
  },
  {
   "attachments": {},
   "cell_type": "markdown",
   "metadata": {},
   "source": [
    "## 查找某列的最大值"
   ]
  },
  {
   "cell_type": "code",
   "execution_count": 5,
   "metadata": {},
   "outputs": [
    {
     "name": "stdout",
     "output_type": "stream",
     "text": [
      "       class  score\n",
      "apple      B     91\n",
      "pear       B     27\n",
      "tomato     B     92\n",
      "balana     C     20\n",
      "orange     B     32\n",
      "92\n",
      "tomato\n"
     ]
    }
   ],
   "source": [
    "import pandas as pd\n",
    "import numpy as np\n",
    "\n",
    "classes = ['A', 'B', 'C']\n",
    "df = pd.DataFrame({\n",
    "    'class': [classes[x] for x in np.random.randint(0, len(classes), 5)],\n",
    "    'score': np.random.randint(0, 100, 5)\n",
    "    },\n",
    "    index=[\"apple\", \"pear\", \"tomato\", \"balana\", \"orange\"]\n",
    ")\n",
    "print(df)\n",
    "print(df[\"score\"].max())\n",
    "print(df[\"score\"].idxmax())\n"
   ]
  }
 ],
 "metadata": {
  "kernelspec": {
   "display_name": "Python 3",
   "language": "python",
   "name": "python3"
  },
  "language_info": {
   "codemirror_mode": {
    "name": "ipython",
    "version": 3
   },
   "file_extension": ".py",
   "mimetype": "text/x-python",
   "name": "python",
   "nbconvert_exporter": "python",
   "pygments_lexer": "ipython3",
   "version": "3.9.5"
  },
  "orig_nbformat": 4,
  "vscode": {
   "interpreter": {
    "hash": "2e4121690db76bc87d491a2e0341ca46892a2842bde8fb317c85d19e2ad11338"
   }
  }
 },
 "nbformat": 4,
 "nbformat_minor": 2
}
