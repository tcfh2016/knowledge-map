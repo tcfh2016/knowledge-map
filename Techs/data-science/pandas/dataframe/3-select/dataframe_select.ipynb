{
 "cells": [
  {
   "attachments": {},
   "cell_type": "markdown",
   "metadata": {},
   "source": [
    "## 选取列\n",
    "\n",
    "- 选择列是直接使用`df[col_lable]`来选择单列，使用`df[[col1, col2...]]`来选择多列。\n",
    "- 如果要使用`loc()`来选择列，那么就需要使用到切片，如`df.loc[:, col1]`。"
   ]
  },
  {
   "cell_type": "code",
   "execution_count": 2,
   "metadata": {},
   "outputs": [
    {
     "name": "stdout",
     "output_type": "stream",
     "text": [
      "column - A\n",
      "0    96\n",
      "1    50\n",
      "2    35\n",
      "Name: A, dtype: int32\n",
      "column - A&B\n",
      "    A   B\n",
      "0  96  48\n",
      "1  50  71\n",
      "2  35  51\n"
     ]
    }
   ],
   "source": [
    "import numpy as np\n",
    "import pandas as pd\n",
    "\n",
    "df = pd.DataFrame(\n",
    "    {\n",
    "        'A' : np.random.randint(0, 100, 3),\n",
    "        'B' : np.random.randint(0, 100, 3),\n",
    "        'C' : np.random.randint(0, 100, 3),\n",
    "    }\n",
    ")\n",
    "\n",
    "print(\"column A\")\n",
    "print(df['A'])\n",
    "\n",
    "print(\"column A&B\")\n",
    "print(df[['A','B']])"
   ]
  },
  {
   "attachments": {},
   "cell_type": "markdown",
   "metadata": {},
   "source": [
    "## 选取行\n",
    "\n",
    "1. 使用`df.loc(row_lable)`按照行标签名称来选择单行和多行，不能用“数字索引”。\n",
    "2. 使用切片的时候不需要使用`.loc()`，而是直接通过`df[start_row_lable : end_row_lable]`的形式。可以使用“名称索引”和“数字索引”。\n",
    "3. 使用`df[col_lable]`来选择单列和多列。\n",
    "\n",
    "*注：`df.index[0:3]`的输出为`['a', 'b', 'c']`。*\n",
    "\n",
    "要点：\n",
    "\n",
    "- 离散行的选择要使用`.loc`。\n",
    "- 非切片使用数字索引必须要使用`.loc`。"
   ]
  },
  {
   "cell_type": "code",
   "execution_count": 8,
   "metadata": {},
   "outputs": [
    {
     "name": "stdout",
     "output_type": "stream",
     "text": [
      "    A   B   C\n",
      "0  97  55  48\n",
      "1  87  29  77\n",
      "2   5  70  41\n",
      "row 0\n",
      "A    97\n",
      "B    55\n",
      "C    48\n",
      "Name: 0, dtype: int32\n",
      "row 1\n",
      "A    87\n",
      "B    29\n",
      "C    77\n",
      "Name: 1, dtype: int32\n",
      "row 0&1\n",
      "    A   B   C\n",
      "0  97  55  48\n",
      "1  87  29  77\n"
     ]
    }
   ],
   "source": [
    "import numpy as np\n",
    "import pandas as pd\n",
    "\n",
    "df = pd.DataFrame(\n",
    "    {\n",
    "        'A' : np.random.randint(0, 100, 3),\n",
    "        'B' : np.random.randint(0, 100, 3),\n",
    "        'C' : np.random.randint(0, 100, 3),\n",
    "    }\n",
    ")\n",
    "print(df)\n",
    "print(\"row 0\")\n",
    "print(df.loc[0])\n",
    "print(\"row 1\")\n",
    "print(df.iloc[1])\n",
    "\n",
    "print(\"row 0&1\")\n",
    "print(df.loc[[0, 1]])"
   ]
  },
  {
   "attachments": {},
   "cell_type": "markdown",
   "metadata": {},
   "source": [
    "## 数据单元\n",
    "\n",
    "- 如果知道标签名称，那么可以使用`df.loc['row']['col']`或者`df.loc['row','col']`。\n",
    "- 如果都是数字索引，那么使用`iloc()`，如`df.iloc [[3, 4], [1, 2]]`。\n",
    "- 如果混用，使用`df.iloc[0]['col']`或者`df['col'].iloc[0]`。"
   ]
  },
  {
   "cell_type": "code",
   "execution_count": 9,
   "metadata": {},
   "outputs": [
    {
     "name": "stdout",
     "output_type": "stream",
     "text": [
      "    A   B   C\n",
      "a  43  73  64\n",
      "b  79  21  66\n",
      "c  44  47  94\n"
     ]
    },
    {
     "data": {
      "text/plain": [
       "43"
      ]
     },
     "execution_count": 9,
     "metadata": {},
     "output_type": "execute_result"
    }
   ],
   "source": [
    "import numpy as np\n",
    "import pandas as pd\n",
    "\n",
    "df = pd.DataFrame(\n",
    "    {\n",
    "        'A' : np.random.randint(0, 100, 3),\n",
    "        'B' : np.random.randint(0, 100, 3),\n",
    "        'C' : np.random.randint(0, 100, 3),\n",
    "    }\n",
    ")\n",
    "\n",
    "df.index = ['a', 'b', 'c']\n",
    "print(df)\n",
    "#df.loc[0, 'A']\n",
    "df.iloc[0]['A']"
   ]
  },
  {
   "attachments": {},
   "cell_type": "markdown",
   "metadata": {},
   "source": [
    "## 按行遍历\n",
    "\n",
    "1. 遍历空的DataFrame，不会有输出\n",
    "2. 遍历非空的DataFrame，输出每行对应的单元格"
   ]
  },
  {
   "cell_type": "code",
   "execution_count": 1,
   "metadata": {},
   "outputs": [],
   "source": [
    "import pandas as pd\n",
    "\n",
    "df = pd.read_csv(\"ex_empty_csv_with_header.csv\")\n",
    "for index, row in df.iterrows():\n",
    "    print(row['name'], row['score'])"
   ]
  },
  {
   "cell_type": "code",
   "execution_count": 2,
   "metadata": {},
   "outputs": [
    {
     "name": "stdout",
     "output_type": "stream",
     "text": [
      "app 1780\n"
     ]
    }
   ],
   "source": [
    "import pandas as pd\n",
    "\n",
    "df = pd.read_csv(\"ex_nonempty_csv_with_header.csv\")\n",
    "for index, row in df.iterrows():\n",
    "    print(row['name'], row['score'])"
   ]
  },
  {
   "attachments": {},
   "cell_type": "markdown",
   "metadata": {},
   "source": [
    "## 布尔索引"
   ]
  },
  {
   "cell_type": "code",
   "execution_count": 10,
   "metadata": {},
   "outputs": [
    {
     "name": "stdout",
     "output_type": "stream",
     "text": [
      "按条件选择行例1：\n",
      "   numbers  floats    names1\n",
      "c       30     3.5     Felix\n",
      "d       40     4.5  Francesc\n",
      "按条件选择行例2：\n",
      "   numbers  floats    names1\n",
      "c       30     3.5     Felix\n",
      "d       40     4.5  Francesc\n",
      "   numbers  floats    names1\n",
      "c       30     3.5     Felix\n",
      "d       40     4.5  Francesc\n",
      "按条件选择行例3：\n",
      "   numbers  floats    names1\n",
      "c       30     3.5     Felix\n",
      "d       40     4.5  Francesc\n"
     ]
    }
   ],
   "source": [
    "df = pd.DataFrame([10, 20, 30, 40],\n",
    "                  columns=['numbers'],\n",
    "                  index=['a', 'b', 'c', 'd'])\n",
    "df['floats'] = (1.5, 2.5, 3.5, 4.5)\n",
    "df['names1'] = ('Yves', 'Guido', 'Felix', 'Francesc')\n",
    "\n",
    "print(\"按条件选择行例1：\")\n",
    "print(df[df.floats > 3.0]) # 选择列'floats'值大于3.0的那些行\n",
    "\n",
    "print(\"按条件选择行例2：\")\n",
    "conditions = []\n",
    "for f in df.floats:\n",
    "    if f > 3.0:\n",
    "        conditions.append(True)\n",
    "    else:\n",
    "        conditions.append(False)\n",
    "print(df[conditions])\n",
    "match_condition = pd.Series(conditions, index=df.index)\n",
    "print(df[match_condition])\n",
    "\n",
    "print(\"按条件选择行例3：\")\n",
    "condition = df.floats > 3.0\n",
    "print(df[condition])"
   ]
  },
  {
   "cell_type": "code",
   "execution_count": 22,
   "metadata": {},
   "outputs": [
    {
     "name": "stdout",
     "output_type": "stream",
     "text": [
      "   numbers  floats    names1\n",
      "a       10     1.5      Yves\n",
      "b       20     2.5     Guido\n",
      "c       30     3.5     Felix\n",
      "d       40     4.5  Francesc\n",
      "   numbers  floats    names1\n",
      "a       10     1.5      Yves\n",
      "b       20     2.5     Guido\n",
      "c       30     3.5     Felix\n",
      "d       40     4.5  Francesc\n",
      "   numbers  floats    names1\n",
      "a       10     1.5      Yves\n",
      "b       20     2.5     Guido\n",
      "c      100     3.5     Felix\n",
      "d       40     4.5  Francesc\n",
      "   numbers  floats    names1\n",
      "a       10     1.5      Yves\n",
      "b       20     2.5     Guido\n",
      "c       30     3.5     Felix\n",
      "d       40     4.5  Francesc\n"
     ]
    }
   ],
   "source": [
    "df = pd.DataFrame([10, 20, 30, 40],\n",
    "                  columns=['numbers'],\n",
    "                  index=['a', 'b', 'c', 'd'])\n",
    "df['floats'] = (1.5, 2.5, 3.5, 4.5)\n",
    "df['names1'] = ('Yves', 'Guido', 'Felix', 'Francesc')\n",
    "print(df)\n",
    "\n",
    "df2 = df[(df.floats > 2.0) | (df.names1 == 'Yves')].copy()\n",
    "print(df2)\n",
    "df2.loc['c','numbers'] = 100\n",
    "print(df2)\n",
    "\n",
    "print(df)"
   ]
  }
 ],
 "metadata": {
  "kernelspec": {
   "display_name": "Python 3",
   "language": "python",
   "name": "python3"
  },
  "language_info": {
   "codemirror_mode": {
    "name": "ipython",
    "version": 3
   },
   "file_extension": ".py",
   "mimetype": "text/x-python",
   "name": "python",
   "nbconvert_exporter": "python",
   "pygments_lexer": "ipython3",
   "version": "3.9.5"
  },
  "orig_nbformat": 4
 },
 "nbformat": 4,
 "nbformat_minor": 2
}
