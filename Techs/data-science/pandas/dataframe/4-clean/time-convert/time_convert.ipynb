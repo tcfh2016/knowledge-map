{
 "cells": [
  {
   "attachments": {},
   "cell_type": "markdown",
   "metadata": {},
   "source": [
    "## dataframe的列从“2/25/2023”转换为“2023-02-25”\n",
    "\n",
    "最初从csv里面读取出来的日期列为`object`类型，调用`pd.to_datetime()`转换后对应列变更为`datetime64`类型。"
   ]
  },
  {
   "cell_type": "code",
   "execution_count": 6,
   "metadata": {},
   "outputs": [
    {
     "name": "stdout",
     "output_type": "stream",
     "text": [
      "Date                    object\n",
      "Build                  float64\n",
      "C&P Composite Index    float64\n",
      "Valid Case Num           int64\n",
      "dtype: object\n",
      "          Date   Build  C&P Composite Index  Valid Case Num\n",
      "0    2/25/2023  1812.0           100.024564               6\n",
      "1    2/24/2023  1782.0           100.015555               6\n",
      "2    2/22/2023  1748.0            99.972103               6\n",
      "3    2/21/2023  1725.0           100.840000               6\n",
      "4    2/20/2023  1697.0           100.330000               6\n",
      "..         ...     ...                  ...             ...\n",
      "283  7/29/2021     NaN           110.126349               1\n",
      "284  7/27/2021     NaN           111.265338               1\n",
      "285  7/27/2021     NaN           111.041933               1\n",
      "286  7/24/2021     NaN           112.162606               1\n",
      "287  7/23/2021     NaN           110.847831               1\n",
      "\n",
      "[288 rows x 4 columns]\n"
     ]
    }
   ],
   "source": [
    "import pandas as pd\n",
    "\n",
    "df = pd.read_csv(\"ex_date_convert.csv\", index_col=0)\n",
    "print(df.dtypes)\n",
    "print(df)"
   ]
  },
  {
   "cell_type": "code",
   "execution_count": 8,
   "metadata": {},
   "outputs": [
    {
     "name": "stdout",
     "output_type": "stream",
     "text": [
      "Date                   datetime64[ns]\n",
      "Build                         float64\n",
      "C&P Composite Index           float64\n",
      "Valid Case Num                  int64\n",
      "dtype: object\n",
      "          Date   Build  C&P Composite Index  Valid Case Num\n",
      "0   2023-02-25  1812.0           100.024564               6\n",
      "1   2023-02-24  1782.0           100.015555               6\n",
      "2   2023-02-22  1748.0            99.972103               6\n",
      "3   2023-02-21  1725.0           100.840000               6\n",
      "4   2023-02-20  1697.0           100.330000               6\n",
      "..         ...     ...                  ...             ...\n",
      "283 2021-07-29     NaN           110.126349               1\n",
      "284 2021-07-27     NaN           111.265338               1\n",
      "285 2021-07-27     NaN           111.041933               1\n",
      "286 2021-07-24     NaN           112.162606               1\n",
      "287 2021-07-23     NaN           110.847831               1\n",
      "\n",
      "[288 rows x 4 columns]\n"
     ]
    }
   ],
   "source": [
    "df['Date'] = pd.to_datetime(df['Date'])\n",
    "print(df.dtypes)\n",
    "print(df)\n",
    "df.to_csv(\"ex_date_converted.csv\")"
   ]
  }
 ],
 "metadata": {
  "kernelspec": {
   "display_name": "Python 3",
   "language": "python",
   "name": "python3"
  },
  "language_info": {
   "codemirror_mode": {
    "name": "ipython",
    "version": 3
   },
   "file_extension": ".py",
   "mimetype": "text/x-python",
   "name": "python",
   "nbconvert_exporter": "python",
   "pygments_lexer": "ipython3",
   "version": "3.9.5"
  },
  "orig_nbformat": 4,
  "vscode": {
   "interpreter": {
    "hash": "2e4121690db76bc87d491a2e0341ca46892a2842bde8fb317c85d19e2ad11338"
   }
  }
 },
 "nbformat": 4,
 "nbformat_minor": 2
}
