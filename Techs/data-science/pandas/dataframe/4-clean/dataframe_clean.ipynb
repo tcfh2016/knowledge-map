{
 "cells": [
  {
   "attachments": {},
   "cell_type": "markdown",
   "metadata": {},
   "source": [
    "## 修改数据\n",
    "\n",
    " 以列为单位修改数据"
   ]
  },
  {
   "cell_type": "code",
   "execution_count": 5,
   "metadata": {},
   "outputs": [
    {
     "name": "stdout",
     "output_type": "stream",
     "text": [
      "   numbers  floats    names1    names2\n",
      "a       10     2.0      Yves      Yves\n",
      "b       20     2.0     Guido     Guido\n",
      "c       30     2.0     Felix     Felix\n",
      "d       40     2.0  Francesc  Francesc\n",
      "   numbers  floats    names1    names2\n",
      "a       10    22.0      Yves      Yves\n",
      "b       20    22.0     Guido     Guido\n",
      "c       30    22.0     Felix     Felix\n",
      "d       40    22.0  Francesc  Francesc\n"
     ]
    }
   ],
   "source": [
    "df['floats'] = 2.0\n",
    "print(df)\n",
    "df.floats = 22.0\n",
    "print(df)\n"
   ]
  },
  {
   "cell_type": "code",
   "execution_count": 8,
   "metadata": {},
   "outputs": [
    {
     "name": "stdout",
     "output_type": "stream",
     "text": [
      "   numbers  floats    names1 names2  squares\n",
      "a       10    22.0      Yves     Gu      1.0\n",
      "b       20    22.0     Guido     Fe      4.0\n",
      "c       30    22.0     Felix     Fr      9.0\n",
      "d       40    22.0  Francesc     Yv      NaN\n",
      "   numbers  floats    names1 names2  squares\n",
      "a     10.0    22.0      Yves     Gu      1.0\n",
      "b     20.0    22.0     Guido     Fe      4.0\n",
      "c     30.0    22.0     Felix     Fr      9.0\n",
      "d     40.0    22.0  Francesc     Yv      NaN\n",
      "y      NaN     NaN       NaN    NaN     16.0\n"
     ]
    }
   ],
   "source": [
    "# Missing Data\n",
    "ms = df.join(pd.DataFrame([1, 4, 9, 16],\n",
    "                          index=['a', 'b', 'c', 'y'],\n",
    "                          columns=['squares',]))\n",
    "print(ms)\n",
    "\n",
    "ms = df.join(pd.DataFrame([1, 4, 9, 16],\n",
    "                             index=['a', 'b', 'c', 'y'],\n",
    "                             columns=['squares',]),\n",
    "                             how='outer')\n",
    "print(ms)\n"
   ]
  },
  {
   "attachments": {},
   "cell_type": "markdown",
   "metadata": {},
   "source": [
    "## 删除数据\n",
    "\n",
    "删除某列\n",
    "\n"
   ]
  },
  {
   "cell_type": "code",
   "execution_count": 9,
   "metadata": {},
   "outputs": [
    {
     "name": "stdout",
     "output_type": "stream",
     "text": [
      "   numbers  floats    names1\n",
      "a       10    22.0      Yves\n",
      "b       20    22.0     Guido\n",
      "c       30    22.0     Felix\n",
      "d       40    22.0  Francesc\n"
     ]
    }
   ],
   "source": [
    "del df['names2']\n",
    "print(df)"
   ]
  },
  {
   "attachments": {},
   "cell_type": "markdown",
   "metadata": {},
   "source": [
    "删除第一行"
   ]
  },
  {
   "cell_type": "code",
   "execution_count": 5,
   "metadata": {},
   "outputs": [
    {
     "name": "stdout",
     "output_type": "stream",
     "text": [
      "   numbers\n",
      "a       10\n",
      "b       20\n",
      "c       30\n",
      "d       40\n",
      "   numbers\n",
      "b       20\n",
      "c       30\n",
      "d       40\n"
     ]
    }
   ],
   "source": [
    "import pandas as pd\n",
    "\n",
    "del_df = pd.DataFrame([10, 20, 30, 40],\n",
    "                      columns=['numbers'],\n",
    "                      index=['a', 'b', 'c', 'd'])\n",
    "print(del_df)\n",
    "del_df.drop('a', inplace=True)\n",
    "print(del_df)\n"
   ]
  },
  {
   "attachments": {},
   "cell_type": "markdown",
   "metadata": {},
   "source": [
    "## 按条件删除行\n",
    "\n",
    "两种方式：\n",
    "\n",
    "- `df.drop(df[<some boolean condition>].index)`。\n",
    "- 更高效的方式是`df = df[df.score > 50]`。\n"
   ]
  },
  {
   "cell_type": "code",
   "execution_count": 7,
   "metadata": {},
   "outputs": [
    {
     "name": "stdout",
     "output_type": "stream",
     "text": [
      "   numbers\n",
      "a       10\n",
      "b       20\n",
      "c       30\n",
      "d       40\n",
      "   numbers\n",
      "b       20\n",
      "c       30\n",
      "d       40\n"
     ]
    }
   ],
   "source": [
    "import pandas as pd\n",
    "\n",
    "del_df = pd.DataFrame([10, 20, 30, 40],\n",
    "                      columns=['numbers'],\n",
    "                      index=['a', 'b', 'c', 'd'])\n",
    "print(del_df)\n",
    "del_df = del_df[del_df[\"numbers\"] > 10]\n",
    "print(del_df)"
   ]
  },
  {
   "attachments": {},
   "cell_type": "markdown",
   "metadata": {},
   "source": [
    "## 删除所有行\n",
    "\n",
    "两种方式：`df = df.iloc[0:0]`和`df.drop(df.index, inplace=True)`。\n",
    "\n",
    "参考： \n",
    "\n",
    "- [Drop all data in a pandas dataframe](https://stackoverflow.com/questions/39173992/drop-all-data-in-a-pandas-dataframe)"
   ]
  },
  {
   "cell_type": "code",
   "execution_count": 41,
   "metadata": {},
   "outputs": [
    {
     "name": "stdout",
     "output_type": "stream",
     "text": [
      "   numbers\n",
      "a       10\n",
      "b       20\n",
      "c       30\n",
      "d       40\n",
      "Empty DataFrame\n",
      "Columns: [numbers]\n",
      "Index: []\n"
     ]
    }
   ],
   "source": [
    "del_df = pd.DataFrame([10, 20, 30, 40],\n",
    "                      columns=['numbers'],\n",
    "                      index=['a', 'b', 'c', 'd'])\n",
    "print(del_df)\n",
    "\n",
    "del_df = del_df.iloc[0:0]\n",
    "del_df.to_csv(\"del_df.csv\")\n",
    "print(del_df)"
   ]
  },
  {
   "attachments": {},
   "cell_type": "markdown",
   "metadata": {},
   "source": [
    "## 替换操作"
   ]
  },
  {
   "attachments": {},
   "cell_type": "markdown",
   "metadata": {},
   "source": [
    "- 最基本的替换功能是是使用`replace`函数，该函数并非默认的inplace函数，如果要对原来的dataframe生效，那么需要传入`inplace=True`参数。注意这个时候是全字匹配。\n",
    "- `Series.str.replace()`不能添加`inplace=True`。会报“replace() got an unexpected keyword argument 'inplace'”，这是因为使用的不是`pandas.DataFrame.replace()`而是`string.replace`。"
   ]
  },
  {
   "cell_type": "code",
   "execution_count": 7,
   "metadata": {},
   "outputs": [
    {
     "name": "stdout",
     "output_type": "stream",
     "text": [
      "  numbers\n",
      "a      10\n",
      "b      20\n",
      "c      30\n",
      "d      40\n",
      "  numbers\n",
      "a      10\n",
      "b      20\n",
      "c      30\n",
      "d      40\n",
      "  numbers\n",
      "a      10\n",
      "b     220\n",
      "c      30\n",
      "d      40\n",
      "  numbers\n",
      "a      10\n",
      "b     220\n",
      "c      30\n",
      "d      40\n"
     ]
    }
   ],
   "source": [
    "import pandas as pd\n",
    "\n",
    "rep_df = pd.DataFrame(\n",
    "    ['10', '20', '30', '40'],\n",
    "    columns=['numbers'],\n",
    "    index=['a', 'b', 'c', 'd'])\n",
    "print(rep_df)\n",
    "\n",
    "# 全匹配，找不到就不会匹配。\n",
    "rep_df[\"numbers\"] = rep_df[\"numbers\"].replace('2', '22')\n",
    "print(rep_df)\n",
    "\n",
    "# 字符匹配，使用的是Python字符串操作。\n",
    "rep_df[\"numbers\"] = rep_df[\"numbers\"].str.replace('2', '22')\n",
    "print(rep_df)\n",
    "\n",
    "# 不能传递`inplance`参数，匹配不生效。\n",
    "rep_df[\"numbers\"].str.replace('2', '22')\n",
    "print(rep_df)\n"
   ]
  },
  {
   "attachments": {},
   "cell_type": "markdown",
   "metadata": {},
   "source": [
    "替换部分值。"
   ]
  },
  {
   "cell_type": "code",
   "execution_count": 13,
   "metadata": {},
   "outputs": [
    {
     "name": "stdout",
     "output_type": "stream",
     "text": [
      "a     10\n",
      "b    200\n",
      "c     30\n",
      "Name: numbers, dtype: object\n"
     ]
    }
   ],
   "source": [
    "rep_sub_df = pd.DataFrame(\n",
    "    ['10', '20', '30', '40'],\n",
    "    columns=['numbers'],\n",
    "    index=['a', 'b', 'c', 'd'])\n",
    "print(rep_sub_df['numbers'].iloc[0:3].replace('20', 200))"
   ]
  },
  {
   "cell_type": "code",
   "execution_count": 14,
   "metadata": {},
   "outputs": [
    {
     "name": "stdout",
     "output_type": "stream",
     "text": [
      "['', '', '', '', '', '', '', '']\n"
     ]
    }
   ],
   "source": [
    "l = [''] * 8\n",
    "print(l)"
   ]
  }
 ],
 "metadata": {
  "kernelspec": {
   "display_name": "Python 3",
   "language": "python",
   "name": "python3"
  },
  "language_info": {
   "codemirror_mode": {
    "name": "ipython",
    "version": 3
   },
   "file_extension": ".py",
   "mimetype": "text/x-python",
   "name": "python",
   "nbconvert_exporter": "python",
   "pygments_lexer": "ipython3",
   "version": "3.9.9"
  },
  "orig_nbformat": 4,
  "vscode": {
   "interpreter": {
    "hash": "2e4121690db76bc87d491a2e0341ca46892a2842bde8fb317c85d19e2ad11338"
   }
  }
 },
 "nbformat": 4,
 "nbformat_minor": 2
}
