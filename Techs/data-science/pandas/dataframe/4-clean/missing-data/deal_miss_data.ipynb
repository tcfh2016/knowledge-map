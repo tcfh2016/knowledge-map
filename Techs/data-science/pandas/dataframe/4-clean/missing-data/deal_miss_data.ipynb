{
 "cells": [
  {
   "attachments": {},
   "cell_type": "markdown",
   "metadata": {},
   "source": [
    "## “np.nan”和“np.NaN”"
   ]
  },
  {
   "cell_type": "code",
   "execution_count": 5,
   "metadata": {},
   "outputs": [
    {
     "name": "stdout",
     "output_type": "stream",
     "text": [
      "np.nan = nan, type(np.nan) = <class 'float'>\n",
      "np.NaN = nan, type(np.NaN) = <class 'float'>\n",
      "False\n",
      "True\n"
     ]
    }
   ],
   "source": [
    "import numpy as np\n",
    "\n",
    "print(\"np.nan = {}, type(np.nan) = {}\".format(np.nan, type(np.nan)))\n",
    "print(\"np.NaN = {}, type(np.NaN) = {}\".format(np.NaN, type(np.NaN)))\n",
    "print(np.nan == np.NaN)\n",
    "print(np.nan is np.NaN)"
   ]
  },
  {
   "attachments": {},
   "cell_type": "markdown",
   "metadata": {},
   "source": [
    "## 使用`isnull()`"
   ]
  },
  {
   "cell_type": "code",
   "execution_count": 22,
   "metadata": {},
   "outputs": [
    {
     "name": "stdout",
     "output_type": "stream",
     "text": [
      "       0      1      2\n",
      "0  False  False  False\n",
      "1  False   True   True\n",
      "2   True   True   True\n",
      "3   True  False  False\n",
      "False\n"
     ]
    }
   ],
   "source": [
    "import pandas as pd\n",
    "import numpy as np\n",
    "\n",
    "df = pd.DataFrame([[1.2, 6.5, 3.0],\n",
    "               [1., np.NaN, np.NaN],\n",
    "               [np.NaN, np.NaN, np.NaN],\n",
    "               [np.NaN, 6.2, 3.1]])\n",
    "print(df.isnull())\n",
    "print(pd.isnull(df.loc[0,0]))"
   ]
  },
  {
   "attachments": {},
   "cell_type": "markdown",
   "metadata": {},
   "source": [
    "使用`notnull()`\n",
    "\n",
    " [What is the difference between NaN and None?](https://stackoverflow.com/questions/17534106/what-is-the-difference-between-nan-and-none)里提到`np.isnan(p)`对传入的参数有要求，如果是string类型那么会crash，使用`pd.isnull()`则要安全得多。"
   ]
  },
  {
   "cell_type": "code",
   "execution_count": 25,
   "metadata": {},
   "outputs": [
    {
     "name": "stdout",
     "output_type": "stream",
     "text": [
      "       0      1      2\n",
      "0   True   True   True\n",
      "1   True  False  False\n",
      "2  False  False  False\n",
      "3  False   True   True\n",
      "False\n"
     ]
    },
    {
     "ename": "TypeError",
     "evalue": "ufunc 'isnan' not supported for the input types, and the inputs could not be safely coerced to any supported types according to the casting rule ''safe''",
     "output_type": "error",
     "traceback": [
      "\u001b[1;31m---------------------------------------------------------------------------\u001b[0m",
      "\u001b[1;31mTypeError\u001b[0m                                 Traceback (most recent call last)",
      "Cell \u001b[1;32mIn [25], line 5\u001b[0m\n\u001b[0;32m      2\u001b[0m \u001b[39mprint\u001b[39m(pd\u001b[39m.\u001b[39mnotnull(df\u001b[39m.\u001b[39mloc[\u001b[39m2\u001b[39m,\u001b[39m0\u001b[39m]))\n\u001b[0;32m      4\u001b[0m \u001b[39mimport\u001b[39;00m \u001b[39mnumpy\u001b[39;00m \u001b[39mas\u001b[39;00m \u001b[39mnp\u001b[39;00m\n\u001b[1;32m----> 5\u001b[0m \u001b[39mprint\u001b[39m(np\u001b[39m.\u001b[39;49misnan(\u001b[39m'\u001b[39;49m\u001b[39mh\u001b[39;49m\u001b[39m'\u001b[39;49m))\n",
      "\u001b[1;31mTypeError\u001b[0m: ufunc 'isnan' not supported for the input types, and the inputs could not be safely coerced to any supported types according to the casting rule ''safe''"
     ]
    }
   ],
   "source": [
    "print(df.notnull())\n",
    "print(pd.notnull(df.loc[2,0]))\n",
    "\n",
    "import numpy as np\n",
    "print(np.isnan('h'))"
   ]
  },
  {
   "attachments": {},
   "cell_type": "markdown",
   "metadata": {},
   "source": [
    "## 填充NaN\n",
    "\n",
    "不管是填充还是替换，都默认不在原有dataframe上生效，如果需要生效需要使用`inplace=True`参数。"
   ]
  },
  {
   "cell_type": "code",
   "execution_count": 16,
   "metadata": {},
   "outputs": [
    {
     "name": "stdout",
     "output_type": "stream",
     "text": [
      "     0    1    2\n",
      "0  1.2  6.5  3.0\n",
      "1  1.0  NaN  NaN\n",
      "2  NaN  NaN  NaN\n",
      "3  NaN  6.2  3.1\n",
      "     0    1    2\n",
      "0  1.2  6.5  3.0\n",
      "1  1.0  NaN  NaN\n",
      "2  NaN  NaN  NaN\n",
      "3  NaN  6.2  3.1\n",
      "     0    1    2\n",
      "0  1.2  6.5  3.0\n",
      "1  1.0  0.0  0.0\n",
      "2  0.0  0.0  0.0\n",
      "3  0.0  6.2  3.1\n"
     ]
    }
   ],
   "source": [
    "import pandas as pd\n",
    "import numpy as np\n",
    "\n",
    "df = pd.DataFrame([[1.2, 6.5, 3.0],\n",
    "               [1., np.NaN, np.NaN],\n",
    "               [np.NaN, np.NaN, np.NaN],\n",
    "               [np.NaN, 6.2, 3.1]])\n",
    "print(df)\n",
    "\n",
    "df.fillna(0)\n",
    "print(df)\n",
    "\n",
    "new_df = df.fillna(0)\n",
    "print(new_df)"
   ]
  },
  {
   "cell_type": "code",
   "execution_count": 17,
   "metadata": {},
   "outputs": [
    {
     "name": "stdout",
     "output_type": "stream",
     "text": [
      "     0    1    2\n",
      "0  1.2  6.5  3.0\n",
      "1  1.0  NaN  NaN\n",
      "2  NaN  NaN  NaN\n",
      "3  NaN  6.2  3.1\n"
     ]
    }
   ],
   "source": [
    "df[1].replace(np.NaN, '0')\n",
    "print(df)"
   ]
  },
  {
   "cell_type": "code",
   "execution_count": 10,
   "metadata": {},
   "outputs": [
    {
     "data": {
      "text/plain": [
       "float"
      ]
     },
     "execution_count": 10,
     "metadata": {},
     "output_type": "execute_result"
    }
   ],
   "source": [
    "np.nan > 0.0\n",
    "type(np.nan)"
   ]
  },
  {
   "cell_type": "markdown",
   "metadata": {},
   "source": [
    "## 使用`ffill`"
   ]
  },
  {
   "cell_type": "code",
   "execution_count": 12,
   "metadata": {},
   "outputs": [
    {
     "name": "stdout",
     "output_type": "stream",
     "text": [
      "     A  B    C  D\n",
      "0  NaN  2  NaN  0\n",
      "1  3.0  4  2.0  1\n",
      "2  NaN  3  3.0  3\n",
      "3  NaN  3  4.0  4\n",
      "     A  B    C  D\n",
      "0  NaN  2  NaN  0\n",
      "1  3.0  4  2.0  1\n",
      "2  3.0  3  3.0  3\n",
      "3  3.0  3  4.0  4\n"
     ]
    }
   ],
   "source": [
    "import pandas as pd\n",
    "import numpy as np\n",
    "\n",
    "df = pd.DataFrame([[np.nan, 2, np.nan, 0],\n",
    "                   [3, 4, 2, 1],\n",
    "                   [np.nan, 3, 3, 3],\n",
    "                   [np.nan, 3, 4, 4],\n",
    "                   [4, 5, 5, 5],\n",
    "                   [np.nan, 3, 4, 4]],\n",
    "                  columns=list(\"ABCD\"))\n",
    "print(df)\n",
    "\n",
    "df['A'].fillna(method='ffill', inplace=True)\n",
    "print(df)"
   ]
  },
  {
   "attachments": {},
   "cell_type": "markdown",
   "metadata": {},
   "source": [
    "## 使用`dropna()`"
   ]
  },
  {
   "cell_type": "code",
   "execution_count": 21,
   "metadata": {},
   "outputs": [
    {
     "name": "stdout",
     "output_type": "stream",
     "text": [
      "0    1.0\n",
      "1    NaN\n",
      "2    3.2\n",
      "3    NaN\n",
      "4    7.0\n",
      "dtype: float64\n",
      "0    1.0\n",
      "2    3.2\n",
      "4    7.0\n",
      "dtype: float64\n",
      "     0    1    2\n",
      "0  1.2  6.5  3.0\n",
      "1  1.0  NaN  NaN\n",
      "2  NaN  NaN  NaN\n",
      "3  NaN  6.2  3.1\n",
      "     0    1    2\n",
      "0  1.2  6.5  3.0\n",
      "     0    1    2\n",
      "0  1.2  6.5  3.0\n",
      "1  1.0  NaN  NaN\n",
      "3  NaN  6.2  3.1\n",
      "     0    1    2\n",
      "0  1.2  6.5  3.0\n",
      "1  1.0  NaN  NaN\n",
      "2  NaN  NaN  NaN\n",
      "3  NaN  6.2  3.1\n",
      "     0    1    2\n",
      "0  1.2  6.5  3.0\n",
      "1  1.0  0.0  0.0\n",
      "2  0.0  0.0  0.0\n",
      "3  0.0  6.2  3.1\n",
      "     0    1    2\n",
      "0  1.2  6.5  3.0\n",
      "1  1.0  0.5  1.0\n",
      "2  NaN  0.5  1.0\n",
      "3  NaN  6.2  3.1\n"
     ]
    }
   ],
   "source": [
    "s = pd.Series([1, np.NaN, 3.2, np.NaN, 7])\n",
    "print(s)\n",
    "print(s.dropna())\n",
    "\n",
    "df = pd.DataFrame([[1.2, 6.5, 3.0],\n",
    "               [1., np.NaN, np.NaN],\n",
    "               [np.NaN, np.NaN, np.NaN],\n",
    "               [np.NaN, 6.2, 3.1]])\n",
    "print(df)\n",
    "print(df.dropna())\n",
    "print(df.dropna(how='all'))\n",
    "print(df.dropna(axis=1, how='all'))\n",
    "\n",
    "\n",
    "print(df.fillna(0))\n",
    "print(df.fillna({1:0.5, 2:1.0}))"
   ]
  },
  {
   "attachments": {},
   "cell_type": "markdown",
   "metadata": {},
   "source": [
    "## NaA的计算\n"
   ]
  },
  {
   "cell_type": "code",
   "execution_count": 2,
   "metadata": {},
   "outputs": [
    {
     "name": "stdout",
     "output_type": "stream",
     "text": [
      "nan\n",
      "nan\n"
     ]
    }
   ],
   "source": [
    "import numpy as np\n",
    "\n",
    "print(np.NaN + 1)\n",
    "print(sum([np.NaN, 1.0, 2.0]))"
   ]
  },
  {
   "cell_type": "code",
   "execution_count": 4,
   "metadata": {},
   "outputs": [
    {
     "data": {
      "text/plain": [
       "False"
      ]
     },
     "execution_count": 4,
     "metadata": {},
     "output_type": "execute_result"
    }
   ],
   "source": [
    "import numpy as np\n",
    "\n",
    "np.NaN > 0.0"
   ]
  }
 ],
 "metadata": {
  "kernelspec": {
   "display_name": "Python 3.9.5 64-bit",
   "language": "python",
   "name": "python3"
  },
  "language_info": {
   "codemirror_mode": {
    "name": "ipython",
    "version": 3
   },
   "file_extension": ".py",
   "mimetype": "text/x-python",
   "name": "python",
   "nbconvert_exporter": "python",
   "pygments_lexer": "ipython3",
   "version": "3.9.9"
  },
  "orig_nbformat": 4,
  "vscode": {
   "interpreter": {
    "hash": "2e4121690db76bc87d491a2e0341ca46892a2842bde8fb317c85d19e2ad11338"
   }
  }
 },
 "nbformat": 4,
 "nbformat_minor": 2
}
