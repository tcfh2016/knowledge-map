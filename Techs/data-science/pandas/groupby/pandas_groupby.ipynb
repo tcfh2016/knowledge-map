{
 "cells": [
  {
   "attachments": {},
   "cell_type": "markdown",
   "metadata": {},
   "source": [
    "## 按单列分组\n",
    "\n",
    "参考：\n",
    "\n",
    "- [Group By: split-apply-combine](https://pandas.pydata.org/pandas-docs/stable/user_guide/groupby.html)"
   ]
  },
  {
   "cell_type": "code",
   "execution_count": 18,
   "metadata": {},
   "outputs": [
    {
     "data": {
      "text/html": [
       "<div>\n",
       "<style scoped>\n",
       "    .dataframe tbody tr th:only-of-type {\n",
       "        vertical-align: middle;\n",
       "    }\n",
       "\n",
       "    .dataframe tbody tr th {\n",
       "        vertical-align: top;\n",
       "    }\n",
       "\n",
       "    .dataframe thead th {\n",
       "        text-align: right;\n",
       "    }\n",
       "</style>\n",
       "<table border=\"1\" class=\"dataframe\">\n",
       "  <thead>\n",
       "    <tr style=\"text-align: right;\">\n",
       "      <th></th>\n",
       "      <th>Animal</th>\n",
       "      <th>Max Speed</th>\n",
       "    </tr>\n",
       "  </thead>\n",
       "  <tbody>\n",
       "    <tr>\n",
       "      <th>0</th>\n",
       "      <td>Falcon</td>\n",
       "      <td>380.0</td>\n",
       "    </tr>\n",
       "    <tr>\n",
       "      <th>1</th>\n",
       "      <td>Falcon</td>\n",
       "      <td>370.0</td>\n",
       "    </tr>\n",
       "    <tr>\n",
       "      <th>2</th>\n",
       "      <td>Parrot</td>\n",
       "      <td>24.0</td>\n",
       "    </tr>\n",
       "    <tr>\n",
       "      <th>3</th>\n",
       "      <td>Parrot</td>\n",
       "      <td>26.0</td>\n",
       "    </tr>\n",
       "  </tbody>\n",
       "</table>\n",
       "</div>"
      ],
      "text/plain": [
       "   Animal  Max Speed\n",
       "0  Falcon      380.0\n",
       "1  Falcon      370.0\n",
       "2  Parrot       24.0\n",
       "3  Parrot       26.0"
      ]
     },
     "execution_count": 18,
     "metadata": {},
     "output_type": "execute_result"
    }
   ],
   "source": [
    "import numpy as np\n",
    "import pandas as pd\n",
    "\n",
    "df_groupby_single_col = pd.DataFrame({\n",
    "    'Animal': ['Falcon', 'Falcon', 'Parrot', 'Parrot'],\n",
    "    'Max Speed': [380., 370., 24., 26.]})\n",
    "df_groupby_single_col"
   ]
  },
  {
   "cell_type": "code",
   "execution_count": 19,
   "metadata": {},
   "outputs": [
    {
     "data": {
      "text/plain": [
       "<pandas.core.groupby.generic.DataFrameGroupBy object at 0x00000169930214C0>"
      ]
     },
     "execution_count": 19,
     "metadata": {},
     "output_type": "execute_result"
    }
   ],
   "source": [
    "df_groupby_single_col.groupby('Animal')"
   ]
  },
  {
   "cell_type": "code",
   "execution_count": 20,
   "metadata": {},
   "outputs": [
    {
     "data": {
      "text/html": [
       "<div>\n",
       "<style scoped>\n",
       "    .dataframe tbody tr th:only-of-type {\n",
       "        vertical-align: middle;\n",
       "    }\n",
       "\n",
       "    .dataframe tbody tr th {\n",
       "        vertical-align: top;\n",
       "    }\n",
       "\n",
       "    .dataframe thead th {\n",
       "        text-align: right;\n",
       "    }\n",
       "</style>\n",
       "<table border=\"1\" class=\"dataframe\">\n",
       "  <thead>\n",
       "    <tr style=\"text-align: right;\">\n",
       "      <th></th>\n",
       "      <th>Max Speed</th>\n",
       "    </tr>\n",
       "    <tr>\n",
       "      <th>Animal</th>\n",
       "      <th></th>\n",
       "    </tr>\n",
       "  </thead>\n",
       "  <tbody>\n",
       "    <tr>\n",
       "      <th>Falcon</th>\n",
       "      <td>750.0</td>\n",
       "    </tr>\n",
       "    <tr>\n",
       "      <th>Parrot</th>\n",
       "      <td>50.0</td>\n",
       "    </tr>\n",
       "  </tbody>\n",
       "</table>\n",
       "</div>"
      ],
      "text/plain": [
       "        Max Speed\n",
       "Animal           \n",
       "Falcon      750.0\n",
       "Parrot       50.0"
      ]
     },
     "execution_count": 20,
     "metadata": {},
     "output_type": "execute_result"
    }
   ],
   "source": [
    "df_groupby_single_col.groupby('Animal').sum()"
   ]
  },
  {
   "cell_type": "code",
   "execution_count": 21,
   "metadata": {},
   "outputs": [
    {
     "name": "stdout",
     "output_type": "stream",
     "text": [
      "Falcon\n",
      "   Animal  Max Speed\n",
      "0  Falcon      380.0\n",
      "1  Falcon      370.0\n",
      "Parrot\n",
      "   Animal  Max Speed\n",
      "2  Parrot       24.0\n",
      "3  Parrot       26.0\n"
     ]
    }
   ],
   "source": [
    "# 遍历\n",
    "for name, group in df_groupby_single_col.groupby('Animal'):\n",
    "    print(name)\n",
    "    print(group)"
   ]
  },
  {
   "cell_type": "code",
   "execution_count": 24,
   "metadata": {},
   "outputs": [
    {
     "data": {
      "text/html": [
       "<div>\n",
       "<style scoped>\n",
       "    .dataframe tbody tr th:only-of-type {\n",
       "        vertical-align: middle;\n",
       "    }\n",
       "\n",
       "    .dataframe tbody tr th {\n",
       "        vertical-align: top;\n",
       "    }\n",
       "\n",
       "    .dataframe thead tr th {\n",
       "        text-align: left;\n",
       "    }\n",
       "\n",
       "    .dataframe thead tr:last-of-type th {\n",
       "        text-align: right;\n",
       "    }\n",
       "</style>\n",
       "<table border=\"1\" class=\"dataframe\">\n",
       "  <thead>\n",
       "    <tr>\n",
       "      <th></th>\n",
       "      <th colspan=\"2\" halign=\"left\">Max Speed</th>\n",
       "    </tr>\n",
       "    <tr>\n",
       "      <th></th>\n",
       "      <th>mean</th>\n",
       "      <th>sum</th>\n",
       "    </tr>\n",
       "    <tr>\n",
       "      <th>Animal</th>\n",
       "      <th></th>\n",
       "      <th></th>\n",
       "    </tr>\n",
       "  </thead>\n",
       "  <tbody>\n",
       "    <tr>\n",
       "      <th>Falcon</th>\n",
       "      <td>375.0</td>\n",
       "      <td>750.0</td>\n",
       "    </tr>\n",
       "    <tr>\n",
       "      <th>Parrot</th>\n",
       "      <td>25.0</td>\n",
       "      <td>50.0</td>\n",
       "    </tr>\n",
       "  </tbody>\n",
       "</table>\n",
       "</div>"
      ],
      "text/plain": [
       "       Max Speed       \n",
       "            mean    sum\n",
       "Animal                 \n",
       "Falcon     375.0  750.0\n",
       "Parrot      25.0   50.0"
      ]
     },
     "execution_count": 24,
     "metadata": {},
     "output_type": "execute_result"
    }
   ],
   "source": [
    "# 聚合\n",
    "\n",
    "df_groupby_single_col.groupby('Animal').agg(['mean', 'sum'])"
   ]
  },
  {
   "cell_type": "markdown",
   "metadata": {},
   "source": [
    "## 按多列分组\n"
   ]
  },
  {
   "cell_type": "code",
   "execution_count": 14,
   "metadata": {},
   "outputs": [
    {
     "data": {
      "text/html": [
       "<div>\n",
       "<style scoped>\n",
       "    .dataframe tbody tr th:only-of-type {\n",
       "        vertical-align: middle;\n",
       "    }\n",
       "\n",
       "    .dataframe tbody tr th {\n",
       "        vertical-align: top;\n",
       "    }\n",
       "\n",
       "    .dataframe thead th {\n",
       "        text-align: right;\n",
       "    }\n",
       "</style>\n",
       "<table border=\"1\" class=\"dataframe\">\n",
       "  <thead>\n",
       "    <tr style=\"text-align: right;\">\n",
       "      <th></th>\n",
       "      <th>No1</th>\n",
       "      <th>No2</th>\n",
       "      <th>No3</th>\n",
       "      <th>No4</th>\n",
       "      <th>Quarter</th>\n",
       "      <th>Week</th>\n",
       "    </tr>\n",
       "  </thead>\n",
       "  <tbody>\n",
       "    <tr>\n",
       "      <th>2015-01-31</th>\n",
       "      <td>0.156610</td>\n",
       "      <td>-0.463835</td>\n",
       "      <td>0.893636</td>\n",
       "      <td>-1.915934</td>\n",
       "      <td>Q1</td>\n",
       "      <td>W1</td>\n",
       "    </tr>\n",
       "    <tr>\n",
       "      <th>2015-02-28</th>\n",
       "      <td>-0.459778</td>\n",
       "      <td>-0.761915</td>\n",
       "      <td>-0.032312</td>\n",
       "      <td>1.072209</td>\n",
       "      <td>Q1</td>\n",
       "      <td>W1</td>\n",
       "    </tr>\n",
       "    <tr>\n",
       "      <th>2015-03-31</th>\n",
       "      <td>-0.322787</td>\n",
       "      <td>1.240322</td>\n",
       "      <td>0.060372</td>\n",
       "      <td>0.376421</td>\n",
       "      <td>Q1</td>\n",
       "      <td>W2</td>\n",
       "    </tr>\n",
       "    <tr>\n",
       "      <th>2015-04-30</th>\n",
       "      <td>0.882276</td>\n",
       "      <td>-0.312194</td>\n",
       "      <td>-1.138404</td>\n",
       "      <td>0.707539</td>\n",
       "      <td>Q2</td>\n",
       "      <td>W1</td>\n",
       "    </tr>\n",
       "    <tr>\n",
       "      <th>2015-05-31</th>\n",
       "      <td>-0.986372</td>\n",
       "      <td>0.523471</td>\n",
       "      <td>0.609971</td>\n",
       "      <td>-2.133658</td>\n",
       "      <td>Q2</td>\n",
       "      <td>W2</td>\n",
       "    </tr>\n",
       "    <tr>\n",
       "      <th>2015-06-30</th>\n",
       "      <td>-1.073320</td>\n",
       "      <td>2.211933</td>\n",
       "      <td>-1.433466</td>\n",
       "      <td>-0.004196</td>\n",
       "      <td>Q2</td>\n",
       "      <td>W3</td>\n",
       "    </tr>\n",
       "    <tr>\n",
       "      <th>2015-07-31</th>\n",
       "      <td>0.189746</td>\n",
       "      <td>1.188307</td>\n",
       "      <td>-0.395884</td>\n",
       "      <td>-1.062849</td>\n",
       "      <td>Q3</td>\n",
       "      <td>W1</td>\n",
       "    </tr>\n",
       "    <tr>\n",
       "      <th>2015-08-31</th>\n",
       "      <td>1.075698</td>\n",
       "      <td>0.264806</td>\n",
       "      <td>-0.542767</td>\n",
       "      <td>-1.260491</td>\n",
       "      <td>Q3</td>\n",
       "      <td>W2</td>\n",
       "    </tr>\n",
       "    <tr>\n",
       "      <th>2015-09-30</th>\n",
       "      <td>-0.509064</td>\n",
       "      <td>0.762819</td>\n",
       "      <td>-0.295830</td>\n",
       "      <td>0.520402</td>\n",
       "      <td>Q3</td>\n",
       "      <td>W3</td>\n",
       "    </tr>\n",
       "  </tbody>\n",
       "</table>\n",
       "</div>"
      ],
      "text/plain": [
       "                 No1       No2       No3       No4 Quarter Week\n",
       "2015-01-31  0.156610 -0.463835  0.893636 -1.915934      Q1   W1\n",
       "2015-02-28 -0.459778 -0.761915 -0.032312  1.072209      Q1   W1\n",
       "2015-03-31 -0.322787  1.240322  0.060372  0.376421      Q1   W2\n",
       "2015-04-30  0.882276 -0.312194 -1.138404  0.707539      Q2   W1\n",
       "2015-05-31 -0.986372  0.523471  0.609971 -2.133658      Q2   W2\n",
       "2015-06-30 -1.073320  2.211933 -1.433466 -0.004196      Q2   W3\n",
       "2015-07-31  0.189746  1.188307 -0.395884 -1.062849      Q3   W1\n",
       "2015-08-31  1.075698  0.264806 -0.542767 -1.260491      Q3   W2\n",
       "2015-09-30 -0.509064  0.762819 -0.295830  0.520402      Q3   W3"
      ]
     },
     "execution_count": 14,
     "metadata": {},
     "output_type": "execute_result"
    }
   ],
   "source": [
    "import numpy as np\n",
    "import pandas as pd\n",
    "\n",
    "\n",
    "df = pd.DataFrame(np.random.standard_normal((9, 4)).round(6))\n",
    "df.columns = ['No1', 'No2', 'No3', 'No4'] # 更改列名。\n",
    "df.index =  pd.date_range('2015-1-1', periods=9, freq='ME')\n",
    "\n",
    "# 添加两列，便于后面进行groupby操作\n",
    "df['Quarter'] = ['Q1', 'Q1', 'Q1', 'Q2', 'Q2', 'Q2', 'Q3', 'Q3', 'Q3']\n",
    "df['Week'] = ['W1', 'W1', 'W2', 'W1', 'W2', 'W3', 'W1', 'W2', 'W3']\n",
    "df"
   ]
  },
  {
   "cell_type": "code",
   "execution_count": 15,
   "metadata": {},
   "outputs": [
    {
     "name": "stdout",
     "output_type": "stream",
     "text": [
      "                   No1       No2       No3       No4\n",
      "Quarter Week                                        \n",
      "Q1      W1   -0.303168 -1.225750  0.861324 -0.843725\n",
      "        W2   -0.322787  1.240322  0.060372  0.376421\n",
      "Q2      W1    0.882276 -0.312194 -1.138404  0.707539\n",
      "        W2   -0.986372  0.523471  0.609971 -2.133658\n",
      "        W3   -1.073320  2.211933 -1.433466 -0.004196\n",
      "Q3      W1    0.189746  1.188307 -0.395884 -1.062849\n",
      "        W2    1.075698  0.264806 -0.542767 -1.260491\n",
      "        W3   -0.509064  0.762819 -0.295830  0.520402\n",
      "1.075698\n",
      "('Q3', 'W2')\n",
      "<class 'tuple'>\n",
      "1.075698\n"
     ]
    }
   ],
   "source": [
    "groups_sum = df.groupby([\"Quarter\", \"Week\"]).sum()\n",
    "print(groups_sum)\n",
    "print(groups_sum[\"No1\"].max())\n",
    "print(groups_sum[\"No1\"].idxmax())\n",
    "print(type(groups_sum[\"No1\"].idxmax()))\n",
    "print(groups_sum.loc[groups_sum[\"No1\"].idxmax()][\"No1\"])\n",
    "\n"
   ]
  },
  {
   "cell_type": "code",
   "execution_count": 16,
   "metadata": {},
   "outputs": [
    {
     "name": "stdout",
     "output_type": "stream",
     "text": [
      "Q1 W1\n",
      "                 No1       No2       No3       No4 Quarter Week\n",
      "2015-01-31  0.156610 -0.463835  0.893636 -1.915934      Q1   W1\n",
      "2015-02-28 -0.459778 -0.761915 -0.032312  1.072209      Q1   W1\n",
      "Q1 W2\n",
      "                 No1       No2       No3       No4 Quarter Week\n",
      "2015-03-31 -0.322787  1.240322  0.060372  0.376421      Q1   W2\n",
      "Q2 W1\n",
      "                 No1       No2       No3       No4 Quarter Week\n",
      "2015-04-30  0.882276 -0.312194 -1.138404  0.707539      Q2   W1\n",
      "Q2 W2\n",
      "                 No1       No2       No3       No4 Quarter Week\n",
      "2015-05-31 -0.986372  0.523471  0.609971 -2.133658      Q2   W2\n",
      "Q2 W3\n",
      "                No1       No2       No3       No4 Quarter Week\n",
      "2015-06-30 -1.07332  2.211933 -1.433466 -0.004196      Q2   W3\n",
      "Q3 W1\n",
      "                 No1       No2       No3       No4 Quarter Week\n",
      "2015-07-31  0.189746  1.188307 -0.395884 -1.062849      Q3   W1\n",
      "Q3 W2\n",
      "                 No1       No2       No3       No4 Quarter Week\n",
      "2015-08-31  1.075698  0.264806 -0.542767 -1.260491      Q3   W2\n",
      "Q3 W3\n",
      "                 No1       No2      No3       No4 Quarter Week\n",
      "2015-09-30 -0.509064  0.762819 -0.29583  0.520402      Q3   W3\n"
     ]
    }
   ],
   "source": [
    "# 遍历\n",
    "for (key1, key2), group in df.groupby([\"Quarter\", \"Week\"]):\n",
    "    print(key1, key2)\n",
    "    print(group)"
   ]
  },
  {
   "cell_type": "code",
   "execution_count": null,
   "metadata": {},
   "outputs": [],
   "source": [
    "groups_cnt = df.groupby([\"Quarter\", \"Week\"]).count()\n",
    "print(groups_cnt)\n",
    "print(groups_cnt.loc[groups_sum[\"No1\"].idxmax()][\"No1\"])"
   ]
  },
  {
   "cell_type": "markdown",
   "metadata": {},
   "source": [
    "## 用字典定义分组"
   ]
  },
  {
   "cell_type": "code",
   "execution_count": 35,
   "metadata": {},
   "outputs": [
    {
     "data": {
      "text/html": [
       "<div>\n",
       "<style scoped>\n",
       "    .dataframe tbody tr th:only-of-type {\n",
       "        vertical-align: middle;\n",
       "    }\n",
       "\n",
       "    .dataframe tbody tr th {\n",
       "        vertical-align: top;\n",
       "    }\n",
       "\n",
       "    .dataframe thead th {\n",
       "        text-align: right;\n",
       "    }\n",
       "</style>\n",
       "<table border=\"1\" class=\"dataframe\">\n",
       "  <thead>\n",
       "    <tr style=\"text-align: right;\">\n",
       "      <th></th>\n",
       "      <th>Animal</th>\n",
       "      <th>Max Speed</th>\n",
       "      <th>Count</th>\n",
       "    </tr>\n",
       "  </thead>\n",
       "  <tbody>\n",
       "    <tr>\n",
       "      <th>0</th>\n",
       "      <td>Falcon</td>\n",
       "      <td>380.0</td>\n",
       "      <td>100</td>\n",
       "    </tr>\n",
       "    <tr>\n",
       "      <th>1</th>\n",
       "      <td>Falcon</td>\n",
       "      <td>370.0</td>\n",
       "      <td>370</td>\n",
       "    </tr>\n",
       "    <tr>\n",
       "      <th>2</th>\n",
       "      <td>Parrot</td>\n",
       "      <td>24.0</td>\n",
       "      <td>24</td>\n",
       "    </tr>\n",
       "    <tr>\n",
       "      <th>3</th>\n",
       "      <td>Parrot</td>\n",
       "      <td>26.0</td>\n",
       "      <td>26</td>\n",
       "    </tr>\n",
       "  </tbody>\n",
       "</table>\n",
       "</div>"
      ],
      "text/plain": [
       "   Animal  Max Speed  Count\n",
       "0  Falcon      380.0    100\n",
       "1  Falcon      370.0    370\n",
       "2  Parrot       24.0     24\n",
       "3  Parrot       26.0     26"
      ]
     },
     "execution_count": 35,
     "metadata": {},
     "output_type": "execute_result"
    }
   ],
   "source": [
    "df_usefor_groupby_dict = pd.DataFrame({\n",
    "    'Animal': ['Falcon', 'Falcon', 'Parrot', 'Parrot'],\n",
    "    'Max Speed': [380., 370., 24., 26.],\n",
    "    'Count': [100, 370, 24, 26]})\n",
    "df_usefor_groupby_dict"
   ]
  },
  {
   "cell_type": "code",
   "execution_count": 33,
   "metadata": {},
   "outputs": [
    {
     "name": "stderr",
     "output_type": "stream",
     "text": [
      "C:\\Users\\lianbche\\AppData\\Local\\Temp\\ipykernel_13512\\1472673647.py:2: FutureWarning: DataFrame.groupby with axis=1 is deprecated. Do `frame.T.groupby(...)` without axis instead.\n",
      "  df_usefor_groupby_dict.groupby(my_dict, axis=1).sum()\n"
     ]
    },
    {
     "data": {
      "text/html": [
       "<div>\n",
       "<style scoped>\n",
       "    .dataframe tbody tr th:only-of-type {\n",
       "        vertical-align: middle;\n",
       "    }\n",
       "\n",
       "    .dataframe tbody tr th {\n",
       "        vertical-align: top;\n",
       "    }\n",
       "\n",
       "    .dataframe thead th {\n",
       "        text-align: right;\n",
       "    }\n",
       "</style>\n",
       "<table border=\"1\" class=\"dataframe\">\n",
       "  <thead>\n",
       "    <tr style=\"text-align: right;\">\n",
       "      <th></th>\n",
       "      <th>A</th>\n",
       "    </tr>\n",
       "  </thead>\n",
       "  <tbody>\n",
       "    <tr>\n",
       "      <th>0</th>\n",
       "      <td>480.0</td>\n",
       "    </tr>\n",
       "    <tr>\n",
       "      <th>1</th>\n",
       "      <td>740.0</td>\n",
       "    </tr>\n",
       "    <tr>\n",
       "      <th>2</th>\n",
       "      <td>48.0</td>\n",
       "    </tr>\n",
       "    <tr>\n",
       "      <th>3</th>\n",
       "      <td>52.0</td>\n",
       "    </tr>\n",
       "  </tbody>\n",
       "</table>\n",
       "</div>"
      ],
      "text/plain": [
       "       A\n",
       "0  480.0\n",
       "1  740.0\n",
       "2   48.0\n",
       "3   52.0"
      ]
     },
     "execution_count": 33,
     "metadata": {},
     "output_type": "execute_result"
    }
   ],
   "source": [
    "my_dict = {'Max Speed' : 'A', 'Count' : 'A'}\n",
    "df_usefor_groupby_dict.groupby(my_dict, axis=1).sum()"
   ]
  },
  {
   "cell_type": "code",
   "execution_count": 38,
   "metadata": {},
   "outputs": [
    {
     "data": {
      "text/html": [
       "<div>\n",
       "<style scoped>\n",
       "    .dataframe tbody tr th:only-of-type {\n",
       "        vertical-align: middle;\n",
       "    }\n",
       "\n",
       "    .dataframe tbody tr th {\n",
       "        vertical-align: top;\n",
       "    }\n",
       "\n",
       "    .dataframe thead th {\n",
       "        text-align: right;\n",
       "    }\n",
       "</style>\n",
       "<table border=\"1\" class=\"dataframe\">\n",
       "  <thead>\n",
       "    <tr style=\"text-align: right;\">\n",
       "      <th></th>\n",
       "      <th>0</th>\n",
       "      <th>1</th>\n",
       "      <th>2</th>\n",
       "      <th>3</th>\n",
       "    </tr>\n",
       "  </thead>\n",
       "  <tbody>\n",
       "    <tr>\n",
       "      <th>Animal</th>\n",
       "      <td>Falcon</td>\n",
       "      <td>Falcon</td>\n",
       "      <td>Parrot</td>\n",
       "      <td>Parrot</td>\n",
       "    </tr>\n",
       "    <tr>\n",
       "      <th>Max Speed</th>\n",
       "      <td>380.0</td>\n",
       "      <td>370.0</td>\n",
       "      <td>24.0</td>\n",
       "      <td>26.0</td>\n",
       "    </tr>\n",
       "    <tr>\n",
       "      <th>Count</th>\n",
       "      <td>100</td>\n",
       "      <td>370</td>\n",
       "      <td>24</td>\n",
       "      <td>26</td>\n",
       "    </tr>\n",
       "  </tbody>\n",
       "</table>\n",
       "</div>"
      ],
      "text/plain": [
       "                0       1       2       3\n",
       "Animal     Falcon  Falcon  Parrot  Parrot\n",
       "Max Speed   380.0   370.0    24.0    26.0\n",
       "Count         100     370      24      26"
      ]
     },
     "execution_count": 38,
     "metadata": {},
     "output_type": "execute_result"
    }
   ],
   "source": [
    "df_usefor_groupby_dict.T"
   ]
  },
  {
   "cell_type": "code",
   "execution_count": 36,
   "metadata": {},
   "outputs": [
    {
     "data": {
      "text/html": [
       "<div>\n",
       "<style scoped>\n",
       "    .dataframe tbody tr th:only-of-type {\n",
       "        vertical-align: middle;\n",
       "    }\n",
       "\n",
       "    .dataframe tbody tr th {\n",
       "        vertical-align: top;\n",
       "    }\n",
       "\n",
       "    .dataframe thead th {\n",
       "        text-align: right;\n",
       "    }\n",
       "</style>\n",
       "<table border=\"1\" class=\"dataframe\">\n",
       "  <thead>\n",
       "    <tr style=\"text-align: right;\">\n",
       "      <th></th>\n",
       "      <th>0</th>\n",
       "      <th>1</th>\n",
       "      <th>2</th>\n",
       "      <th>3</th>\n",
       "    </tr>\n",
       "  </thead>\n",
       "  <tbody>\n",
       "    <tr>\n",
       "      <th>A</th>\n",
       "      <td>480.0</td>\n",
       "      <td>740.0</td>\n",
       "      <td>48.0</td>\n",
       "      <td>52.0</td>\n",
       "    </tr>\n",
       "  </tbody>\n",
       "</table>\n",
       "</div>"
      ],
      "text/plain": [
       "       0      1     2     3\n",
       "A  480.0  740.0  48.0  52.0"
      ]
     },
     "execution_count": 36,
     "metadata": {},
     "output_type": "execute_result"
    }
   ],
   "source": [
    "df_usefor_groupby_dict.T.groupby(my_dict).sum()"
   ]
  },
  {
   "cell_type": "markdown",
   "metadata": {},
   "source": [
    "## GroupBy to Dataframe"
   ]
  },
  {
   "cell_type": "code",
   "execution_count": 31,
   "metadata": {},
   "outputs": [
    {
     "name": "stdout",
     "output_type": "stream",
     "text": [
      "   sfn  slot   in  out\n",
      "0  697     3  533  546\n",
      "1  697     4  165  176\n",
      "2  697     4  634  645\n",
      "3  697     5  165  171\n",
      "4  697     5  184  208\n"
     ]
    },
    {
     "data": {
      "text/html": [
       "<div>\n",
       "<style scoped>\n",
       "    .dataframe tbody tr th:only-of-type {\n",
       "        vertical-align: middle;\n",
       "    }\n",
       "\n",
       "    .dataframe tbody tr th {\n",
       "        vertical-align: top;\n",
       "    }\n",
       "\n",
       "    .dataframe thead th {\n",
       "        text-align: right;\n",
       "    }\n",
       "</style>\n",
       "<table border=\"1\" class=\"dataframe\">\n",
       "  <thead>\n",
       "    <tr style=\"text-align: right;\">\n",
       "      <th></th>\n",
       "      <th>sfn</th>\n",
       "      <th>slot</th>\n",
       "      <th>in</th>\n",
       "      <th>out</th>\n",
       "    </tr>\n",
       "  </thead>\n",
       "  <tbody>\n",
       "    <tr>\n",
       "      <th>0</th>\n",
       "      <td>697</td>\n",
       "      <td>3</td>\n",
       "      <td>1</td>\n",
       "      <td>1</td>\n",
       "    </tr>\n",
       "    <tr>\n",
       "      <th>1</th>\n",
       "      <td>697</td>\n",
       "      <td>4</td>\n",
       "      <td>2</td>\n",
       "      <td>2</td>\n",
       "    </tr>\n",
       "    <tr>\n",
       "      <th>2</th>\n",
       "      <td>697</td>\n",
       "      <td>5</td>\n",
       "      <td>2</td>\n",
       "      <td>2</td>\n",
       "    </tr>\n",
       "  </tbody>\n",
       "</table>\n",
       "</div>"
      ],
      "text/plain": [
       "   sfn  slot  in  out\n",
       "0  697     3   1    1\n",
       "1  697     4   2    2\n",
       "2  697     5   2    2"
      ]
     },
     "execution_count": 31,
     "metadata": {},
     "output_type": "execute_result"
    }
   ],
   "source": [
    "import pandas as pd\n",
    "\n",
    "df = pd.read_csv('transform_data.csv')\n",
    "print(df)\n",
    "\n",
    "groups = df.groupby(['sfn', 'slot'])\n",
    "#groups.size().to_frame(name='count').reset_index()\n",
    "groups.count().reset_index()"
   ]
  },
  {
   "cell_type": "markdown",
   "metadata": {},
   "source": [
    "## transform"
   ]
  },
  {
   "cell_type": "code",
   "execution_count": 45,
   "metadata": {},
   "outputs": [
    {
     "name": "stdout",
     "output_type": "stream",
     "text": [
      "TIME COST: 0.012050151824951172\n",
      "       sfn  slot  handleMsgOffsetInSlot  sendPayloadOffsetInSlot  cost\n",
      "0      697     3                    533                      546    13\n",
      "1      697     4                    165                      176   480\n",
      "30     697     5                    165                      171   477\n",
      "58     697     6                    161                      179   482\n",
      "90     697     7                    170                      196   475\n",
      "...    ...   ...                    ...                      ...   ...\n",
      "30343  800     0                    172                      182   402\n",
      "30373  800     1                    178                      188   426\n",
      "30400  800     2                    176                      185   422\n",
      "30429  800     4                    162                      176   458\n",
      "30462  800     6                    161                      172   467\n",
      "\n",
      "[962 rows x 5 columns]\n"
     ]
    }
   ],
   "source": [
    "import time\n",
    "import pandas as pd\n",
    "\n",
    "df = pd.read_csv('transform_data.csv')\n",
    "\n",
    "t1 = time.time()\n",
    "groups = df.groupby(['sfn', 'slot'])\n",
    "df['cost'] = groups['out'].transform('last') - groups['in'].transform('first')\n",
    "df = df.drop_duplicates(subset=['sfn', 'slot'], keep='first')\n",
    "t2 = time.time()\n",
    "\n",
    "print('TIME COST: {}'.format(t2 - t1))\n",
    "print(df)\n"
   ]
  },
  {
   "cell_type": "markdown",
   "metadata": {},
   "source": [
    "## stack"
   ]
  },
  {
   "cell_type": "code",
   "execution_count": 1,
   "metadata": {},
   "outputs": [
    {
     "name": "stdout",
     "output_type": "stream",
     "text": [
      "<pandas.core.groupby.generic.DataFrameGroupBy object at 0x000001CFF2B3FE50>\n"
     ]
    }
   ],
   "source": [
    "import time\n",
    "import pandas as pd\n",
    "\n",
    "df = pd.read_csv('transform_data.csv')\n",
    "\n",
    "groups = df.groupby(['sfn', 'slot'])\n",
    "\n",
    "print(groups)"
   ]
  },
  {
   "cell_type": "code",
   "execution_count": 2,
   "metadata": {},
   "outputs": [
    {
     "data": {
      "image/png": "[encoded data removed]",
      "text/plain": [
       "<Figure size 1000x600 with 1 Axes>"
      ]
     },
     "metadata": {},
     "output_type": "display_data"
    }
   ],
   "source": [
    "import pandas as pd\n",
    "import numpy as np\n",
    "import matplotlib.pyplot as plt\n",
    "\n",
    "# 创建示例数据\n",
    "np.random.seed(42)\n",
    "dates = pd.date_range('2023-01-01', periods=100)\n",
    "df = pd.DataFrame({\n",
    "    'date': np.random.choice(dates, 100),\n",
    "    'group': np.random.choice(['A', 'B', 'C'], 100),\n",
    "    'value': np.random.randn(100)\n",
    "})\n",
    "\n",
    "# 对每个组进行groupby，并计算每日平均值\n",
    "grouped_A = df[df['group'] == 'A'].groupby('date')['value'].mean()\n",
    "grouped_B = df[df['group'] == 'B'].groupby('date')['value'].mean()\n",
    "grouped_C = df[df['group'] == 'C'].groupby('date')['value'].mean()\n",
    "\n",
    "# 创建一个包含所有日期的完整索引\n",
    "full_index = pd.date_range(df['date'].min(), df['date'].max())\n",
    "\n",
    "# 重新索引每个groupby结果以对齐日期\n",
    "grouped_A = grouped_A.reindex(full_index, fill_value=0)\n",
    "grouped_B = grouped_B.reindex(full_index, fill_value=0)\n",
    "grouped_C = grouped_C.reindex(full_index, fill_value=0)\n",
    "\n",
    "# 将所有groupby结果合并到一个数据框中\n",
    "result = pd.DataFrame({\n",
    "    'A': grouped_A,\n",
    "    'B': grouped_B,\n",
    "    'C': grouped_C\n",
    "})\n",
    "\n",
    "# 绘制图表\n",
    "plt.figure(figsize=(10, 6))\n",
    "plt.plot(result.index, result['A'], label='Group A')\n",
    "plt.plot(result.index, result['B'], label='Group B')\n",
    "plt.plot(result.index, result['C'], label='Group C')\n",
    "\n",
    "plt.xlabel('Date')\n",
    "plt.ylabel('Mean Value')\n",
    "plt.title('Groupby Results Aligned on the Same Axis')\n",
    "plt.legend()\n",
    "plt.show()\n"
   ]
  }
 ],
 "metadata": {
  "kernelspec": {
   "display_name": "Python 3",
   "language": "python",
   "name": "python3"
  },
  "language_info": {
   "codemirror_mode": {
    "name": "ipython",
    "version": 3
   },
   "file_extension": ".py",
   "mimetype": "text/x-python",
   "name": "python",
   "nbconvert_exporter": "python",
   "pygments_lexer": "ipython3",
   "version": "3.12.1"
  },
  "orig_nbformat": 4
 },
 "nbformat": 4,
 "nbformat_minor": 2
}
