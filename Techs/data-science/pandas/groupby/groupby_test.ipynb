{
 "cells": [
  {
   "attachments": {},
   "cell_type": "markdown",
   "metadata": {},
   "source": [
    "## groupby 单列\n",
    "\n",
    "groupby 操作之后可以求和。"
   ]
  },
  {
   "cell_type": "code",
   "execution_count": 2,
   "metadata": {},
   "outputs": [
    {
     "name": "stdout",
     "output_type": "stream",
     "text": [
      "                 Timestamp  rlcPduBytes  nrCellIdentity\n",
      "0  2023-05-26T15:59:49.062     18462236               0\n",
      "1  2023-05-26T15:59:50.086     19321432               0\n",
      "2  2023-05-26T15:59:51.110     19321432               0\n",
      "3  2023-05-26T15:59:52.134     19300476               0\n",
      "4  2023-05-26T15:59:53.158     19321432               0\n",
      "5  2023-05-26T15:59:54.182     19300476               0\n",
      "6  2023-05-26T15:59:55.206     19321432               0\n",
      "7  2023-05-26T15:59:56.231     19321432               0\n",
      "8  2023-05-26T15:59:57.255     19300476               0\n",
      "-----------------\n",
      "                         rlcPduBytes  nrCellIdentity\n",
      "Timestamp                                           \n",
      "2023-05-26T15:59:49.062     18462236               0\n",
      "2023-05-26T15:59:50.086     19321432               0\n",
      "2023-05-26T15:59:51.110     19321432               0\n",
      "2023-05-26T15:59:52.134     19300476               0\n",
      "2023-05-26T15:59:53.158     19321432               0\n",
      "2023-05-26T15:59:54.182     19300476               0\n",
      "2023-05-26T15:59:55.206     19321432               0\n",
      "2023-05-26T15:59:56.231     19321432               0\n",
      "2023-05-26T15:59:57.255     19300476               0\n",
      "-----------------\n",
      "                         rlcPduBytes  nrCellIdentity\n",
      "Timestamp                                           \n",
      "2023-05-26T15:59:49.062            1               1\n",
      "2023-05-26T15:59:50.086            1               1\n",
      "2023-05-26T15:59:51.110            1               1\n",
      "2023-05-26T15:59:52.134            1               1\n",
      "2023-05-26T15:59:53.158            1               1\n",
      "2023-05-26T15:59:54.182            1               1\n",
      "2023-05-26T15:59:55.206            1               1\n",
      "2023-05-26T15:59:56.231            1               1\n",
      "2023-05-26T15:59:57.255            1               1\n"
     ]
    }
   ],
   "source": [
    "import pandas as pd\n",
    "\n",
    "df = pd.read_csv(\"ex_data.csv\", index_col=0)\n",
    "print(df)\n",
    "\n",
    "print(\"-----------------\")\n",
    "df2 = df.groupby(['Timestamp']).sum()\n",
    "print(df2)\n",
    "\n",
    "print(\"-----------------\")\n",
    "df3 = df.groupby(['Timestamp']).count()\n",
    "print(df3)\n"
   ]
  },
  {
   "cell_type": "code",
   "execution_count": 19,
   "metadata": {},
   "outputs": [
    {
     "name": "stdout",
     "output_type": "stream",
     "text": [
      "                 No1       No2       No3       No4 Quarter Week\n",
      "2015-01-31  0.748876 -0.067868  0.198598  0.285571      Q1   W1\n",
      "2015-02-28 -0.618378 -0.118754  0.837639 -0.248414      Q1   W1\n",
      "2015-03-31 -1.243018 -0.226583 -0.895810  0.236261      Q1   W2\n",
      "2015-04-30  0.634905  0.002535 -0.345042 -2.104634      Q2   W1\n",
      "2015-05-31  0.027536  0.405534 -1.310834  0.283612      Q2   W2\n",
      "2015-06-30  0.005674  0.335744 -0.856887  0.740840      Q2   W3\n",
      "2015-07-31 -0.880063  0.773759 -1.283782 -0.340073      Q3   W1\n",
      "2015-08-31 -0.179156 -0.785114  0.815794 -1.150445      Q3   W2\n",
      "2015-09-30 -0.911168 -1.182747  1.812109  0.430336      Q3   W3\n",
      "                   No1       No2       No3       No4\n",
      "Quarter Week                                        \n",
      "Q1      W1    0.130498 -0.186622  1.036237  0.037157\n",
      "        W2   -1.243018 -0.226583 -0.895810  0.236261\n",
      "Q2      W1    0.634905  0.002535 -0.345042 -2.104634\n",
      "        W2    0.027536  0.405534 -1.310834  0.283612\n",
      "        W3    0.005674  0.335744 -0.856887  0.740840\n",
      "Q3      W1   -0.880063  0.773759 -1.283782 -0.340073\n",
      "        W2   -0.179156 -0.785114  0.815794 -1.150445\n",
      "        W3   -0.911168 -1.182747  1.812109  0.430336\n",
      "0.634905\n",
      "('Q2', 'W1')\n",
      "<class 'tuple'>\n",
      "0.634905\n",
      "              No1  No2  No3  No4\n",
      "Quarter Week                    \n",
      "Q1      W1      2    2    2    2\n",
      "        W2      1    1    1    1\n",
      "Q2      W1      1    1    1    1\n",
      "        W2      1    1    1    1\n",
      "        W3      1    1    1    1\n",
      "Q3      W1      1    1    1    1\n",
      "        W2      1    1    1    1\n",
      "        W3      1    1    1    1\n",
      "1\n"
     ]
    }
   ],
   "source": [
    "import numpy as np\n",
    "import pandas as pd\n",
    "import matplotlib\n",
    "import matplotlib.pyplot as plt\n",
    "\n",
    "df = pd.DataFrame(np.random.standard_normal((9, 4)).round(6))\n",
    "df.columns = ['No1', 'No2', 'No3', 'No4'] # 更改列名。\n",
    "df.index =  pd.date_range('2015-1-1', periods=9, freq='M')\n",
    "\n",
    "# 添加两列，便于后面进行groupby操作\n",
    "df['Quarter'] = ['Q1', 'Q1', 'Q1', 'Q2', 'Q2', 'Q2', 'Q3', 'Q3', 'Q3']\n",
    "df['Week'] = ['W1', 'W1', 'W2', 'W1', 'W2', 'W3', 'W1', 'W2', 'W3']\n",
    "print(df)\n",
    "\n",
    "#\n",
    "groups_sum = df.groupby([\"Quarter\", \"Week\"]).sum()\n",
    "print(groups_sum)\n",
    "print(groups_sum[\"No1\"].max())\n",
    "print(groups_sum[\"No1\"].idxmax())\n",
    "print(type(groups_sum[\"No1\"].idxmax()))\n",
    "print(groups_sum.loc[groups_sum[\"No1\"].idxmax()][\"No1\"])\n",
    "\n",
    "groups_cnt = df.groupby([\"Quarter\", \"Week\"]).count()\n",
    "print(groups_cnt)\n",
    "print(groups_cnt.loc[groups_sum[\"No1\"].idxmax()][\"No1\"])"
   ]
  },
  {
   "cell_type": "markdown",
   "metadata": {},
   "source": [
    "## GroupBy to Dataframe"
   ]
  },
  {
   "cell_type": "code",
   "execution_count": 31,
   "metadata": {},
   "outputs": [
    {
     "name": "stdout",
     "output_type": "stream",
     "text": [
      "   sfn  slot   in  out\n",
      "0  697     3  533  546\n",
      "1  697     4  165  176\n",
      "2  697     4  634  645\n",
      "3  697     5  165  171\n",
      "4  697     5  184  208\n"
     ]
    },
    {
     "data": {
      "text/html": [
       "<div>\n",
       "<style scoped>\n",
       "    .dataframe tbody tr th:only-of-type {\n",
       "        vertical-align: middle;\n",
       "    }\n",
       "\n",
       "    .dataframe tbody tr th {\n",
       "        vertical-align: top;\n",
       "    }\n",
       "\n",
       "    .dataframe thead th {\n",
       "        text-align: right;\n",
       "    }\n",
       "</style>\n",
       "<table border=\"1\" class=\"dataframe\">\n",
       "  <thead>\n",
       "    <tr style=\"text-align: right;\">\n",
       "      <th></th>\n",
       "      <th>sfn</th>\n",
       "      <th>slot</th>\n",
       "      <th>in</th>\n",
       "      <th>out</th>\n",
       "    </tr>\n",
       "  </thead>\n",
       "  <tbody>\n",
       "    <tr>\n",
       "      <th>0</th>\n",
       "      <td>697</td>\n",
       "      <td>3</td>\n",
       "      <td>1</td>\n",
       "      <td>1</td>\n",
       "    </tr>\n",
       "    <tr>\n",
       "      <th>1</th>\n",
       "      <td>697</td>\n",
       "      <td>4</td>\n",
       "      <td>2</td>\n",
       "      <td>2</td>\n",
       "    </tr>\n",
       "    <tr>\n",
       "      <th>2</th>\n",
       "      <td>697</td>\n",
       "      <td>5</td>\n",
       "      <td>2</td>\n",
       "      <td>2</td>\n",
       "    </tr>\n",
       "  </tbody>\n",
       "</table>\n",
       "</div>"
      ],
      "text/plain": [
       "   sfn  slot  in  out\n",
       "0  697     3   1    1\n",
       "1  697     4   2    2\n",
       "2  697     5   2    2"
      ]
     },
     "execution_count": 31,
     "metadata": {},
     "output_type": "execute_result"
    }
   ],
   "source": [
    "import pandas as pd\n",
    "\n",
    "df = pd.read_csv('transform_data.csv')\n",
    "print(df)\n",
    "\n",
    "groups = df.groupby(['sfn', 'slot'])\n",
    "#groups.size().to_frame(name='count').reset_index()\n",
    "groups.count().reset_index()"
   ]
  },
  {
   "cell_type": "markdown",
   "metadata": {},
   "source": [
    "## transform"
   ]
  },
  {
   "cell_type": "code",
   "execution_count": 45,
   "metadata": {},
   "outputs": [
    {
     "name": "stdout",
     "output_type": "stream",
     "text": [
      "TIME COST: 0.012050151824951172\n",
      "       sfn  slot  handleMsgOffsetInSlot  sendPayloadOffsetInSlot  cost\n",
      "0      697     3                    533                      546    13\n",
      "1      697     4                    165                      176   480\n",
      "30     697     5                    165                      171   477\n",
      "58     697     6                    161                      179   482\n",
      "90     697     7                    170                      196   475\n",
      "...    ...   ...                    ...                      ...   ...\n",
      "30343  800     0                    172                      182   402\n",
      "30373  800     1                    178                      188   426\n",
      "30400  800     2                    176                      185   422\n",
      "30429  800     4                    162                      176   458\n",
      "30462  800     6                    161                      172   467\n",
      "\n",
      "[962 rows x 5 columns]\n"
     ]
    }
   ],
   "source": [
    "import time\n",
    "import pandas as pd\n",
    "\n",
    "df = pd.read_csv('transform_data.csv')\n",
    "\n",
    "t1 = time.time()\n",
    "groups = df.groupby(['sfn', 'slot'])\n",
    "df['cost'] = groups['out'].transform('last') - groups['in'].transform('first')\n",
    "df = df.drop_duplicates(subset=['sfn', 'slot'], keep='first')\n",
    "t2 = time.time()\n",
    "\n",
    "print('TIME COST: {}'.format(t2 - t1))\n",
    "print(df)\n"
   ]
  },
  {
   "cell_type": "code",
   "execution_count": 44,
   "metadata": {},
   "outputs": [
    {
     "name": "stdout",
     "output_type": "stream",
     "text": [
      "TIME COST: 0.011004447937011719\n",
      "     sfn  slot  handleMsgOffsetInSlot  sendPayloadOffsetInSlot  cost\n",
      "0    697     3                      1                        1    13\n",
      "1    697     4                     29                       29   480\n",
      "2    697     5                     28                       28   477\n",
      "3    697     6                     32                       32   482\n",
      "4    697     7                     27                       27   475\n",
      "..   ...   ...                    ...                      ...   ...\n",
      "957  800     0                     30                       30   402\n",
      "958  800     1                     27                       27   426\n",
      "959  800     2                     29                       29   422\n",
      "960  800     4                     33                       33   458\n",
      "961  800     6                     30                       30   467\n",
      "\n",
      "[962 rows x 5 columns]\n"
     ]
    }
   ],
   "source": [
    "import time\n",
    "import pandas as pd\n",
    "\n",
    "df = pd.read_csv('transform_data.csv')\n",
    "\n",
    "t1 = time.time()\n",
    "groups = df.groupby(['sfn', 'slot'])\n",
    "new_df = groups.count()\n",
    "new_df['cost'] = groups['out'].last() - groups['in'].first()\n",
    "new_df = new_df.reset_index()\n",
    "t2 = time.time()\n",
    "\n",
    "print('TIME COST: {}'.format(t2 - t1))\n",
    "print(new_df)\n",
    "\n"
   ]
  }
 ],
 "metadata": {
  "kernelspec": {
   "display_name": "Python 3",
   "language": "python",
   "name": "python3"
  },
  "language_info": {
   "codemirror_mode": {
    "name": "ipython",
    "version": 3
   },
   "file_extension": ".py",
   "mimetype": "text/x-python",
   "name": "python",
   "nbconvert_exporter": "python",
   "pygments_lexer": "ipython3",
   "version": "3.9.9"
  },
  "orig_nbformat": 4
 },
 "nbformat": 4,
 "nbformat_minor": 2
}
