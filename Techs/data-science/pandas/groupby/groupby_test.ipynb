{
 "cells": [
  {
   "cell_type": "code",
   "execution_count": 10,
   "metadata": {},
   "outputs": [
    {
     "name": "stdout",
     "output_type": "stream",
     "text": [
      "                 Timestamp  rlcPduBytes  nrCellIdentity\n",
      "0  2023-05-26T15:59:49.062     18462236               0\n",
      "1  2023-05-26T15:59:50.086     19321432               0\n",
      "2  2023-05-26T15:59:51.110     19321432               0\n",
      "3  2023-05-26T15:59:52.134     19300476               0\n",
      "4  2023-05-26T15:59:53.158     19321432               0\n",
      "5  2023-05-26T15:59:54.182     19300476               0\n",
      "6  2023-05-26T15:59:55.206     19321432               0\n",
      "7  2023-05-26T15:59:56.231     19321432               0\n",
      "8  2023-05-26T15:59:57.255     19300476               0\n",
      "                         rlcPduBytes  nrCellIdentity\n",
      "Timestamp                                           \n",
      "2023-05-26T15:59:49.062     18462236               0\n",
      "2023-05-26T15:59:50.086     19321432               0\n",
      "2023-05-26T15:59:51.110     19321432               0\n",
      "2023-05-26T15:59:52.134     19300476               0\n",
      "2023-05-26T15:59:53.158     19321432               0\n",
      "2023-05-26T15:59:54.182     19300476               0\n",
      "2023-05-26T15:59:55.206     19321432               0\n",
      "2023-05-26T15:59:56.231     19321432               0\n",
      "2023-05-26T15:59:57.255     19300476               0\n",
      "<class 'pandas.core.frame.DataFrame'>\n",
      "Index: 9 entries, 2023-05-26T15:59:49.062 to 2023-05-26T15:59:57.255\n",
      "Data columns (total 2 columns):\n",
      " #   Column          Non-Null Count  Dtype\n",
      "---  ------          --------------  -----\n",
      " 0   rlcPduBytes     9 non-null      int64\n",
      " 1   nrCellIdentity  9 non-null      int64\n",
      "dtypes: int64(2)\n",
      "memory usage: 216.0+ bytes\n",
      "None\n"
     ]
    }
   ],
   "source": [
    "import pandas as pd\n",
    "\n",
    "df = pd.read_csv(\"ex_data.csv\", index_col=0)\n",
    "print(df)\n",
    "print(df.dtypes)\n",
    "\n",
    "print(\"-----------------\")\n",
    "df2 = df.groupby(['Timestamp']).sum()\n",
    "print(df2.dtypes)\n",
    "print(df2)\n",
    "print(df2.info())\n"
   ]
  }
 ],
 "metadata": {
  "kernelspec": {
   "display_name": "Python 3",
   "language": "python",
   "name": "python3"
  },
  "language_info": {
   "codemirror_mode": {
    "name": "ipython",
    "version": 3
   },
   "file_extension": ".py",
   "mimetype": "text/x-python",
   "name": "python",
   "nbconvert_exporter": "python",
   "pygments_lexer": "ipython3",
   "version": "3.9.5"
  },
  "orig_nbformat": 4
 },
 "nbformat": 4,
 "nbformat_minor": 2
}
