{
 "cells": [
  {
   "cell_type": "code",
   "execution_count": 1,
   "metadata": {},
   "outputs": [
    {
     "name": "stdout",
     "output_type": "stream",
     "text": [
      "[1000 2000  500]\n",
      "<class 'numpy.ndarray'>\n",
      "Index(['oli', 'tae', 'Oed'], dtype='object')\n",
      "<class 'pandas.core.indexes.base.Index'>\n",
      "2000\n",
      "<class 'numpy.int64'>\n"
     ]
    }
   ],
   "source": [
    "import pandas as pd\n",
    "\n",
    "data = {'oli': 1000, 'tae': 2000, 'Oed': 500}\n",
    "obj = pd.Series(data)\n",
    "\n",
    "# s.values的类型\n",
    "print(obj.values)\n",
    "print(type(obj.values))\n",
    "\n",
    "# s.index的类型\n",
    "print(obj.index)\n",
    "print(type(obj.index))\n",
    "\n",
    "# 元素的类型\n",
    "print(obj['tae'])\n",
    "print(type(obj['tae']))\n",
    "\n"
   ]
  },
  {
   "cell_type": "code",
   "execution_count": 2,
   "metadata": {},
   "outputs": [
    {
     "name": "stdout",
     "output_type": "stream",
     "text": [
      "b\n",
      "<class 'str'>\n"
     ]
    }
   ],
   "source": [
    "import pandas as pd\n",
    "\n",
    "my_d = {'a': 1000, 'b': 2000, 'c': 500}\n",
    "my_s = pd.Series(my_d)\n",
    "\n",
    "# 最大值的索引\n",
    "print(my_s.idxmax())\n",
    "print(type(my_s.idxmax()))"
   ]
  }
 ],
 "metadata": {
  "kernelspec": {
   "display_name": "Python 3",
   "language": "python",
   "name": "python3"
  },
  "language_info": {
   "codemirror_mode": {
    "name": "ipython",
    "version": 3
   },
   "file_extension": ".py",
   "mimetype": "text/x-python",
   "name": "python",
   "nbconvert_exporter": "python",
   "pygments_lexer": "ipython3",
   "version": "3.9.9"
  }
 },
 "nbformat": 4,
 "nbformat_minor": 2
}
