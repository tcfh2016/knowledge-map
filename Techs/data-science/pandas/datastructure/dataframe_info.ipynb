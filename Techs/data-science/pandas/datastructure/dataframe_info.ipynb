{
 "cells": [
  {
   "attachments": {},
   "cell_type": "markdown",
   "metadata": {},
   "source": [
    "## 查看数据类型\n",
    "\n",
    "- `df.dtypes`\n",
    "- `df.info()`"
   ]
  },
  {
   "cell_type": "code",
   "execution_count": 5,
   "metadata": {},
   "outputs": [
    {
     "name": "stdout",
     "output_type": "stream",
     "text": [
      "  class  math  physics\n",
      "0   303    14       64\n",
      "1   202    74       18\n",
      "--------\n",
      "<class 'pandas.core.frame.DataFrame'>\n",
      "RangeIndex: 2 entries, 0 to 1\n",
      "Data columns (total 3 columns):\n",
      " #   Column   Non-Null Count  Dtype \n",
      "---  ------   --------------  ----- \n",
      " 0   class    2 non-null      object\n",
      " 1   math     2 non-null      int32 \n",
      " 2   physics  2 non-null      int32 \n",
      "dtypes: int32(2), object(1)\n",
      "memory usage: 164.0+ bytes\n",
      "None\n",
      "--------\n",
      "            math    physics\n",
      "count   2.000000   2.000000\n",
      "mean   44.000000  41.000000\n",
      "std    42.426407  32.526912\n",
      "min    14.000000  18.000000\n",
      "25%    29.000000  29.500000\n",
      "50%    44.000000  41.000000\n",
      "75%    59.000000  52.500000\n",
      "max    74.000000  64.000000\n"
     ]
    }
   ],
   "source": [
    "import pandas as pd\n",
    "import numpy as np\n",
    "\n",
    "classes = [\"101\", \"202\", \"303\"]\n",
    "df = pd.DataFrame(\n",
    "    {\n",
    "        \"class\":[classes[x] for x in np.random.randint(0, len(classes), 2)],\n",
    "        \"math\":np.random.randint(0, 100, 2),\n",
    "        \"physics\":np.random.randint(0, 100, 2)  \n",
    "    })\n",
    "\n",
    "print(df)\n",
    "print(\"--------\")\n",
    "print(df.info())\n",
    "print(\"--------\")\n",
    "print(df.describe(include='int32'))"
   ]
  },
  {
   "attachments": {},
   "cell_type": "markdown",
   "metadata": {},
   "source": [
    "## 取消科学计数法"
   ]
  },
  {
   "cell_type": "code",
   "execution_count": 4,
   "metadata": {},
   "outputs": [
    {
     "name": "stdout",
     "output_type": "stream",
     "text": [
      "      A     B   C\n",
      "0 -1.52  0.57  31\n",
      "1  0.31 -0.77  93\n",
      "2 -1.67 -0.92  75\n",
      "3 -0.53 -0.17  37\n",
      "4 -1.03 -2.71  84\n"
     ]
    }
   ],
   "source": [
    "import pandas as pd\n",
    "import numpy as np\n",
    "\n",
    "df = pd.DataFrame(\n",
    "    {\n",
    "        'A' : np.random.standard_normal(5),\n",
    "        'B' : np.random.standard_normal(5),\n",
    "        'C' : np.random.randint(0, 100, 5),\n",
    "    }\n",
    ")\n",
    "#pd.set_option('display.float_format', lambda x: '%.2f' % x)\n",
    "#pd.set_option('display.float_format', \"{:.2f}\".format)\n",
    "pd.set_option('precision', 2)\n",
    "\n",
    "print(df)"
   ]
  }
 ],
 "metadata": {
  "kernelspec": {
   "display_name": "Python 3 (ipykernel)",
   "language": "python",
   "name": "python3"
  },
  "language_info": {
   "codemirror_mode": {
    "name": "ipython",
    "version": 3
   },
   "file_extension": ".py",
   "mimetype": "text/x-python",
   "name": "python",
   "nbconvert_exporter": "python",
   "pygments_lexer": "ipython3",
   "version": "3.12.1"
  },
  "orig_nbformat": 4
 },
 "nbformat": 4,
 "nbformat_minor": 2
}
