{
 "cells": [
  {
   "cell_type": "markdown",
   "metadata": {},
   "source": [
    "## 创建`dataframe`"
   ]
  },
  {
   "cell_type": "code",
   "execution_count": 3,
   "metadata": {},
   "outputs": [
    {
     "data": {
      "text/html": [
       "<div>\n",
       "<style scoped>\n",
       "    .dataframe tbody tr th:only-of-type {\n",
       "        vertical-align: middle;\n",
       "    }\n",
       "\n",
       "    .dataframe tbody tr th {\n",
       "        vertical-align: top;\n",
       "    }\n",
       "\n",
       "    .dataframe thead th {\n",
       "        text-align: right;\n",
       "    }\n",
       "</style>\n",
       "<table border=\"1\" class=\"dataframe\">\n",
       "  <thead>\n",
       "    <tr style=\"text-align: right;\">\n",
       "      <th></th>\n",
       "      <th>class</th>\n",
       "      <th>math</th>\n",
       "      <th>physics</th>\n",
       "    </tr>\n",
       "  </thead>\n",
       "  <tbody>\n",
       "    <tr>\n",
       "      <th>0</th>\n",
       "      <td>303</td>\n",
       "      <td>44</td>\n",
       "      <td>14</td>\n",
       "    </tr>\n",
       "    <tr>\n",
       "      <th>1</th>\n",
       "      <td>101</td>\n",
       "      <td>81</td>\n",
       "      <td>68</td>\n",
       "    </tr>\n",
       "  </tbody>\n",
       "</table>\n",
       "</div>"
      ],
      "text/plain": [
       "  class  math  physics\n",
       "0   303    44       14\n",
       "1   101    81       68"
      ]
     },
     "execution_count": 3,
     "metadata": {},
     "output_type": "execute_result"
    }
   ],
   "source": [
    "import pandas as pd\n",
    "import numpy as np\n",
    "\n",
    "classes = [\"101\", \"202\", \"303\"]\n",
    "df = pd.DataFrame(\n",
    "    {\n",
    "        \"class\":[classes[x % len(classes)] for x in np.random.randint(0, len(classes), 15)],\n",
    "        \"math\":np.random.randint(0, 100, 15),\n",
    "        \"physics\":np.random.randint(0, 100, 15)  \n",
    "    })\n",
    "df"
   ]
  },
  {
   "attachments": {},
   "cell_type": "markdown",
   "metadata": {},
   "source": [
    "## 查看数据类型\n",
    "\n",
    "- `df.dtypes`\n",
    "- `df.info()`\n",
    "- `df.describe()`"
   ]
  },
  {
   "cell_type": "code",
   "execution_count": 4,
   "metadata": {},
   "outputs": [
    {
     "name": "stdout",
     "output_type": "stream",
     "text": [
      "--------df.info()--------\n",
      "<class 'pandas.core.frame.DataFrame'>\n",
      "RangeIndex: 2 entries, 0 to 1\n",
      "Data columns (total 3 columns):\n",
      " #   Column   Non-Null Count  Dtype \n",
      "---  ------   --------------  ----- \n",
      " 0   class    2 non-null      object\n",
      " 1   math     2 non-null      int32 \n",
      " 2   physics  2 non-null      int32 \n",
      "dtypes: int32(2), object(1)\n",
      "memory usage: 164.0+ bytes\n",
      "None\n",
      "--------df.describe()--------\n",
      "            math    physics\n",
      "count   2.000000   2.000000\n",
      "mean   62.500000  41.000000\n",
      "std    26.162951  38.183766\n",
      "min    44.000000  14.000000\n",
      "25%    53.250000  27.500000\n",
      "50%    62.500000  41.000000\n",
      "75%    71.750000  54.500000\n",
      "max    81.000000  68.000000\n"
     ]
    }
   ],
   "source": [
    "print(\"--------df.info()--------\")\n",
    "print(df.info())\n",
    "print(\"--------df.describe()--------\")\n",
    "print(df.describe(include='int32'))"
   ]
  },
  {
   "attachments": {},
   "cell_type": "markdown",
   "metadata": {},
   "source": [
    "## 取消科学计数法"
   ]
  },
  {
   "cell_type": "code",
   "execution_count": 4,
   "metadata": {},
   "outputs": [
    {
     "name": "stdout",
     "output_type": "stream",
     "text": [
      "      A     B   C\n",
      "0 -1.52  0.57  31\n",
      "1  0.31 -0.77  93\n",
      "2 -1.67 -0.92  75\n",
      "3 -0.53 -0.17  37\n",
      "4 -1.03 -2.71  84\n"
     ]
    }
   ],
   "source": [
    "import pandas as pd\n",
    "import numpy as np\n",
    "\n",
    "df = pd.DataFrame(\n",
    "    {\n",
    "        'A' : np.random.standard_normal(5),\n",
    "        'B' : np.random.standard_normal(5),\n",
    "        'C' : np.random.randint(0, 100, 5),\n",
    "    }\n",
    ")\n",
    "#pd.set_option('display.float_format', lambda x: '%.2f' % x)\n",
    "#pd.set_option('display.float_format', \"{:.2f}\".format)\n",
    "pd.set_option('precision', 2)\n",
    "\n",
    "print(df)"
   ]
  }
 ],
 "metadata": {
  "kernelspec": {
   "display_name": "Python 3 (ipykernel)",
   "language": "python",
   "name": "python3"
  },
  "language_info": {
   "codemirror_mode": {
    "name": "ipython",
    "version": 3
   },
   "file_extension": ".py",
   "mimetype": "text/x-python",
   "name": "python",
   "nbconvert_exporter": "python",
   "pygments_lexer": "ipython3",
   "version": "3.12.1"
  },
  "orig_nbformat": 4
 },
 "nbformat": 4,
 "nbformat_minor": 2
}
