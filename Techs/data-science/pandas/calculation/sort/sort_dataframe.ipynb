{
 "cells": [
  {
   "cell_type": "code",
   "execution_count": 13,
   "metadata": {},
   "outputs": [
    {
     "name": "stdout",
     "output_type": "stream",
     "text": [
      "   A  B  C\n",
      "0  1  2  1\n",
      "1  3  4  9\n",
      "2  5  7  8\n",
      "3  6  8  2\n",
      "----------------------\n",
      "   A  B  C\n",
      "1  3  4  9\n",
      "0  1  2  1\n",
      "2  5  7  8\n",
      "3  6  8  2\n"
     ]
    }
   ],
   "source": [
    "import pandas as pd\n",
    "\n",
    "df = pd.DataFrame(\n",
    "    {\n",
    "        'A' : [1, 3, 5, 6],\n",
    "        'B' : [2, 4, 7, 8],\n",
    "        'C' : [1, 9, 8, 2]\n",
    "    }\n",
    ")\n",
    "print(df)\n",
    "print('----------------------')\n",
    "sort_part = df[0:2].sort_values('A', ascending=False)\n",
    "print(pd.concat([sort_part, df[2:]]))"
   ]
  }
 ],
 "metadata": {
  "kernelspec": {
   "display_name": "Python 3",
   "language": "python",
   "name": "python3"
  },
  "language_info": {
   "codemirror_mode": {
    "name": "ipython",
    "version": 3
   },
   "file_extension": ".py",
   "mimetype": "text/x-python",
   "name": "python",
   "nbconvert_exporter": "python",
   "pygments_lexer": "ipython3",
   "version": "3.9.9"
  }
 },
 "nbformat": 4,
 "nbformat_minor": 2
}
