{
 "cells": [
  {
   "cell_type": "code",
   "execution_count": 5,
   "metadata": {},
   "outputs": [
    {
     "data": {
      "text/html": [
       "<div>\n",
       "<style scoped>\n",
       "    .dataframe tbody tr th:only-of-type {\n",
       "        vertical-align: middle;\n",
       "    }\n",
       "\n",
       "    .dataframe tbody tr th {\n",
       "        vertical-align: top;\n",
       "    }\n",
       "\n",
       "    .dataframe thead th {\n",
       "        text-align: right;\n",
       "    }\n",
       "</style>\n",
       "<table border=\"1\" class=\"dataframe\">\n",
       "  <thead>\n",
       "    <tr style=\"text-align: right;\">\n",
       "      <th></th>\n",
       "      <th>Unnamed: 0</th>\n",
       "      <th>core</th>\n",
       "      <th>sfn</th>\n",
       "      <th>slot</th>\n",
       "      <th>time</th>\n",
       "      <th>time delta</th>\n",
       "      <th>task duration (on exit)</th>\n",
       "      <th>Unnamed: 7</th>\n",
       "    </tr>\n",
       "  </thead>\n",
       "  <tbody>\n",
       "    <tr>\n",
       "      <th>0</th>\n",
       "      <td>1</td>\n",
       "      <td>Core1</td>\n",
       "      <td>NaN</td>\n",
       "      <td>NaN</td>\n",
       "      <td>-162239,105</td>\n",
       "      <td>?</td>\n",
       "      <td>NaN</td>\n",
       "      <td>NaN</td>\n",
       "    </tr>\n",
       "    <tr>\n",
       "      <th>1</th>\n",
       "      <td>2</td>\n",
       "      <td>Core1</td>\n",
       "      <td>NaN</td>\n",
       "      <td>NaN</td>\n",
       "      <td>-162235,549</td>\n",
       "      <td>3,556</td>\n",
       "      <td>NaN</td>\n",
       "      <td>NaN</td>\n",
       "    </tr>\n",
       "    <tr>\n",
       "      <th>2</th>\n",
       "      <td>3</td>\n",
       "      <td>Core1</td>\n",
       "      <td>NaN</td>\n",
       "      <td>NaN</td>\n",
       "      <td>-162235,549</td>\n",
       "      <td>0,000</td>\n",
       "      <td>NaN</td>\n",
       "      <td>NaN</td>\n",
       "    </tr>\n",
       "  </tbody>\n",
       "</table>\n",
       "</div>"
      ],
      "text/plain": [
       "   Unnamed: 0   core  sfn  slot         time time delta  \\\n",
       "0           1  Core1  NaN   NaN  -162239,105          ?   \n",
       "1           2  Core1  NaN   NaN  -162235,549      3,556   \n",
       "2           3  Core1  NaN   NaN  -162235,549      0,000   \n",
       "\n",
       "   task duration (on exit)  Unnamed: 7  \n",
       "0                      NaN         NaN  \n",
       "1                      NaN         NaN  \n",
       "2                      NaN         NaN  "
      ]
     },
     "execution_count": 5,
     "metadata": {},
     "output_type": "execute_result"
    }
   ],
   "source": [
    "import pandas as pd \n",
    "\n",
    "pd.read_csv(\"test.csv\", sep=';')"
   ]
  },
  {
   "cell_type": "code",
   "execution_count": 9,
   "metadata": {},
   "outputs": [
    {
     "name": "stdout",
     "output_type": "stream",
     "text": [
      "   Unnamed: 0   core  sfn  slot  time  time delta  task duration (on exit)  \\\n",
      "0           1  Core1  NaN   NaN   0.0         0.0                      NaN   \n",
      "1           2  Core1  NaN   NaN   0.0         0.0                      NaN   \n",
      "2           3  Core1  NaN   NaN   0.0         0.0                      NaN   \n",
      "\n",
      "   Unnamed: 7  \n",
      "0         NaN  \n",
      "1         NaN  \n",
      "2         NaN  \n"
     ]
    }
   ],
   "source": [
    "df = pd.read_csv(\"test.csv\", sep=';')\n",
    "df['time'] = pd.to_numeric(df['time'], errors='coerce').fillna(0).astype(float)\n",
    "df['time delta'] = pd.to_numeric(df['time delta'], errors='coerce').fillna(0).astype(float)\n",
    "print(df)"
   ]
  }
 ],
 "metadata": {
  "kernelspec": {
   "display_name": "Python 3",
   "language": "python",
   "name": "python3"
  },
  "language_info": {
   "codemirror_mode": {
    "name": "ipython",
    "version": 3
   },
   "file_extension": ".py",
   "mimetype": "text/x-python",
   "name": "python",
   "nbconvert_exporter": "python",
   "pygments_lexer": "ipython3",
   "version": "3.9.5"
  },
  "orig_nbformat": 4,
  "vscode": {
   "interpreter": {
    "hash": "2e4121690db76bc87d491a2e0341ca46892a2842bde8fb317c85d19e2ad11338"
   }
  }
 },
 "nbformat": 4,
 "nbformat_minor": 2
}
