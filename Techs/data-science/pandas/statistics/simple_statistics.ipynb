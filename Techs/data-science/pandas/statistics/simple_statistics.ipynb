{
 "cells": [
  {
   "attachments": {},
   "cell_type": "markdown",
   "metadata": {},
   "source": [
    "## 求取特定列几行的均值"
   ]
  },
  {
   "cell_type": "code",
   "execution_count": 1,
   "metadata": {},
   "outputs": [
    {
     "name": "stdout",
     "output_type": "stream",
     "text": [
      "  class  language  math\n",
      "0     A        63     2\n",
      "1     A        24    30\n",
      "2     C        39    59\n",
      "3     C        70    68\n",
      "4     B        96    82\n",
      "5     B        25    14\n"
     ]
    }
   ],
   "source": [
    "import pandas as pd\n",
    "import numpy as np\n",
    "\n",
    "classes = [\"A\", \"B\", \"C\"]\n",
    "score = pd.DataFrame({\n",
    "    \"class\":[classes[x] for x in np.random.randint(0, len(classes), 6)],\n",
    "    \"language\":np.random.randint(0, 100, 6),\n",
    "    \"math\":np.random.randint(0, 100, 6)\n",
    "})\n",
    "\n",
    "print (score)"
   ]
  },
  {
   "cell_type": "code",
   "execution_count": 2,
   "metadata": {},
   "outputs": [
    {
     "name": "stdout",
     "output_type": "stream",
     "text": [
      "mean = 43.5, std = 27.577164466275352\n"
     ]
    }
   ],
   "source": [
    "# 均值\n",
    "m = score['language'].iloc[0:2].mean()\n",
    "s = score['language'].iloc[0:2].std()\n",
    "\n",
    "print(\"mean = {}, std = {}\".format(m, s))"
   ]
  },
  {
   "cell_type": "code",
   "execution_count": 10,
   "metadata": {},
   "outputs": [
    {
     "name": "stdout",
     "output_type": "stream",
     "text": [
      "m = 43.1335136523794, type(m) = <class 'numpy.float64'>\n",
      "43.13\n",
      "43.13\n"
     ]
    }
   ],
   "source": [
    "# 标准差\n",
    "m = score['language'][0:2].std()\n",
    "t = type(m)\n",
    "\n",
    "print(\"m = {}, type(m) = {}\".format(m, t))\n",
    "print(round(m, 2))\n",
    "\n",
    "from decimal import Decimal\n",
    "print(Decimal(m).quantize(Decimal(\"0.00\")))"
   ]
  },
  {
   "cell_type": "code",
   "execution_count": null,
   "metadata": {},
   "outputs": [],
   "source": []
  }
 ],
 "metadata": {
  "kernelspec": {
   "display_name": "Python 3",
   "language": "python",
   "name": "python3"
  },
  "language_info": {
   "codemirror_mode": {
    "name": "ipython",
    "version": 3
   },
   "file_extension": ".py",
   "mimetype": "text/x-python",
   "name": "python",
   "nbconvert_exporter": "python",
   "pygments_lexer": "ipython3",
   "version": "3.9.5"
  },
  "orig_nbformat": 4,
  "vscode": {
   "interpreter": {
    "hash": "2e4121690db76bc87d491a2e0341ca46892a2842bde8fb317c85d19e2ad11338"
   }
  }
 },
 "nbformat": 4,
 "nbformat_minor": 2
}
