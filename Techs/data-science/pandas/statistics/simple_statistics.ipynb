{
 "cells": [
  {
   "attachments": {},
   "cell_type": "markdown",
   "metadata": {},
   "source": [
    "## 求取特定列几行的均值"
   ]
  },
  {
   "cell_type": "code",
   "execution_count": 2,
   "metadata": {},
   "outputs": [
    {
     "name": "stdout",
     "output_type": "stream",
     "text": [
      "  class  language  math\n",
      "0     B        10    66\n",
      "1     C        71    74\n",
      "2     B        73    53\n",
      "3     B        43    95\n",
      "4     C        69    94\n",
      "5     A         1     6\n"
     ]
    }
   ],
   "source": [
    "import pandas as pd\n",
    "import numpy as np\n",
    "\n",
    "classes = [\"A\", \"B\", \"C\"]\n",
    "score = pd.DataFrame({\n",
    "    \"class\":[classes[x] for x in np.random.randint(0, len(classes), 6)],\n",
    "    \"language\":np.random.randint(0, 100, 6),\n",
    "    \"math\":np.random.randint(0, 100, 6)\n",
    "})\n",
    "\n",
    "print (score)"
   ]
  },
  {
   "cell_type": "code",
   "execution_count": 7,
   "metadata": {},
   "outputs": [
    {
     "name": "stdout",
     "output_type": "stream",
     "text": [
      "m = 40.5, type(m) = <class 'numpy.float64'>\n"
     ]
    }
   ],
   "source": [
    "# 均值\n",
    "m = score['language'].iloc[0:2].mean()\n",
    "t = type(m)\n",
    "\n",
    "print(\"m = {}, type(m) = {}\".format(m, t))"
   ]
  },
  {
   "cell_type": "code",
   "execution_count": 10,
   "metadata": {},
   "outputs": [
    {
     "name": "stdout",
     "output_type": "stream",
     "text": [
      "m = 43.1335136523794, type(m) = <class 'numpy.float64'>\n",
      "43.13\n",
      "43.13\n"
     ]
    }
   ],
   "source": [
    "# 标准差\n",
    "m = score['language'][0:2].std()\n",
    "t = type(m)\n",
    "\n",
    "print(\"m = {}, type(m) = {}\".format(m, t))\n",
    "print(round(m, 2))\n",
    "\n",
    "from decimal import Decimal\n",
    "print(Decimal(m).quantize(Decimal(\"0.00\")))"
   ]
  },
  {
   "cell_type": "code",
   "execution_count": null,
   "metadata": {},
   "outputs": [],
   "source": []
  }
 ],
 "metadata": {
  "kernelspec": {
   "display_name": "Python 3",
   "language": "python",
   "name": "python3"
  },
  "language_info": {
   "codemirror_mode": {
    "name": "ipython",
    "version": 3
   },
   "file_extension": ".py",
   "mimetype": "text/x-python",
   "name": "python",
   "nbconvert_exporter": "python",
   "pygments_lexer": "ipython3",
   "version": "3.9.4"
  },
  "orig_nbformat": 4,
  "vscode": {
   "interpreter": {
    "hash": "ce83015362f3431972c27d0bbc1093af16eb853cfefef809a2df983a5098431c"
   }
  }
 },
 "nbformat": 4,
 "nbformat_minor": 2
}
