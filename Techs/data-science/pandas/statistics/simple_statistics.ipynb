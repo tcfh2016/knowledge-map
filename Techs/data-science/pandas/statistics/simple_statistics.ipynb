{
 "cells": [
  {
   "attachments": {},
   "cell_type": "markdown",
   "metadata": {},
   "source": [
    "## 求取均值"
   ]
  },
  {
   "cell_type": "code",
   "execution_count": 6,
   "metadata": {},
   "outputs": [
    {
     "name": "stdout",
     "output_type": "stream",
     "text": [
      "  class  language  math\n",
      "0     B        83    54\n",
      "1     A        98    61\n",
      "2     B        62    75\n",
      "3     C        43    15\n",
      "4     A        14    52\n",
      "5     A        71    60\n"
     ]
    },
    {
     "ename": "NameError",
     "evalue": "name 'math' is not defined",
     "output_type": "error",
     "traceback": [
      "\u001b[1;31m---------------------------------------------------------------------------\u001b[0m",
      "\u001b[1;31mNameError\u001b[0m                                 Traceback (most recent call last)",
      "\u001b[1;32mc:\\Users\\lianbche\\Git\\knowledge-map\\Techs\\data-science\\pandas\\statistics\\simple_statistics.ipynb Cell 2\u001b[0m line \u001b[0;36m1\n\u001b[0;32m      <a href='vscode-notebook-cell:/c%3A/Users/lianbche/Git/knowledge-map/Techs/data-science/pandas/statistics/simple_statistics.ipynb#W1sZmlsZQ%3D%3D?line=4'>5</a>\u001b[0m score \u001b[39m=\u001b[39m pd\u001b[39m.\u001b[39mDataFrame({\n\u001b[0;32m      <a href='vscode-notebook-cell:/c%3A/Users/lianbche/Git/knowledge-map/Techs/data-science/pandas/statistics/simple_statistics.ipynb#W1sZmlsZQ%3D%3D?line=5'>6</a>\u001b[0m     \u001b[39m\"\u001b[39m\u001b[39mclass\u001b[39m\u001b[39m\"\u001b[39m:[classes[x] \u001b[39mfor\u001b[39;00m x \u001b[39min\u001b[39;00m np\u001b[39m.\u001b[39mrandom\u001b[39m.\u001b[39mrandint(\u001b[39m0\u001b[39m, \u001b[39mlen\u001b[39m(classes), \u001b[39m6\u001b[39m)],\n\u001b[0;32m      <a href='vscode-notebook-cell:/c%3A/Users/lianbche/Git/knowledge-map/Techs/data-science/pandas/statistics/simple_statistics.ipynb#W1sZmlsZQ%3D%3D?line=6'>7</a>\u001b[0m     \u001b[39m\"\u001b[39m\u001b[39mlanguage\u001b[39m\u001b[39m\"\u001b[39m:np\u001b[39m.\u001b[39mrandom\u001b[39m.\u001b[39mrandint(\u001b[39m0\u001b[39m, \u001b[39m100\u001b[39m, \u001b[39m6\u001b[39m),\n\u001b[0;32m      <a href='vscode-notebook-cell:/c%3A/Users/lianbche/Git/knowledge-map/Techs/data-science/pandas/statistics/simple_statistics.ipynb#W1sZmlsZQ%3D%3D?line=7'>8</a>\u001b[0m     \u001b[39m\"\u001b[39m\u001b[39mmath\u001b[39m\u001b[39m\"\u001b[39m:np\u001b[39m.\u001b[39mrandom\u001b[39m.\u001b[39mrandint(\u001b[39m0\u001b[39m, \u001b[39m100\u001b[39m, \u001b[39m6\u001b[39m)\n\u001b[0;32m      <a href='vscode-notebook-cell:/c%3A/Users/lianbche/Git/knowledge-map/Techs/data-science/pandas/statistics/simple_statistics.ipynb#W1sZmlsZQ%3D%3D?line=8'>9</a>\u001b[0m })\n\u001b[0;32m     <a href='vscode-notebook-cell:/c%3A/Users/lianbche/Git/knowledge-map/Techs/data-science/pandas/statistics/simple_statistics.ipynb#W1sZmlsZQ%3D%3D?line=10'>11</a>\u001b[0m \u001b[39mprint\u001b[39m (score)\n\u001b[1;32m---> <a href='vscode-notebook-cell:/c%3A/Users/lianbche/Git/knowledge-map/Techs/data-science/pandas/statistics/simple_statistics.ipynb#W1sZmlsZQ%3D%3D?line=11'>12</a>\u001b[0m \u001b[39mprint\u001b[39m (score[math]\u001b[39m.\u001b[39misnull()\u001b[39m.\u001b[39mall())\n",
      "\u001b[1;31mNameError\u001b[0m: name 'math' is not defined"
     ]
    }
   ],
   "source": [
    "import pandas as pd\n",
    "import numpy as np\n",
    "\n",
    "classes = [\"A\", \"B\", \"C\"]\n",
    "score = pd.DataFrame({\n",
    "    \"class\":[classes[x] for x in np.random.randint(0, len(classes), 6)],\n",
    "    \"language\":np.random.randint(0, 100, 6),\n",
    "    \"math\":np.random.randint(0, 100, 6)\n",
    "})\n",
    "\n",
    "print (score)\n",
    "print (score['math'].isnull().all())"
   ]
  },
  {
   "cell_type": "code",
   "execution_count": 7,
   "metadata": {},
   "outputs": [
    {
     "name": "stdout",
     "output_type": "stream",
     "text": [
      "  class  language  math\n",
      "0     B         2  95.0\n",
      "1     C         5  92.0\n",
      "2     B        77  13.0\n",
      "3     A        25  20.0\n",
      "4     C         8   0.0\n",
      "5     C        44  58.0\n",
      "mean = 10.0\n",
      "  class  language  math\n",
      "0     B         2  95.0\n",
      "1     C         5  92.0\n",
      "2     B        77  13.0\n",
      "3     A        25  20.0\n",
      "4     C         8   NaN\n",
      "5     C        44  58.0\n",
      "mean = 20.0\n"
     ]
    }
   ],
   "source": [
    "# 均值\n",
    "score['math'].iloc[4] = 0\n",
    "print(score)\n",
    "m = score['math'].iloc[3:5].mean()\n",
    "print(\"mean = {}\".format(m))\n",
    "\n",
    "score['math'].iloc[4] = np.nan\n",
    "print(score)\n",
    "m = score['math'].iloc[3:5].mean()\n",
    "print(\"mean = {}\".format(m))\n",
    "\n",
    "m = score['math'].astype(float).iloc[3:5].mean()\n",
    "print(\"mean = {}\".format(m))"
   ]
  },
  {
   "attachments": {},
   "cell_type": "markdown",
   "metadata": {},
   "source": [
    "## 求取标准差"
   ]
  },
  {
   "cell_type": "code",
   "execution_count": 10,
   "metadata": {},
   "outputs": [
    {
     "name": "stdout",
     "output_type": "stream",
     "text": [
      "m = 43.1335136523794, type(m) = <class 'numpy.float64'>\n",
      "43.13\n",
      "43.13\n"
     ]
    }
   ],
   "source": [
    "# 标准差\n",
    "m = score['language'][0:2].std()\n",
    "t = type(m)\n",
    "\n",
    "print(\"m = {}, type(m) = {}\".format(m, t))\n",
    "print(round(m, 2))\n",
    "\n",
    "from decimal import Decimal\n",
    "print(Decimal(m).quantize(Decimal(\"0.00\")))"
   ]
  },
  {
   "cell_type": "code",
   "execution_count": null,
   "metadata": {},
   "outputs": [],
   "source": []
  }
 ],
 "metadata": {
  "kernelspec": {
   "display_name": "Python 3",
   "language": "python",
   "name": "python3"
  },
  "language_info": {
   "codemirror_mode": {
    "name": "ipython",
    "version": 3
   },
   "file_extension": ".py",
   "mimetype": "text/x-python",
   "name": "python",
   "nbconvert_exporter": "python",
   "pygments_lexer": "ipython3",
   "version": "3.9.9"
  },
  "orig_nbformat": 4,
  "vscode": {
   "interpreter": {
    "hash": "2e4121690db76bc87d491a2e0341ca46892a2842bde8fb317c85d19e2ad11338"
   }
  }
 },
 "nbformat": 4,
 "nbformat_minor": 2
}
