{
 "cells": [
  {
   "attachments": {},
   "cell_type": "markdown",
   "metadata": {},
   "source": [
    "# 删除数据\n",
    "\n",
    "## 删除某列\n",
    "\n",
    "- `df.drop(0, axis=1, inplace)`\n",
    "- `df.drop(columns='col', inplace)`\n",
    "\n"
   ]
  },
  {
   "cell_type": "code",
   "execution_count": 4,
   "metadata": {},
   "outputs": [
    {
     "data": {
      "text/html": [
       "<div>\n",
       "<style scoped>\n",
       "    .dataframe tbody tr th:only-of-type {\n",
       "        vertical-align: middle;\n",
       "    }\n",
       "\n",
       "    .dataframe tbody tr th {\n",
       "        vertical-align: top;\n",
       "    }\n",
       "\n",
       "    .dataframe thead th {\n",
       "        text-align: right;\n",
       "    }\n",
       "</style>\n",
       "<table border=\"1\" class=\"dataframe\">\n",
       "  <thead>\n",
       "    <tr style=\"text-align: right;\">\n",
       "      <th></th>\n",
       "      <th>class</th>\n",
       "      <th>math</th>\n",
       "      <th>physics</th>\n",
       "    </tr>\n",
       "  </thead>\n",
       "  <tbody>\n",
       "    <tr>\n",
       "      <th>0</th>\n",
       "      <td>202</td>\n",
       "      <td>98</td>\n",
       "      <td>23</td>\n",
       "    </tr>\n",
       "    <tr>\n",
       "      <th>1</th>\n",
       "      <td>202</td>\n",
       "      <td>8</td>\n",
       "      <td>15</td>\n",
       "    </tr>\n",
       "    <tr>\n",
       "      <th>2</th>\n",
       "      <td>202</td>\n",
       "      <td>98</td>\n",
       "      <td>81</td>\n",
       "    </tr>\n",
       "    <tr>\n",
       "      <th>3</th>\n",
       "      <td>202</td>\n",
       "      <td>54</td>\n",
       "      <td>73</td>\n",
       "    </tr>\n",
       "    <tr>\n",
       "      <th>4</th>\n",
       "      <td>303</td>\n",
       "      <td>32</td>\n",
       "      <td>99</td>\n",
       "    </tr>\n",
       "  </tbody>\n",
       "</table>\n",
       "</div>"
      ],
      "text/plain": [
       "  class  math  physics\n",
       "0   202    98       23\n",
       "1   202     8       15\n",
       "2   202    98       81\n",
       "3   202    54       73\n",
       "4   303    32       99"
      ]
     },
     "execution_count": 4,
     "metadata": {},
     "output_type": "execute_result"
    }
   ],
   "source": [
    "import pandas as pd\n",
    "import numpy as np\n",
    "\n",
    "classes = [\"101\", \"202\", \"303\"]\n",
    "df = pd.DataFrame(\n",
    "    {\n",
    "        \"class\":[classes[x % len(classes)] for x in np.random.randint(0, len(classes), 5)],\n",
    "        \"math\":np.random.randint(0, 100, 5),\n",
    "        \"physics\":np.random.randint(0, 100, 5)  \n",
    "    })\n",
    "df"
   ]
  },
  {
   "cell_type": "code",
   "execution_count": 6,
   "metadata": {},
   "outputs": [
    {
     "data": {
      "text/html": [
       "<div>\n",
       "<style scoped>\n",
       "    .dataframe tbody tr th:only-of-type {\n",
       "        vertical-align: middle;\n",
       "    }\n",
       "\n",
       "    .dataframe tbody tr th {\n",
       "        vertical-align: top;\n",
       "    }\n",
       "\n",
       "    .dataframe thead th {\n",
       "        text-align: right;\n",
       "    }\n",
       "</style>\n",
       "<table border=\"1\" class=\"dataframe\">\n",
       "  <thead>\n",
       "    <tr style=\"text-align: right;\">\n",
       "      <th></th>\n",
       "      <th>class</th>\n",
       "      <th>math</th>\n",
       "    </tr>\n",
       "  </thead>\n",
       "  <tbody>\n",
       "    <tr>\n",
       "      <th>0</th>\n",
       "      <td>202</td>\n",
       "      <td>98</td>\n",
       "    </tr>\n",
       "    <tr>\n",
       "      <th>1</th>\n",
       "      <td>202</td>\n",
       "      <td>8</td>\n",
       "    </tr>\n",
       "    <tr>\n",
       "      <th>2</th>\n",
       "      <td>202</td>\n",
       "      <td>98</td>\n",
       "    </tr>\n",
       "    <tr>\n",
       "      <th>3</th>\n",
       "      <td>202</td>\n",
       "      <td>54</td>\n",
       "    </tr>\n",
       "    <tr>\n",
       "      <th>4</th>\n",
       "      <td>303</td>\n",
       "      <td>32</td>\n",
       "    </tr>\n",
       "  </tbody>\n",
       "</table>\n",
       "</div>"
      ],
      "text/plain": [
       "  class  math\n",
       "0   202    98\n",
       "1   202     8\n",
       "2   202    98\n",
       "3   202    54\n",
       "4   303    32"
      ]
     },
     "execution_count": 6,
     "metadata": {},
     "output_type": "execute_result"
    }
   ],
   "source": [
    "df.drop(columns='physics', inplace=True)\n",
    "df"
   ]
  },
  {
   "cell_type": "code",
   "execution_count": 7,
   "metadata": {},
   "outputs": [
    {
     "name": "stdout",
     "output_type": "stream",
     "text": [
      "  class\n",
      "0   202\n",
      "1   202\n",
      "2   202\n",
      "3   202\n",
      "4   303\n"
     ]
    }
   ],
   "source": [
    "del df['math']\n",
    "print(df)"
   ]
  },
  {
   "attachments": {},
   "cell_type": "markdown",
   "metadata": {},
   "source": [
    "## 删除行\n",
    "\n",
    "- `df.drop(0, axis=0, inplace)`\n",
    "- `df.drop(0, inplace)`\n",
    "- `df.drop(index='a', inplace)`"
   ]
  },
  {
   "cell_type": "code",
   "execution_count": 2,
   "metadata": {},
   "outputs": [
    {
     "name": "stdout",
     "output_type": "stream",
     "text": [
      "   numbers\n",
      "a       10\n",
      "b       20\n",
      "c       30\n",
      "d       40\n",
      "   numbers\n",
      "b       20\n",
      "c       30\n",
      "d       40\n",
      "   numbers\n",
      "b       20\n",
      "d       40\n"
     ]
    }
   ],
   "source": [
    "import pandas as pd\n",
    "\n",
    "df = pd.DataFrame([10, 20, 30, 40],\n",
    "                      columns=['numbers'],\n",
    "                      index=['a', 'b', 'c', 'd'])\n",
    "print(df)\n",
    "df.drop('a', inplace=True)\n",
    "print(df)\n",
    "df.drop(index='c', inplace=True)\n",
    "print(df)\n"
   ]
  },
  {
   "attachments": {},
   "cell_type": "markdown",
   "metadata": {},
   "source": [
    "## 按条件删除行\n",
    "\n",
    "两种方式：\n",
    "\n",
    "- `df.drop(df[<some boolean condition>].index)`。\n",
    "- 更高效的方式是`df = df[df.score > 50]`。\n"
   ]
  },
  {
   "cell_type": "code",
   "execution_count": 7,
   "metadata": {},
   "outputs": [
    {
     "name": "stdout",
     "output_type": "stream",
     "text": [
      "   numbers\n",
      "a       10\n",
      "b       20\n",
      "c       30\n",
      "d       40\n",
      "   numbers\n",
      "b       20\n",
      "c       30\n",
      "d       40\n"
     ]
    }
   ],
   "source": [
    "import pandas as pd\n",
    "\n",
    "del_df = pd.DataFrame([10, 20, 30, 40],\n",
    "                      columns=['numbers'],\n",
    "                      index=['a', 'b', 'c', 'd'])\n",
    "print(del_df)\n",
    "del_df = del_df[del_df[\"numbers\"] > 10]\n",
    "print(del_df)"
   ]
  },
  {
   "attachments": {},
   "cell_type": "markdown",
   "metadata": {},
   "source": [
    "## 删除所有行\n",
    "\n",
    "两种方式：`df = df.iloc[0:0]`和`df.drop(df.index, inplace=True)`。\n",
    "\n",
    "参考： \n",
    "\n",
    "- [Drop all data in a pandas dataframe](https://stackoverflow.com/questions/39173992/drop-all-data-in-a-pandas-dataframe)"
   ]
  },
  {
   "cell_type": "code",
   "execution_count": 41,
   "metadata": {},
   "outputs": [
    {
     "name": "stdout",
     "output_type": "stream",
     "text": [
      "   numbers\n",
      "a       10\n",
      "b       20\n",
      "c       30\n",
      "d       40\n",
      "Empty DataFrame\n",
      "Columns: [numbers]\n",
      "Index: []\n"
     ]
    }
   ],
   "source": [
    "del_df = pd.DataFrame([10, 20, 30, 40],\n",
    "                      columns=['numbers'],\n",
    "                      index=['a', 'b', 'c', 'd'])\n",
    "print(del_df)\n",
    "\n",
    "del_df = del_df.iloc[0:0]\n",
    "del_df.to_csv(\"del_df.csv\")\n",
    "print(del_df)"
   ]
  },
  {
   "cell_type": "markdown",
   "metadata": {},
   "source": [
    "# 缺失值处理"
   ]
  },
  {
   "cell_type": "markdown",
   "metadata": {},
   "source": [
    "## “np.nan”和“np.NaN”"
   ]
  },
  {
   "cell_type": "code",
   "execution_count": null,
   "metadata": {},
   "outputs": [
    {
     "name": "stdout",
     "output_type": "stream",
     "text": [
      "np.nan = nan, type(np.nan) = <class 'float'>\n",
      "np.NaN = nan, type(np.NaN) = <class 'float'>\n",
      "False\n",
      "True\n"
     ]
    }
   ],
   "source": [
    "import numpy as np\n",
    "\n",
    "print(\"np.nan = {}, type(np.nan) = {}\".format(np.nan, type(np.nan)))\n",
    "print(\"np.NaN = {}, type(np.NaN) = {}\".format(np.NaN, type(np.NaN)))\n",
    "print(np.nan == np.NaN)\n",
    "print(np.nan is np.NaN)"
   ]
  },
  {
   "cell_type": "markdown",
   "metadata": {},
   "source": [
    "## 使用`isnull()`"
   ]
  },
  {
   "cell_type": "code",
   "execution_count": null,
   "metadata": {},
   "outputs": [
    {
     "name": "stdout",
     "output_type": "stream",
     "text": [
      "       0      1      2\n",
      "0  False  False  False\n",
      "1  False   True   True\n",
      "2   True   True   True\n",
      "3   True  False  False\n",
      "False\n"
     ]
    }
   ],
   "source": [
    "import pandas as pd\n",
    "import numpy as np\n",
    "\n",
    "df = pd.DataFrame([[1.2, 6.5, 3.0],\n",
    "               [1., np.NaN, np.NaN],\n",
    "               [np.NaN, np.NaN, np.NaN],\n",
    "               [np.NaN, 6.2, 3.1]])\n",
    "print(df.isnull())\n",
    "print(pd.isnull(df.loc[0,0]))"
   ]
  },
  {
   "cell_type": "markdown",
   "metadata": {},
   "source": [
    "使用`notnull()`\n",
    "\n",
    " [What is the difference between NaN and None?](https://stackoverflow.com/questions/17534106/what-is-the-difference-between-nan-and-none)里提到`np.isnan(p)`对传入的参数有要求，如果是string类型那么会crash，使用`pd.isnull()`则要安全得多。"
   ]
  },
  {
   "cell_type": "code",
   "execution_count": null,
   "metadata": {},
   "outputs": [
    {
     "name": "stdout",
     "output_type": "stream",
     "text": [
      "       0      1      2\n",
      "0   True   True   True\n",
      "1   True  False  False\n",
      "2  False  False  False\n",
      "3  False   True   True\n",
      "False\n"
     ]
    },
    {
     "ename": "TypeError",
     "evalue": "ufunc 'isnan' not supported for the input types, and the inputs could not be safely coerced to any supported types according to the casting rule ''safe''",
     "output_type": "error",
     "traceback": [
      "\u001b[1;31m---------------------------------------------------------------------------\u001b[0m\n",
      "\u001b[1;31mTypeError\u001b[0m                                 Traceback (most recent call last)\n",
      "Cell \u001b[1;32mIn [25], line 5\u001b[0m\n",
      "\u001b[0;32m      2\u001b[0m \u001b[39mprint\u001b[39m(pd\u001b[39m.\u001b[39mnotnull(df\u001b[39m.\u001b[39mloc[\u001b[39m2\u001b[39m,\u001b[39m0\u001b[39m]))\n",
      "\u001b[0;32m      4\u001b[0m \u001b[39mimport\u001b[39;00m \u001b[39mnumpy\u001b[39;00m \u001b[39mas\u001b[39;00m \u001b[39mnp\u001b[39;00m\n",
      "\u001b[1;32m----> 5\u001b[0m \u001b[39mprint\u001b[39m(np\u001b[39m.\u001b[39;49misnan(\u001b[39m'\u001b[39;49m\u001b[39mh\u001b[39;49m\u001b[39m'\u001b[39;49m))\n",
      "\n",
      "\u001b[1;31mTypeError\u001b[0m: ufunc 'isnan' not supported for the input types, and the inputs could not be safely coerced to any supported types according to the casting rule ''safe''"
     ]
    }
   ],
   "source": [
    "print(df.notnull())\n",
    "print(pd.notnull(df.loc[2,0]))\n",
    "\n",
    "import numpy as np\n",
    "print(np.isnan('h'))"
   ]
  },
  {
   "cell_type": "markdown",
   "metadata": {},
   "source": [
    "## 填充NaN\n",
    "\n",
    "不管是填充还是替换，都默认不在原有dataframe上生效，如果需要生效需要使用`inplace=True`参数。"
   ]
  },
  {
   "cell_type": "code",
   "execution_count": null,
   "metadata": {},
   "outputs": [
    {
     "name": "stdout",
     "output_type": "stream",
     "text": [
      "     0    1    2\n",
      "0  1.2  6.5  3.0\n",
      "1  1.0  NaN  NaN\n",
      "2  NaN  NaN  NaN\n",
      "3  NaN  6.2  3.1\n",
      "     0    1    2\n",
      "0  1.2  6.5  3.0\n",
      "1  1.0  NaN  NaN\n",
      "2  NaN  NaN  NaN\n",
      "3  NaN  6.2  3.1\n",
      "     0    1    2\n",
      "0  1.2  6.5  3.0\n",
      "1  1.0  0.0  0.0\n",
      "2  0.0  0.0  0.0\n",
      "3  0.0  6.2  3.1\n"
     ]
    },
    {
     "name": "stderr",
     "output_type": "stream",
     "text": [
      "C:\\Users\\lianbche\\AppData\\Local\\Temp\\ipykernel_31324\\2031636143.py:1: DeprecationWarning: \n",
      "Pyarrow will become a required dependency of pandas in the next major release of pandas (pandas 3.0),\n",
      "(to allow more performant data types, such as the Arrow string type, and better interoperability with other libraries)\n",
      "but was not found to be installed on your system.\n",
      "If this would cause problems for you,\n",
      "please provide us feedback at https://github.com/pandas-dev/pandas/issues/54466\n",
      "        \n",
      "  import pandas as pd\n"
     ]
    }
   ],
   "source": [
    "import pandas as pd\n",
    "import numpy as np\n",
    "\n",
    "df = pd.DataFrame([[1.2, 6.5, 3.0],\n",
    "               [1., np.NaN, np.NaN],\n",
    "               [np.NaN, np.NaN, np.NaN],\n",
    "               [np.NaN, 6.2, 3.1]])\n",
    "print(df)\n",
    "\n",
    "df.fillna(0)\n",
    "print(df)\n",
    "\n",
    "new_df = df.fillna(0)\n",
    "print(new_df)"
   ]
  },
  {
   "cell_type": "code",
   "execution_count": null,
   "metadata": {},
   "outputs": [
    {
     "name": "stdout",
     "output_type": "stream",
     "text": [
      "     0    1    2\n",
      "0  1.2  6.5  3.0\n",
      "1  1.0  NaN  NaN\n",
      "2  NaN  NaN  NaN\n",
      "3  NaN  6.2  3.1\n"
     ]
    }
   ],
   "source": [
    "df[1].replace(np.NaN, '0', inplace=True)\n",
    "print(df)"
   ]
  },
  {
   "cell_type": "code",
   "execution_count": null,
   "metadata": {},
   "outputs": [
    {
     "data": {
      "text/plain": [
       "float"
      ]
     },
     "metadata": {},
     "output_type": "display_data"
    }
   ],
   "source": [
    "np.nan > 0.0\n",
    "type(np.nan)"
   ]
  },
  {
   "cell_type": "markdown",
   "metadata": {},
   "source": [
    "## 使用`ffill`\n",
    "\n",
    "- Fill NA/NaN values by propagating the last valid observation to next valid.\n",
    "- `forehand`，正手，从上往下"
   ]
  },
  {
   "cell_type": "code",
   "execution_count": null,
   "metadata": {},
   "outputs": [
    {
     "name": "stdout",
     "output_type": "stream",
     "text": [
      "     A  B    C  D\n",
      "0  NaN  2  NaN  0\n",
      "1  3.0  4  2.0  1\n",
      "2  NaN  3  3.0  3\n",
      "3  NaN  3  4.0  4\n",
      "4  4.0  5  5.0  5\n",
      "5  NaN  3  4.0  4\n",
      "     A  B    C  D\n",
      "0  NaN  2  NaN  0\n",
      "1  3.0  4  2.0  1\n",
      "2  3.0  3  3.0  3\n",
      "3  3.0  3  4.0  4\n",
      "4  4.0  5  5.0  5\n",
      "5  4.0  3  4.0  4\n"
     ]
    },
    {
     "name": "stderr",
     "output_type": "stream",
     "text": [
      "C:\\Users\\lianbche\\AppData\\Local\\Temp\\ipykernel_25492\\3191498584.py:13: FutureWarning: A value is trying to be set on a copy of a DataFrame or Series through chained assignment using an inplace method.\n",
      "The behavior will change in pandas 3.0. This inplace method will never work because the intermediate object on which we are setting values always behaves as a copy.\n",
      "\n",
      "For example, when doing 'df[col].method(value, inplace=True)', try using 'df.method({col: value}, inplace=True)' or df[col] = df[col].method(value) instead, to perform the operation inplace on the original object.\n",
      "\n",
      "\n",
      "  df['A'].fillna(method='ffill', inplace=True)\n",
      "C:\\Users\\lianbche\\AppData\\Local\\Temp\\ipykernel_25492\\3191498584.py:13: FutureWarning: Series.fillna with 'method' is deprecated and will raise in a future version. Use obj.ffill() or obj.bfill() instead.\n",
      "  df['A'].fillna(method='ffill', inplace=True)\n"
     ]
    },
    {
     "data": {
      "text/plain": [
       "3.4"
      ]
     },
     "metadata": {},
     "output_type": "display_data"
    }
   ],
   "source": [
    "import pandas as pd\n",
    "import numpy as np\n",
    "\n",
    "df = pd.DataFrame([[np.nan, 2, np.nan, 0],\n",
    "                   [3, 4, 2, 1],\n",
    "                   [np.nan, 3, 3, 3],\n",
    "                   [np.nan, 3, 4, 4],\n",
    "                   [4, 5, 5, 5],\n",
    "                   [np.nan, 3, 4, 4]],\n",
    "                  columns=list(\"ABCD\"))\n",
    "print(df)\n",
    "\n",
    "df['A'].fillna(method='ffill', inplace=True)\n",
    "print(df)\n",
    "\n",
    "df['A'].astype(float).mean()"
   ]
  },
  {
   "cell_type": "markdown",
   "metadata": {},
   "source": [
    "## pandas.DataFrame.bfill\n",
    "\n",
    "- Fill NA/NaN values by using the next valid observation to fill the gap.\n",
    "- `forehand`，反手，从下往上"
   ]
  },
  {
   "cell_type": "markdown",
   "metadata": {},
   "source": [
    "## 使用`dropna()`"
   ]
  },
  {
   "cell_type": "code",
   "execution_count": null,
   "metadata": {},
   "outputs": [
    {
     "name": "stdout",
     "output_type": "stream",
     "text": [
      "0    1.0\n",
      "1    NaN\n",
      "2    3.2\n",
      "3    NaN\n",
      "4    7.0\n",
      "dtype: float64\n",
      "0    1.0\n",
      "2    3.2\n",
      "4    7.0\n",
      "dtype: float64\n",
      "     0    1    2\n",
      "0  1.2  6.5  3.0\n",
      "1  1.0  NaN  NaN\n",
      "2  NaN  NaN  NaN\n",
      "3  NaN  6.2  3.1\n",
      "     0    1    2\n",
      "0  1.2  6.5  3.0\n",
      "     0    1    2\n",
      "0  1.2  6.5  3.0\n",
      "1  1.0  NaN  NaN\n",
      "3  NaN  6.2  3.1\n",
      "     0    1    2\n",
      "0  1.2  6.5  3.0\n",
      "1  1.0  NaN  NaN\n",
      "2  NaN  NaN  NaN\n",
      "3  NaN  6.2  3.1\n",
      "     0    1    2\n",
      "0  1.2  6.5  3.0\n",
      "1  1.0  0.0  0.0\n",
      "2  0.0  0.0  0.0\n",
      "3  0.0  6.2  3.1\n",
      "     0    1    2\n",
      "0  1.2  6.5  3.0\n",
      "1  1.0  0.5  1.0\n",
      "2  NaN  0.5  1.0\n",
      "3  NaN  6.2  3.1\n"
     ]
    }
   ],
   "source": [
    "import pandas as pd \n",
    "import numpy as np\n",
    "\n",
    "s = pd.Series([1, np.NaN, 3.2, np.NaN, 7])\n",
    "print(s)\n",
    "print(s.dropna())\n",
    "\n",
    "df = pd.DataFrame([[1.2, 6.5, 3.0],\n",
    "               [1., np.NaN, np.NaN],\n",
    "               [np.NaN, np.NaN, np.NaN],\n",
    "               [np.NaN, 6.2, 3.1]])\n",
    "print(df)\n",
    "print(df.dropna())\n",
    "print(df.dropna(how='all'))\n",
    "print(df.dropna(axis=1, how='all'))\n",
    "\n",
    "\n",
    "print(df.fillna(0))\n",
    "print(df.fillna({1:0.5, 2:1.0}))"
   ]
  },
  {
   "cell_type": "markdown",
   "metadata": {},
   "source": [
    "## NaA的计算\n"
   ]
  },
  {
   "cell_type": "code",
   "execution_count": null,
   "metadata": {},
   "outputs": [
    {
     "name": "stdout",
     "output_type": "stream",
     "text": [
      "nan\n",
      "nan\n"
     ]
    }
   ],
   "source": [
    "import numpy as np\n",
    "\n",
    "print(np.NaN + 1)\n",
    "print(sum([np.NaN, 1.0, 2.0]))"
   ]
  },
  {
   "cell_type": "code",
   "execution_count": null,
   "metadata": {},
   "outputs": [
    {
     "data": {
      "text/plain": [
       "False"
      ]
     },
     "metadata": {},
     "output_type": "display_data"
    }
   ],
   "source": [
    "import numpy as np\n",
    "\n",
    "np.NaN > 0.0"
   ]
  },
  {
   "cell_type": "markdown",
   "metadata": {},
   "source": [
    "# 重复值"
   ]
  },
  {
   "cell_type": "code",
   "execution_count": null,
   "metadata": {},
   "outputs": [
    {
     "name": "stdout",
     "output_type": "stream",
     "text": [
      "  class  liter  math\n",
      "0     B     13    48\n",
      "1     A     61    75\n",
      "2     B     81    25\n",
      "3     B     68    28\n",
      "4     C     95     5\n",
      "5     A     53    34\n"
     ]
    }
   ],
   "source": [
    "import numpy as np\n",
    "import pandas as pd\n",
    "\n",
    "classes = [\"A\", \"B\", \"C\"]\n",
    "score = pd.DataFrame({\n",
    "    \"class\":[classes[x] for x in np.random.randint(0, len(classes), 6)],\n",
    "    \"liter\":np.random.randint(0, 100, 6),\n",
    "    \"math\":np.random.randint(0, 100, 6)\n",
    "})\n",
    "print(score)"
   ]
  },
  {
   "cell_type": "code",
   "execution_count": null,
   "metadata": {},
   "outputs": [
    {
     "name": "stdout",
     "output_type": "stream",
     "text": [
      "  class  liter  math\n",
      "0     B     13    48\n",
      "1     A     61    75\n",
      "4     C     95     5\n",
      "  class  liter  math\n",
      "0     B     13    48\n",
      "1     A     61    75\n",
      "4     C     95     5\n",
      "3     B     22    23\n",
      "  class  liter  math\n",
      "0     B     13    48\n",
      "1     A     61    75\n",
      "4     C     95     5\n"
     ]
    }
   ],
   "source": [
    "score.drop_duplicates(subset=['class'], keep='first', inplace=True)\n",
    "print(score)\n",
    "score.loc[len(score)] = [\"B\", 22, 23]\n",
    "print(score)\n",
    "score.drop_duplicates(subset=['class'], keep='first', inplace=True)\n",
    "print(score)"
   ]
  }
 ],
 "metadata": {
  "kernelspec": {
   "display_name": "Python 3",
   "language": "python",
   "name": "python3"
  },
  "language_info": {
   "codemirror_mode": {
    "name": "ipython",
    "version": 3
   },
   "file_extension": ".py",
   "mimetype": "text/x-python",
   "name": "python",
   "nbconvert_exporter": "python",
   "pygments_lexer": "ipython3",
   "version": "3.12.1"
  },
  "orig_nbformat": 4,
  "vscode": {
   "interpreter": {
    "hash": "2e4121690db76bc87d491a2e0341ca46892a2842bde8fb317c85d19e2ad11338"
   }
  }
 },
 "nbformat": 4,
 "nbformat_minor": 2
}
