{
 "cells": [
  {
   "attachments": {},
   "cell_type": "markdown",
   "metadata": {},
   "source": [
    "## 删除数据\n",
    "\n",
    "删除某列\n",
    "\n"
   ]
  },
  {
   "cell_type": "code",
   "execution_count": 9,
   "metadata": {},
   "outputs": [
    {
     "name": "stdout",
     "output_type": "stream",
     "text": [
      "   numbers  floats    names1\n",
      "a       10    22.0      Yves\n",
      "b       20    22.0     Guido\n",
      "c       30    22.0     Felix\n",
      "d       40    22.0  Francesc\n"
     ]
    }
   ],
   "source": [
    "del df['names2']\n",
    "print(df)"
   ]
  },
  {
   "attachments": {},
   "cell_type": "markdown",
   "metadata": {},
   "source": [
    "删除第一行"
   ]
  },
  {
   "cell_type": "code",
   "execution_count": 5,
   "metadata": {},
   "outputs": [
    {
     "name": "stdout",
     "output_type": "stream",
     "text": [
      "   numbers\n",
      "a       10\n",
      "b       20\n",
      "c       30\n",
      "d       40\n",
      "   numbers\n",
      "b       20\n",
      "c       30\n",
      "d       40\n"
     ]
    }
   ],
   "source": [
    "import pandas as pd\n",
    "\n",
    "del_df = pd.DataFrame([10, 20, 30, 40],\n",
    "                      columns=['numbers'],\n",
    "                      index=['a', 'b', 'c', 'd'])\n",
    "print(del_df)\n",
    "del_df.drop('a', inplace=True)\n",
    "print(del_df)\n"
   ]
  },
  {
   "attachments": {},
   "cell_type": "markdown",
   "metadata": {},
   "source": [
    "## 按条件删除行\n",
    "\n",
    "两种方式：\n",
    "\n",
    "- `df.drop(df[<some boolean condition>].index)`。\n",
    "- 更高效的方式是`df = df[df.score > 50]`。\n"
   ]
  },
  {
   "cell_type": "code",
   "execution_count": 7,
   "metadata": {},
   "outputs": [
    {
     "name": "stdout",
     "output_type": "stream",
     "text": [
      "   numbers\n",
      "a       10\n",
      "b       20\n",
      "c       30\n",
      "d       40\n",
      "   numbers\n",
      "b       20\n",
      "c       30\n",
      "d       40\n"
     ]
    }
   ],
   "source": [
    "import pandas as pd\n",
    "\n",
    "del_df = pd.DataFrame([10, 20, 30, 40],\n",
    "                      columns=['numbers'],\n",
    "                      index=['a', 'b', 'c', 'd'])\n",
    "print(del_df)\n",
    "del_df = del_df[del_df[\"numbers\"] > 10]\n",
    "print(del_df)"
   ]
  },
  {
   "attachments": {},
   "cell_type": "markdown",
   "metadata": {},
   "source": [
    "## 删除所有行\n",
    "\n",
    "两种方式：`df = df.iloc[0:0]`和`df.drop(df.index, inplace=True)`。\n",
    "\n",
    "参考： \n",
    "\n",
    "- [Drop all data in a pandas dataframe](https://stackoverflow.com/questions/39173992/drop-all-data-in-a-pandas-dataframe)"
   ]
  },
  {
   "cell_type": "code",
   "execution_count": 41,
   "metadata": {},
   "outputs": [
    {
     "name": "stdout",
     "output_type": "stream",
     "text": [
      "   numbers\n",
      "a       10\n",
      "b       20\n",
      "c       30\n",
      "d       40\n",
      "Empty DataFrame\n",
      "Columns: [numbers]\n",
      "Index: []\n"
     ]
    }
   ],
   "source": [
    "del_df = pd.DataFrame([10, 20, 30, 40],\n",
    "                      columns=['numbers'],\n",
    "                      index=['a', 'b', 'c', 'd'])\n",
    "print(del_df)\n",
    "\n",
    "del_df = del_df.iloc[0:0]\n",
    "del_df.to_csv(\"del_df.csv\")\n",
    "print(del_df)"
   ]
  }
 ],
 "metadata": {
  "kernelspec": {
   "display_name": "Python 3",
   "language": "python",
   "name": "python3"
  },
  "language_info": {
   "codemirror_mode": {
    "name": "ipython",
    "version": 3
   },
   "file_extension": ".py",
   "mimetype": "text/x-python",
   "name": "python",
   "nbconvert_exporter": "python",
   "pygments_lexer": "ipython3",
   "version": "3.9.9"
  },
  "orig_nbformat": 4,
  "vscode": {
   "interpreter": {
    "hash": "2e4121690db76bc87d491a2e0341ca46892a2842bde8fb317c85d19e2ad11338"
   }
  }
 },
 "nbformat": 4,
 "nbformat_minor": 2
}
