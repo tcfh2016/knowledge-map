{
 "cells": [
  {
   "attachments": {},
   "cell_type": "markdown",
   "metadata": {},
   "source": [
    "## dataframe的列从“2/25/2023”转换为“2023-02-25”\n",
    "\n",
    "最初从csv里面读取出来的日期列为`object`类型，调用`pd.to_datetime()`转换后对应列变更为`datetime64`类型。"
   ]
  },
  {
   "cell_type": "code",
   "execution_count": 6,
   "metadata": {},
   "outputs": [
    {
     "name": "stdout",
     "output_type": "stream",
     "text": [
      "Date                    object\n",
      "Build                  float64\n",
      "C&P Composite Index    float64\n",
      "Valid Case Num           int64\n",
      "dtype: object\n",
      "          Date   Build  C&P Composite Index  Valid Case Num\n",
      "0    2/25/2023  1812.0           100.024564               6\n",
      "1    2/24/2023  1782.0           100.015555               6\n",
      "2    2/22/2023  1748.0            99.972103               6\n",
      "3    2/21/2023  1725.0           100.840000               6\n",
      "4    2/20/2023  1697.0           100.330000               6\n",
      "..         ...     ...                  ...             ...\n",
      "283  7/29/2021     NaN           110.126349               1\n",
      "284  7/27/2021     NaN           111.265338               1\n",
      "285  7/27/2021     NaN           111.041933               1\n",
      "286  7/24/2021     NaN           112.162606               1\n",
      "287  7/23/2021     NaN           110.847831               1\n",
      "\n",
      "[288 rows x 4 columns]\n"
     ]
    }
   ],
   "source": [
    "import pandas as pd\n",
    "\n",
    "df = pd.read_csv(\"ex_date_convert.csv\", index_col=0)\n",
    "print(df.dtypes)\n",
    "print(df)"
   ]
  },
  {
   "cell_type": "code",
   "execution_count": 8,
   "metadata": {},
   "outputs": [
    {
     "name": "stdout",
     "output_type": "stream",
     "text": [
      "Date                   datetime64[ns]\n",
      "Build                         float64\n",
      "C&P Composite Index           float64\n",
      "Valid Case Num                  int64\n",
      "dtype: object\n",
      "          Date   Build  C&P Composite Index  Valid Case Num\n",
      "0   2023-02-25  1812.0           100.024564               6\n",
      "1   2023-02-24  1782.0           100.015555               6\n",
      "2   2023-02-22  1748.0            99.972103               6\n",
      "3   2023-02-21  1725.0           100.840000               6\n",
      "4   2023-02-20  1697.0           100.330000               6\n",
      "..         ...     ...                  ...             ...\n",
      "283 2021-07-29     NaN           110.126349               1\n",
      "284 2021-07-27     NaN           111.265338               1\n",
      "285 2021-07-27     NaN           111.041933               1\n",
      "286 2021-07-24     NaN           112.162606               1\n",
      "287 2021-07-23     NaN           110.847831               1\n",
      "\n",
      "[288 rows x 4 columns]\n"
     ]
    }
   ],
   "source": [
    "df['Date'] = pd.to_datetime(df['Date'])\n",
    "print(df.dtypes)\n",
    "print(df)\n",
    "df.to_csv(\"ex_date_converted.csv\")"
   ]
  },
  {
   "cell_type": "markdown",
   "metadata": {},
   "source": [
    "## time calculation"
   ]
  },
  {
   "cell_type": "code",
   "execution_count": 5,
   "metadata": {},
   "outputs": [
    {
     "name": "stdout",
     "output_type": "stream",
     "text": [
      "8\n",
      "                 Timestamp        Rcvd        Sent  Buffered    throughput  \\\n",
      "0  2024-04-02 01:03:23.786   317188188   316840908    347280           NaN   \n",
      "1  2024-04-02 01:03:24.286   664468188   664120908    347280  3.472800e+08   \n",
      "2  2024-04-02 01:03:25.786  1706308188  1705678743    629445  1.041558e+09   \n",
      "3  2024-04-02 01:03:26.286  2053588188  2053146853    441335  3.474681e+08   \n",
      "4  2024-04-02 01:03:26.786  2400868188  2400332798    535390  3.471859e+08   \n",
      "5  2024-04-02 01:03:27.286  2748148188  2747612798    535390  3.472800e+08   \n",
      "6  2024-04-02 01:03:27.786  3095428188  3094986853    441335  3.473741e+08   \n",
      "7  2024-04-02 01:03:28.286  3442708188  3442230678    477510  3.472438e+08   \n",
      "8  2024-04-02 01:03:31.286  5526388188  5525946853    441335  2.083716e+09   \n",
      "9  2024-04-02 01:03:31.786  5873668188  5873132798    535390  3.471859e+08   \n",
      "10 2024-04-02 01:03:32.286  6220948188  6220412798    535390  3.472800e+08   \n",
      "11 2024-04-02 01:03:32.786  6568228188  6567880908    347280  3.474681e+08   \n",
      "\n",
      "    timediff  \n",
      "0        NaN  \n",
      "1        0.5  \n",
      "2        1.5  \n",
      "3        0.5  \n",
      "4        0.5  \n",
      "5        0.5  \n",
      "6        0.5  \n",
      "7        0.5  \n",
      "8        3.0  \n",
      "9        0.5  \n",
      "10       0.5  \n",
      "11       0.5  \n"
     ]
    }
   ],
   "source": [
    "import pandas as pd\n",
    "import pandas as pd\n",
    "\n",
    "\n",
    "df = pd.read_csv('time_shift.csv', index_col=0)\n",
    "df['Timestamp'] = pd.to_datetime(df['Timestamp'])\n",
    "df['timediff'] = df['Timestamp'] - df['Timestamp'].shift(1)\n",
    "df['timediff'] = df['timediff'].dt.total_seconds()\n",
    "print(df['timediff'].idxmax())\n",
    "\n",
    "print(df)\n",
    "\n"
   ]
  }
 ],
 "metadata": {
  "kernelspec": {
   "display_name": "Python 3",
   "language": "python",
   "name": "python3"
  },
  "language_info": {
   "codemirror_mode": {
    "name": "ipython",
    "version": 3
   },
   "file_extension": ".py",
   "mimetype": "text/x-python",
   "name": "python",
   "nbconvert_exporter": "python",
   "pygments_lexer": "ipython3",
   "version": "3.9.9"
  },
  "orig_nbformat": 4,
  "vscode": {
   "interpreter": {
    "hash": "2e4121690db76bc87d491a2e0341ca46892a2842bde8fb317c85d19e2ad11338"
   }
  }
 },
 "nbformat": 4,
 "nbformat_minor": 2
}
