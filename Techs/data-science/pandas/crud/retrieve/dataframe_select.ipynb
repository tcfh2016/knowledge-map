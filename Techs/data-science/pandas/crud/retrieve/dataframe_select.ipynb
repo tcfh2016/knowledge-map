{
 "cells": [
  {
   "cell_type": "markdown",
   "metadata": {},
   "source": [
    "# 选取"
   ]
  },
  {
   "attachments": {},
   "cell_type": "markdown",
   "metadata": {},
   "source": [
    "## 选取列\n",
    "\n",
    "- 选择列是直接使用`df[col_lable]`来选择单列，使用`df[[col1, col2...]]`来选择多列。\n",
    "- 如果要使用`loc()`来选择列，那么就需要使用到切片，如`df.loc[:, col1]`。"
   ]
  },
  {
   "cell_type": "code",
   "execution_count": 2,
   "metadata": {},
   "outputs": [
    {
     "name": "stdout",
     "output_type": "stream",
     "text": [
      "    A   B\n",
      "0  84  82\n",
      "1  22  60\n",
      "2  38  47\n",
      "    A   B\n",
      "0  84  82\n",
      "1  22  60\n"
     ]
    }
   ],
   "source": [
    "import numpy as np\n",
    "import pandas as pd\n",
    "\n",
    "df = pd.DataFrame(\n",
    "    {\n",
    "        'A' : np.random.randint(0, 100, 3),\n",
    "        'B' : np.random.randint(0, 100, 3),\n",
    "        'C' : np.random.randint(0, 100, 3),\n",
    "    }\n",
    ")\n",
    "\n",
    "\n",
    "print(df[['A','B']])\n",
    "print(df.loc[0:1, 'A':'B'])"
   ]
  },
  {
   "cell_type": "code",
   "execution_count": 5,
   "metadata": {},
   "outputs": [
    {
     "name": "stdout",
     "output_type": "stream",
     "text": [
      "A\n",
      "B\n",
      "C\n"
     ]
    }
   ],
   "source": [
    "for col in df.columns:\n",
    "    print(col)\n"
   ]
  },
  {
   "attachments": {},
   "cell_type": "markdown",
   "metadata": {},
   "source": [
    "## 选取行\n",
    "\n",
    "1. 使用`df.loc(row_lable)`按照行标签名称来选择单行和多行，不能用“数字索引”。\n",
    "2. 使用切片的时候不需要使用`.loc()`，而是直接通过`df[start_row_lable : end_row_lable]`的形式。可以使用“名称索引”和“数字索引”。\n",
    "3. 使用`df[col_lable]`来选择单列和多列。\n",
    "\n",
    "*注：`df.index[0:3]`的输出为`['a', 'b', 'c']`。*\n",
    "\n",
    "要点：\n",
    "\n",
    "- 离散行的选择要使用`.loc`。\n",
    "- 非切片使用数字索引必须要使用`.loc`。"
   ]
  },
  {
   "cell_type": "code",
   "execution_count": 6,
   "metadata": {},
   "outputs": [
    {
     "name": "stdout",
     "output_type": "stream",
     "text": [
      "    A   B   C\n",
      "0   9  89  57\n",
      "1  12  88  48\n",
      "2  52  80  52\n",
      "row 0\n",
      "A     9\n",
      "B    89\n",
      "C    57\n",
      "Name: 0, dtype: int32\n",
      "row 1\n",
      "A    12\n",
      "B    88\n",
      "C    48\n",
      "Name: 1, dtype: int32\n",
      "row 0&1\n",
      "    A   B   C\n",
      "0   9  89  57\n",
      "1  12  88  48\n",
      "    A   B   C\n",
      "1  12  88  48\n"
     ]
    }
   ],
   "source": [
    "import numpy as np\n",
    "import pandas as pd\n",
    "\n",
    "df = pd.DataFrame(\n",
    "    {\n",
    "        'A' : np.random.randint(0, 100, 3),\n",
    "        'B' : np.random.randint(0, 100, 3),\n",
    "        'C' : np.random.randint(0, 100, 3),\n",
    "    }\n",
    ")\n",
    "print(df)\n",
    "print(\"row 0\")\n",
    "print(df.loc[0])\n",
    "print(\"row 1\")\n",
    "print(df.iloc[1])\n",
    "\n",
    "print(\"row 0&1\")\n",
    "print(df.loc[[0, 1]])\n"
   ]
  },
  {
   "cell_type": "code",
   "execution_count": 7,
   "metadata": {},
   "outputs": [
    {
     "name": "stdout",
     "output_type": "stream",
     "text": [
      "    A   B   C\n",
      "0   9  89  57\n",
      "1  12  88  48\n",
      "2  52  80  52\n",
      "    A   B   C\n",
      "1  12  88  48\n"
     ]
    }
   ],
   "source": [
    "print(df)\n",
    "print(df[1:-1])"
   ]
  },
  {
   "attachments": {},
   "cell_type": "markdown",
   "metadata": {},
   "source": [
    "## 数据单元\n",
    "\n",
    "- 如果知道标签名称，那么可以使用`df.loc['row']['col']`或者`df.loc['row','col']`。\n",
    "- 如果都是数字索引，那么使用`iloc()`，如`df.iloc [[3, 4], [1, 2]]`。\n",
    "- 如果混用，使用`df.iloc[0]['col']`或者`df['col'].iloc[0]`。"
   ]
  },
  {
   "cell_type": "code",
   "execution_count": 2,
   "metadata": {},
   "outputs": [
    {
     "name": "stdout",
     "output_type": "stream",
     "text": [
      "    A   B   C\n",
      "a  74  64  13\n",
      "b  66  85  93\n",
      "c  90  35  19\n",
      "74\n",
      "74\n",
      "74\n"
     ]
    }
   ],
   "source": [
    "import numpy as np\n",
    "import pandas as pd\n",
    "\n",
    "df = pd.DataFrame(\n",
    "    {\n",
    "        'A' : np.random.randint(0, 100, 3),\n",
    "        'B' : np.random.randint(0, 100, 3),\n",
    "        'C' : np.random.randint(0, 100, 3),\n",
    "    }\n",
    ")\n",
    "\n",
    "df.index = ['a', 'b', 'c']\n",
    "print(df)\n",
    "\n",
    "print(df.loc['a', 'A'])\n",
    "print(df.loc['a']['A'])\n",
    "print(df.at['a', 'A'])"
   ]
  },
  {
   "cell_type": "code",
   "execution_count": 6,
   "metadata": {},
   "outputs": [
    {
     "name": "stdout",
     "output_type": "stream",
     "text": [
      "74\n",
      "64\n"
     ]
    },
    {
     "name": "stderr",
     "output_type": "stream",
     "text": [
      "C:\\Users\\lianbche\\AppData\\Local\\Temp\\ipykernel_18776\\4292834611.py:2: FutureWarning: Series.__getitem__ treating keys as positions is deprecated. In a future version, integer keys will always be treated as labels (consistent with DataFrame behavior). To access a value by position, use `ser.iloc[pos]`\n",
      "  print(df.iloc[0][1])\n"
     ]
    }
   ],
   "source": [
    "print(df.iloc[0]['A'])\n",
    "print(df.iloc[0][1])\n",
    "# print(df.at[0, 'A']) # at 不支持位置索引\n",
    "# print(df.iloc[0, 'A']) # 错误的方式"
   ]
  },
  {
   "cell_type": "code",
   "execution_count": 2,
   "metadata": {},
   "outputs": [
    {
     "name": "stdout",
     "output_type": "stream",
     "text": [
      "    A   B   C\n",
      "0  12  95  57\n",
      "1  26  38  65\n",
      "2  83  28  89\n",
      "12\n",
      "12\n",
      "12\n"
     ]
    },
    {
     "ename": "ValueError",
     "evalue": "Location based indexing can only have [integer, integer slice (START point is INCLUDED, END point is EXCLUDED), listlike of integers, boolean array] types",
     "output_type": "error",
     "traceback": [
      "\u001b[1;31m---------------------------------------------------------------------------\u001b[0m",
      "\u001b[1;31mValueError\u001b[0m                                Traceback (most recent call last)",
      "File \u001b[1;32mc:\\Users\\lianbche\\AppData\\Local\\Programs\\Python\\Python39\\lib\\site-packages\\pandas\\core\\indexing.py:754\u001b[0m, in \u001b[0;36m_LocationIndexer._has_valid_tuple\u001b[1;34m(self, key)\u001b[0m\n\u001b[0;32m    753\u001b[0m \u001b[39mtry\u001b[39;00m:\n\u001b[1;32m--> 754\u001b[0m     \u001b[39mself\u001b[39;49m\u001b[39m.\u001b[39;49m_validate_key(k, i)\n\u001b[0;32m    755\u001b[0m \u001b[39mexcept\u001b[39;00m \u001b[39mValueError\u001b[39;00m \u001b[39mas\u001b[39;00m err:\n",
      "File \u001b[1;32mc:\\Users\\lianbche\\AppData\\Local\\Programs\\Python\\Python39\\lib\\site-packages\\pandas\\core\\indexing.py:1426\u001b[0m, in \u001b[0;36m_iLocIndexer._validate_key\u001b[1;34m(self, key, axis)\u001b[0m\n\u001b[0;32m   1425\u001b[0m \u001b[39melse\u001b[39;00m:\n\u001b[1;32m-> 1426\u001b[0m     \u001b[39mraise\u001b[39;00m \u001b[39mValueError\u001b[39;00m(\u001b[39mf\u001b[39m\u001b[39m\"\u001b[39m\u001b[39mCan only index by location with a [\u001b[39m\u001b[39m{\u001b[39;00m\u001b[39mself\u001b[39m\u001b[39m.\u001b[39m_valid_types\u001b[39m}\u001b[39;00m\u001b[39m]\u001b[39m\u001b[39m\"\u001b[39m)\n",
      "\u001b[1;31mValueError\u001b[0m: Can only index by location with a [integer, integer slice (START point is INCLUDED, END point is EXCLUDED), listlike of integers, boolean array]",
      "\nThe above exception was the direct cause of the following exception:\n",
      "\u001b[1;31mValueError\u001b[0m                                Traceback (most recent call last)",
      "\u001b[1;32mc:\\Users\\lianbche\\Git\\knowledge-map\\Techs\\data-science\\pandas\\dataframe\\3-select\\dataframe_select.ipynb Cell 9\u001b[0m in \u001b[0;36m2\n\u001b[0;32m     <a href='vscode-notebook-cell:/c%3A/Users/lianbche/Git/knowledge-map/Techs/data-science/pandas/dataframe/3-select/dataframe_select.ipynb#X11sZmlsZQ%3D%3D?line=18'>19</a>\u001b[0m \u001b[39mprint\u001b[39m(df\u001b[39m.\u001b[39miloc[\u001b[39m0\u001b[39m][\u001b[39m'\u001b[39m\u001b[39mA\u001b[39m\u001b[39m'\u001b[39m])\n\u001b[0;32m     <a href='vscode-notebook-cell:/c%3A/Users/lianbche/Git/knowledge-map/Techs/data-science/pandas/dataframe/3-select/dataframe_select.ipynb#X11sZmlsZQ%3D%3D?line=19'>20</a>\u001b[0m \u001b[39m# using df.iloc[index, label] 错误的方式\u001b[39;00m\n\u001b[1;32m---> <a href='vscode-notebook-cell:/c%3A/Users/lianbche/Git/knowledge-map/Techs/data-science/pandas/dataframe/3-select/dataframe_select.ipynb#X11sZmlsZQ%3D%3D?line=20'>21</a>\u001b[0m \u001b[39mprint\u001b[39m(df\u001b[39m.\u001b[39;49miloc[\u001b[39m0\u001b[39;49m, \u001b[39m'\u001b[39;49m\u001b[39mA\u001b[39;49m\u001b[39m'\u001b[39;49m])\n",
      "File \u001b[1;32mc:\\Users\\lianbche\\AppData\\Local\\Programs\\Python\\Python39\\lib\\site-packages\\pandas\\core\\indexing.py:925\u001b[0m, in \u001b[0;36m_LocationIndexer.__getitem__\u001b[1;34m(self, key)\u001b[0m\n\u001b[0;32m    923\u001b[0m         \u001b[39mwith\u001b[39;00m suppress(\u001b[39mKeyError\u001b[39;00m, \u001b[39mIndexError\u001b[39;00m):\n\u001b[0;32m    924\u001b[0m             \u001b[39mreturn\u001b[39;00m \u001b[39mself\u001b[39m\u001b[39m.\u001b[39mobj\u001b[39m.\u001b[39m_get_value(\u001b[39m*\u001b[39mkey, takeable\u001b[39m=\u001b[39m\u001b[39mself\u001b[39m\u001b[39m.\u001b[39m_takeable)\n\u001b[1;32m--> 925\u001b[0m     \u001b[39mreturn\u001b[39;00m \u001b[39mself\u001b[39;49m\u001b[39m.\u001b[39;49m_getitem_tuple(key)\n\u001b[0;32m    926\u001b[0m \u001b[39melse\u001b[39;00m:\n\u001b[0;32m    927\u001b[0m     \u001b[39m# we by definition only have the 0th axis\u001b[39;00m\n\u001b[0;32m    928\u001b[0m     axis \u001b[39m=\u001b[39m \u001b[39mself\u001b[39m\u001b[39m.\u001b[39maxis \u001b[39mor\u001b[39;00m \u001b[39m0\u001b[39m\n",
      "File \u001b[1;32mc:\\Users\\lianbche\\AppData\\Local\\Programs\\Python\\Python39\\lib\\site-packages\\pandas\\core\\indexing.py:1506\u001b[0m, in \u001b[0;36m_iLocIndexer._getitem_tuple\u001b[1;34m(self, tup)\u001b[0m\n\u001b[0;32m   1504\u001b[0m \u001b[39mdef\u001b[39;00m \u001b[39m_getitem_tuple\u001b[39m(\u001b[39mself\u001b[39m, tup: \u001b[39mtuple\u001b[39m):\n\u001b[1;32m-> 1506\u001b[0m     \u001b[39mself\u001b[39;49m\u001b[39m.\u001b[39;49m_has_valid_tuple(tup)\n\u001b[0;32m   1507\u001b[0m     \u001b[39mwith\u001b[39;00m suppress(IndexingError):\n\u001b[0;32m   1508\u001b[0m         \u001b[39mreturn\u001b[39;00m \u001b[39mself\u001b[39m\u001b[39m.\u001b[39m_getitem_lowerdim(tup)\n",
      "File \u001b[1;32mc:\\Users\\lianbche\\AppData\\Local\\Programs\\Python\\Python39\\lib\\site-packages\\pandas\\core\\indexing.py:756\u001b[0m, in \u001b[0;36m_LocationIndexer._has_valid_tuple\u001b[1;34m(self, key)\u001b[0m\n\u001b[0;32m    754\u001b[0m     \u001b[39mself\u001b[39m\u001b[39m.\u001b[39m_validate_key(k, i)\n\u001b[0;32m    755\u001b[0m \u001b[39mexcept\u001b[39;00m \u001b[39mValueError\u001b[39;00m \u001b[39mas\u001b[39;00m err:\n\u001b[1;32m--> 756\u001b[0m     \u001b[39mraise\u001b[39;00m \u001b[39mValueError\u001b[39;00m(\n\u001b[0;32m    757\u001b[0m         \u001b[39m\"\u001b[39m\u001b[39mLocation based indexing can only have \u001b[39m\u001b[39m\"\u001b[39m\n\u001b[0;32m    758\u001b[0m         \u001b[39mf\u001b[39m\u001b[39m\"\u001b[39m\u001b[39m[\u001b[39m\u001b[39m{\u001b[39;00m\u001b[39mself\u001b[39m\u001b[39m.\u001b[39m_valid_types\u001b[39m}\u001b[39;00m\u001b[39m] types\u001b[39m\u001b[39m\"\u001b[39m\n\u001b[0;32m    759\u001b[0m     ) \u001b[39mfrom\u001b[39;00m \u001b[39merr\u001b[39;00m\n",
      "\u001b[1;31mValueError\u001b[0m: Location based indexing can only have [integer, integer slice (START point is INCLUDED, END point is EXCLUDED), listlike of integers, boolean array] types"
     ]
    }
   ],
   "source": [
    "import numpy as np\n",
    "import pandas as pd\n",
    "\n",
    "df = pd.DataFrame(\n",
    "    {\n",
    "        'A' : np.random.randint(0, 100, 3),\n",
    "        'B' : np.random.randint(0, 100, 3),\n",
    "        'C' : np.random.randint(0, 100, 3),\n",
    "    }\n",
    ")\n",
    "\n",
    "print(df)\n",
    "# using df.loc[label, label]\n",
    "print(df.loc[0, 'A'])\n",
    "# using df.loc[label][label]\n",
    "print(df.loc[0]['A'])\n",
    "\n",
    "# using df.iloc[index][label]\n",
    "print(df.iloc[0]['A'])\n",
    "# using df.iloc[index, label] 错误的方式\n",
    "# print(df.iloc[0, 'A']) 错误的方式"
   ]
  },
  {
   "attachments": {},
   "cell_type": "markdown",
   "metadata": {},
   "source": [
    "注：在使用`iloc[number][label]`的时候有些版本无法设置生效，反而提示“”，但使用`loc[label][label]`就可以。"
   ]
  },
  {
   "cell_type": "code",
   "execution_count": 3,
   "metadata": {},
   "outputs": [
    {
     "name": "stdout",
     "output_type": "stream",
     "text": [
      "before change:\n",
      "    A   B   C\n",
      "a  97  21  69\n",
      "b  39  94  81\n",
      "c  20   0  61\n",
      "after change:\n",
      "    A   B    C\n",
      "a  97  21  100\n",
      "b  39  94   81\n",
      "c  20   0   61\n"
     ]
    }
   ],
   "source": [
    "print(\"before change:\")\n",
    "print(df)\n",
    "\n",
    "df.iloc[0]['C'] = 100\n",
    "\n",
    "print(\"after change:\")\n",
    "print(df)\n",
    "print(pandas.version())"
   ]
  },
  {
   "attachments": {},
   "cell_type": "markdown",
   "metadata": {},
   "source": [
    "## 按行遍历\n",
    "\n",
    "1. 遍历空的DataFrame，不会有输出\n",
    "2. 遍历非空的DataFrame，输出每行对应的单元格"
   ]
  },
  {
   "cell_type": "code",
   "execution_count": 1,
   "metadata": {},
   "outputs": [],
   "source": [
    "import pandas as pd\n",
    "\n",
    "df = pd.read_csv(\"ex_empty_csv_with_header.csv\")\n",
    "for index, row in df.iterrows():\n",
    "    print(row['name'], row['score'])"
   ]
  },
  {
   "cell_type": "code",
   "execution_count": 2,
   "metadata": {},
   "outputs": [
    {
     "name": "stdout",
     "output_type": "stream",
     "text": [
      "app 1780\n"
     ]
    }
   ],
   "source": [
    "import pandas as pd\n",
    "\n",
    "df = pd.read_csv(\"ex_nonempty_csv_with_header.csv\")\n",
    "for index, row in df.iterrows():\n",
    "    print(row['name'], row['score'])"
   ]
  },
  {
   "attachments": {},
   "cell_type": "markdown",
   "metadata": {},
   "source": [
    "## 布尔索引"
   ]
  },
  {
   "cell_type": "code",
   "execution_count": 10,
   "metadata": {},
   "outputs": [
    {
     "name": "stdout",
     "output_type": "stream",
     "text": [
      "按条件选择行例1：\n",
      "   numbers  floats    names1\n",
      "c       30     3.5     Felix\n",
      "d       40     4.5  Francesc\n",
      "按条件选择行例2：\n",
      "   numbers  floats    names1\n",
      "c       30     3.5     Felix\n",
      "d       40     4.5  Francesc\n",
      "   numbers  floats    names1\n",
      "c       30     3.5     Felix\n",
      "d       40     4.5  Francesc\n",
      "按条件选择行例3：\n",
      "   numbers  floats    names1\n",
      "c       30     3.5     Felix\n",
      "d       40     4.5  Francesc\n"
     ]
    }
   ],
   "source": [
    "df = pd.DataFrame([10, 20, 30, 40],\n",
    "                  columns=['numbers'],\n",
    "                  index=['a', 'b', 'c', 'd'])\n",
    "df['floats'] = (1.5, 2.5, 3.5, 4.5)\n",
    "df['names1'] = ('Yves', 'Guido', 'Felix', 'Francesc')\n",
    "\n",
    "print(\"按条件选择行例1：\")\n",
    "print(df[df.floats > 3.0]) # 选择列'floats'值大于3.0的那些行\n",
    "\n",
    "print(\"按条件选择行例2：\")\n",
    "conditions = []\n",
    "for f in df.floats:\n",
    "    if f > 3.0:\n",
    "        conditions.append(True)\n",
    "    else:\n",
    "        conditions.append(False)\n",
    "print(df[conditions])\n",
    "match_condition = pd.Series(conditions, index=df.index)\n",
    "print(df[match_condition])\n",
    "\n",
    "print(\"按条件选择行例3：\")\n",
    "condition = df.floats > 3.0\n",
    "print(df[condition])"
   ]
  },
  {
   "cell_type": "code",
   "execution_count": 22,
   "metadata": {},
   "outputs": [
    {
     "name": "stdout",
     "output_type": "stream",
     "text": [
      "   numbers  floats    names1\n",
      "a       10     1.5      Yves\n",
      "b       20     2.5     Guido\n",
      "c       30     3.5     Felix\n",
      "d       40     4.5  Francesc\n",
      "   numbers  floats    names1\n",
      "a       10     1.5      Yves\n",
      "b       20     2.5     Guido\n",
      "c       30     3.5     Felix\n",
      "d       40     4.5  Francesc\n",
      "   numbers  floats    names1\n",
      "a       10     1.5      Yves\n",
      "b       20     2.5     Guido\n",
      "c      100     3.5     Felix\n",
      "d       40     4.5  Francesc\n",
      "   numbers  floats    names1\n",
      "a       10     1.5      Yves\n",
      "b       20     2.5     Guido\n",
      "c       30     3.5     Felix\n",
      "d       40     4.5  Francesc\n"
     ]
    }
   ],
   "source": [
    "df = pd.DataFrame([10, 20, 30, 40],\n",
    "                  columns=['numbers'],\n",
    "                  index=['a', 'b', 'c', 'd'])\n",
    "df['floats'] = (1.5, 2.5, 3.5, 4.5)\n",
    "df['names1'] = ('Yves', 'Guido', 'Felix', 'Francesc')\n",
    "print(df)\n",
    "\n",
    "df2 = df[(df.floats > 2.0) | (df.names1 == 'Yves')].copy()\n",
    "print(df2)\n",
    "df2.loc['c','numbers'] = 100\n",
    "print(df2)\n",
    "\n",
    "print(df)"
   ]
  },
  {
   "cell_type": "code",
   "execution_count": 12,
   "metadata": {},
   "outputs": [
    {
     "name": "stdout",
     "output_type": "stream",
     "text": [
      "   numbers  floats    names1\n",
      "a       10     1.5      Yves\n",
      "b       20     2.5     Guido\n",
      "c       30     3.5     Felix\n",
      "d       40     4.5  Francesc\n",
      "   numbers  floats    names1\n",
      "b       20     2.5     Guido\n",
      "c       30     3.5     Felix\n",
      "d       40     4.5  Francesc\n"
     ]
    }
   ],
   "source": [
    "df = pd.DataFrame([10, 20, 30, 40],\n",
    "                  columns=['numbers'],\n",
    "                  index=['a', 'b', 'c', 'd'])\n",
    "df['floats'] = (1.5, 2.5, 3.5, 4.5)\n",
    "df['names1'] = ('Yves', 'Guido', 'Felix', 'Francesc')\n",
    "print(df)\n",
    "print(df[df.iloc[:, 0] > 10])"
   ]
  },
  {
   "cell_type": "markdown",
   "metadata": {},
   "source": [
    "按某列的值进行过滤"
   ]
  },
  {
   "cell_type": "code",
   "execution_count": 20,
   "metadata": {},
   "outputs": [
    {
     "name": "stdout",
     "output_type": "stream",
     "text": [
      "   A   B   C\n",
      "6  6  16  26\n",
      "7  7  17  27\n",
      "8  8  18  28\n",
      "9  9  19  29\n",
      "   A   B   C\n",
      "0  0  10  20\n",
      "1  1  11  21\n",
      "2  2  12  22\n",
      "3  3  13  23\n",
      "4  4  14  24\n"
     ]
    }
   ],
   "source": [
    "import numpy as np\n",
    "import pandas as pd\n",
    "\n",
    "df = pd.DataFrame(\n",
    "    {\n",
    "        'A' : np.arange(0, 10, 1),\n",
    "        'B' : np.arange(10, 20, 1),\n",
    "        'C' : np.arange(20, 30, 1),\n",
    "    }\n",
    ")\n",
    "print(df[df['C'] > 25])\n",
    "print(df[df['C'].isin(range(0, 25))])\n"
   ]
  },
  {
   "cell_type": "markdown",
   "metadata": {},
   "source": [
    "# 查询"
   ]
  },
  {
   "cell_type": "markdown",
   "metadata": {},
   "source": [
    "## unique()函数\n",
    "\n",
    "返回值为`numpy.ndarray`类型一维列表。可以使用`pd.unique(1d array-like)`或者`df['col'].unique()`两种方式。"
   ]
  },
  {
   "cell_type": "code",
   "execution_count": null,
   "metadata": {},
   "outputs": [
    {
     "name": "stdout",
     "output_type": "stream",
     "text": [
      "  class  score\n",
      "0     B     82\n",
      "1     C     45\n",
      "2     C     63\n",
      "3     A     34\n",
      "4     B     82\n",
      "['B' 'C' 'A']\n",
      "<class 'numpy.ndarray'>\n",
      "<class 'str'>\n"
     ]
    }
   ],
   "source": [
    "import pandas as pd\n",
    "import numpy as np\n",
    "\n",
    "classes = ['A', 'B', 'C']\n",
    "df = pd.DataFrame({\n",
    "    'class': [classes[x] for x in np.random.randint(0, len(classes), 5)],\n",
    "    'score': np.random.randint(0, 100, 5)\n",
    "    }\n",
    ")\n",
    "print(df)\n",
    "\n",
    "arr = df['class'].unique()\n",
    "print(arr)\n",
    "print(type(arr))\n",
    "\n",
    "c1 = arr[0]\n",
    "print(type(arr[0]))\n"
   ]
  },
  {
   "cell_type": "markdown",
   "metadata": {},
   "source": [
    "## 获取某列一段数据"
   ]
  },
  {
   "cell_type": "code",
   "execution_count": null,
   "metadata": {},
   "outputs": [
    {
     "name": "stdout",
     "output_type": "stream",
     "text": [
      "  class  score\n",
      "0     A     15\n",
      "1     A     30\n",
      "2     B     81\n",
      "3     B      9\n",
      "4     B     97\n",
      "[]\n"
     ]
    }
   ],
   "source": [
    "import pandas as pd\n",
    "import numpy as np\n",
    "\n",
    "classes = ['A', 'B', 'C']\n",
    "df = pd.DataFrame({\n",
    "    'class': [classes[x] for x in np.random.randint(0, len(classes), 5)],\n",
    "    'score': np.random.randint(0, 100, 5)\n",
    "    }\n",
    ")\n",
    "print(df)\n",
    "\n",
    "print(df['score'].iloc[0:0].values)"
   ]
  },
  {
   "cell_type": "markdown",
   "metadata": {},
   "source": [
    "## 判断值是否存在"
   ]
  },
  {
   "cell_type": "code",
   "execution_count": null,
   "metadata": {},
   "outputs": [
    {
     "name": "stdout",
     "output_type": "stream",
     "text": [
      "  class  score\n",
      "0     A     67\n",
      "1     A     40\n",
      "2     A     80\n",
      "3     B      7\n",
      "4     C     70\n",
      "YES\n"
     ]
    }
   ],
   "source": [
    "import pandas as pd\n",
    "import numpy as np\n",
    "\n",
    "classes = ['A', 'B', 'C']\n",
    "df = pd.DataFrame({\n",
    "    'class': [classes[x] for x in np.random.randint(0, len(classes), 5)],\n",
    "    'score': np.random.randint(0, 100, 5)\n",
    "    }\n",
    ")\n",
    "print(df)\n",
    "\n",
    "if 'C' not in df['class'].values:\n",
    "    print(\"NO\")\n",
    "else:\n",
    "    print(\"YES\")"
   ]
  },
  {
   "cell_type": "markdown",
   "metadata": {},
   "source": [
    "## 根据值查询对应的行标签"
   ]
  },
  {
   "cell_type": "code",
   "execution_count": null,
   "metadata": {},
   "outputs": [
    {
     "name": "stdout",
     "output_type": "stream",
     "text": [
      "  class  score\n",
      "0     A     90\n",
      "1     B     67\n",
      "2     B     26\n",
      "3     B     73\n",
      "4     A     34\n"
     ]
    }
   ],
   "source": [
    "import pandas as pd\n",
    "import numpy as np\n",
    "\n",
    "classes = ['A', 'B', 'C']\n",
    "df = pd.DataFrame({\n",
    "    'class': [classes[x] for x in np.random.randint(0, len(classes), 5)],\n",
    "    'score': np.random.randint(0, 100, 5)\n",
    "    }\n",
    ")\n",
    "print(df)"
   ]
  },
  {
   "cell_type": "code",
   "execution_count": null,
   "metadata": {},
   "outputs": [
    {
     "name": "stdout",
     "output_type": "stream",
     "text": [
      "  class  score\n",
      "0     A     90\n",
      "1     B      0\n",
      "2     B      0\n",
      "3     B      0\n",
      "4     A     34\n",
      "[0]\n"
     ]
    }
   ],
   "source": [
    "print(df)\n",
    "print(df[(df[\"class\"] == 'A') & (df[\"score\"] == 90)].index.values[0])"
   ]
  },
  {
   "cell_type": "code",
   "execution_count": null,
   "metadata": {},
   "outputs": [
    {
     "ename": "ValueError",
     "evalue": "can only convert an array of size 1 to a Python scalar",
     "output_type": "error",
     "traceback": [
      "\u001b[1;31m---------------------------------------------------------------------------\u001b[0m\n",
      "\u001b[1;31mValueError\u001b[0m                                Traceback (most recent call last)\n",
      "\u001b[1;32mc:\\Users\\lianbche\\Git\\knowledge-map\\Techs\\data-science\\pandas\\dataframe\\6-query\\query_test.ipynb Cell 9\u001b[0m in \u001b[0;36m1\n",
      "\u001b[1;32m----> <a href='vscode-notebook-cell:/c%3A/Users/lianbche/Git/knowledge-map/Techs/data-science/pandas/dataframe/6-query/query_test.ipynb#X11sZmlsZQ%3D%3D?line=0'>1</a>\u001b[0m found_idx \u001b[39m=\u001b[39m df[(df[\u001b[39m\"\u001b[39;49m\u001b[39mclass\u001b[39;49m\u001b[39m\"\u001b[39;49m] \u001b[39m==\u001b[39;49m \u001b[39m'\u001b[39;49m\u001b[39mB\u001b[39;49m\u001b[39m'\u001b[39;49m) \u001b[39m&\u001b[39;49m (df[\u001b[39m\"\u001b[39;49m\u001b[39mscore\u001b[39;49m\u001b[39m\"\u001b[39;49m] \u001b[39m==\u001b[39;49m \u001b[39m0\u001b[39;49m)]\u001b[39m.\u001b[39;49mindex\u001b[39m.\u001b[39;49mitem()\n",
      "\u001b[0;32m      <a href='vscode-notebook-cell:/c%3A/Users/lianbche/Git/knowledge-map/Techs/data-science/pandas/dataframe/6-query/query_test.ipynb#X11sZmlsZQ%3D%3D?line=1'>2</a>\u001b[0m \u001b[39mprint\u001b[39m(found_idx)\n",
      "\u001b[0;32m      <a href='vscode-notebook-cell:/c%3A/Users/lianbche/Git/knowledge-map/Techs/data-science/pandas/dataframe/6-query/query_test.ipynb#X11sZmlsZQ%3D%3D?line=2'>3</a>\u001b[0m \u001b[39mprint\u001b[39m(\u001b[39mtype\u001b[39m(found_idx))\n",
      "\n",
      "File \u001b[1;32mc:\\Users\\lianbche\\AppData\\Local\\Programs\\Python\\Python39\\lib\\site-packages\\pandas\\core\\base.py:331\u001b[0m, in \u001b[0;36mIndexOpsMixin.item\u001b[1;34m(self)\u001b[0m\n",
      "\u001b[0;32m    329\u001b[0m \u001b[39mif\u001b[39;00m \u001b[39mlen\u001b[39m(\u001b[39mself\u001b[39m) \u001b[39m==\u001b[39m \u001b[39m1\u001b[39m:\n",
      "\u001b[0;32m    330\u001b[0m     \u001b[39mreturn\u001b[39;00m \u001b[39mnext\u001b[39m(\u001b[39miter\u001b[39m(\u001b[39mself\u001b[39m))\n",
      "\u001b[1;32m--> 331\u001b[0m \u001b[39mraise\u001b[39;00m \u001b[39mValueError\u001b[39;00m(\u001b[39m\"\u001b[39m\u001b[39mcan only convert an array of size 1 to a Python scalar\u001b[39m\u001b[39m\"\u001b[39m)\n",
      "\n",
      "\u001b[1;31mValueError\u001b[0m: can only convert an array of size 1 to a Python scalar"
     ]
    }
   ],
   "source": [
    "found_idx = df[(df[\"class\"] == 'B') & (df[\"score\"] == 0)].index.item()\n",
    "print(found_idx)\n",
    "print(type(found_idx))\n",
    "\n",
    "print(df.loc[found_idx][\"score\"])\n",
    "print(type(df.loc[found_idx,\"score\"]))\n",
    "print(type(df.loc[found_idx][\"score\"]))\n",
    "df.loc[found_idx,\"score\"] = 0\n",
    "print(df.loc[found_idx][\"score\"])\n",
    "print(df)"
   ]
  },
  {
   "cell_type": "markdown",
   "metadata": {},
   "source": [
    "## 查找某列的最大值"
   ]
  },
  {
   "cell_type": "code",
   "execution_count": null,
   "metadata": {},
   "outputs": [
    {
     "name": "stdout",
     "output_type": "stream",
     "text": [
      "       class  score\n",
      "apple      B     91\n",
      "pear       B     27\n",
      "tomato     B     92\n",
      "balana     C     20\n",
      "orange     B     32\n",
      "92\n",
      "tomato\n"
     ]
    }
   ],
   "source": [
    "import pandas as pd\n",
    "import numpy as np\n",
    "\n",
    "classes = ['A', 'B', 'C']\n",
    "df = pd.DataFrame({\n",
    "    'class': [classes[x] for x in np.random.randint(0, len(classes), 5)],\n",
    "    'score': np.random.randint(0, 100, 5)\n",
    "    },\n",
    "    index=[\"apple\", \"pear\", \"tomato\", \"balana\", \"orange\"]\n",
    ")\n",
    "print(df)\n",
    "print(df[\"score\"].max())\n",
    "print(df[\"score\"].idxmax())\n"
   ]
  }
 ],
 "metadata": {
  "kernelspec": {
   "display_name": "Python 3",
   "language": "python",
   "name": "python3"
  },
  "language_info": {
   "codemirror_mode": {
    "name": "ipython",
    "version": 3
   },
   "file_extension": ".py",
   "mimetype": "text/x-python",
   "name": "python",
   "nbconvert_exporter": "python",
   "pygments_lexer": "ipython3",
   "version": "3.13.0"
  },
  "orig_nbformat": 4
 },
 "nbformat": 4,
 "nbformat_minor": 2
}
