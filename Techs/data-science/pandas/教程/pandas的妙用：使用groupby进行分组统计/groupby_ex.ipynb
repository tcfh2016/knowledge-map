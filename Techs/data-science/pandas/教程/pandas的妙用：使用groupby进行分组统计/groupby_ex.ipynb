{
 "cells": [
  {
   "cell_type": "markdown",
   "metadata": {},
   "source": [
    "step 1: 创建测试数据"
   ]
  },
  {
   "cell_type": "code",
   "execution_count": 11,
   "metadata": {},
   "outputs": [
    {
     "name": "stdout",
     "output_type": "stream",
     "text": [
      "  班级  语文  数学\n",
      "0    B    57    75\n",
      "1    A    71    65\n",
      "2    C    72    51\n",
      "3    B    35     8\n",
      "4    C     2    21\n",
      "5    A    95    25\n"
     ]
    }
   ],
   "source": [
    "import pandas as pd\n",
    "import numpy as np\n",
    "\n",
    "#pd.set_option('display.unicode.ambiguous_as_wide',True)  # 将模糊字符宽度设置为2\n",
    "pd.set_option('display.unicode.east_asian_width',True) # 检查东亚字符宽度属性\n",
    "\n",
    "classes = [\"A\", \"B\", \"C\"]\n",
    "score = pd.DataFrame({\n",
    "    \"班级\":[classes[x] for x in np.random.randint(0, len(classes), 6)],\n",
    "    \"语文\":np.random.randint(0, 100, 6),\n",
    "    \"数学\":np.random.randint(0, 100, 6)\n",
    "})\n",
    "\n",
    "print(score)"
   ]
  },
  {
   "cell_type": "markdown",
   "metadata": {},
   "source": [
    "step 2: 打印出分组后的完整结果"
   ]
  },
  {
   "cell_type": "code",
   "execution_count": 12,
   "metadata": {},
   "outputs": [
    {
     "name": "stdout",
     "output_type": "stream",
     "text": [
      "[('A',   班级  语文  数学\n",
      "1    A    71    65\n",
      "5    A    95    25), ('B',   班级  语文  数学\n",
      "0    B    57    75\n",
      "3    B    35     8), ('C',   班级  语文  数学\n",
      "2    C    72    51\n",
      "4    C     2    21)]\n"
     ]
    }
   ],
   "source": [
    "res = score.groupby('班级')\n",
    "print(list(res))"
   ]
  },
  {
   "cell_type": "markdown",
   "metadata": {},
   "source": [
    "step 3: 打印出每个分组的第一行数据"
   ]
  },
  {
   "cell_type": "code",
   "execution_count": 14,
   "metadata": {},
   "outputs": [
    {
     "name": "stdout",
     "output_type": "stream",
     "text": [
      "      语文  数学\n",
      "班级            \n",
      "A       71    65\n",
      "B       57    75\n",
      "C       72    51\n",
      "<class 'pandas.core.frame.DataFrame'>\n"
     ]
    }
   ],
   "source": [
    "print(score.groupby('班级').first())\n",
    "print(type(score.groupby('班级').first()))"
   ]
  },
  {
   "cell_type": "markdown",
   "metadata": {},
   "source": [
    "step 4: 求取分组的统计数据"
   ]
  },
  {
   "cell_type": "code",
   "execution_count": 15,
   "metadata": {},
   "outputs": [
    {
     "name": "stdout",
     "output_type": "stream",
     "text": [
      "      语文  数学\n",
      "班级            \n",
      "A        2     2\n",
      "B        2     2\n",
      "C        2     2\n",
      "      语文  数学\n",
      "班级            \n",
      "A       95    65\n",
      "B       57    75\n",
      "C       72    51\n",
      "      语文  数学\n",
      "班级            \n",
      "A     83.0  45.0\n",
      "B     46.0  41.5\n",
      "C     37.0  36.0\n"
     ]
    }
   ],
   "source": [
    "print(score.groupby('班级').count())\n",
    "print(score.groupby('班级').max())\n",
    "print(score.groupby('班级').mean())"
   ]
  },
  {
   "cell_type": "markdown",
   "metadata": {},
   "source": [
    "step 5：按照语文成绩分组，错误的方法"
   ]
  },
  {
   "cell_type": "code",
   "execution_count": 34,
   "metadata": {},
   "outputs": [
    {
     "name": "stdout",
     "output_type": "stream",
     "text": [
      "语文\n",
      "2     1\n",
      "35    1\n",
      "57    1\n",
      "71    1\n",
      "72    1\n",
      "95    1\n",
      "dtype: int64\n"
     ]
    }
   ],
   "source": [
    "print(score.groupby('语文').size())"
   ]
  },
  {
   "cell_type": "markdown",
   "metadata": {},
   "source": [
    "step 6：按照语文成绩分组，正确的方法"
   ]
  },
  {
   "cell_type": "code",
   "execution_count": 38,
   "metadata": {},
   "outputs": [
    {
     "name": "stdout",
     "output_type": "stream",
     "text": [
      "0      (0, 60]\n",
      "1     (60, 90]\n",
      "2     (60, 90]\n",
      "3      (0, 60]\n",
      "4      (0, 60]\n",
      "5    (90, 100]\n",
      "Name: 语文, dtype: category\n",
      "Categories (3, interval[int64, right]): [(0, 60] < (60, 90] < (90, 100]]\n",
      "<class 'pandas.core.series.Series'>\n"
     ]
    }
   ],
   "source": [
    "c = pd.cut(score['语文'], [0, 60, 90, 100])\n",
    "print(c)\n",
    "print(type(c))\n"
   ]
  },
  {
   "cell_type": "code",
   "execution_count": null,
   "metadata": {},
   "outputs": [],
   "source": [
    "g = score.groupby(c)\n",
    "\n",
    "print(list(g))\n",
    "print(g.size())\n",
    "print(type(g.size()))\n",
    "print(g.mean())"
   ]
  }
 ],
 "metadata": {
  "kernelspec": {
   "display_name": "Python 3.9.4 64-bit",
   "language": "python",
   "name": "python3"
  },
  "language_info": {
   "codemirror_mode": {
    "name": "ipython",
    "version": 3
   },
   "file_extension": ".py",
   "mimetype": "text/x-python",
   "name": "python",
   "nbconvert_exporter": "python",
   "pygments_lexer": "ipython3",
   "version": "3.9.4"
  },
  "orig_nbformat": 4,
  "vscode": {
   "interpreter": {
    "hash": "ce83015362f3431972c27d0bbc1093af16eb853cfefef809a2df983a5098431c"
   }
  }
 },
 "nbformat": 4,
 "nbformat_minor": 2
}
