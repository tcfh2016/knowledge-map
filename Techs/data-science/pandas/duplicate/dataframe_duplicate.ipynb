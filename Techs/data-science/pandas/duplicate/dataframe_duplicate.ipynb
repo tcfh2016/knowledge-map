{
 "cells": [
  {
   "cell_type": "code",
   "execution_count": 1,
   "metadata": {},
   "outputs": [
    {
     "name": "stdout",
     "output_type": "stream",
     "text": [
      "  class  liter  math\n",
      "0     B     13    48\n",
      "1     A     61    75\n",
      "2     B     81    25\n",
      "3     B     68    28\n",
      "4     C     95     5\n",
      "5     A     53    34\n"
     ]
    }
   ],
   "source": [
    "import numpy as np\n",
    "import pandas as pd\n",
    "\n",
    "classes = [\"A\", \"B\", \"C\"]\n",
    "score = pd.DataFrame({\n",
    "    \"class\":[classes[x] for x in np.random.randint(0, len(classes), 6)],\n",
    "    \"liter\":np.random.randint(0, 100, 6),\n",
    "    \"math\":np.random.randint(0, 100, 6)\n",
    "})\n",
    "print(score)"
   ]
  },
  {
   "cell_type": "code",
   "execution_count": 5,
   "metadata": {},
   "outputs": [
    {
     "name": "stdout",
     "output_type": "stream",
     "text": [
      "  class  liter  math\n",
      "0     B     13    48\n",
      "1     A     61    75\n",
      "4     C     95     5\n",
      "  class  liter  math\n",
      "0     B     13    48\n",
      "1     A     61    75\n",
      "4     C     95     5\n",
      "3     B     22    23\n",
      "  class  liter  math\n",
      "0     B     13    48\n",
      "1     A     61    75\n",
      "4     C     95     5\n"
     ]
    }
   ],
   "source": [
    "score.drop_duplicates(subset=['class'], keep='first', inplace=True)\n",
    "print(score)\n",
    "score.loc[len(score)] = [\"B\", 22, 23]\n",
    "print(score)\n",
    "score.drop_duplicates(subset=['class'], keep='first', inplace=True)\n",
    "print(score)"
   ]
  },
  {
   "cell_type": "code",
   "execution_count": 12,
   "metadata": {},
   "outputs": [
    {
     "name": "stdout",
     "output_type": "stream",
     "text": [
      "         Date  Build  C&P Composite Index  Valid Case Num\n",
      "0  2023-02-24   1782           100.015555               6\n",
      "1  2023-02-24   1782           100.015555               6\n",
      "2  2023-02-22   1748            99.972103               6\n",
      "add new line:\n",
      "         Date  Build  C&P Composite Index  Valid Case Num\n",
      "0  2023-02-24   1782           100.015555               6\n",
      "1  2023-02-24   1782           100.015555               6\n",
      "2  2023-02-22   1748            99.972103               6\n",
      "3  2023-02-24   1782            99.990000               6\n",
      "         Date  Build  C&P Composite Index  Valid Case Num\n",
      "0  2023-02-24   1782           100.015555               6\n",
      "2  2023-02-22   1748            99.972103               6\n",
      "2\n",
      "2\n"
     ]
    }
   ],
   "source": [
    "import pandas as pd\n",
    "\n",
    "ex = pd.read_csv(\"ex_test.csv\", index_col=0)\n",
    "print(ex)\n",
    "print(\"add new line:\")\n",
    "ex.loc[len(ex.index)] = ['2023-02-24', 1782, 99.99, 6]\n",
    "print(ex)\n",
    "ex.drop_duplicates(subset=['Build'], keep='first', inplace=True)\n",
    "print(ex)\n",
    "\n",
    "print(len(ex))\n",
    "print(len(ex.index))"
   ]
  }
 ],
 "metadata": {
  "kernelspec": {
   "display_name": "Python 3",
   "language": "python",
   "name": "python3"
  },
  "language_info": {
   "codemirror_mode": {
    "name": "ipython",
    "version": 3
   },
   "file_extension": ".py",
   "mimetype": "text/x-python",
   "name": "python",
   "nbconvert_exporter": "python",
   "pygments_lexer": "ipython3",
   "version": "3.9.5"
  },
  "orig_nbformat": 4,
  "vscode": {
   "interpreter": {
    "hash": "2e4121690db76bc87d491a2e0341ca46892a2842bde8fb317c85d19e2ad11338"
   }
  }
 },
 "nbformat": 4,
 "nbformat_minor": 2
}
