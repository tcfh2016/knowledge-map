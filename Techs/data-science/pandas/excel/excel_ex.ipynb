{
 "cells": [
  {
   "cell_type": "markdown",
   "metadata": {},
   "source": [
    "## 读取Excel"
   ]
  },
  {
   "cell_type": "code",
   "execution_count": 1,
   "metadata": {},
   "outputs": [
    {
     "name": "stdout",
     "output_type": "stream",
     "text": [
      "   排名    球员    球队 进球（点球）  出场次数  出场时间  射门  射正\n",
      "0   1   瓦尔迪   莱斯特  17(3)    20  1800  49  29\n",
      "1   2    英斯  南安普敦     14    22  1537  57  26\n",
      "2   3  奥巴梅扬   阿森纳  14(1)    22  1945  55  22\n",
      "3   4  拉什福德    曼联  14(5)    22  1881  74  34\n",
      "4   5  亚伯拉罕   切尔西     13    21  1673  66  29\n"
     ]
    }
   ],
   "source": [
    "import pandas as pd\n",
    "\n",
    "df = pd.read_excel('data.xlsx')\n",
    "print(df.head())"
   ]
  },
  {
   "cell_type": "code",
   "execution_count": 2,
   "metadata": {},
   "outputs": [
    {
     "name": "stdout",
     "output_type": "stream",
     "text": [
      "   排名      球员      球队 进球（点球）  出场次数  出场时间  射门  射正\n",
      "0     1    瓦尔迪    莱斯特        17(3)        20      1800    49    29\n",
      "1     2      英斯  南安普敦           14        22      1537    57    26\n",
      "2     3  奥巴梅扬    阿森纳        14(1)        22      1945    55    22\n",
      "3     4  拉什福德      曼联        14(5)        22      1881    74    34\n",
      "4     5  亚伯拉罕    切尔西           13        21      1673    66    29\n"
     ]
    }
   ],
   "source": [
    "pd.set_option('display.unicode.east_asian_width', True)\n",
    "print(df.head())"
   ]
  }
 ],
 "metadata": {
  "kernelspec": {
   "display_name": "Python 3",
   "language": "python",
   "name": "python3"
  },
  "language_info": {
   "codemirror_mode": {
    "name": "ipython",
    "version": 3
   },
   "file_extension": ".py",
   "mimetype": "text/x-python",
   "name": "python",
   "nbconvert_exporter": "python",
   "pygments_lexer": "ipython3",
   "version": "3.12.1"
  }
 },
 "nbformat": 4,
 "nbformat_minor": 2
}
