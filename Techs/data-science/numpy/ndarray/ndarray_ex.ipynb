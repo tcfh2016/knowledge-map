{
 "cells": [
  {
   "cell_type": "markdown",
   "metadata": {},
   "source": [
    "## `ndarray`创建\n",
    "\n",
    "`numpy.zeros(shape, dtype=float, order='C')`\n",
    "\n",
    "根据给定的规格和类型返回新的数组，并初始化为0。其中的order表示在存储多维数组的时候是按照C语言中的行优先还是Fortran语言中的列优先进行。"
   ]
  },
  {
   "cell_type": "code",
   "execution_count": 4,
   "metadata": {},
   "outputs": [
    {
     "name": "stdout",
     "output_type": "stream",
     "text": [
      "方式一：常规数组创建\n",
      "[3. 2. 8.]\n",
      "元素类型：float64\n",
      "方式二：使用zeros/ones\n",
      "[0. 0. 0.]\n",
      "元素类型：float64\n",
      "[1. 1. 1. 1. 1. 1. 1. 1. 1. 1.]\n",
      "元素类型：float64\n"
     ]
    }
   ],
   "source": [
    "import numpy as np\n",
    "\n",
    "print('方式一：常规数组创建')\n",
    "arr = [3.0, 2, 8]\n",
    "nda1 = np.array(arr)\n",
    "print(nda1)\n",
    "print('元素类型：{}'.format(nda1.dtype))\n",
    "\n",
    "print('方式二：使用zeros/ones')\n",
    "nda2 = np.zeros(3)\n",
    "print(nda2)\n",
    "print('元素类型：{}'.format(nda2.dtype))\n",
    "\n",
    "nda3 = np.ones(10)\n",
    "print(nda3)\n",
    "print('元素类型：{}'.format(nda3.dtype))"
   ]
  },
  {
   "cell_type": "markdown",
   "metadata": {},
   "source": [
    "创建时指定类型"
   ]
  },
  {
   "cell_type": "code",
   "execution_count": 7,
   "metadata": {},
   "outputs": [
    {
     "data": {
      "text/plain": [
       "array([[1, 2, 3],\n",
       "       [4, 5, 6]])"
      ]
     },
     "execution_count": 7,
     "metadata": {},
     "output_type": "execute_result"
    }
   ],
   "source": [
    "np.array([[1, 2, 3],[4, 5, 6]])"
   ]
  },
  {
   "cell_type": "code",
   "execution_count": 6,
   "metadata": {},
   "outputs": [
    {
     "data": {
      "text/plain": [
       "array([[1., 2., 3.],\n",
       "       [4., 5., 6.]], dtype=float32)"
      ]
     },
     "execution_count": 6,
     "metadata": {},
     "output_type": "execute_result"
    }
   ],
   "source": [
    "np.array([[1, 2, 3],[4, 5, 6]], dtype=np.float32)"
   ]
  },
  {
   "cell_type": "markdown",
   "metadata": {},
   "source": [
    "使用 `range`, `linspace`"
   ]
  },
  {
   "cell_type": "code",
   "execution_count": 11,
   "metadata": {},
   "outputs": [
    {
     "name": "stdout",
     "output_type": "stream",
     "text": [
      "使用range\n",
      "[0 1 2 3 4]\n",
      "linspace\n",
      "[ 0. 10. 20. 30. 40. 50. 60. 70. 80. 90.]\n"
     ]
    }
   ],
   "source": [
    "import numpy as np \n",
    "\n",
    "print('使用range')\n",
    "nda1 = np.arange(5)\n",
    "print(nda1)\n",
    "\n",
    "print('linspace')\n",
    "nda2 = np.linspace(0, 90, 10)\n",
    "print(nda2)"
   ]
  }
 ],
 "metadata": {
  "kernelspec": {
   "display_name": "Python 3",
   "language": "python",
   "name": "python3"
  },
  "language_info": {
   "codemirror_mode": {
    "name": "ipython",
    "version": 3
   },
   "file_extension": ".py",
   "mimetype": "text/x-python",
   "name": "python",
   "nbconvert_exporter": "python",
   "pygments_lexer": "ipython3",
   "version": "3.9.9"
  }
 },
 "nbformat": 4,
 "nbformat_minor": 2
}
