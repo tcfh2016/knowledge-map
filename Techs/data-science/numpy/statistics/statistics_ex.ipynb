{
 "cells": [
  {
   "cell_type": "markdown",
   "metadata": {},
   "source": [
    "## 正态分布"
   ]
  },
  {
   "cell_type": "markdown",
   "metadata": {},
   "source": [
    "使用`randn`创建指定维数的，服从mean=0, standard deviation=1正态分布的随机数（即标准正态分布），数据越多越明显。"
   ]
  },
  {
   "cell_type": "code",
   "execution_count": 99,
   "metadata": {},
   "outputs": [
    {
     "name": "stdout",
     "output_type": "stream",
     "text": [
      "0.0819377399267779\n",
      "1.1194060477278542\n"
     ]
    },
    {
     "data": {
      "text/plain": [
       "(array([2., 0., 0., 0., 0., 0., 0., 0., 0., 0., 0., 1., 0., 0., 0., 0., 0.,\n",
       "        1., 0., 0., 0., 0., 1., 0., 0., 0., 0., 0., 0., 1., 0., 0., 0., 1.,\n",
       "        1., 0., 0., 1., 0., 0., 0., 1., 0., 0., 0., 0., 0., 0., 0., 1., 0.,\n",
       "        0., 0., 1., 0., 0., 0., 0., 0., 0., 0., 0., 0., 0., 0., 0., 0., 1.,\n",
       "        0., 0., 1., 0., 1., 0., 0., 0., 0., 0., 0., 1., 0., 0., 0., 0., 0.,\n",
       "        0., 1., 0., 0., 0., 1., 0., 0., 1., 0., 0., 0., 0., 0., 1.]),\n",
       " array([-1.67555291, -1.64011053, -1.60466815, -1.56922578, -1.5337834 ,\n",
       "        -1.49834102, -1.46289864, -1.42745626, -1.39201388, -1.3565715 ,\n",
       "        -1.32112912, -1.28568675, -1.25024437, -1.21480199, -1.17935961,\n",
       "        -1.14391723, -1.10847485, -1.07303247, -1.03759009, -1.00214772,\n",
       "        -0.96670534, -0.93126296, -0.89582058, -0.8603782 , -0.82493582,\n",
       "        -0.78949344, -0.75405106, -0.71860869, -0.68316631, -0.64772393,\n",
       "        -0.61228155, -0.57683917, -0.54139679, -0.50595441, -0.47051204,\n",
       "        -0.43506966, -0.39962728, -0.3641849 , -0.32874252, -0.29330014,\n",
       "        -0.25785776, -0.22241538, -0.18697301, -0.15153063, -0.11608825,\n",
       "        -0.08064587, -0.04520349, -0.00976111,  0.02568127,  0.06112365,\n",
       "         0.09656602,  0.1320084 ,  0.16745078,  0.20289316,  0.23833554,\n",
       "         0.27377792,  0.3092203 ,  0.34466268,  0.38010505,  0.41554743,\n",
       "         0.45098981,  0.48643219,  0.52187457,  0.55731695,  0.59275933,\n",
       "         0.62820171,  0.66364408,  0.69908646,  0.73452884,  0.76997122,\n",
       "         0.8054136 ,  0.84085598,  0.87629836,  0.91174073,  0.94718311,\n",
       "         0.98262549,  1.01806787,  1.05351025,  1.08895263,  1.12439501,\n",
       "         1.15983739,  1.19527976,  1.23072214,  1.26616452,  1.3016069 ,\n",
       "         1.33704928,  1.37249166,  1.40793404,  1.44337642,  1.47881879,\n",
       "         1.51426117,  1.54970355,  1.58514593,  1.62058831,  1.65603069,\n",
       "         1.69147307,  1.72691545,  1.76235782,  1.7978002 ,  1.83324258,\n",
       "         1.86868496]),\n",
       " <BarContainer object of 100 artists>)"
      ]
     },
     "execution_count": 99,
     "metadata": {},
     "output_type": "execute_result"
    },
    {
     "data": {
      "image/png": "[encoded data removed]",
      "text/plain": [
       "<Figure size 640x480 with 1 Axes>"
      ]
     },
     "metadata": {},
     "output_type": "display_data"
    }
   ],
   "source": [
    "import statistics\n",
    "import numpy as np\n",
    "import matplotlib.pyplot as plt\n",
    "\n",
    "nda = np.random.randn(20)\n",
    "#print(nda)\n",
    "\n",
    "print(statistics.mean(nda))\n",
    "print(statistics.stdev(nda))\n",
    "\n",
    "plt.hist(nda, bins=100)"
   ]
  },
  {
   "cell_type": "markdown",
   "metadata": {},
   "source": [
    "## 均匀分布"
   ]
  },
  {
   "cell_type": "markdown",
   "metadata": {},
   "source": [
    "使用`rand`创建指定维数的，服从`[0, 1)`均匀分布的随机数，数据越多越明显。"
   ]
  },
  {
   "cell_type": "code",
   "execution_count": 100,
   "metadata": {},
   "outputs": [
    {
     "name": "stdout",
     "output_type": "stream",
     "text": [
      "0.5141616906508563\n",
      "0.31841630293794176\n"
     ]
    },
    {
     "data": {
      "text/plain": [
       "(array([2., 0., 0., 0., 0., 0., 1., 0., 0., 0., 0., 0., 0., 0., 0., 0., 0.,\n",
       "        0., 0., 0., 0., 0., 0., 0., 0., 0., 0., 0., 2., 0., 1., 2., 0., 0.,\n",
       "        0., 0., 0., 1., 0., 0., 0., 0., 1., 0., 0., 0., 0., 0., 0., 0., 1.,\n",
       "        0., 0., 0., 0., 0., 0., 0., 1., 0., 0., 0., 1., 0., 0., 0., 0., 0.,\n",
       "        0., 0., 0., 0., 1., 0., 0., 0., 0., 0., 0., 0., 1., 0., 0., 0., 0.,\n",
       "        0., 0., 0., 0., 2., 0., 0., 0., 0., 0., 0., 1., 0., 1., 1.]),\n",
       " array([0.01575334, 0.0253726 , 0.03499187, 0.04461113, 0.05423039,\n",
       "        0.06384965, 0.07346892, 0.08308818, 0.09270744, 0.1023267 ,\n",
       "        0.11194597, 0.12156523, 0.13118449, 0.14080376, 0.15042302,\n",
       "        0.16004228, 0.16966154, 0.17928081, 0.18890007, 0.19851933,\n",
       "        0.20813859, 0.21775786, 0.22737712, 0.23699638, 0.24661564,\n",
       "        0.25623491, 0.26585417, 0.27547343, 0.2850927 , 0.29471196,\n",
       "        0.30433122, 0.31395048, 0.32356975, 0.33318901, 0.34280827,\n",
       "        0.35242753, 0.3620468 , 0.37166606, 0.38128532, 0.39090458,\n",
       "        0.40052385, 0.41014311, 0.41976237, 0.42938164, 0.4390009 ,\n",
       "        0.44862016, 0.45823942, 0.46785869, 0.47747795, 0.48709721,\n",
       "        0.49671647, 0.50633574, 0.515955  , 0.52557426, 0.53519352,\n",
       "        0.54481279, 0.55443205, 0.56405131, 0.57367058, 0.58328984,\n",
       "        0.5929091 , 0.60252836, 0.61214763, 0.62176689, 0.63138615,\n",
       "        0.64100541, 0.65062468, 0.66024394, 0.6698632 , 0.67948246,\n",
       "        0.68910173, 0.69872099, 0.70834025, 0.71795952, 0.72757878,\n",
       "        0.73719804, 0.7468173 , 0.75643657, 0.76605583, 0.77567509,\n",
       "        0.78529435, 0.79491362, 0.80453288, 0.81415214, 0.8237714 ,\n",
       "        0.83339067, 0.84300993, 0.85262919, 0.86224846, 0.87186772,\n",
       "        0.88148698, 0.89110624, 0.90072551, 0.91034477, 0.91996403,\n",
       "        0.92958329, 0.93920256, 0.94882182, 0.95844108, 0.96806034,\n",
       "        0.97767961]),\n",
       " <BarContainer object of 100 artists>)"
      ]
     },
     "execution_count": 100,
     "metadata": {},
     "output_type": "execute_result"
    },
    {
     "data": {
      "image/png": "[encoded data removed]",
      "text/plain": [
       "<Figure size 640x480 with 1 Axes>"
      ]
     },
     "metadata": {},
     "output_type": "display_data"
    }
   ],
   "source": [
    "import numpy as np\n",
    "\n",
    "nda = np.random.rand(20)\n",
    "#print(nda)\n",
    "\n",
    "print(statistics.mean(nda))\n",
    "print(statistics.stdev(nda))\n",
    "plt.hist(nda, bins=100)"
   ]
  },
  {
   "cell_type": "markdown",
   "metadata": {},
   "source": [
    "使用`randint`函数生成指定范围的随机数"
   ]
  },
  {
   "cell_type": "code",
   "execution_count": 4,
   "metadata": {},
   "outputs": [
    {
     "data": {
      "text/plain": [
       "array([1, 1, 1, 1, 1, 1, 1, 1, 1, 1])"
      ]
     },
     "execution_count": 4,
     "metadata": {},
     "output_type": "execute_result"
    }
   ],
   "source": [
    "import numpy as np\n",
    "\n",
    "np.random.randint(1, 2, size=10)"
   ]
  },
  {
   "cell_type": "code",
   "execution_count": 3,
   "metadata": {},
   "outputs": [
    {
     "data": {
      "text/plain": [
       "array([0, 0, 0, 0, 0, 0, 0, 0, 0, 0])"
      ]
     },
     "execution_count": 3,
     "metadata": {},
     "output_type": "execute_result"
    }
   ],
   "source": [
    "np.random.randint(1, size=10) # 默认1为high，所以全为0"
   ]
  },
  {
   "cell_type": "code",
   "execution_count": 71,
   "metadata": {},
   "outputs": [
    {
     "data": {
      "text/plain": [
       "array([[84, 12, 97],\n",
       "       [99, 10, 62]])"
      ]
     },
     "execution_count": 71,
     "metadata": {},
     "output_type": "execute_result"
    }
   ],
   "source": [
    "np.random.randint(10,100, size=(2,3)) # 默认1为high，所以全为0"
   ]
  },
  {
   "cell_type": "markdown",
   "metadata": {},
   "source": [
    "## 生成特定方差的数据"
   ]
  },
  {
   "cell_type": "code",
   "execution_count": 3,
   "metadata": {},
   "outputs": [
    {
     "name": "stdout",
     "output_type": "stream",
     "text": [
      "生成的数据: [-0.60548098 -0.65161875  0.79306438 -0.467068   -0.69750961 -0.58450319\n",
      "  0.88049436  0.59890028 -1.9164667   0.37223051]\n",
      "生成数据的均值: -0.22779576941967883\n",
      "生成数据的方差: 0.6892924387337136\n",
      "生成的数据: [ -3.6464373   -3.92429658   4.77613607  -2.81286156  -4.20066881\n",
      "  -3.52010107   5.30267276   3.60680583 -11.54169318   2.24171408]\n",
      "生成数据的均值: -1.3718729762960469\n",
      "生成数据的方差: 25.000000000000004\n",
      "目标均方差: 25.0\n"
     ]
    }
   ],
   "source": [
    "import numpy as np\n",
    "\n",
    "def print_dataset(data, mean, variance):\n",
    "    print(\"生成的数据:\", data)\n",
    "    print(\"生成数据的均值:\", mean)\n",
    "    print(\"生成数据的方差:\", variance)\n",
    "\n",
    "\n",
    "def generate_data(target_variance, size=10):    \n",
    "    # 生成一组随机数\n",
    "    data = np.random.randn(size)\n",
    "    current_mean = np.mean(data)\n",
    "    current_variance = np.var(data)\n",
    "    print_dataset(data, current_mean, current_variance)\n",
    "\n",
    "    # 调整数据具有目标方差\n",
    "    scaled_data = data * np.sqrt(target_variance / current_variance)\n",
    "    print_dataset(scaled_data, np.mean(scaled_data), np.var(scaled_data))\n",
    "        \n",
    "    print(\"目标均方差:\", target_variance)        \n",
    "    return scaled_data\n",
    "\n",
    "# 生成具有目标均方差的数据\n",
    "target_variance = 25.0\n",
    "generated_data = generate_data(target_variance)\n",
    "\n",
    "# 可以使用生成的数据进行进一步的分析或可视化"
   ]
  }
 ],
 "metadata": {
  "kernelspec": {
   "display_name": "Python 3",
   "language": "python",
   "name": "python3"
  },
  "language_info": {
   "codemirror_mode": {
    "name": "ipython",
    "version": 3
   },
   "file_extension": ".py",
   "mimetype": "text/x-python",
   "name": "python",
   "nbconvert_exporter": "python",
   "pygments_lexer": "ipython3",
   "version": "3.9.9"
  }
 },
 "nbformat": 4,
 "nbformat_minor": 2
}
