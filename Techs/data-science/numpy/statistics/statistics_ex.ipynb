{
 "cells": [
  {
   "cell_type": "markdown",
   "metadata": {},
   "source": [
    "# 正态分布"
   ]
  },
  {
   "cell_type": "markdown",
   "metadata": {},
   "source": [
    "## `randn()`\n",
    "\n",
    "使用`randn()`创建指定维数的，服从mean=0, standard deviation=1正态分布的随机数（即标准正态分布），数据越多越明显。"
   ]
  },
  {
   "cell_type": "code",
   "execution_count": 3,
   "metadata": {},
   "outputs": [
    {
     "name": "stdout",
     "output_type": "stream",
     "text": [
      "0.17946566953112322\n",
      "1.0529026181868912\n"
     ]
    },
    {
     "data": {
      "image/png": "[encoded data removed]",
      "text/plain": [
       "<Figure size 640x480 with 1 Axes>"
      ]
     },
     "metadata": {},
     "output_type": "display_data"
    }
   ],
   "source": [
    "import statistics\n",
    "import numpy as np\n",
    "import matplotlib.pyplot as plt\n",
    "\n",
    "nda = np.random.randn(200)\n",
    "plt.hist(nda, bins=100)\n",
    "\n",
    "print(statistics.mean(nda))\n",
    "print(statistics.stdev(nda))\n"
   ]
  },
  {
   "cell_type": "markdown",
   "metadata": {},
   "source": [
    "## `normal()`"
   ]
  },
  {
   "cell_type": "code",
   "execution_count": null,
   "metadata": {},
   "outputs": [],
   "source": [
    "import statistics\n",
    "import numpy as np\n",
    "import matplotlib.pyplot as plt\n",
    "\n",
    "nda = np.random.normal(size=200)\n",
    "plt.hist(nda, bins=100)\n",
    "\n",
    "print(statistics.mean(nda))\n",
    "print(statistics.stdev(nda))"
   ]
  },
  {
   "cell_type": "markdown",
   "metadata": {},
   "source": [
    "# 均匀分布"
   ]
  },
  {
   "cell_type": "markdown",
   "metadata": {},
   "source": [
    "## `rand()`\n",
    "\n",
    "使用`rand()`创建指定维数的，服从`[0, 1)`均匀分布的随机数，数据越多越明显。"
   ]
  },
  {
   "cell_type": "code",
   "execution_count": 7,
   "metadata": {},
   "outputs": [
    {
     "name": "stdout",
     "output_type": "stream",
     "text": [
      "0.4820243283977592\n",
      "0.2857511669308048\n"
     ]
    },
    {
     "data": {
      "image/png": "[encoded data removed]",
      "text/plain": [
       "<Figure size 640x480 with 1 Axes>"
      ]
     },
     "metadata": {},
     "output_type": "display_data"
    }
   ],
   "source": [
    "import numpy as np\n",
    "\n",
    "nda = np.random.rand(200)\n",
    "plt.hist(nda, bins=100)\n",
    "\n",
    "print(statistics.mean(nda))\n",
    "print(statistics.stdev(nda))\n"
   ]
  },
  {
   "cell_type": "markdown",
   "metadata": {},
   "source": [
    "## `randint()`"
   ]
  },
  {
   "cell_type": "markdown",
   "metadata": {},
   "source": [
    "使用`randint`函数生成指定范围的随机数"
   ]
  },
  {
   "cell_type": "code",
   "execution_count": 4,
   "metadata": {},
   "outputs": [
    {
     "data": {
      "text/plain": [
       "array([1, 1, 1, 1, 1, 1, 1, 1, 1, 1])"
      ]
     },
     "execution_count": 4,
     "metadata": {},
     "output_type": "execute_result"
    }
   ],
   "source": [
    "import numpy as np\n",
    "\n",
    "np.random.randint(1, 2, size=10)"
   ]
  },
  {
   "cell_type": "code",
   "execution_count": 3,
   "metadata": {},
   "outputs": [
    {
     "data": {
      "text/plain": [
       "array([0, 0, 0, 0, 0, 0, 0, 0, 0, 0])"
      ]
     },
     "execution_count": 3,
     "metadata": {},
     "output_type": "execute_result"
    }
   ],
   "source": [
    "np.random.randint(1, size=10) # 默认1为high，所以全为0"
   ]
  },
  {
   "cell_type": "code",
   "execution_count": 71,
   "metadata": {},
   "outputs": [
    {
     "data": {
      "text/plain": [
       "array([[84, 12, 97],\n",
       "       [99, 10, 62]])"
      ]
     },
     "execution_count": 71,
     "metadata": {},
     "output_type": "execute_result"
    }
   ],
   "source": [
    "np.random.randint(10,100, size=(2,3)) # 默认1为high，所以全为0"
   ]
  },
  {
   "cell_type": "markdown",
   "metadata": {},
   "source": [
    "## 生成特定方差的数据"
   ]
  },
  {
   "cell_type": "code",
   "execution_count": 3,
   "metadata": {},
   "outputs": [
    {
     "name": "stdout",
     "output_type": "stream",
     "text": [
      "生成的数据: [-0.60548098 -0.65161875  0.79306438 -0.467068   -0.69750961 -0.58450319\n",
      "  0.88049436  0.59890028 -1.9164667   0.37223051]\n",
      "生成数据的均值: -0.22779576941967883\n",
      "生成数据的方差: 0.6892924387337136\n",
      "生成的数据: [ -3.6464373   -3.92429658   4.77613607  -2.81286156  -4.20066881\n",
      "  -3.52010107   5.30267276   3.60680583 -11.54169318   2.24171408]\n",
      "生成数据的均值: -1.3718729762960469\n",
      "生成数据的方差: 25.000000000000004\n",
      "目标均方差: 25.0\n"
     ]
    }
   ],
   "source": [
    "import numpy as np\n",
    "\n",
    "def print_dataset(data, mean, variance):\n",
    "    print(\"生成的数据:\", data)\n",
    "    print(\"生成数据的均值:\", mean)\n",
    "    print(\"生成数据的方差:\", variance)\n",
    "\n",
    "\n",
    "def generate_data(target_variance, size=10):    \n",
    "    # 生成一组随机数\n",
    "    data = np.random.randn(size)\n",
    "    current_mean = np.mean(data)\n",
    "    current_variance = np.var(data)\n",
    "    print_dataset(data, current_mean, current_variance)\n",
    "\n",
    "    # 调整数据具有目标方差\n",
    "    scaled_data = data * np.sqrt(target_variance / current_variance)\n",
    "    print_dataset(scaled_data, np.mean(scaled_data), np.var(scaled_data))\n",
    "        \n",
    "    print(\"目标均方差:\", target_variance)        \n",
    "    return scaled_data\n",
    "\n",
    "# 生成具有目标均方差的数据\n",
    "target_variance = 25.0\n",
    "generated_data = generate_data(target_variance)\n",
    "\n",
    "# 可以使用生成的数据进行进一步的分析或可视化"
   ]
  }
 ],
 "metadata": {
  "kernelspec": {
   "display_name": "Python 3",
   "language": "python",
   "name": "python3"
  },
  "language_info": {
   "codemirror_mode": {
    "name": "ipython",
    "version": 3
   },
   "file_extension": ".py",
   "mimetype": "text/x-python",
   "name": "python",
   "nbconvert_exporter": "python",
   "pygments_lexer": "ipython3",
   "version": "3.13.0"
  }
 },
 "nbformat": 4,
 "nbformat_minor": 2
}
