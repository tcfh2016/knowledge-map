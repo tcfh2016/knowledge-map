{
 "cells": [
  {
   "cell_type": "markdown",
   "metadata": {},
   "source": [
    "## Timestamp"
   ]
  },
  {
   "cell_type": "code",
   "execution_count": 4,
   "metadata": {},
   "outputs": [
    {
     "name": "stdout",
     "output_type": "stream",
     "text": [
      "<class 'pandas._libs.tslibs.timestamps.Timestamp'>\n",
      "2022-09-15\n",
      "<class 'datetime.date'>\n",
      "08:14:22.163409\n",
      "<class 'datetime.time'>\n",
      "08:14:22\n"
     ]
    }
   ],
   "source": [
    "import pandas as pd\n",
    "\n",
    "ts = pd.Timestamp('15-Sep-2022 08:14:22.163409')\n",
    "print(type(ts)) # <class 'pandas._libs.tslibs.timestamps.Timestamp'>\n",
    "\n",
    "d = ts.date()\n",
    "print(d) # 2022-09-15\n",
    "print(type(d)) # <class 'datetime.date'>\n",
    "\n",
    "t = ts.time()\n",
    "print(t) # 08:14:57\n",
    "print(type(t)) # <class 'datetime.time'>\n",
    "print(t.strftime(\"%H:%M:%S\"))"
   ]
  }
 ],
 "metadata": {
  "kernelspec": {
   "display_name": "Python 3",
   "language": "python",
   "name": "python3"
  },
  "language_info": {
   "codemirror_mode": {
    "name": "ipython",
    "version": 3
   },
   "file_extension": ".py",
   "mimetype": "text/x-python",
   "name": "python",
   "nbconvert_exporter": "python",
   "pygments_lexer": "ipython3",
   "version": "3.12.1"
  }
 },
 "nbformat": 4,
 "nbformat_minor": 2
}
