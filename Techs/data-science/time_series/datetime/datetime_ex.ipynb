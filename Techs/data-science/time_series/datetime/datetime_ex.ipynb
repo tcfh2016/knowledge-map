{
 "cells": [
  {
   "attachments": {},
   "cell_type": "markdown",
   "metadata": {},
   "source": [
    "## 字符串转换为`datetime`"
   ]
  },
  {
   "cell_type": "code",
   "execution_count": 7,
   "metadata": {},
   "outputs": [
    {
     "name": "stdout",
     "output_type": "stream",
     "text": [
      "time.struct_time(tm_year=2017, tm_mon=10, tm_mday=19, tm_hour=0, tm_min=0, tm_sec=0, tm_wday=3, tm_yday=292, tm_isdst=-1)\n",
      "2017-10-19\n"
     ]
    }
   ],
   "source": [
    "import time, datetime\n",
    "\n",
    "date_str = '2017-10-19'\n",
    "fmt = '%Y-%m-%d'\n",
    "\n",
    "# 转换为 time 格式\n",
    "t = time.strptime(date_str, fmt)\n",
    "print(t)\n",
    "\n",
    "year, month, day = time_tuple[:3]\n",
    "date = datetime.date(year, month, day)\n",
    "\n",
    "d = datetime.datetime.strptime(date_str, fmt).date()\n",
    "print(d)"
   ]
  },
  {
   "cell_type": "markdown",
   "metadata": {},
   "source": [
    "## 当天的数据"
   ]
  },
  {
   "cell_type": "code",
   "execution_count": 2,
   "metadata": {},
   "outputs": [
    {
     "name": "stdout",
     "output_type": "stream",
     "text": [
      "<class 'datetime.date'>\n",
      "2024-05-02\n",
      "2024-05-02\n",
      "<class 'str'>\n",
      "<class 'int'>\n",
      "5\n"
     ]
    }
   ],
   "source": [
    "from datetime import date\n",
    "\n",
    "today =  date.today()\n",
    "print(type(today))\n",
    "print(today)\n",
    "print(str(today))\n",
    "print(type(str(today)))\n",
    "\n",
    "month = today.month\n",
    "print(type(month))\n",
    "print(month)\n"
   ]
  },
  {
   "cell_type": "markdown",
   "metadata": {},
   "source": [
    "## 获取字符串类型的月份"
   ]
  },
  {
   "cell_type": "code",
   "execution_count": 2,
   "metadata": {},
   "outputs": [
    {
     "name": "stdout",
     "output_type": "stream",
     "text": [
      "Nov-04-2022\n",
      "Fri November 04, 2022\n",
      "2022-11-04\n",
      "<class 'str'>\n"
     ]
    }
   ],
   "source": [
    "import datetime\n",
    "\n",
    "# %b -> gives moth abbrevated form\n",
    "abb = datetime.datetime.strftime(datetime.datetime.now(), '%b-%d-%Y')\n",
    "print(abb)\n",
    "\n",
    "# %B -> gives full moth name\n",
    "ful = datetime.datetime.strftime(datetime.datetime.now(), '%a %B %d, %Y')\n",
    "print(ful)\n",
    "\n",
    "# %d : Day of the month as a decimal number [01,31].\n",
    "# %m : Month as a decimal number [01,12].\n",
    "ymd = datetime.datetime.strftime(datetime.datetime.now(), '%Y-%m-%d')\n",
    "print(ymd)\n",
    "print(type(ymd))\n",
    "\n"
   ]
  },
  {
   "cell_type": "code",
   "execution_count": 2,
   "metadata": {},
   "outputs": [
    {
     "data": {
      "text/plain": [
       "'2023-02-23'"
      ]
     },
     "execution_count": 2,
     "metadata": {},
     "output_type": "execute_result"
    }
   ],
   "source": [
    "import datetime \n",
    "\n",
    "datetime.datetime.strftime(datetime.datetime.now(), '%Y-%m-%d')"
   ]
  },
  {
   "cell_type": "code",
   "execution_count": 11,
   "metadata": {},
   "outputs": [
    {
     "name": "stdout",
     "output_type": "stream",
     "text": [
      "7:05 \n",
      "19:05 \n"
     ]
    }
   ],
   "source": [
    "def convert24(str1):\n",
    "    if str1[-2:] == \"AM\" and str1[:2] == \"12\":\n",
    "        return \"00\" + str1[2:-2]\n",
    "    elif str1[-2:] == \"AM\":\n",
    "        return str1[:-2]\n",
    "    elif str1[-2:] == \"PM\" and str1[:2] == \"12\":\n",
    "        return str1[:-2]\n",
    "    else:\n",
    "        s = str1.index(':')\n",
    "        return str(int(str1[:s]) + 12) + str1[s:-2]\n",
    "    \n",
    "print(convert24(\"7:05 AM\"))\n",
    "print(convert24(\"7:05 PM\"))"
   ]
  },
  {
   "cell_type": "markdown",
   "metadata": {},
   "source": [
    "## 时区转换\n",
    "\n",
    "- %I Hour (12-hour clock) as a zero-padded decimal number. 01, 02, …, 12\n",
    "- %p Locale’s equivalent of either AM or PM. AM, PM (en_US);\n",
    "am, pm (de_DE)\n",
    "\n",
    "https://docs.python.org/3/library/datetime.html"
   ]
  },
  {
   "cell_type": "code",
   "execution_count": 1,
   "metadata": {},
   "outputs": [
    {
     "name": "stdout",
     "output_type": "stream",
     "text": [
      "2024-03-19 07:01:00+00:00\n",
      "2024-03-19-07:01:00\n"
     ]
    }
   ],
   "source": [
    "import datetime\n",
    "\n",
    "dt = datetime.datetime.strptime('2024 Mar 19 3:01 PM', '%Y %b %d %I:%M %p') \n",
    "print(dt.astimezone(datetime.timezone.utc))\n",
    "print(str(dt.astimezone(datetime.timezone.utc))[0:19].replace(' ', '-'))"
   ]
  }
 ],
 "metadata": {
  "kernelspec": {
   "display_name": "Python 3",
   "language": "python",
   "name": "python3"
  },
  "language_info": {
   "codemirror_mode": {
    "name": "ipython",
    "version": 3
   },
   "file_extension": ".py",
   "mimetype": "text/x-python",
   "name": "python",
   "nbconvert_exporter": "python",
   "pygments_lexer": "ipython3",
   "version": "3.12.3"
  },
  "orig_nbformat": 4,
  "vscode": {
   "interpreter": {
    "hash": "ce83015362f3431972c27d0bbc1093af16eb853cfefef809a2df983a5098431c"
   }
  }
 },
 "nbformat": 4,
 "nbformat_minor": 2
}
