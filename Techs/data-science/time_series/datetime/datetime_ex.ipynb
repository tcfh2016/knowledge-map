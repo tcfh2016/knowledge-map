{
 "cells": [
  {
   "cell_type": "markdown",
   "metadata": {},
   "source": [
    "## 当天的数据"
   ]
  },
  {
   "cell_type": "code",
   "execution_count": 2,
   "metadata": {},
   "outputs": [
    {
     "name": "stdout",
     "output_type": "stream",
     "text": [
      "<class 'datetime.date'>\n",
      "2022-10-31\n",
      "<class 'int'>\n",
      "10\n"
     ]
    }
   ],
   "source": [
    "from datetime import date\n",
    "\n",
    "today =  date.today()\n",
    "print(type(today))\n",
    "print(today)\n",
    "\n",
    "month = today.month\n",
    "print(type(month))\n",
    "print(month)\n"
   ]
  },
  {
   "cell_type": "markdown",
   "metadata": {},
   "source": [
    "## 获取字符串类型的月份"
   ]
  },
  {
   "cell_type": "code",
   "execution_count": 2,
   "metadata": {},
   "outputs": [
    {
     "name": "stdout",
     "output_type": "stream",
     "text": [
      "Nov-04-2022\n",
      "Fri November 04, 2022\n",
      "2022-11-04\n",
      "<class 'str'>\n"
     ]
    }
   ],
   "source": [
    "import datetime\n",
    "\n",
    "# %b -> gives moth abbrevated form\n",
    "abb = datetime.datetime.strftime(datetime.datetime.now(), '%b-%d-%Y')\n",
    "print(abb)\n",
    "\n",
    "# %B -> gives full moth name\n",
    "ful = datetime.datetime.strftime(datetime.datetime.now(), '%a %B %d, %Y')\n",
    "print(ful)\n",
    "\n",
    "# %d : Day of the month as a decimal number [01,31].\n",
    "# %m : Month as a decimal number [01,12].\n",
    "ymd = datetime.datetime.strftime(datetime.datetime.now(), '%Y-%m-%d')\n",
    "print(ymd)\n",
    "print(type(ymd))\n"
   ]
  },
  {
   "cell_type": "code",
   "execution_count": 2,
   "metadata": {},
   "outputs": [
    {
     "data": {
      "text/plain": [
       "'2023-02-23'"
      ]
     },
     "execution_count": 2,
     "metadata": {},
     "output_type": "execute_result"
    }
   ],
   "source": [
    "import datetime \n",
    "\n",
    "datetime.datetime.strftime(datetime.datetime.now(), '%Y-%m-%d')"
   ]
  },
  {
   "cell_type": "code",
   "execution_count": 11,
   "metadata": {},
   "outputs": [
    {
     "name": "stdout",
     "output_type": "stream",
     "text": [
      "7:05 \n",
      "19:05 \n"
     ]
    }
   ],
   "source": [
    "def convert24(str1):\n",
    "    if str1[-2:] == \"AM\" and str1[:2] == \"12\":\n",
    "        return \"00\" + str1[2:-2]\n",
    "    elif str1[-2:] == \"AM\":\n",
    "        return str1[:-2]\n",
    "    elif str1[-2:] == \"PM\" and str1[:2] == \"12\":\n",
    "        return str1[:-2]\n",
    "    else:\n",
    "        s = str1.index(':')\n",
    "        return str(int(str1[:s]) + 12) + str1[s:-2]\n",
    "    \n",
    "print(convert24(\"7:05 AM\"))\n",
    "print(convert24(\"7:05 PM\"))"
   ]
  }
 ],
 "metadata": {
  "kernelspec": {
   "display_name": "Python 3",
   "language": "python",
   "name": "python3"
  },
  "language_info": {
   "codemirror_mode": {
    "name": "ipython",
    "version": 3
   },
   "file_extension": ".py",
   "mimetype": "text/x-python",
   "name": "python",
   "nbconvert_exporter": "python",
   "pygments_lexer": "ipython3",
   "version": "3.9.4"
  },
  "orig_nbformat": 4,
  "vscode": {
   "interpreter": {
    "hash": "ce83015362f3431972c27d0bbc1093af16eb853cfefef809a2df983a5098431c"
   }
  }
 },
 "nbformat": 4,
 "nbformat_minor": 2
}
