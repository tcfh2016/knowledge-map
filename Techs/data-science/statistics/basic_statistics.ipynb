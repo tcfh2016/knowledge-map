{
 "cells": [
  {
   "cell_type": "code",
   "execution_count": 9,
   "metadata": {},
   "outputs": [
    {
     "name": "stdout",
     "output_type": "stream",
     "text": [
      "1\n",
      "1\n",
      "nan\n"
     ]
    }
   ],
   "source": [
    "import statistics \n",
    "\n",
    "\n",
    "data = [7,5,4,9,12,45] \n",
    "statistics.mean(data)\n",
    "statistics.stdev(data)\n",
    "\n",
    "#statistics.mean([])\n",
    "#statistics.stdev([])\n",
    "\n",
    "print(2) if len([]) > 0 else print(1)\n",
    "\n",
    "import numpy as np\n",
    "\n",
    "print(2) if 1.0 > np.NaN else print(1)\n",
    "print(float(np.NaN))"
   ]
  }
 ],
 "metadata": {
  "kernelspec": {
   "display_name": "Python 3",
   "language": "python",
   "name": "python3"
  },
  "language_info": {
   "codemirror_mode": {
    "name": "ipython",
    "version": 3
   },
   "file_extension": ".py",
   "mimetype": "text/x-python",
   "name": "python",
   "nbconvert_exporter": "python",
   "pygments_lexer": "ipython3",
   "version": "3.9.5"
  },
  "orig_nbformat": 4
 },
 "nbformat": 4,
 "nbformat_minor": 2
}
