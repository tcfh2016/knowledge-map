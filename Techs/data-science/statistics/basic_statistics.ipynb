{
 "cells": [
  {
   "cell_type": "code",
   "execution_count": 9,
   "metadata": {},
   "outputs": [
    {
     "name": "stdout",
     "output_type": "stream",
     "text": [
      "1\n",
      "1\n",
      "nan\n"
     ]
    }
   ],
   "source": [
    "import statistics \n",
    "\n",
    "\n",
    "data = [7,5,4,9,12,45] \n",
    "statistics.mean(data)\n",
    "statistics.stdev(data)\n",
    "\n",
    "#statistics.mean([])\n",
    "#statistics.stdev([])\n",
    "\n",
    "print(2) if len([]) > 0 else print(1)\n",
    "\n",
    "import numpy as np\n",
    "\n",
    "print(2) if 1.0 > np.NaN else print(1)\n",
    "print(float(np.NaN))"
   ]
  },
  {
   "cell_type": "code",
   "execution_count": 13,
   "metadata": {},
   "outputs": [
    {
     "name": "stdout",
     "output_type": "stream",
     "text": [
      "pre=0.0, lst=0.6303019163887705, factor=0.6303019163887705\n",
      "pre=0.0, lst=0.6452062745842625, factor=0.6452062745842625\n",
      "pre=0.7543035876614416, lst=0.06595848797955185, factor=0.8202620756409934\n",
      "pre=0.7511555678071072, lst=0.03798429100648767, factor=0.7891398588135949\n",
      "pre=0.7022023519694874, lst=0.053100739123587405, factor=0.7553030910930748\n",
      "pre=0.6700761428913754, lst=0.0, factor=0.6700761428913754\n",
      "0.6303019163887705\n"
     ]
    }
   ],
   "source": [
    "import statistics\n",
    "import numpy as np\n",
    "import pandas as pd\n",
    "\n",
    "#values = [2.79, 2.41, 2.43, 2.42, 2.39, 2.41]\n",
    "#values = [11.71, 38.48, 11.63, 13.20, 12.56, 13.54] #0.63 毛刺无法滤除\n",
    "#values = [11.71, 11.63, 38.48, 13.20, 12.56, 13.54] #0.63\n",
    "#values = [11.71, 11.63, 13.20, 38.48, 12.56, 13.54] #0.63\n",
    "#values = [11.71, 11.63, 13.20, 12.56, 38.48, 13.54] #0.63\n",
    "#values = [11.71, 11.63, 13.20, 12.56, 13.54, 38.48] #0.06\n",
    "#values = [6.20, 6.27, 6.32, 13.21, 13.63, 13.20]\n",
    "\n",
    "unstable_factor = np.NaN\n",
    "for i in range(len(values)):\n",
    "    pre_half = values[0 : i]\n",
    "    lst_half = values[i : len(values)]\n",
    "    \n",
    "    pre_half_factor = statistics.stdev(pre_half) / statistics.mean(pre_half) if len(pre_half) > 1 else 0.0\n",
    "    lst_half_factor = statistics.stdev(lst_half) / statistics.mean(lst_half) if len(lst_half) > 1 else 0.0\n",
    "    factor = pre_half_factor + lst_half_factor\n",
    "    print(\"pre={}, lst={}, factor={}\".format(pre_half_factor, lst_half_factor, factor))\n",
    "\n",
    "    if pd.isnull(unstable_factor) or unstable_factor > factor:\n",
    "        unstable_factor = factor\n",
    "print(unstable_factor)"
   ]
  },
  {
   "cell_type": "code",
   "execution_count": 45,
   "metadata": {},
   "outputs": [
    {
     "data": {
      "text/plain": [
       "0.3960216627000431"
      ]
     },
     "execution_count": 45,
     "metadata": {},
     "output_type": "execute_result"
    }
   ],
   "source": [
    "import statistics\n",
    "\n",
    "values = [6.20, 6.27, 6.32, 13.21, 13.63, 13.20]\n",
    "statistics.stdev(values) / statistics.mean(values)\n"
   ]
  }
 ],
 "metadata": {
  "kernelspec": {
   "display_name": "Python 3",
   "language": "python",
   "name": "python3"
  },
  "language_info": {
   "codemirror_mode": {
    "name": "ipython",
    "version": 3
   },
   "file_extension": ".py",
   "mimetype": "text/x-python",
   "name": "python",
   "nbconvert_exporter": "python",
   "pygments_lexer": "ipython3",
   "version": "3.9.9"
  },
  "orig_nbformat": 4
 },
 "nbformat": 4,
 "nbformat_minor": 2
}
