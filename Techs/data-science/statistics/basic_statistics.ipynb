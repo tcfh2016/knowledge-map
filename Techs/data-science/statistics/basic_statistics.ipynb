{
 "cells": [
  {
   "cell_type": "code",
   "execution_count": 21,
   "metadata": {},
   "outputs": [
    {
     "name": "stdout",
     "output_type": "stream",
     "text": [
      "            Date                      PSREL  1280/LoCtrl_PduMuxReq\n",
      "0     2023-12-21  IB027_PS_REL_2023_11_0067                  91.00\n",
      "1     2023-12-21  IB027_PS_REL_2023_11_0067                  91.48\n",
      "2     2023-12-21  IB027_PS_REL_2023_11_0067                  91.52\n",
      "3     2023-12-20  IB027_PS_REL_2023_11_0067                  91.93\n",
      "4     2023-12-20  IB027_PS_REL_2023_11_0067                  92.21\n",
      "...          ...                        ...                    ...\n",
      "1191  2023-03-16                        NaN                  65.01\n",
      "1192  2023-03-14                        NaN                  63.81\n",
      "1193  2023-03-10                        NaN                  65.23\n",
      "1194  2023-03-09                        NaN                  67.32\n",
      "1195  2023-03-08                        NaN                  68.14\n",
      "\n",
      "[1185 rows x 3 columns]\n",
      "            Date                      PSREL  1280/LoCtrl_PduMuxReq        UF\n",
      "0     2023-12-21  IB027_PS_REL_2023_11_0067                  91.00  0.000000\n",
      "1     2023-12-21  IB027_PS_REL_2023_11_0067                  91.48  0.000000\n",
      "2     2023-12-21  IB027_PS_REL_2023_11_0067                  91.52  0.000309\n",
      "3     2023-12-20  IB027_PS_REL_2023_11_0067                  91.93  0.002718\n",
      "4     2023-12-20  IB027_PS_REL_2023_11_0067                  92.21  0.003800\n",
      "...          ...                        ...                    ...       ...\n",
      "1191  2023-03-16                        NaN                  65.01  0.019698\n",
      "1192  2023-03-14                        NaN                  63.81  0.020728\n",
      "1193  2023-03-10                        NaN                  65.23  0.012408\n",
      "1194  2023-03-09                        NaN                  67.32  0.019521\n",
      "1195  2023-03-08                        NaN                  68.14  0.018449\n",
      "\n",
      "[1185 rows x 4 columns]\n",
      "----------------\n",
      "0.0821784501511296\n"
     ]
    }
   ],
   "source": [
    "import os\n",
    "import pandas as pd\n",
    "import numpy as np\n",
    "import statistics\n",
    "\n",
    "def calc_uf(values):\n",
    "    unstable_factor = np.NaN\n",
    "    for i in range(len(values)):\n",
    "        pre_half = values[0 : i]\n",
    "        lst_half = values[i : len(values)]\n",
    "        \n",
    "        pre_half_factor = statistics.stdev(pre_half) / statistics.mean(pre_half) if len(pre_half) > 1 else 0.0\n",
    "        lst_half_factor = statistics.stdev(lst_half) / statistics.mean(lst_half) if len(lst_half) > 1 else 0.0\n",
    "        factor = pre_half_factor + lst_half_factor\n",
    "        #print(\"pre={}, lst={}, factor={}\".format(pre_half_factor, lst_half_factor, factor))\n",
    "\n",
    "        if pd.isnull(unstable_factor) or unstable_factor > factor:\n",
    "            unstable_factor = factor\n",
    "    return unstable_factor\n",
    "\n",
    "\n",
    "#df = pd.read_csv('x.csv', usecols=['a', 'b', '1280/a'])\n",
    "#df = df[df['1280/LoCtrl_PduMuxReq'].notnull()]\n",
    "#unstable_factor = df['1280/LoCtrl_PduMuxReq'].rolling(6, min_periods=1).apply(calc_uf)\n"
   ]
  },
  {
   "cell_type": "code",
   "execution_count": 9,
   "metadata": {},
   "outputs": [
    {
     "name": "stdout",
     "output_type": "stream",
     "text": [
      "1\n",
      "1\n",
      "nan\n"
     ]
    }
   ],
   "source": [
    "import statistics \n",
    "\n",
    "\n",
    "data = [7,5,4,9,12,45] \n",
    "statistics.mean(data)\n",
    "statistics.stdev(data)\n",
    "\n",
    "#statistics.mean([])\n",
    "#statistics.stdev([])\n",
    "\n",
    "print(2) if len([]) > 0 else print(1)\n",
    "\n",
    "import numpy as np\n",
    "\n",
    "print(2) if 1.0 > np.NaN else print(1)\n",
    "print(float(np.NaN))"
   ]
  },
  {
   "cell_type": "code",
   "execution_count": 13,
   "metadata": {},
   "outputs": [
    {
     "name": "stdout",
     "output_type": "stream",
     "text": [
      "pre=0.0, lst=0.6303019163887705, factor=0.6303019163887705\n",
      "pre=0.0, lst=0.6452062745842625, factor=0.6452062745842625\n",
      "pre=0.7543035876614416, lst=0.06595848797955185, factor=0.8202620756409934\n",
      "pre=0.7511555678071072, lst=0.03798429100648767, factor=0.7891398588135949\n",
      "pre=0.7022023519694874, lst=0.053100739123587405, factor=0.7553030910930748\n",
      "pre=0.6700761428913754, lst=0.0, factor=0.6700761428913754\n",
      "0.6303019163887705\n"
     ]
    }
   ],
   "source": [
    "import statistics\n",
    "import numpy as np\n",
    "import pandas as pd\n",
    "\n",
    "#values = [2.79, 2.41, 2.43, 2.42, 2.39, 2.41]\n",
    "#values = [11.71, 38.48, 11.63, 13.20, 12.56, 13.54] #0.63 毛刺无法滤除\n",
    "#values = [11.71, 11.63, 38.48, 13.20, 12.56, 13.54] #0.63\n",
    "#values = [11.71, 11.63, 13.20, 38.48, 12.56, 13.54] #0.63\n",
    "#values = [11.71, 11.63, 13.20, 12.56, 38.48, 13.54] #0.63\n",
    "#values = [11.71, 11.63, 13.20, 12.56, 13.54, 38.48] #0.06\n",
    "#values = [6.20, 6.27, 6.32, 13.21, 13.63, 13.20]\n",
    "\n",
    "unstable_factor = np.NaN\n",
    "for i in range(len(values)):\n",
    "    pre_half = values[0 : i]\n",
    "    lst_half = values[i : len(values)]\n",
    "    \n",
    "    pre_half_factor = statistics.stdev(pre_half) / statistics.mean(pre_half) if len(pre_half) > 1 else 0.0\n",
    "    lst_half_factor = statistics.stdev(lst_half) / statistics.mean(lst_half) if len(lst_half) > 1 else 0.0\n",
    "    factor = pre_half_factor + lst_half_factor\n",
    "    print(\"pre={}, lst={}, factor={}\".format(pre_half_factor, lst_half_factor, factor))\n",
    "\n",
    "    if pd.isnull(unstable_factor) or unstable_factor > factor:\n",
    "        unstable_factor = factor\n",
    "print(unstable_factor)"
   ]
  },
  {
   "cell_type": "code",
   "execution_count": 45,
   "metadata": {},
   "outputs": [
    {
     "data": {
      "text/plain": [
       "0.3960216627000431"
      ]
     },
     "execution_count": 45,
     "metadata": {},
     "output_type": "execute_result"
    }
   ],
   "source": [
    "import statistics\n",
    "\n",
    "values = [6.20, 6.27, 6.32, 13.21, 13.63, 13.20]\n",
    "statistics.stdev(values) / statistics.mean(values)\n"
   ]
  }
 ],
 "metadata": {
  "kernelspec": {
   "display_name": "Python 3",
   "language": "python",
   "name": "python3"
  },
  "language_info": {
   "codemirror_mode": {
    "name": "ipython",
    "version": 3
   },
   "file_extension": ".py",
   "mimetype": "text/x-python",
   "name": "python",
   "nbconvert_exporter": "python",
   "pygments_lexer": "ipython3",
   "version": "3.9.9"
  },
  "orig_nbformat": 4
 },
 "nbformat": 4,
 "nbformat_minor": 2
}
