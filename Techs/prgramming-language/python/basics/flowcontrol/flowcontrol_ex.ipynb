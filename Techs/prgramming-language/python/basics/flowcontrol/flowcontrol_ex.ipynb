{
 "cells": [
  {
   "cell_type": "markdown",
   "metadata": {},
   "source": [
    "## 判断的几种方式"
   ]
  },
  {
   "cell_type": "code",
   "execution_count": 1,
   "metadata": {},
   "outputs": [
    {
     "name": "stdout",
     "output_type": "stream",
     "text": [
      "1. simple and direct way\n",
      "1\n",
      "2\n",
      "4\n",
      "2. using lambda\n",
      "[1, 2, 4]\n",
      "3. using generator\n",
      "1\n",
      "2\n",
      "4\n",
      "4. using filter\n",
      "1\n",
      "2\n",
      "4\n",
      "[[1, 1]]\n",
      "[[1, 1, 2]]\n"
     ]
    }
   ],
   "source": [
    "set1 = [1, 2, 3, 4, 5]\n",
    "set2 = [3, 5]\n",
    "\n",
    "print(\"1. simple and direct way\")\n",
    "for c in set1:\n",
    "    if c not in set2:\n",
    "        print(c)\n",
    "\n",
    "print(\"2. using lambda\")\n",
    "print([x for x in set1 if x not in set2])\n",
    "\n",
    "print(\"3. using generator\")\n",
    "gen = (x for x in set1 if x not in set2)\n",
    "for x in gen:\n",
    "    print(x)\n",
    "\n",
    "print(\"4. using filter\")\n",
    "for x in filter(lambda x:x not in set2, set1):\n",
    "    print(x)\n",
    "\n",
    "list = []\n",
    "list.append([1,1])\n",
    "print(list)\n",
    "for e in list:\n",
    "    e.append(2)\n",
    "print(list)\n"
   ]
  },
  {
   "cell_type": "markdown",
   "metadata": {},
   "source": [
    "## for的else语句\n",
    "\n",
    "求素数就很方便了"
   ]
  },
  {
   "cell_type": "code",
   "execution_count": 4,
   "metadata": {},
   "outputs": [
    {
     "name": "stdout",
     "output_type": "stream",
     "text": [
      "0\n"
     ]
    }
   ],
   "source": [
    "for number in range(1, 101, 1):\n",
    "    for div in range(2, number//2 + 1, 1):\n",
    "        if number % div == 0:\n",
    "            break\n",
    "    else:\n",
    "        print(number)\n"
   ]
  },
  {
   "cell_type": "markdown",
   "metadata": {},
   "source": [
    "## 空容器判定为False"
   ]
  },
  {
   "cell_type": "code",
   "execution_count": 2,
   "metadata": {},
   "outputs": [
    {
     "name": "stdout",
     "output_type": "stream",
     "text": [
      "apple\n",
      "orange\n"
     ]
    }
   ],
   "source": [
    "s = set(['apple', 'orange'])\n",
    "while s:\n",
    "    print(s.pop())"
   ]
  }
 ],
 "metadata": {
  "kernelspec": {
   "display_name": "Python 3",
   "language": "python",
   "name": "python3"
  },
  "language_info": {
   "codemirror_mode": {
    "name": "ipython",
    "version": 3
   },
   "file_extension": ".py",
   "mimetype": "text/x-python",
   "name": "python",
   "nbconvert_exporter": "python",
   "pygments_lexer": "ipython3",
   "version": "3.9.9"
  }
 },
 "nbformat": 4,
 "nbformat_minor": 2
}
