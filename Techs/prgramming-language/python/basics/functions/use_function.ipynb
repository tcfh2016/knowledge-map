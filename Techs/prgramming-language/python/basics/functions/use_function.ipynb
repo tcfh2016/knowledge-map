{
 "cells": [
  {
   "cell_type": "markdown",
   "metadata": {},
   "source": [
    "## 函数定义顺序"
   ]
  },
  {
   "cell_type": "code",
   "execution_count": null,
   "metadata": {},
   "outputs": [],
   "source": []
  },
  {
   "cell_type": "code",
   "execution_count": null,
   "metadata": {},
   "outputs": [],
   "source": []
  },
  {
   "cell_type": "code",
   "execution_count": 2,
   "metadata": {},
   "outputs": [
    {
     "name": "stdout",
     "output_type": "stream",
     "text": [
      "calling A() in B(): \n",
      "A\n"
     ]
    }
   ],
   "source": [
    "\n",
    "def B():\n",
    "    print(\"calling A() in B(): \")\n",
    "    A()\n",
    "\n",
    "def A():\n",
    "    print(\"A\")\n",
    "\n",
    "B()\n"
   ]
  },
  {
   "cell_type": "markdown",
   "metadata": {},
   "source": [
    "## 函数体内访问函数外的变量"
   ]
  },
  {
   "cell_type": "code",
   "execution_count": 1,
   "metadata": {},
   "outputs": [],
   "source": [
    "# -*- coding: utf-8 -*-\n",
    "import math\n",
    "\n",
    "def area(radius):\n",
    "    return math.pi * radius ** 2\n",
    "\n",
    "name = 'jack'\n",
    "def global_variable():\n",
    "    global name\n",
    "    name = 'loucy'\n",
    "\n",
    "def method():\n",
    "    pass\n"
   ]
  },
  {
   "cell_type": "markdown",
   "metadata": {},
   "source": [
    "## 嵌套函数"
   ]
  },
  {
   "cell_type": "code",
   "execution_count": 1,
   "metadata": {},
   "outputs": [
    {
     "data": {
      "text/plain": [
       "20"
      ]
     },
     "execution_count": 1,
     "metadata": {},
     "output_type": "execute_result"
    }
   ],
   "source": [
    "def fun(p1, p2, p3):\n",
    "    def nest_fun():\n",
    "        if p3 > 2:\n",
    "            return 10\n",
    "        else:\n",
    "            return 0\n",
    "    \n",
    "    return p1 * p2 * nest_fun()\n",
    "\n",
    "fun(1, 2, 3)"
   ]
  }
 ],
 "metadata": {
  "kernelspec": {
   "display_name": "Python 3",
   "language": "python",
   "name": "python3"
  },
  "language_info": {
   "codemirror_mode": {
    "name": "ipython",
    "version": 3
   },
   "file_extension": ".py",
   "mimetype": "text/x-python",
   "name": "python",
   "nbconvert_exporter": "python",
   "pygments_lexer": "ipython3",
   "version": "3.9.9"
  }
 },
 "nbformat": 4,
 "nbformat_minor": 2
}
