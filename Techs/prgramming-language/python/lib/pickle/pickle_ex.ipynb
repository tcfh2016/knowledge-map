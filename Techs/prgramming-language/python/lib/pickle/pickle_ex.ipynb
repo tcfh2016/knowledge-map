{
 "cells": [
  {
   "cell_type": "markdown",
   "metadata": {},
   "source": [
    "## 写文件"
   ]
  },
  {
   "cell_type": "code",
   "execution_count": 9,
   "metadata": {},
   "outputs": [
    {
     "name": "stdout",
     "output_type": "stream",
     "text": [
      "{'key': 'lianbche', 'value': 'kk'}\n",
      "lianbche\n"
     ]
    }
   ],
   "source": [
    "import pickle\n",
    "\n",
    "account = {'key':'lianbche', 'value':'kk'}\n",
    "\n",
    "with open('config.db', 'wb') as f:\n",
    "    pickle.dump(account, f)\n",
    "\n",
    "with open('config.db', 'rb') as f:\n",
    "    info = pickle.load(f)\n",
    "    print(info)\n",
    "    print(info['key'])\n",
    "\n",
    "\n"
   ]
  },
  {
   "cell_type": "code",
   "execution_count": null,
   "metadata": {},
   "outputs": [],
   "source": []
  }
 ],
 "metadata": {
  "kernelspec": {
   "display_name": "Python 3",
   "language": "python",
   "name": "python3"
  },
  "language_info": {
   "codemirror_mode": {
    "name": "ipython",
    "version": 3
   },
   "file_extension": ".py",
   "mimetype": "text/x-python",
   "name": "python",
   "nbconvert_exporter": "python",
   "pygments_lexer": "ipython3",
   "version": "3.12.1"
  }
 },
 "nbformat": 4,
 "nbformat_minor": 2
}
