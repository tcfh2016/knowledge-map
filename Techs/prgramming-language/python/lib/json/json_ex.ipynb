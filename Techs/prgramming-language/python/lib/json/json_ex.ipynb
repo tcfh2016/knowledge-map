{
 "cells": [
  {
   "cell_type": "markdown",
   "metadata": {},
   "source": [
    "## 空文件可以读吗？\n",
    "\n",
    "空文件不能读，会返回`JSONDecodeError: Expecting value: line 1 column 1 (char 0)`，必须要初始化为`{}`。"
   ]
  },
  {
   "cell_type": "code",
   "execution_count": 8,
   "metadata": {},
   "outputs": [
    {
     "name": "stdout",
     "output_type": "stream",
     "text": [
      "{}\n"
     ]
    }
   ],
   "source": [
    "import os\n",
    "import json\n",
    "\n",
    "file_path = os.path.join(os.getcwd(), 'jsonfiles', 'empty_json.json')\n",
    "\n",
    "with open(file_path, 'r') as f:\n",
    "    json_data = json.load(f)\n",
    "    print(json_data)\n",
    "    # "
   ]
  },
  {
   "cell_type": "markdown",
   "metadata": {},
   "source": [
    "## 写json"
   ]
  },
  {
   "cell_type": "code",
   "execution_count": 16,
   "metadata": {},
   "outputs": [
    {
     "name": "stdout",
     "output_type": "stream",
     "text": [
      "red\n",
      "red\n",
      "{'level3': 1000}\n"
     ]
    }
   ],
   "source": [
    "import json\n",
    "\n",
    "my_dict = {}\n",
    "my_dict['apple'] = {\n",
    "    'size':7, \n",
    "    'color':'red',\n",
    "    'level1':{\n",
    "        'level2':{\n",
    "            'level3':1000\n",
    "        }\n",
    "    }}\n",
    "\n",
    "file_path = os.path.join(os.getcwd(), 'jsonfiles', 'json_write.json')\n",
    "\n",
    "with open(file_path, 'w') as f:\n",
    "    #方式一：\n",
    "    #json_object = json.dumps(my_dict, indent=2)\n",
    "    #f.write(json_object)\n",
    "    \n",
    "    #方式二：\n",
    "    json.dump(my_dict, f, indent=2)\n",
    "\n",
    "with open(file_path, 'r') as f:\n",
    "    json_data = json.load(f)\n",
    "    print(json_data['apple']['color'])\n",
    "    print(json_data['apple'].get('color'))\n",
    "    print(json_data.get('apple').get('level1').get('level2'))"
   ]
  }
 ],
 "metadata": {
  "kernelspec": {
   "display_name": "Python 3",
   "language": "python",
   "name": "python3"
  },
  "language_info": {
   "codemirror_mode": {
    "name": "ipython",
    "version": 3
   },
   "file_extension": ".py",
   "mimetype": "text/x-python",
   "name": "python",
   "nbconvert_exporter": "python",
   "pygments_lexer": "ipython3",
   "version": "3.9.9"
  }
 },
 "nbformat": 4,
 "nbformat_minor": 2
}
