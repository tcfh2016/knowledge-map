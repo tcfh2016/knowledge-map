{
 "cells": [
  {
   "cell_type": "code",
   "execution_count": 1,
   "metadata": {},
   "outputs": [
    {
     "data": {
      "text/plain": [
       "'c:\\\\Users\\\\lianbche\\\\Git\\\\knowledge-map\\\\Techs\\\\prgramming-language\\\\python\\\\notes\\\\files\\\\folder'"
      ]
     },
     "execution_count": 1,
     "metadata": {},
     "output_type": "execute_result"
    }
   ],
   "source": [
    "os.getcwd()"
   ]
  },
  {
   "cell_type": "markdown",
   "metadata": {},
   "source": [
    "## 目录拼接\n",
    "\n",
    "拼接时需要注意：\n",
    "\n",
    "- 如果拼接得到的是目录，那么最后一个参数需要是`“”`。\n",
    "- 如果拼接得到的是文件，那么最后一个参数不需要`“”`。"
   ]
  },
  {
   "cell_type": "code",
   "execution_count": 5,
   "metadata": {},
   "outputs": [
    {
     "name": "stdout",
     "output_type": "stream",
     "text": [
      "c:\\Users\\lianbche\\Git\\knowledge-map\\Techs\\prgramming-language\\python\\notes\\files\\folder\\test\n",
      "c:\\Users\\lianbche\\Git\\knowledge-map\\Techs\\prgramming-language\\python\\notes\\files\\folder\\test\\\n"
     ]
    }
   ],
   "source": [
    "p1 = os.path.join(os.getcwd(), \"test\")\n",
    "print(p1)\n",
    "p2 = os.path.join(os.getcwd(), \"test\", \"\")\n",
    "print(p2)"
   ]
  }
 ],
 "metadata": {
  "kernelspec": {
   "display_name": "Python 3.9.5 64-bit",
   "language": "python",
   "name": "python3"
  },
  "language_info": {
   "codemirror_mode": {
    "name": "ipython",
    "version": 3
   },
   "file_extension": ".py",
   "mimetype": "text/x-python",
   "name": "python",
   "nbconvert_exporter": "python",
   "pygments_lexer": "ipython3",
   "version": "3.9.5"
  },
  "orig_nbformat": 4,
  "vscode": {
   "interpreter": {
    "hash": "2e4121690db76bc87d491a2e0341ca46892a2842bde8fb317c85d19e2ad11338"
   }
  }
 },
 "nbformat": 4,
 "nbformat_minor": 2
}
