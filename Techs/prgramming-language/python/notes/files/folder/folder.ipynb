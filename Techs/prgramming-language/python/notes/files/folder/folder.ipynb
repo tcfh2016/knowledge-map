{
 "cells": [
  {
   "attachments": {},
   "cell_type": "markdown",
   "metadata": {},
   "source": [
    "## 查看目录"
   ]
  },
  {
   "cell_type": "code",
   "execution_count": 12,
   "metadata": {},
   "outputs": [
    {
     "name": "stdout",
     "output_type": "stream",
     "text": [
      "current path: c:\\Users\\lianbche\\Git\\knowledge-map\\Techs\\prgramming-language\\python\\notes\\files\\folder\n",
      "c:\\Users\\lianbche\\Git\\knowledge-map\\Techs\\prgramming-language\\python\\notes\\files\\folder is a directory\n",
      "c:\\Users\\lianbche\\Git\\knowledge-map\\Techs\\prgramming-language\\python\\notes\\files\\folder\\README.md is not a directory\n",
      "c:\\Users\\lianbche\\Git\\knowledge-map\\Techs\\prgramming-language\\python\\notes\\files\\folder\\README\\ is not a directory\n"
     ]
    }
   ],
   "source": [
    "import os \n",
    "\n",
    "# 打印当前目录\n",
    "cur = os.getcwd()\n",
    "print(\"current path: {}\".format(cur))\n",
    "\n",
    "# 判断是否目录 - 目录存在\n",
    "if os.path.isdir(cur):\n",
    "    print(\"{} is a directory\".format(cur))\n",
    "else:\n",
    "    print(\"{} is not a directory\".format(cur))\n",
    "\n",
    "# 判断是否目录 - 输入为文件\n",
    "file_path = os.path.join(cur, \"README.md\")\n",
    "if os.path.isdir(file_path):\n",
    "    print(\"{} is a directory\".format(file_path))\n",
    "else:\n",
    "    print(\"{} is not a directory\".format(file_path))\n",
    "\n",
    "# 判断是否目录 - 输入为不存在的目录\n",
    "notexist_path = os.path.join(cur, \"README\", \"\")\n",
    "if os.path.isdir(notexist_path):\n",
    "    print(\"{} is a directory\".format(notexist_path))\n",
    "else:\n",
    "    print(\"{} is not a directory\".format(notexist_path))"
   ]
  },
  {
   "attachments": {},
   "cell_type": "markdown",
   "metadata": {},
   "source": [
    "## 目录拼接\n",
    "\n",
    "拼接时需要注意：\n",
    "\n",
    "- 如果拼接得到的是目录，那么最后一个参数需要是`\"\"`。\n",
    "- 如果拼接得到的是文件，那么最后一个参数不需要`\"\"`。"
   ]
  },
  {
   "cell_type": "code",
   "execution_count": 2,
   "metadata": {},
   "outputs": [
    {
     "name": "stdout",
     "output_type": "stream",
     "text": [
      "c:\\Users\\lianbche\\Git\\knowledge-map\\Techs\\prgramming-language\\python\\notes\\files\\folder\n",
      "c:\\Users\\lianbche\\Git\\knowledge-map\\Techs\\prgramming-language\\python\\notes\\files\\folder\\test\n",
      "c:\\Users\\lianbche\\Git\\knowledge-map\\Techs\\prgramming-language\\python\\notes\\files\\folder\\test\\\n"
     ]
    }
   ],
   "source": [
    "import os \n",
    "\n",
    "cur = os.getcwd()\n",
    "print(cur)\n",
    "p1 = os.path.join(os.getcwd(), \"test\")\n",
    "print(p1)\n",
    "p2 = os.path.join(os.getcwd(), \"test\", \"\")\n",
    "print(p2)"
   ]
  },
  {
   "cell_type": "code",
   "execution_count": 3,
   "metadata": {},
   "outputs": [
    {
     "name": "stdout",
     "output_type": "stream",
     "text": [
      "c:\\Users\\lianbche\\Git\\knowledge-map\\Techs\\prgramming-language\\python\\notes\\files\\folder\\test1\\test2\n"
     ]
    }
   ],
   "source": [
    "p = os.path.join(os.getcwd(), \"test1\", \"test2\")\n",
    "print(p)"
   ]
  },
  {
   "attachments": {},
   "cell_type": "markdown",
   "metadata": {},
   "source": [
    "## 目录是否为空"
   ]
  },
  {
   "cell_type": "code",
   "execution_count": 8,
   "metadata": {},
   "outputs": [
    {
     "name": "stdout",
     "output_type": "stream",
     "text": [
      "c:\\Users\\lianbche\\Git\\knowledge-map\\Techs\\prgramming-language\\python\\notes\\files\\folder is not empty\n",
      "c:\\Users\\lianbche\\Git\\knowledge-map\\Techs\\prgramming-language\\python\\notes\\files\\folder\\test_empty_folder\\ is empty\n"
     ]
    }
   ],
   "source": [
    "import os \n",
    "\n",
    "def is_folder_empty(path):\n",
    "    if os.path.isdir(path):\n",
    "        if not os.listdir(path):\n",
    "            print(\"{} is empty\".format(path))\n",
    "        else:\n",
    "            print(\"{} is not empty\".format(path))\n",
    "    else:\n",
    "            print(\"{} not exist\".format(path))\n",
    "\n",
    "cur_dir = os.getcwd()\n",
    "is_folder_empty(cur_dir)\n",
    "\n",
    "test_dir = os.path.join(cur_dir, \"test_empty_folder\", \"\")\n",
    "is_folder_empty(test_dir)"
   ]
  }
 ],
 "metadata": {
  "kernelspec": {
   "display_name": "Python 3.9.5 64-bit",
   "language": "python",
   "name": "python3"
  },
  "language_info": {
   "codemirror_mode": {
    "name": "ipython",
    "version": 3
   },
   "file_extension": ".py",
   "mimetype": "text/x-python",
   "name": "python",
   "nbconvert_exporter": "python",
   "pygments_lexer": "ipython3",
   "version": "3.9.5"
  },
  "orig_nbformat": 4,
  "vscode": {
   "interpreter": {
    "hash": "2e4121690db76bc87d491a2e0341ca46892a2842bde8fb317c85d19e2ad11338"
   }
  }
 },
 "nbformat": 4,
 "nbformat_minor": 2
}
