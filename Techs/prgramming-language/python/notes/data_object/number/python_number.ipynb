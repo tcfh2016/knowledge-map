{
 "cells": [
  {
   "cell_type": "code",
   "execution_count": 6,
   "metadata": {},
   "outputs": [
    {
     "name": "stdout",
     "output_type": "stream",
     "text": [
      "1.23Gbps\n"
     ]
    }
   ],
   "source": [
    "def convert_throughput_format(value):\n",
    "    G_BPS = 1000000000\n",
    "    M_BPS = 1000000\n",
    "    K_BPS = 1000\n",
    "\n",
    "    if value / G_BPS > 1.0:\n",
    "        return str(round(value / G_BPS, 2)) + \"Gbps\"\n",
    "    elif value / M_BPS > 1.0:\n",
    "        return str(round(value / M_BPS, 2)) + \"Mbps\"\n",
    "    elif value / K_BPS > 1.0:\n",
    "        return str(round(value / K_BPS, 2)) + \"Kbps\"\n",
    "    else:\n",
    "        return str(round(value, 2)) + \"bps\"\n",
    "\n",
    "f = 1235233456.123\n",
    "print(convert_throughput_format(f))\n",
    "\n",
    "#`round(x, [, n])`\n",
    "\n"
   ]
  },
  {
   "attachments": {},
   "cell_type": "markdown",
   "metadata": {},
   "source": [
    "## 使用`decimal`来控制小数点位数"
   ]
  },
  {
   "cell_type": "code",
   "execution_count": 1,
   "metadata": {},
   "outputs": [
    {
     "name": "stdout",
     "output_type": "stream",
     "text": [
      "0.3333\n"
     ]
    }
   ],
   "source": [
    "import decimal\n",
    "from decimal import Decimal\n",
    "\n",
    "decimal.getcontext().prec = 4\n",
    "\n",
    "print(Decimal(1)/3)\n"
   ]
  }
 ],
 "metadata": {
  "kernelspec": {
   "display_name": "Python 3",
   "language": "python",
   "name": "python3"
  },
  "language_info": {
   "codemirror_mode": {
    "name": "ipython",
    "version": 3
   },
   "file_extension": ".py",
   "mimetype": "text/x-python",
   "name": "python",
   "nbconvert_exporter": "python",
   "pygments_lexer": "ipython3",
   "version": "3.9.5"
  },
  "orig_nbformat": 4
 },
 "nbformat": 4,
 "nbformat_minor": 2
}
