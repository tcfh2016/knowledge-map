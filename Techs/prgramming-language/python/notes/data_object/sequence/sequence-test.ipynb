{
 "cells": [
  {
   "attachments": {},
   "cell_type": "markdown",
   "metadata": {},
   "source": [
    "## 找到第一个不满足条件的索引\n",
    "\n",
    "参考： https://stackoverflow.com/questions/2361426/get-the-first-item-from-an-iterable-that-matches-a-condition"
   ]
  },
  {
   "cell_type": "code",
   "execution_count": 7,
   "metadata": {},
   "outputs": [
    {
     "name": "stdout",
     "output_type": "stream",
     "text": [
      "5\n",
      "5\n",
      "4\n",
      "None\n"
     ]
    }
   ],
   "source": [
    "for index  in range (10):\n",
    "    if index < 5:\n",
    "        continue\n",
    "    break\n",
    "\n",
    "print(index)\n",
    "\n",
    "\n",
    "res = next(x for x in range(10) if x >= 5)\n",
    "print(res)\n",
    "\n",
    "res = next(x for x in range(10) if x >= 5) - 1\n",
    "print(res)\n",
    "\n",
    "l = ['apple', 'orange', 'banana']\n",
    "res = next((x for x in l if x.find('adk') != -1), None)\n",
    "print(res)"
   ]
  },
  {
   "attachments": {},
   "cell_type": "markdown",
   "metadata": {},
   "source": [
    "## 查找下标"
   ]
  },
  {
   "cell_type": "code",
   "execution_count": 4,
   "metadata": {},
   "outputs": [
    {
     "name": "stdout",
     "output_type": "stream",
     "text": [
      "1\n",
      "2\n"
     ]
    }
   ],
   "source": [
    "l = [\"foo\", \"bar\", \"baz\"]\n",
    "\n",
    "found = l.index(\"bar\")\n",
    "print(found)\n",
    "\n",
    "try:\n",
    "    #notfound = l.index(\"apple\")\n",
    "    notfound = l.index(\"baz\")\n",
    "except:\n",
    "    pass\n",
    "else:\n",
    "    print(notfound)"
   ]
  },
  {
   "cell_type": "code",
   "execution_count": 11,
   "metadata": {},
   "outputs": [
    {
     "ename": "SyntaxError",
     "evalue": "cannot assign to operator (4237681278.py, line 11)",
     "output_type": "error",
     "traceback": [
      "\u001b[1;36m  Cell \u001b[1;32mIn [11], line 11\u001b[1;36m\u001b[0m\n\u001b[1;33m    case_vdu_rcp-ccs-rt-dpm = ['cb6667_MixCCMixUeFdmTest_4CC_16UE_TDD500_CFG_NSA_VduFdmTest']\u001b[0m\n\u001b[1;37m    ^\u001b[0m\n\u001b[1;31mSyntaxError\u001b[0m\u001b[1;31m:\u001b[0m cannot assign to operator\n"
     ]
    }
   ],
   "source": [
    "#case_vdu_rcp-ccs-rt-dpm = ([\n",
    "'cb6667_MixCCMixUeFdmTest_4CC_16UE_TDD500_CFG_NSA_VduFdmTest',\n",
    "'cb9567_1CC1UeFdmVdu_1CC_1UE_TDD500_CFG_NSA_Fdm',\n",
    "'cb9567_MultiCCMixUeFdmVdu_2CC_18UE_TDD500_CFG_NSA_Fdm',\n",
    "'cb9567_MultiCCMixUeFdmVdu_3CC_18UE_TDD500_CFG_NSA_Fdm',\n",
    "'cb9567_1CCMixUeFdmVdu_1CC_4UE_TDD500_CFG_NSA_Fdm',\n",
    "'cb9567_MultiCCMixUeFdmVdu_3CC_4UE_TDD500_CFG_NSA_Fdm',\n",
    "'cb10352_MultiCCMixUeFdmVdu_3CC_36UE_FDD1000_CFG_NSA'\n",
    "#])\n",
    "\n",
    "case_vdu_rcp-ccs-rt-dpm = ['cb6667_MixCCMixUeFdmTest_4CC_16UE_TDD500_CFG_NSA_VduFdmTest']\n",
    "case_vdu_ = ['cb6667_MixCCMixUeFdmTest_4CC_16UE_TDD500_CFG_NSA_VduFdmTest']"
   ]
  },
  {
   "cell_type": "markdown",
   "metadata": {},
   "source": [
    "## 反向查找"
   ]
  },
  {
   "cell_type": "code",
   "execution_count": 10,
   "metadata": {},
   "outputs": [
    {
     "data": {
      "text/plain": [
       "10"
      ]
     },
     "execution_count": 10,
     "metadata": {},
     "output_type": "execute_result"
    }
   ],
   "source": [
    "target = \"this is an test\"\n",
    "e = target.find('test')\n",
    "target[:e].rfind(' ')"
   ]
  }
 ],
 "metadata": {
  "kernelspec": {
   "display_name": "Python 3",
   "language": "python",
   "name": "python3"
  },
  "language_info": {
   "codemirror_mode": {
    "name": "ipython",
    "version": 3
   },
   "file_extension": ".py",
   "mimetype": "text/x-python",
   "name": "python",
   "nbconvert_exporter": "python",
   "pygments_lexer": "ipython3",
   "version": "3.9.9"
  },
  "orig_nbformat": 4
 },
 "nbformat": 4,
 "nbformat_minor": 2
}
