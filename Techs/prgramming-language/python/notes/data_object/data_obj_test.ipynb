{
 "cells": [
  {
   "attachments": {},
   "cell_type": "markdown",
   "metadata": {},
   "source": [
    "## 变量赋值"
   ]
  },
  {
   "cell_type": "code",
   "execution_count": 1,
   "metadata": {},
   "outputs": [
    {
     "name": "stdout",
     "output_type": "stream",
     "text": [
      "a = 10, b = 10\n",
      "a = 5, b = 10\n"
     ]
    }
   ],
   "source": [
    "a = 10\n",
    "b = a \n",
    "print(\"a = {}, b = {}\".format(a, b))\n",
    "\n",
    "b = 5\n",
    "print(\"a = {}, b = {}\".format(a, b))"
   ]
  },
  {
   "attachments": {},
   "cell_type": "markdown",
   "metadata": {},
   "source": [
    "\n",
    "## 元组使用"
   ]
  },
  {
   "cell_type": "code",
   "execution_count": 3,
   "metadata": {},
   "outputs": [
    {
     "name": "stdout",
     "output_type": "stream",
     "text": [
      "100\n",
      "math\n"
     ]
    }
   ],
   "source": [
    "def fun():\n",
    "    return (str(100), \"math\")\n",
    "\n",
    "a = \"\"\n",
    "b = \"\"\n",
    "\n",
    "a, b = fun()\n",
    "print(a)\n",
    "print(b)"
   ]
  },
  {
   "cell_type": "code",
   "execution_count": 1,
   "metadata": {},
   "outputs": [
    {
     "ename": "IndexError",
     "evalue": "list index out of range",
     "output_type": "error",
     "traceback": [
      "\u001b[1;31m---------------------------------------------------------------------------\u001b[0m",
      "\u001b[1;31mIndexError\u001b[0m                                Traceback (most recent call last)",
      "\u001b[1;32mc:\\Users\\lianbche\\Git\\knowledge-map\\Techs\\prgramming-language\\python\\notes\\data_object\\data_obj_test.ipynb Cell 5\u001b[0m in \u001b[0;36m2\n\u001b[0;32m      <a href='vscode-notebook-cell:/c%3A/Users/lianbche/Git/knowledge-map/Techs/prgramming-language/python/notes/data_object/data_obj_test.ipynb#W4sZmlsZQ%3D%3D?line=0'>1</a>\u001b[0m l \u001b[39m=\u001b[39m []\n\u001b[1;32m----> <a href='vscode-notebook-cell:/c%3A/Users/lianbche/Git/knowledge-map/Techs/prgramming-language/python/notes/data_object/data_obj_test.ipynb#W4sZmlsZQ%3D%3D?line=1'>2</a>\u001b[0m l[\u001b[39m-\u001b[39;49m\u001b[39m1\u001b[39;49m]\n",
      "\u001b[1;31mIndexError\u001b[0m: list index out of range"
     ]
    }
   ],
   "source": [
    "l = []\n",
    "l[-1]"
   ]
  },
  {
   "attachments": {},
   "cell_type": "markdown",
   "metadata": {},
   "source": [
    "## 空字符串"
   ]
  },
  {
   "cell_type": "code",
   "execution_count": 5,
   "metadata": {},
   "outputs": [
    {
     "name": "stdout",
     "output_type": "stream",
     "text": [
      "found!\n",
      "not found!\n"
     ]
    }
   ],
   "source": [
    "s1 = ''\n",
    "if s1.find('') != -1:\n",
    "    print(\"found!\")\n",
    "\n",
    "s2 = \"hello\"\n",
    "if s2.find('') != -1:\n",
    "    print(\"found!\")\n",
    "else:\n",
    "    print(\"not found!\")\n"
   ]
  }
 ],
 "metadata": {
  "kernelspec": {
   "display_name": "Python 3",
   "language": "python",
   "name": "python3"
  },
  "language_info": {
   "codemirror_mode": {
    "name": "ipython",
    "version": 3
   },
   "file_extension": ".py",
   "mimetype": "text/x-python",
   "name": "python",
   "nbconvert_exporter": "python",
   "pygments_lexer": "ipython3",
   "version": "3.9.5"
  },
  "orig_nbformat": 4
 },
 "nbformat": 4,
 "nbformat_minor": 2
}
