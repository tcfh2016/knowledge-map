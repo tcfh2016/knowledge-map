{
 "cells": [
  {
   "attachments": {},
   "cell_type": "markdown",
   "metadata": {},
   "source": [
    "## 字典的创建\n",
    "\n",
    "- 创建值为空的字典可以使用列表表达式，如`{key:[] for key in [a, b, c]}`。\n",
    "- 使用`zip`的方法来根据已知的“key序列”和“值序列”创建。"
   ]
  },
  {
   "cell_type": "code",
   "execution_count": 3,
   "metadata": {},
   "outputs": [
    {
     "name": "stdout",
     "output_type": "stream",
     "text": [
      "{'red': '', 'green': ''}\n",
      "{1: 'simon', 2: 'john', 3: 'juye'}\n",
      "False\n"
     ]
    }
   ],
   "source": [
    "color = {}\n",
    "color = {key:'' for key in ['red', 'green']}\n",
    "print(color)\n",
    "\n",
    "\n",
    "key_list = [1, 2, 3]\n",
    "value_list = ['simon', 'john', 'juye']\n",
    "mapping = zip(key_list, value_list)\n",
    "\n",
    "d = dict(mapping)\n",
    "print(d)\n",
    "print('john' not in d.values())"
   ]
  },
  {
   "cell_type": "code",
   "execution_count": 10,
   "metadata": {},
   "outputs": [
    {
     "data": {
      "text/plain": [
       "{'k': ['haha', ['nihao']]}"
      ]
     },
     "execution_count": 10,
     "metadata": {},
     "output_type": "execute_result"
    }
   ],
   "source": [
    "my_dict = {'k':[[\"haha\"]]}\n",
    "\n",
    "if 'k' in my_dict:\n",
    "    my_dict['k'].append(['nihao'])\n",
    "else:\n",
    "    my_dict['k'] = ['nihao']\n",
    "\n",
    "my_dict"
   ]
  },
  {
   "attachments": {},
   "cell_type": "markdown",
   "metadata": {},
   "source": [
    "## 字典的遍历"
   ]
  },
  {
   "cell_type": "code",
   "execution_count": 4,
   "metadata": {},
   "outputs": [
    {
     "name": "stdout",
     "output_type": "stream",
     "text": [
      "fruit=apple, number=100\n",
      "fruit=pear, number=200\n"
     ]
    }
   ],
   "source": [
    "my_dict = {\"apple\":100, \"pear\":200}\n",
    "\n",
    "for fruit_kind, number in my_dict.items():\n",
    "    print(\"fruit={}, number={}\".format(fruit_kind, number))"
   ]
  },
  {
   "attachments": {},
   "cell_type": "markdown",
   "metadata": {},
   "source": [
    "## 字典键值的顺序"
   ]
  },
  {
   "cell_type": "code",
   "execution_count": 6,
   "metadata": {},
   "outputs": [
    {
     "name": "stdout",
     "output_type": "stream",
     "text": [
      "dict_keys([3, 1, 2, 4])\n",
      "3 in keys\n",
      "4 => she\n",
      "3 => her\n",
      "2 => me\n",
      "1 => you\n"
     ]
    }
   ],
   "source": [
    "d = {}\n",
    "d[3] = \"her\"\n",
    "d[1] = \"you\"\n",
    "d[2] = \"me\"\n",
    "d[4] = \"she\"\n",
    "\n",
    "print(d.keys())\n",
    "if 3 in d.keys():\n",
    "    print(\"3 in keys\")\n",
    "\n",
    "ks = list(d.keys())\n",
    "ks[0]\n",
    "\n",
    "for key in sorted(d, reverse=True):\n",
    "  print(key, '=>', d[key])"
   ]
  },
  {
   "attachments": {},
   "cell_type": "markdown",
   "metadata": {},
   "source": [
    "## 嵌套字典"
   ]
  },
  {
   "cell_type": "code",
   "execution_count": 4,
   "metadata": {},
   "outputs": [
    {
     "name": "stdout",
     "output_type": "stream",
     "text": [
      "{'yingtai': {'app': 1.23}}\n",
      "<class 'dict'>\n",
      "1.23\n",
      "<class 'float'>\n",
      "{}\n"
     ]
    }
   ],
   "source": [
    "my_dict = {}\n",
    "\n",
    "value = {\"app\" : 1.23}\n",
    "my_dict[\"yingtai\"] = value\n",
    "\n",
    "print(my_dict)\n",
    "print(type(my_dict))\n",
    "print(my_dict[\"yingtai\"]['app'])\n",
    "print(type(my_dict[\"yingtai\"]['app']))\n",
    "\n",
    "my_dict.clear()\n",
    "print(my_dict)"
   ]
  }
 ],
 "metadata": {
  "kernelspec": {
   "display_name": "Python 3.9.5 64-bit",
   "language": "python",
   "name": "python3"
  },
  "language_info": {
   "codemirror_mode": {
    "name": "ipython",
    "version": 3
   },
   "file_extension": ".py",
   "mimetype": "text/x-python",
   "name": "python",
   "nbconvert_exporter": "python",
   "pygments_lexer": "ipython3",
   "version": "3.9.9"
  },
  "orig_nbformat": 4,
  "vscode": {
   "interpreter": {
    "hash": "2e4121690db76bc87d491a2e0341ca46892a2842bde8fb317c85d19e2ad11338"
   }
  }
 },
 "nbformat": 4,
 "nbformat_minor": 2
}
