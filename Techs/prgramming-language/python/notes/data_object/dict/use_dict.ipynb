{
 "cells": [
  {
   "attachments": {},
   "cell_type": "markdown",
   "metadata": {},
   "source": [
    "## 字典的创建\n",
    "\n",
    "- 创建值为空的字典可以使用列表表达式，如`{key:[] for key in [a, b, c]}`。\n",
    "- 使用`zip`的方法来根据已知的“key序列”和“值序列”创建。"
   ]
  },
  {
   "cell_type": "code",
   "execution_count": 2,
   "metadata": {},
   "outputs": [
    {
     "name": "stdout",
     "output_type": "stream",
     "text": [
      "{'red': '', 'green': ''}\n",
      "{1: 'simon', 2: 'john', 3: 'juye'}\n"
     ]
    }
   ],
   "source": [
    "color = {}\n",
    "color = {key:'' for key in ['red', 'green']}\n",
    "print(color)\n",
    "\n",
    "\n",
    "key_list = [1, 2, 3]\n",
    "value_list = ['simon', 'john', 'juye']\n",
    "mapping = zip(key_list, value_list)\n",
    "\n",
    "d = dict(mapping)\n",
    "print(d)\n"
   ]
  },
  {
   "attachments": {},
   "cell_type": "markdown",
   "metadata": {},
   "source": [
    "## 字典键值的顺序"
   ]
  },
  {
   "cell_type": "code",
   "execution_count": 4,
   "metadata": {},
   "outputs": [
    {
     "ename": "TypeError",
     "evalue": "'dict_keys' object is not subscriptable",
     "output_type": "error",
     "traceback": [
      "\u001b[1;31m---------------------------------------------------------------------------\u001b[0m",
      "\u001b[1;31mTypeError\u001b[0m                                 Traceback (most recent call last)",
      "Cell \u001b[1;32mIn [4], line 7\u001b[0m\n\u001b[0;32m      4\u001b[0m d[\u001b[39m2\u001b[39m] \u001b[39m=\u001b[39m \u001b[39m\"\u001b[39m\u001b[39mme\u001b[39m\u001b[39m\"\u001b[39m\n\u001b[0;32m      5\u001b[0m d[\u001b[39m4\u001b[39m] \u001b[39m=\u001b[39m \u001b[39m\"\u001b[39m\u001b[39mshe\u001b[39m\u001b[39m\"\u001b[39m\n\u001b[1;32m----> 7\u001b[0m \u001b[39mprint\u001b[39m(d\u001b[39m.\u001b[39;49mkeys()[\u001b[39m0\u001b[39;49m])\n",
      "\u001b[1;31mTypeError\u001b[0m: 'dict_keys' object is not subscriptable"
     ]
    }
   ],
   "source": [
    "d = {}\n",
    "d[3] = \"her\"\n",
    "d[1] = \"you\"\n",
    "d[2] = \"me\"\n",
    "d[4] = \"she\"\n",
    "\n",
    "print(d.keys())\n",
    "\n",
    "ks = list(d.keys())\n",
    "ks[0]"
   ]
  },
  {
   "cell_type": "markdown",
   "metadata": {},
   "source": [
    "## 嵌套字典"
   ]
  },
  {
   "cell_type": "code",
   "execution_count": 4,
   "metadata": {},
   "outputs": [
    {
     "name": "stdout",
     "output_type": "stream",
     "text": [
      "{'yingtai': {'app': 1.23}}\n",
      "<class 'dict'>\n",
      "1.23\n",
      "<class 'float'>\n",
      "{}\n"
     ]
    }
   ],
   "source": [
    "my_dict = {}\n",
    "\n",
    "value = {\"app\" : 1.23}\n",
    "my_dict[\"yingtai\"] = value\n",
    "\n",
    "print(my_dict)\n",
    "print(type(my_dict))\n",
    "print(my_dict[\"yingtai\"]['app'])\n",
    "print(type(my_dict[\"yingtai\"]['app']))\n",
    "\n",
    "my_dict.clear()\n",
    "print(my_dict)"
   ]
  }
 ],
 "metadata": {
  "kernelspec": {
   "display_name": "Python 3.9.5 64-bit",
   "language": "python",
   "name": "python3"
  },
  "language_info": {
   "codemirror_mode": {
    "name": "ipython",
    "version": 3
   },
   "file_extension": ".py",
   "mimetype": "text/x-python",
   "name": "python",
   "nbconvert_exporter": "python",
   "pygments_lexer": "ipython3",
   "version": "3.9.5"
  },
  "orig_nbformat": 4,
  "vscode": {
   "interpreter": {
    "hash": "2e4121690db76bc87d491a2e0341ca46892a2842bde8fb317c85d19e2ad11338"
   }
  }
 },
 "nbformat": 4,
 "nbformat_minor": 2
}
