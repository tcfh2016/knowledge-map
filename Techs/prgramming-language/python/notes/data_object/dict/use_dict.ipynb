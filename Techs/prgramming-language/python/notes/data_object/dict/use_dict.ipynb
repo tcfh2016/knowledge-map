{
 "cells": [
  {
   "cell_type": "markdown",
   "metadata": {},
   "source": [
    "## 嵌套字典"
   ]
  },
  {
   "cell_type": "code",
   "execution_count": 4,
   "metadata": {},
   "outputs": [
    {
     "name": "stdout",
     "output_type": "stream",
     "text": [
      "{'yingtai': {'app': 1.23}}\n",
      "<class 'dict'>\n",
      "1.23\n",
      "<class 'float'>\n",
      "{}\n"
     ]
    }
   ],
   "source": [
    "my_dict = {}\n",
    "\n",
    "value = {\"app\" : 1.23}\n",
    "my_dict[\"yingtai\"] = value\n",
    "\n",
    "print(my_dict)\n",
    "print(type(my_dict))\n",
    "print(my_dict[\"yingtai\"]['app'])\n",
    "print(type(my_dict[\"yingtai\"]['app']))\n",
    "\n",
    "my_dict.clear()\n",
    "print(my_dict)"
   ]
  }
 ],
 "metadata": {
  "kernelspec": {
   "display_name": "Python 3.9.5 64-bit",
   "language": "python",
   "name": "python3"
  },
  "language_info": {
   "codemirror_mode": {
    "name": "ipython",
    "version": 3
   },
   "file_extension": ".py",
   "mimetype": "text/x-python",
   "name": "python",
   "nbconvert_exporter": "python",
   "pygments_lexer": "ipython3",
   "version": "3.9.5"
  },
  "orig_nbformat": 4,
  "vscode": {
   "interpreter": {
    "hash": "2e4121690db76bc87d491a2e0341ca46892a2842bde8fb317c85d19e2ad11338"
   }
  }
 },
 "nbformat": 4,
 "nbformat_minor": 2
}
