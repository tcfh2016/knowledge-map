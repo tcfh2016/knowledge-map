{
 "cells": [
  {
   "cell_type": "markdown",
   "metadata": {},
   "source": [
    "## 目标：找到第一个满足条件的索引\n",
    "\n",
    "满足条件是灵活的，比如在相对平稳波动的数组中找到第一个增幅超过20%的索引，或者降幅超过20%的索引。这样灵活的条件觉得似乎可以用一个函数来完成，通过该函数的参数来体现比较条件。\n",
    "\n",
    "为了调试方便，可以从一个简单的例子开始：找到第一个值为0元素的索引。"
   ]
  },
  {
   "cell_type": "code",
   "execution_count": 6,
   "metadata": {},
   "outputs": [],
   "source": [
    "def binary_search_build(arr):\n",
    "    low = 0\n",
    "    high = len(arr) - 1\n",
    "    mid = (low + high) / 2\n",
    "\n",
    "    while (low < high) :    \n",
    "        mid = int((low + high) / 2)\n",
    "\n",
    "        if (arr[mid] == 1):\n",
    "            high = mid\n",
    "        elif (low != mid):\n",
    "            low = mid\n",
    "        else:\n",
    "            break\n",
    "\n",
    "        #print('low = {}, mid = {}, high = {}'.format(low, mid, high))\n",
    "\n",
    "    if (arr[low] == 0):\n",
    "        print(low)\n",
    "    else:\n",
    "        print(low + 1)"
   ]
  },
  {
   "cell_type": "code",
   "execution_count": 7,
   "metadata": {},
   "outputs": [
    {
     "name": "stdout",
     "output_type": "stream",
     "text": [
      "1\n",
      "0\n",
      "2\n"
     ]
    }
   ],
   "source": [
    "\n",
    "arr1 = [0, 0, 1, 1, 1, 1, 1, 1] # 答案为1\n",
    "binary_search_build(arr1)\n",
    "arr2 = [0, 1, 1, 1, 1, 1, 1, 1] # 答案为0\n",
    "binary_search_build(arr2)\n",
    "arr3 = [0, 0, 0, 1, 1, 1, 1, 1] # 答案为2\n",
    "binary_search_build(arr3)\n"
   ]
  },
  {
   "cell_type": "markdown",
   "metadata": {},
   "source": [
    "## 第一次尝试：找出第一个值为0的元素索引\n",
    "\n",
    "尝试将“判断元素是否为0”作为条件传入函数。"
   ]
  },
  {
   "cell_type": "code",
   "execution_count": 10,
   "metadata": {},
   "outputs": [
    {
     "name": "stdout",
     "output_type": "stream",
     "text": [
      "1\n",
      "0\n",
      "2\n"
     ]
    }
   ],
   "source": [
    "def binary_search_build(arr, condition):\n",
    "    low = 0\n",
    "    high = len(arr) - 1\n",
    "    mid = (low + high) / 2\n",
    "\n",
    "    while (low < high) :    \n",
    "        mid = int((low + high) / 2)\n",
    "\n",
    "        if not condition(arr, mid):\n",
    "            high = mid\n",
    "        elif (low != mid):\n",
    "            low = mid\n",
    "        else:\n",
    "            break\n",
    "\n",
    "    if condition(arr, low):\n",
    "        print(low)\n",
    "    else:\n",
    "        print(low + 1)\n",
    "\n",
    "def first_zero(arr, index):\n",
    "    return arr[index] == 0\n",
    "\n",
    "arr1 = [0, 0, 1, 1, 1, 1, 1, 1] # 答案为1\n",
    "binary_search_build(arr1, first_zero)\n",
    "arr2 = [0, 1, 1, 1, 1, 1, 1, 1] # 答案为0\n",
    "binary_search_build(arr2, first_zero)\n",
    "arr3 = [0, 0, 0, 1, 1, 1, 1, 1] # 答案为2\n",
    "binary_search_build(arr3, first_zero)"
   ]
  },
  {
   "cell_type": "markdown",
   "metadata": {},
   "source": [
    "## 第二次尝试：找出第一个值增幅超过20%元素索引"
   ]
  },
  {
   "cell_type": "code",
   "execution_count": 12,
   "metadata": {},
   "outputs": [
    {
     "name": "stdout",
     "output_type": "stream",
     "text": [
      "2\n",
      "1\n",
      "6\n"
     ]
    }
   ],
   "source": [
    "def binary_search_build(arr, condition):\n",
    "    low = 0\n",
    "    high = len(arr) - 1\n",
    "    mid = (low + high) / 2\n",
    "\n",
    "    while (low < high) :    \n",
    "        mid = int((low + high) / 2)\n",
    "\n",
    "        if condition(arr, low, mid):\n",
    "            high = mid\n",
    "        elif (low != mid):\n",
    "            low = mid\n",
    "        else:\n",
    "            break\n",
    "\n",
    "    if condition(arr, low, low + 1):\n",
    "        print(low)\n",
    "    else:\n",
    "        print(low + 1)\n",
    "\n",
    "def exceed_dot2_increse(arr, left, right):\n",
    "    return float(arr[left]) / arr[right] > 1.2\n",
    "\n",
    "arr1 = [2.0, 1.9, 2.0, 0.9, 1.0, 0.9, 0.9, 1] # 2\n",
    "binary_search_build(arr1, exceed_dot2_increse)\n",
    "arr2 = [2.0, 1.9, 1.0, 0.9, 1.0, 0.9, 0.9, 1] # 1\n",
    "binary_search_build(arr2, exceed_dot2_increse)\n",
    "arr3 = [1.0, 1.0, 1.0, 0.9, 1.0, 0.9, 1.9, 1] # 0\n",
    "binary_search_build(arr3, exceed_dot2_increse)"
   ]
  },
  {
   "cell_type": "markdown",
   "metadata": {},
   "source": [
    "## 第三次尝试：找出第一个值降低幅超过20%元素索引"
   ]
  },
  {
   "cell_type": "code",
   "execution_count": 14,
   "metadata": {},
   "outputs": [
    {
     "name": "stdout",
     "output_type": "stream",
     "text": [
      "0\n",
      "0\n",
      "0\n"
     ]
    }
   ],
   "source": [
    "def exceed_dot2_decrese(arr, left, right):\n",
    "    return float(arr[left]) / arr[right] < 0.8\n",
    "\n",
    "arr1 = [0.5, 0.5, 0.5, 0.9, 1.0, 0.9, 0.9, 1] # 2\n",
    "binary_search_build(arr1, exceed_dot2_decrese)\n",
    "arr2 = [0.5, 0.5, 1.0, 0.9, 1.0, 0.9, 0.9, 1] # 1\n",
    "binary_search_build(arr2, exceed_dot2_decrese)\n",
    "arr3 = [0.5, 1.0, 1.0, 0.9, 1.0, 0.9, 1.9, 1] # 0\n",
    "binary_search_build(arr3, exceed_dot2_decrese)"
   ]
  }
 ],
 "metadata": {
  "kernelspec": {
   "display_name": "Python 3.9.5 64-bit",
   "language": "python",
   "name": "python3"
  },
  "language_info": {
   "codemirror_mode": {
    "name": "ipython",
    "version": 3
   },
   "file_extension": ".py",
   "mimetype": "text/x-python",
   "name": "python",
   "nbconvert_exporter": "python",
   "pygments_lexer": "ipython3",
   "version": "3.9.5"
  },
  "orig_nbformat": 4,
  "vscode": {
   "interpreter": {
    "hash": "2e4121690db76bc87d491a2e0341ca46892a2842bde8fb317c85d19e2ad11338"
   }
  }
 },
 "nbformat": 4,
 "nbformat_minor": 2
}
