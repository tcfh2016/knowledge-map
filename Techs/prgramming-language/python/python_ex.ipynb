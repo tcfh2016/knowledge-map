{
 "cells": [
  {
   "cell_type": "markdown",
   "metadata": {},
   "source": [
    "## 区分操作系统"
   ]
  },
  {
   "cell_type": "code",
   "execution_count": 3,
   "metadata": {},
   "outputs": [
    {
     "name": "stdout",
     "output_type": "stream",
     "text": [
      "Running on Windows\n"
     ]
    }
   ],
   "source": [
    "import platform\n",
    "\n",
    "current_os = platform.system()\n",
    "\n",
    "if current_os == 'Windows':\n",
    "    print(\"Running on Windows\")\n",
    "elif current_os == 'Linux':\n",
    "    print(\"Running on Linux\")\n",
    "elif current_os == 'Darwin':\n",
    "    print(\"Running on macOS\")\n",
    "else:\n",
    "    print(\"Running on an unsupported operating system\")\n"
   ]
  }
 ],
 "metadata": {
  "kernelspec": {
   "display_name": "Python 3",
   "language": "python",
   "name": "python3"
  },
  "language_info": {
   "codemirror_mode": {
    "name": "ipython",
    "version": 3
   },
   "file_extension": ".py",
   "mimetype": "text/x-python",
   "name": "python",
   "nbconvert_exporter": "python",
   "pygments_lexer": "ipython3",
   "version": "3.12.1"
  }
 },
 "nbformat": 4,
 "nbformat_minor": 2
}
