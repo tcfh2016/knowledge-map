{
 "cells": [
  {
   "cell_type": "markdown",
   "metadata": {},
   "source": [
    "## 区分操作系统"
   ]
  },
  {
   "cell_type": "code",
   "execution_count": null,
   "metadata": {},
   "outputs": [],
   "source": [
    "import platform\n",
    "\n",
    "# Get the current operating system\n",
    "current_os = platform.system()\n",
    "\n",
    "# Check the operating system and run different code accordingly\n",
    "if current_os == 'Windows':\n",
    "    # Code for Windows\n",
    "    print(\"Running on Windows\")\n",
    "    # Your Windows-specific code here\n",
    "elif current_os == 'Linux':\n",
    "    # Code for Linux\n",
    "    print(\"Running on Linux\")\n",
    "    # Your Linux-specific code here\n",
    "elif current_os == 'Darwin':\n",
    "    # Code for macOS\n",
    "    print(\"Running on macOS\")\n",
    "    # Your macOS-specific code here\n",
    "else:\n",
    "    # Code for other operating systems\n",
    "    print(\"Running on an unsupported operating system\")\n",
    "    # Your code for other operating systems here\n"
   ]
  }
 ],
 "metadata": {
  "language_info": {
   "name": "python"
  }
 },
 "nbformat": 4,
 "nbformat_minor": 2
}
