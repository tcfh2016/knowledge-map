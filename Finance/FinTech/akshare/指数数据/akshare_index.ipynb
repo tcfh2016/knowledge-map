{
 "cells": [
  {
   "cell_type": "markdown",
   "metadata": {},
   "source": [
    "## 中证指数"
   ]
  },
  {
   "cell_type": "code",
   "execution_count": 45,
   "metadata": {},
   "outputs": [
    {
     "name": "stdout",
     "output_type": "stream",
     "text": [
      "            指数代码    市盈率\n",
      "日期                     \n",
      "2024-04-03     1  11.92\n",
      "2024-04-04     1  11.93\n",
      "2024-04-05     1  11.93\n",
      "2024-04-08     1  11.84\n",
      "2024-04-09     1  11.84\n",
      "2024-04-10     1  11.78\n",
      "2024-04-11     1  11.80\n",
      "2024-04-12     1  11.74\n",
      "2024-04-15     1  11.92\n",
      "2024-04-16     1  11.74\n",
      "2024-04-17     1  11.97\n",
      "2024-04-18     1  11.99\n",
      "2024-04-19     1  11.96\n",
      "2024-04-22     1  11.88\n",
      "2024-04-23     1  11.78\n",
      "2024-04-24     1  11.87\n",
      "2024-04-25     1  11.90\n",
      "2024-04-26     1  12.03\n",
      "2024-04-29     1  12.12\n",
      "2024-04-30     1  12.09\n"
     ]
    }
   ],
   "source": [
    "import akshare as ak\n",
    "\n",
    "#stock_zh_index_value_csindex_df = ak.stock_zh_index_value_csindex(symbol=\"000300\")\n",
    "#print(stock_zh_index_value_csindex_df)\n",
    "\n",
    "import pandas as pd\n",
    "\n",
    "#path = r'F:\\repos\\anetf\\db\\000001.csv'\n",
    "#df = pd.read_csv(path, index_col=0)\n",
    "#df.loc[df.index[-1]:, ['指数代码', '市盈率']]\n",
    "\n",
    "df = ak.stock_zh_index_value_csindex(symbol='000001')\n",
    "df = df.sort_values(by=['日期']).set_index('日期')[['指数代码', '市盈率1']].rename(columns={'市盈率1':'市盈率'})\n",
    "print(df)"
   ]
  },
  {
   "cell_type": "markdown",
   "metadata": {},
   "source": [
    "## 韭圈儿"
   ]
  },
  {
   "cell_type": "code",
   "execution_count": 46,
   "metadata": {},
   "outputs": [
    {
     "name": "stdout",
     "output_type": "stream",
     "text": [
      "              日期    平均值    市盈率   最低30  最低10   最高30  最高10\n",
      "0     2011-04-01  25.63  18.16  18.16   NaN    NaN   NaN\n",
      "1     2011-04-04  25.63  18.10  18.10   NaN    NaN   NaN\n",
      "2     2011-04-05  25.63  18.06  18.06   NaN    NaN   NaN\n",
      "3     2011-04-06  25.63  18.12  18.12   NaN    NaN   NaN\n",
      "4     2011-04-07  25.63  18.14  18.14   NaN    NaN   NaN\n",
      "...          ...    ...    ...    ...   ...    ...   ...\n",
      "3373  2024-04-24  25.63  33.94    NaN   NaN  33.94   NaN\n",
      "3374  2024-04-25  25.63  32.57    NaN   NaN  32.57   NaN\n",
      "3375  2024-04-26  25.63  33.71    NaN   NaN  33.71   NaN\n",
      "3376  2024-04-29  25.63  33.66    NaN   NaN  33.66   NaN\n",
      "3377  2024-04-30  25.63  32.95    NaN   NaN  32.95   NaN\n",
      "\n",
      "[3378 rows x 7 columns]\n"
     ]
    }
   ],
   "source": [
    "import akshare as ak\n",
    "\n",
    "index_value_hist_funddb_df = ak.index_value_hist_funddb(symbol=\"金属指数\")\n",
    "print(index_value_hist_funddb_df)"
   ]
  }
 ],
 "metadata": {
  "kernelspec": {
   "display_name": "Python 3",
   "language": "python",
   "name": "python3"
  },
  "language_info": {
   "codemirror_mode": {
    "name": "ipython",
    "version": 3
   },
   "file_extension": ".py",
   "mimetype": "text/x-python",
   "name": "python",
   "nbconvert_exporter": "python",
   "pygments_lexer": "ipython3",
   "version": "3.12.3"
  }
 },
 "nbformat": 4,
 "nbformat_minor": 2
}
