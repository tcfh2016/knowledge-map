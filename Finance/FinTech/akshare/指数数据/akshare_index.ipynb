{
 "cells": [
  {
   "cell_type": "markdown",
   "metadata": {},
   "source": [
    "## 中证指数"
   ]
  },
  {
   "cell_type": "code",
   "execution_count": 45,
   "metadata": {},
   "outputs": [
    {
     "name": "stdout",
     "output_type": "stream",
     "text": [
      "            指数代码    市盈率\n",
      "日期                     \n",
      "2024-04-03     1  11.92\n",
      "2024-04-04     1  11.93\n",
      "2024-04-05     1  11.93\n",
      "2024-04-08     1  11.84\n",
      "2024-04-09     1  11.84\n",
      "2024-04-10     1  11.78\n",
      "2024-04-11     1  11.80\n",
      "2024-04-12     1  11.74\n",
      "2024-04-15     1  11.92\n",
      "2024-04-16     1  11.74\n",
      "2024-04-17     1  11.97\n",
      "2024-04-18     1  11.99\n",
      "2024-04-19     1  11.96\n",
      "2024-04-22     1  11.88\n",
      "2024-04-23     1  11.78\n",
      "2024-04-24     1  11.87\n",
      "2024-04-25     1  11.90\n",
      "2024-04-26     1  12.03\n",
      "2024-04-29     1  12.12\n",
      "2024-04-30     1  12.09\n"
     ]
    }
   ],
   "source": [
    "import akshare as ak\n",
    "\n",
    "#stock_zh_index_value_csindex_df = ak.stock_zh_index_value_csindex(symbol=\"000300\")\n",
    "#print(stock_zh_index_value_csindex_df)\n",
    "\n",
    "import pandas as pd\n",
    "\n",
    "#path = r'F:\\repos\\anetf\\db\\000001.csv'\n",
    "#df = pd.read_csv(path, index_col=0)\n",
    "#df.loc[df.index[-1]:, ['指数代码', '市盈率']]\n",
    "\n",
    "df = ak.stock_zh_index_value_csindex(symbol='000001')\n",
    "df = df.sort_values(by=['日期']).set_index('日期')[['指数代码', '市盈率1']].rename(columns={'市盈率1':'市盈率'})\n",
    "print(df)"
   ]
  },
  {
   "cell_type": "markdown",
   "metadata": {},
   "source": [
    "## 韭圈儿"
   ]
  },
  {
   "cell_type": "code",
   "execution_count": 47,
   "metadata": {},
   "outputs": [
    {
     "ename": "KeyError",
     "evalue": "'金属指数'",
     "output_type": "error",
     "traceback": [
      "\u001b[1;31m---------------------------------------------------------------------------\u001b[0m",
      "\u001b[1;31mKeyError\u001b[0m                                  Traceback (most recent call last)",
      "Cell \u001b[1;32mIn[47], line 3\u001b[0m\n\u001b[0;32m      1\u001b[0m \u001b[38;5;28;01mimport\u001b[39;00m \u001b[38;5;21;01makshare\u001b[39;00m \u001b[38;5;28;01mas\u001b[39;00m \u001b[38;5;21;01mak\u001b[39;00m\n\u001b[1;32m----> 3\u001b[0m index_value_hist_funddb_df \u001b[38;5;241m=\u001b[39m \u001b[43mak\u001b[49m\u001b[38;5;241;43m.\u001b[39;49m\u001b[43mindex_value_hist_funddb\u001b[49m\u001b[43m(\u001b[49m\u001b[43msymbol\u001b[49m\u001b[38;5;241;43m=\u001b[39;49m\u001b[38;5;124;43m\"\u001b[39;49m\u001b[38;5;124;43m金属指数\u001b[39;49m\u001b[38;5;124;43m\"\u001b[39;49m\u001b[43m)\u001b[49m\n\u001b[0;32m      4\u001b[0m \u001b[38;5;28mprint\u001b[39m(index_value_hist_funddb_df)\n",
      "File \u001b[1;32mc:\\Users\\Administrator\\AppData\\Local\\Programs\\Python\\Python312\\Lib\\site-packages\\akshare\\index\\index_stock_zh_csindex.py:407\u001b[0m, in \u001b[0;36mindex_value_hist_funddb\u001b[1;34m(symbol, indicator)\u001b[0m\n\u001b[0;32m    402\u001b[0m url \u001b[38;5;241m=\u001b[39m \u001b[38;5;124m\"\u001b[39m\u001b[38;5;124mhttps://api.jiucaishuo.com/v2/guzhi/newtubiaolinedata\u001b[39m\u001b[38;5;124m\"\u001b[39m\n\u001b[0;32m    403\u001b[0m get_current_timestamp_ms_str \u001b[38;5;241m=\u001b[39m __get_current_timestamp_ms()\n\u001b[0;32m    404\u001b[0m encode_params \u001b[38;5;241m=\u001b[39m __create_encode(\n\u001b[0;32m    405\u001b[0m     act_time\u001b[38;5;241m=\u001b[39m\u001b[38;5;28mstr\u001b[39m(get_current_timestamp_ms_str),\n\u001b[0;32m    406\u001b[0m     authtoken\u001b[38;5;241m=\u001b[39m\u001b[38;5;124m\"\u001b[39m\u001b[38;5;124m\"\u001b[39m,\n\u001b[1;32m--> 407\u001b[0m     gu_code\u001b[38;5;241m=\u001b[39m\u001b[43mname_code_map\u001b[49m\u001b[43m[\u001b[49m\u001b[43msymbol\u001b[49m\u001b[43m]\u001b[49m,\n\u001b[0;32m    408\u001b[0m     pe_category\u001b[38;5;241m=\u001b[39mindicator_map[indicator],\n\u001b[0;32m    409\u001b[0m     \u001b[38;5;28mtype\u001b[39m\u001b[38;5;241m=\u001b[39m\u001b[38;5;124m\"\u001b[39m\u001b[38;5;124mpc\u001b[39m\u001b[38;5;124m\"\u001b[39m,\n\u001b[0;32m    410\u001b[0m     ver\u001b[38;5;241m=\u001b[39m\u001b[38;5;124m\"\u001b[39m\u001b[38;5;124mnew\u001b[39m\u001b[38;5;124m\"\u001b[39m,\n\u001b[0;32m    411\u001b[0m     version\u001b[38;5;241m=\u001b[39m\u001b[38;5;124m\"\u001b[39m\u001b[38;5;124m2.2.7\u001b[39m\u001b[38;5;124m\"\u001b[39m,\n\u001b[0;32m    412\u001b[0m     year\u001b[38;5;241m=\u001b[39m\u001b[38;5;241m-\u001b[39m\u001b[38;5;241m1\u001b[39m,\n\u001b[0;32m    413\u001b[0m )\n\u001b[0;32m    414\u001b[0m payload \u001b[38;5;241m=\u001b[39m {\n\u001b[0;32m    415\u001b[0m     \u001b[38;5;124m\"\u001b[39m\u001b[38;5;124mgu_code\u001b[39m\u001b[38;5;124m\"\u001b[39m: name_code_map[symbol],\n\u001b[0;32m    416\u001b[0m     \u001b[38;5;124m\"\u001b[39m\u001b[38;5;124mpe_category\u001b[39m\u001b[38;5;124m\"\u001b[39m: indicator_map[indicator],\n\u001b[1;32m   (...)\u001b[0m\n\u001b[0;32m    422\u001b[0m     \u001b[38;5;124m\"\u001b[39m\u001b[38;5;124mact_time\u001b[39m\u001b[38;5;124m\"\u001b[39m: \u001b[38;5;28mstr\u001b[39m(get_current_timestamp_ms_str)\n\u001b[0;32m    423\u001b[0m }\n\u001b[0;32m    424\u001b[0m payload\u001b[38;5;241m.\u001b[39mupdate(encode_params)\n",
      "\u001b[1;31mKeyError\u001b[0m: '金属指数'"
     ]
    }
   ],
   "source": [
    "import akshare as ak\n",
    "\n",
    "index_value_hist_funddb_df = ak.index_value_hist_funddb(symbol=\"金属指数\")\n",
    "print(index_value_hist_funddb_df)"
   ]
  }
 ],
 "metadata": {
  "kernelspec": {
   "display_name": "Python 3",
   "language": "python",
   "name": "python3"
  },
  "language_info": {
   "codemirror_mode": {
    "name": "ipython",
    "version": 3
   },
   "file_extension": ".py",
   "mimetype": "text/x-python",
   "name": "python",
   "nbconvert_exporter": "python",
   "pygments_lexer": "ipython3",
   "version": "3.12.3"
  }
 },
 "nbformat": 4,
 "nbformat_minor": 2
}
