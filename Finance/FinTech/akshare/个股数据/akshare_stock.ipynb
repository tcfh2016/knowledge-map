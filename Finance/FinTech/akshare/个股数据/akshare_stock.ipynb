{
 "cells": [
  {
   "cell_type": "markdown",
   "metadata": {},
   "source": [
    "## 股票数据\n"
   ]
  },
  {
   "cell_type": "code",
   "execution_count": 2,
   "metadata": {},
   "outputs": [
    {
     "ename": "KeyError",
     "evalue": "'000001'",
     "output_type": "error",
     "traceback": [
      "\u001b[1;31m---------------------------------------------------------------------------\u001b[0m",
      "\u001b[1;31mKeyError\u001b[0m                                  Traceback (most recent call last)",
      "Cell \u001b[1;32mIn[2], line 3\u001b[0m\n\u001b[0;32m      1\u001b[0m \u001b[38;5;28;01mimport\u001b[39;00m \u001b[38;5;21;01makshare\u001b[39;00m \u001b[38;5;28;01mas\u001b[39;00m \u001b[38;5;21;01mak\u001b[39;00m\n\u001b[1;32m----> 3\u001b[0m stock_zh_a_hist_df \u001b[38;5;241m=\u001b[39m \u001b[43mak\u001b[49m\u001b[38;5;241;43m.\u001b[39;49m\u001b[43mstock_zh_a_hist\u001b[49m\u001b[43m(\u001b[49m\u001b[43msymbol\u001b[49m\u001b[38;5;241;43m=\u001b[39;49m\u001b[38;5;124;43m\"\u001b[39;49m\u001b[38;5;124;43m000001\u001b[39;49m\u001b[38;5;124;43m\"\u001b[39;49m\u001b[43m,\u001b[49m\u001b[43m \u001b[49m\u001b[43mperiod\u001b[49m\u001b[38;5;241;43m=\u001b[39;49m\u001b[38;5;124;43m\"\u001b[39;49m\u001b[38;5;124;43mdaily\u001b[39;49m\u001b[38;5;124;43m\"\u001b[39;49m\u001b[43m,\u001b[49m\u001b[43m \u001b[49m\u001b[43mstart_date\u001b[49m\u001b[38;5;241;43m=\u001b[39;49m\u001b[38;5;124;43m\"\u001b[39;49m\u001b[38;5;124;43m20170301\u001b[39;49m\u001b[38;5;124;43m\"\u001b[39;49m\u001b[43m,\u001b[49m\u001b[43m \u001b[49m\u001b[43mend_date\u001b[49m\u001b[38;5;241;43m=\u001b[39;49m\u001b[38;5;124;43m'\u001b[39;49m\u001b[38;5;124;43m20240528\u001b[39;49m\u001b[38;5;124;43m'\u001b[39;49m\u001b[43m,\u001b[49m\u001b[43m \u001b[49m\u001b[43madjust\u001b[49m\u001b[38;5;241;43m=\u001b[39;49m\u001b[38;5;124;43m\"\u001b[39;49m\u001b[38;5;124;43m\"\u001b[39;49m\u001b[43m)\u001b[49m\n\u001b[0;32m      4\u001b[0m \u001b[38;5;28mprint\u001b[39m(stock_zh_a_hist_df)\n",
      "File \u001b[1;32mc:\\Users\\lianb\\AppData\\Local\\Programs\\Python\\Python312\\Lib\\site-packages\\akshare\\stock_feature\\stock_hist_em.py:1049\u001b[0m, in \u001b[0;36mstock_zh_a_hist\u001b[1;34m(symbol, period, start_date, end_date, adjust, timeout)\u001b[0m\n\u001b[0;32m   1041\u001b[0m period_dict \u001b[38;5;241m=\u001b[39m {\u001b[38;5;124m\"\u001b[39m\u001b[38;5;124mdaily\u001b[39m\u001b[38;5;124m\"\u001b[39m: \u001b[38;5;124m\"\u001b[39m\u001b[38;5;124m101\u001b[39m\u001b[38;5;124m\"\u001b[39m, \u001b[38;5;124m\"\u001b[39m\u001b[38;5;124mweekly\u001b[39m\u001b[38;5;124m\"\u001b[39m: \u001b[38;5;124m\"\u001b[39m\u001b[38;5;124m102\u001b[39m\u001b[38;5;124m\"\u001b[39m, \u001b[38;5;124m\"\u001b[39m\u001b[38;5;124mmonthly\u001b[39m\u001b[38;5;124m\"\u001b[39m: \u001b[38;5;124m\"\u001b[39m\u001b[38;5;124m103\u001b[39m\u001b[38;5;124m\"\u001b[39m}\n\u001b[0;32m   1042\u001b[0m url \u001b[38;5;241m=\u001b[39m \u001b[38;5;124m\"\u001b[39m\u001b[38;5;124mhttps://push2his.eastmoney.com/api/qt/stock/kline/get\u001b[39m\u001b[38;5;124m\"\u001b[39m\n\u001b[0;32m   1043\u001b[0m params \u001b[38;5;241m=\u001b[39m {\n\u001b[0;32m   1044\u001b[0m     \u001b[38;5;124m\"\u001b[39m\u001b[38;5;124mfields1\u001b[39m\u001b[38;5;124m\"\u001b[39m: \u001b[38;5;124m\"\u001b[39m\u001b[38;5;124mf1,f2,f3,f4,f5,f6\u001b[39m\u001b[38;5;124m\"\u001b[39m,\n\u001b[0;32m   1045\u001b[0m     \u001b[38;5;124m\"\u001b[39m\u001b[38;5;124mfields2\u001b[39m\u001b[38;5;124m\"\u001b[39m: \u001b[38;5;124m\"\u001b[39m\u001b[38;5;124mf51,f52,f53,f54,f55,f56,f57,f58,f59,f60,f61,f116\u001b[39m\u001b[38;5;124m\"\u001b[39m,\n\u001b[0;32m   1046\u001b[0m     \u001b[38;5;124m\"\u001b[39m\u001b[38;5;124mut\u001b[39m\u001b[38;5;124m\"\u001b[39m: \u001b[38;5;124m\"\u001b[39m\u001b[38;5;124m7eea3edcaed734bea9cbfc24409ed989\u001b[39m\u001b[38;5;124m\"\u001b[39m,\n\u001b[0;32m   1047\u001b[0m     \u001b[38;5;124m\"\u001b[39m\u001b[38;5;124mklt\u001b[39m\u001b[38;5;124m\"\u001b[39m: period_dict[period],\n\u001b[0;32m   1048\u001b[0m     \u001b[38;5;124m\"\u001b[39m\u001b[38;5;124mfqt\u001b[39m\u001b[38;5;124m\"\u001b[39m: adjust_dict[adjust],\n\u001b[1;32m-> 1049\u001b[0m     \u001b[38;5;124m\"\u001b[39m\u001b[38;5;124msecid\u001b[39m\u001b[38;5;124m\"\u001b[39m: \u001b[38;5;124mf\u001b[39m\u001b[38;5;124m\"\u001b[39m\u001b[38;5;132;01m{\u001b[39;00m\u001b[43mcode_id_dict\u001b[49m\u001b[43m[\u001b[49m\u001b[43msymbol\u001b[49m\u001b[43m]\u001b[49m\u001b[38;5;132;01m}\u001b[39;00m\u001b[38;5;124m.\u001b[39m\u001b[38;5;132;01m{\u001b[39;00msymbol\u001b[38;5;132;01m}\u001b[39;00m\u001b[38;5;124m\"\u001b[39m,\n\u001b[0;32m   1050\u001b[0m     \u001b[38;5;124m\"\u001b[39m\u001b[38;5;124mbeg\u001b[39m\u001b[38;5;124m\"\u001b[39m: start_date,\n\u001b[0;32m   1051\u001b[0m     \u001b[38;5;124m\"\u001b[39m\u001b[38;5;124mend\u001b[39m\u001b[38;5;124m\"\u001b[39m: end_date,\n\u001b[0;32m   1052\u001b[0m     \u001b[38;5;124m\"\u001b[39m\u001b[38;5;124m_\u001b[39m\u001b[38;5;124m\"\u001b[39m: \u001b[38;5;124m\"\u001b[39m\u001b[38;5;124m1623766962675\u001b[39m\u001b[38;5;124m\"\u001b[39m,\n\u001b[0;32m   1053\u001b[0m }\n\u001b[0;32m   1054\u001b[0m r \u001b[38;5;241m=\u001b[39m requests\u001b[38;5;241m.\u001b[39mget(url, params\u001b[38;5;241m=\u001b[39mparams, timeout\u001b[38;5;241m=\u001b[39mtimeout)\n\u001b[0;32m   1055\u001b[0m data_json \u001b[38;5;241m=\u001b[39m r\u001b[38;5;241m.\u001b[39mjson()\n",
      "\u001b[1;31mKeyError\u001b[0m: '000001'"
     ]
    }
   ],
   "source": [
    "import akshare as ak\n",
    "\n",
    "stock_zh_a_hist_df = ak.stock_zh_a_hist(symbol=\"000001\", period=\"daily\", start_date=\"20170301\", end_date='20240528', adjust=\"\")\n",
    "print(stock_zh_a_hist_df)"
   ]
  },
  {
   "cell_type": "markdown",
   "metadata": {},
   "source": [
    "## 个股信息"
   ]
  },
  {
   "cell_type": "code",
   "execution_count": 1,
   "metadata": {},
   "outputs": [
    {
     "name": "stdout",
     "output_type": "stream",
     "text": [
      "1.16.9\n",
      "   item                value\n",
      "0  股票代码               000001\n",
      "1  股票简称                 平安银行\n",
      "2   总股本        19405918198.0\n",
      "3   流通股        19405617528.0\n",
      "4   总市值  225884887824.720001\n",
      "5  流通市值  225881388025.920013\n",
      "6    行业                   银行\n",
      "7  上市时间             19910403\n"
     ]
    }
   ],
   "source": [
    "import akshare as ak\n",
    "\n",
    "print(ak.__version__)\n",
    "stock_individual_info_em_df = ak.stock_individual_info_em(symbol=\"000001\")\n",
    "print(stock_individual_info_em_df)"
   ]
  },
  {
   "cell_type": "markdown",
   "metadata": {},
   "source": [
    "## 股份变动\n",
    "\n",
    "参考：[公司股本变动-巨潮资讯](https://akshare.akfamily.xyz/data/stock/stock.html#id138)"
   ]
  },
  {
   "cell_type": "code",
   "execution_count": 1,
   "metadata": {},
   "outputs": [
    {
     "name": "stdout",
     "output_type": "stream",
     "text": [
      "   证券简称       机构名称 境外法人持股  证券投资基金持股  国家持股-受限 国有法人持股   配售法人股  发起人股份  未流通股份  \\\n",
      "0   比亚迪  比亚迪股份有限公司   <NA>       0.0      0.0   <NA>  1500.0    0.0    0.0   \n",
      "1   比亚迪  比亚迪股份有限公司   <NA>       0.0      0.0   <NA>     0.0    0.0    0.0   \n",
      "2   比亚迪  比亚迪股份有限公司   <NA>       0.0      0.0   <NA>     0.0    NaN    0.0   \n",
      "3   比亚迪  比亚迪股份有限公司   <NA>       NaN      NaN   <NA>     NaN    NaN    NaN   \n",
      "4   比亚迪  比亚迪股份有限公司   <NA>       0.0      0.0   <NA>     0.0    0.0    0.0   \n",
      "5   比亚迪  比亚迪股份有限公司   <NA>       NaN      NaN   <NA>     NaN    NaN    NaN   \n",
      "6   比亚迪  比亚迪股份有限公司   <NA>       NaN      NaN   <NA>     NaN    NaN    NaN   \n",
      "7   比亚迪  比亚迪股份有限公司   <NA>       NaN      NaN   <NA>     NaN    NaN    NaN   \n",
      "8   比亚迪  比亚迪股份有限公司   <NA>       NaN      NaN   <NA>     0.0    0.0    0.0   \n",
      "9   比亚迪  比亚迪股份有限公司   <NA>       NaN      NaN   <NA>     NaN    NaN    NaN   \n",
      "10  比亚迪  比亚迪股份有限公司   <NA>       NaN      NaN   <NA>     0.0    0.0    0.0   \n",
      "11  比亚迪  比亚迪股份有限公司   <NA>       NaN      NaN   <NA>     NaN    NaN    NaN   \n",
      "12  比亚迪  比亚迪股份有限公司   <NA>       NaN      NaN   <NA>     NaN    NaN    NaN   \n",
      "13  比亚迪  比亚迪股份有限公司   <NA>       NaN      0.0   <NA>     0.0    0.0    0.0   \n",
      "14  比亚迪  比亚迪股份有限公司   <NA>       NaN      NaN   <NA>     NaN    NaN    NaN   \n",
      "15  比亚迪  比亚迪股份有限公司   <NA>       NaN      NaN   <NA>     NaN    NaN    NaN   \n",
      "16  比亚迪  比亚迪股份有限公司   <NA>       NaN      NaN   <NA>     0.0    0.0    0.0   \n",
      "17  比亚迪  比亚迪股份有限公司   <NA>       NaN      NaN   <NA>     0.0    0.0    0.0   \n",
      "18  比亚迪  比亚迪股份有限公司   <NA>       NaN      NaN   <NA>     NaN    NaN    NaN   \n",
      "19  比亚迪  比亚迪股份有限公司   <NA>       NaN      NaN   <NA>     NaN    NaN    NaN   \n",
      "20  比亚迪  比亚迪股份有限公司   <NA>       NaN      NaN   <NA>     0.0    0.0    0.0   \n",
      "21  比亚迪  比亚迪股份有限公司   <NA>       NaN      NaN   <NA>     0.0    0.0    0.0   \n",
      "22  比亚迪  比亚迪股份有限公司   <NA>       NaN      NaN   <NA>     0.0    NaN    0.0   \n",
      "23  比亚迪  比亚迪股份有限公司   <NA>       NaN      NaN   <NA>     NaN    NaN    NaN   \n",
      "24  比亚迪  比亚迪股份有限公司   <NA>       NaN      NaN   <NA>     NaN    NaN    NaN   \n",
      "25  比亚迪  比亚迪股份有限公司   <NA>       NaN      NaN   <NA>     NaN    NaN    NaN   \n",
      "26  比亚迪  比亚迪股份有限公司   <NA>       NaN      NaN   <NA>     NaN    NaN    NaN   \n",
      "27  比亚迪  比亚迪股份有限公司   <NA>       NaN      NaN   <NA>     NaN    NaN    NaN   \n",
      "28  比亚迪  比亚迪股份有限公司   <NA>       NaN      NaN   <NA>     NaN    NaN    NaN   \n",
      "29  比亚迪  比亚迪股份有限公司   <NA>       NaN      NaN   <NA>     NaN    0.0    0.0   \n",
      "30  比亚迪  比亚迪股份有限公司   <NA>       NaN      NaN   <NA>     NaN    NaN    NaN   \n",
      "31  比亚迪  比亚迪股份有限公司   <NA>       NaN      NaN   <NA>     NaN    0.0    0.0   \n",
      "32  比亚迪  比亚迪股份有限公司   <NA>       NaN      NaN   <NA>     NaN    NaN    NaN   \n",
      "33  比亚迪  比亚迪股份有限公司   <NA>       NaN      NaN   <NA>     NaN    0.0    0.0   \n",
      "34  比亚迪  比亚迪股份有限公司   <NA>       NaN      NaN   <NA>     NaN    NaN    NaN   \n",
      "35  比亚迪  比亚迪股份有限公司   <NA>       NaN      NaN   <NA>     NaN    NaN    NaN   \n",
      "36  比亚迪  比亚迪股份有限公司   <NA>       NaN      NaN   <NA>     NaN    NaN    NaN   \n",
      "37  比亚迪  比亚迪股份有限公司   <NA>       NaN      NaN   <NA>     NaN    NaN    NaN   \n",
      "38  比亚迪  比亚迪股份有限公司   <NA>       NaN      NaN   <NA>     NaN    0.0    0.0   \n",
      "39  比亚迪  比亚迪股份有限公司   <NA>       NaN      NaN   <NA>     NaN    0.0    0.0   \n",
      "40  比亚迪  比亚迪股份有限公司   <NA>       NaN      NaN   <NA>     NaN    NaN    NaN   \n",
      "\n",
      "    其中：境外自然人持股  ...          总股本  其中：限售高管股   转配股 境内上市外资股-B股  其中：境外法人持股  募集法人股  \\\n",
      "0          0.0  ...  235410.0000       NaN  <NA>        0.0   1742.604   <NA>   \n",
      "1          0.0  ...  235410.0000       NaN  <NA>        0.0   1742.604   <NA>   \n",
      "2          0.0  ...  235410.0000       NaN  <NA>        0.0   1742.604   <NA>   \n",
      "3          NaN  ...  235410.0000       NaN  <NA>        NaN        NaN   <NA>   \n",
      "4          0.0  ...  235410.0000       NaN  <NA>        0.0   1742.604   <NA>   \n",
      "5          NaN  ...  235410.0000       NaN  <NA>        NaN        NaN   <NA>   \n",
      "6          NaN  ...  235410.0000       NaN  <NA>        NaN        NaN   <NA>   \n",
      "7          NaN  ...  235410.0000       NaN  <NA>        NaN        NaN   <NA>   \n",
      "8          NaN  ...  247600.0000       NaN  <NA>        0.0        NaN   <NA>   \n",
      "9          NaN  ...  247600.0000       0.0  <NA>        NaN        NaN   <NA>   \n",
      "10         0.0  ...  247600.0000       NaN  <NA>        0.0        NaN   <NA>   \n",
      "11         NaN  ...  247600.0000       0.0  <NA>        NaN        NaN   <NA>   \n",
      "12         NaN  ...  247600.0000       0.0  <NA>        NaN        NaN   <NA>   \n",
      "13         NaN  ...  247600.0000       NaN  <NA>        NaN        NaN   <NA>   \n",
      "14         NaN  ...  247600.0000       0.0  <NA>        NaN        NaN   <NA>   \n",
      "15         NaN  ...  247600.0000       NaN  <NA>        NaN        NaN   <NA>   \n",
      "16         NaN  ...  247600.0000       NaN  <NA>        NaN        NaN   <NA>   \n",
      "17         NaN  ...  272814.2855       NaN  <NA>        NaN        NaN   <NA>   \n",
      "18         NaN  ...  272814.2855       0.0  <NA>        NaN        NaN   <NA>   \n",
      "19         NaN  ...  272814.2855       0.0  <NA>        NaN        NaN   <NA>   \n",
      "20         NaN  ...  272814.2855       NaN  <NA>        NaN        NaN   <NA>   \n",
      "21         NaN  ...  272814.2855       NaN  <NA>        0.0        NaN   <NA>   \n",
      "22         NaN  ...  272814.2855       NaN  <NA>        0.0        NaN   <NA>   \n",
      "23         NaN  ...  272814.2855       0.0  <NA>        NaN        NaN   <NA>   \n",
      "24         NaN  ...  272814.2855       0.0  <NA>        NaN        NaN   <NA>   \n",
      "25         NaN  ...  272814.2855       0.0  <NA>        NaN        NaN   <NA>   \n",
      "26         NaN  ...  272814.2855       NaN  <NA>        NaN        NaN   <NA>   \n",
      "27         NaN  ...  272814.2855       NaN  <NA>        NaN        NaN   <NA>   \n",
      "28         NaN  ...  272814.2855       NaN  <NA>        NaN        NaN   <NA>   \n",
      "29         NaN  ...  286114.2855       NaN  <NA>        NaN        NaN   <NA>   \n",
      "30         NaN  ...  286114.2855       NaN  <NA>        NaN        NaN   <NA>   \n",
      "31         NaN  ...  291114.2855       NaN  <NA>        NaN        NaN   <NA>   \n",
      "32         NaN  ...  291114.2855       NaN  <NA>        NaN        NaN   <NA>   \n",
      "33         NaN  ...  291114.2855       NaN  <NA>        NaN        NaN   <NA>   \n",
      "34         NaN  ...  291114.2855       NaN  <NA>        NaN        NaN   <NA>   \n",
      "35         NaN  ...  291114.2855       NaN  <NA>        NaN        NaN   <NA>   \n",
      "36         NaN  ...  291114.2855       NaN  <NA>        NaN        NaN   <NA>   \n",
      "37         NaN  ...  291114.2855       NaN  <NA>        NaN        NaN   <NA>   \n",
      "38         NaN  ...  291114.2855       NaN  <NA>        NaN        NaN   <NA>   \n",
      "39         NaN  ...  290926.5855       NaN  <NA>        NaN        NaN   <NA>   \n",
      "40         NaN  ...  290926.5855       NaN  <NA>        NaN        NaN   <NA>   \n",
      "\n",
      "          已流通股份   其中：境内自然人持股    其他内资持股-受限         变动原因编码  \n",
      "0    85710.0000  129518.2500  146457.3960  015001,015019  \n",
      "1    87210.0000  129518.2500  146457.3960         015009  \n",
      "2    87210.0000  129518.2500  146457.3960         015019  \n",
      "3   114884.5950  103909.7150  120525.4050         015019  \n",
      "4   134930.0200   82121.6860   98737.3760         015027  \n",
      "5   113759.4515  105034.8585  121650.5485         015019  \n",
      "6   117737.2435  101057.0665  117672.7565         015019  \n",
      "7   117737.2435  101057.0665  117672.7565         015019  \n",
      "8   129927.2435  101057.0665  117672.7565         015005  \n",
      "9   160764.9735   74641.3870   86835.0265         015019  \n",
      "10  157473.2440   77933.1165   90126.7560         015027  \n",
      "11  162111.0885   73295.2720   85488.9115         015019  \n",
      "12  162841.0075   74625.3530   84758.9925         015019  \n",
      "13  166175.6350   73295.2720   81424.3650         015027  \n",
      "14  167083.1019   72387.8051   80516.8981         015019  \n",
      "15  175538.8279   67996.6256   72061.1721         015019  \n",
      "16  171147.6484   72387.8051   76452.3516         015027  \n",
      "17  175538.8279   67996.6256   95881.7294         015004  \n",
      "18  176491.3149   67044.1386   96322.9706         015019  \n",
      "19  180119.0104   67480.9896   92695.2751         015019  \n",
      "20  180555.8614   67044.1386   92258.4241         015027  \n",
      "21  205333.2959   67480.9896   67480.9896         015027  \n",
      "22  205333.2959   67480.9896   67480.9896         015019  \n",
      "23  205679.9554   67134.3301   67134.3301         015019  \n",
      "24  205721.3919   67092.8936   67092.8936         015019  \n",
      "25  205566.1634   67248.1221   67248.1221         015019  \n",
      "26  205662.6029   67151.6826   67151.6826         015019  \n",
      "27  206066.7543   66747.5312   66747.5312         015019  \n",
      "28  206099.2958   66714.9897   66714.9897         015019  \n",
      "29  219366.7543   66747.5312   66747.5312         015004  \n",
      "30  220305.8235   65808.4620   65808.4620         015019  \n",
      "31  225305.8235   65808.4620   65808.4620         015004  \n",
      "32  225305.8235   65808.4620   65808.4620         015019  \n",
      "33  226276.4604   64837.8251   64837.8251         015999  \n",
      "34  226276.4604   64837.8251   64837.8251         015019  \n",
      "35  226276.4604   64837.8251   64837.8251         015019  \n",
      "36  226276.4604   64837.8251   64837.8251         015019  \n",
      "37  226226.2051   64888.0804   64888.0804         015019  \n",
      "38  226234.7566   64879.5289   64879.5289         015999  \n",
      "39  226047.0566   64879.5289   64879.5289         015016  \n",
      "40  226045.7516   64880.8339   64880.8339         015019  \n",
      "\n",
      "[41 rows x 44 columns]\n"
     ]
    }
   ],
   "source": [
    "import akshare as ak\n",
    "\n",
    "stock_share_change_cninfo_df = ak.stock_share_change_cninfo(symbol=\"002594\", start_date=\"20091227\", end_date=\"20240726\")\n",
    "print(stock_share_change_cninfo_df)"
   ]
  },
  {
   "cell_type": "markdown",
   "metadata": {},
   "source": [
    "## 资产负债表"
   ]
  },
  {
   "cell_type": "code",
   "execution_count": 1,
   "metadata": {},
   "outputs": [
    {
     "data": {
      "text/plain": [
       "<Axes: xlabel='报告日'>"
      ]
     },
     "execution_count": 1,
     "metadata": {},
     "output_type": "execute_result"
    },
    {
     "data": {
      "image/png": "[encoded data removed]",
      "text/plain": [
       "<Figure size 800x400 with 1 Axes>"
      ]
     },
     "metadata": {},
     "output_type": "display_data"
    }
   ],
   "source": [
    "import akshare as ak\n",
    "import matplotlib.pyplot as plt\n",
    "\n",
    "plt.rcParams['font.family']=['STFangsong']\n",
    "stock_financial_report_sina_df = ak.stock_financial_report_sina(stock=\"sh603259\", symbol=\"资产负债表\")\n",
    "#print(stock_financial_report_sina_df.columns.values)\n",
    "df = stock_financial_report_sina_df.set_index(['报告日'])\n",
    "df = df.sort_index()\n",
    "df['实收资本(或股本)'].plot(figsize=(8, 4))"
   ]
  }
 ],
 "metadata": {
  "kernelspec": {
   "display_name": "Python 3",
   "language": "python",
   "name": "python3"
  },
  "language_info": {
   "codemirror_mode": {
    "name": "ipython",
    "version": 3
   },
   "file_extension": ".py",
   "mimetype": "text/x-python",
   "name": "python",
   "nbconvert_exporter": "python",
   "pygments_lexer": "ipython3",
   "version": "3.12.5"
  }
 },
 "nbformat": 4,
 "nbformat_minor": 2
}
