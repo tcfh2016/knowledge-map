{
 "cells": [
  {
   "attachments": {},
   "cell_type": "markdown",
   "metadata": {},
   "source": [
    "## 波动率计算\n",
    "\n",
    "- 波动率计算需要使用到`numpy`里面到`std`函数。\n",
    "- 计算特定窗口到波动率数据，比如使用`pd.Series(arr).rolling(6, min_periods=1).apply(my_func)`。"
   ]
  },
  {
   "cell_type": "code",
   "execution_count": null,
   "metadata": {},
   "outputs": [],
   "source": [
    "import pandas as pd\n",
    "import numpy as np\n",
    "import datetime as dt\n",
    "from jqdata import *\n",
    "\n",
    "stock = '分众传媒'\n",
    "stocks_df = get_all_securities()\n",
    "stock_code = stocks_df[stocks_df['display_name'] == stock].index.item() \n",
    "\n",
    "start_date = '2020-03-01'\n",
    "end_date = dt.date.today()\n",
    "valuation = get_valuation(stock_code, start_date, end_date, fields=['pb_ratio', 'market_cap'])\n",
    "valuation.set_index('day', inplace=True)\n",
    "\n",
    "valuation['std'] = np.std(valuation['market_cap'])"
   ]
  },
  {
   "attachments": {},
   "cell_type": "raw",
   "metadata": {},
   "source": [
    "                   code  pb_ratio  market_cap         std\n",
    "day                                                      \n",
    "2020-03-02  002027.XSHE    5.8055    799.9445  246.342301\n",
    "2020-03-03  002027.XSHE    5.7523    792.6055  246.342301\n",
    "2020-03-04  002027.XSHE    5.7736    795.5411  246.342301\n",
    "2020-03-05  002027.XSHE    5.9014    813.1546  246.342301"
   ]
  },
  {
   "attachments": {},
   "cell_type": "markdown",
   "metadata": {},
   "source": [
    "使用`rolling()`函数之后到输出：\n",
    "\n",
    "```\n",
    "valuation['std'] = valuation['market_cap'].rolling(6, min_periods=1).apply(np.std)\n",
    "```"
   ]
  },
  {
   "attachments": {},
   "cell_type": "raw",
   "metadata": {},
   "source": [
    "                   code  pb_ratio  market_cap        std\n",
    "day                                                     \n",
    "2020-03-02  002027.XSHE    5.8055    799.9445   0.000000\n",
    "2020-03-03  002027.XSHE    5.7523    792.6055   3.669500\n",
    "2020-03-04  002027.XSHE    5.7736    795.5411   3.016042\n",
    "2020-03-05  002027.XSHE    5.9014    813.1546   7.861601"
   ]
  }
 ],
 "metadata": {
  "kernelspec": {
   "display_name": "Python 3",
   "language": "python",
   "name": "python3"
  },
  "language_info": {
   "codemirror_mode": {
    "name": "ipython",
    "version": 3
   },
   "file_extension": ".py",
   "mimetype": "text/x-python",
   "name": "python",
   "nbconvert_exporter": "python",
   "pygments_lexer": "ipython3",
   "version": "3.12.1"
  },
  "orig_nbformat": 4
 },
 "nbformat": 4,
 "nbformat_minor": 2
}
